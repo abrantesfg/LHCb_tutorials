{
 "cells": [
  {
   "cell_type": "markdown",
   "metadata": {},
   "source": [
    "<CENTER><img src=\"images/logos.png\" style=\"width:50%\"></CENTER>"
   ]
  },
  {
   "attachments": {},
   "cell_type": "markdown",
   "metadata": {},
   "source": [
    "# Unknown three body decay <a name=\"c\"></a>\n",
    "\n",
    "**The following analysis aims to find the decay process. We will know which are the final state particles and we want to search the decay.**\n",
    "\n",
    "In this tutorial we will start from pions and kaons as final state particles, and we aim to find the combination for which the invariant mass distribution looks like a gaussian centered at the value corresponding to the mass of the decaying particle.\n",
    "\n",
    "The pion, $\\pi$, is composed of a $u$ quark and an $\\bar{d}$ antiquark and the kaon is composed of a $u$ quark and an $\\bar{s}$ antiquark (as we've seen in the Introduction to Particle Physics notebook). In this notebook we want to reconstruct the trajectories of our final state particles, our pions and kaons, in order to find the mass of the decaying meson.\n",
    "\n",
    "We will be dealing with a three-body decay, the total electric charge must be conserved! \n",
    "\n",
    "We've learned in the previous notebook about 4-vectors and we know how to manipulate them. You will see now why was so important to learn about 4-vectors and what we can do with them in real life! We will look at the $D^+$ decay to three pions but firstly, we need to think about how we talk about decays in particle physcis."
   ]
  },
  {
   "cell_type": "markdown",
   "metadata": {},
   "source": [
    "**Contents:**\n",
    "- [Decays](#1.)\n",
    "- [The invariant mass calculation](#2.)\n",
    "- [Cuts](#3.)\n",
    "- [Find the $D^+$ meson!](#4.)"
   ]
  },
  {
   "cell_type": "markdown",
   "metadata": {},
   "source": [
    "---"
   ]
  },
  {
   "attachments": {},
   "cell_type": "markdown",
   "metadata": {},
   "source": [
    "## Decays <a name=\"1.\"></a>\n",
    "\n",
    "Let's start with understanding the idea of a decay process!\n",
    "\n",
    "We want to find the decaying mesons, but they don't live long enough to actually see with the detector itself. Instead, we have to **reconstruct** them from their decay products. We don't particularly mind where the the decaying mesons themselves come from. All you need to know here is that each time the LHC smashes two protons together, they produce lots and lots of particles.\n",
    "\n",
    "\n",
    "\n",
    "In this process, our decaying meson emerges from the collision aftermath in the LHC (we don't care how) can decay directly to three pions. The decay happens at the vertex below, where the two black arrows meet. Here our final state particles labeled as $h$ can be either pions or kaons, and $X$ is our decaying particle to be identified.\n",
    "\n",
    "<figure>\n",
    "    <center> <img src=\"images/3body-decay.png\" alt=\"TEST\" style=\"width:40%\" />\n",
    "   <figcaption>Image 1: The $D^+$ decay directly from the proton-proton collision. </figcaption> </center>\n",
    "</figure>\n",
    "\n",
    "The LHCb detector can measure the momentum and energy of muons coming out of decays, and you can access that information quite simply. It also measures the charge and flavour of each lepton (whether its a muon/antimuon).\n",
    "\n",
    "We mentioned earlier that each smash makes lots of particles. That's true - in fact, it makes so many that we can't actually store all the records of what happened, even on some of the biggest data storage facilities in the world. \n",
    "\n"
   ]
  },
  {
   "cell_type": "markdown",
   "metadata": {},
   "source": [
    "Next we have to open the data that we want to analyze. As described earlier, the data is stored in a *.root file. We can use a python library called uproot to access the data. Below is an example of how to open a *.root file using uproot"
   ]
  },
  {
   "cell_type": "code",
   "execution_count": 36,
   "metadata": {
    "vscode": {
     "languageId": "python"
    }
   },
   "outputs": [],
   "source": [
    "## data file\n",
    "import uproot\n",
    "f = uproot.open(\"../LHCb_data/3Body/Unknown3body.root\")"
   ]
  },
  {
   "cell_type": "markdown",
   "metadata": {},
   "source": [
    "We can inspect the contents of a file by using the method keys()"
   ]
  },
  {
   "cell_type": "code",
   "execution_count": 37,
   "metadata": {
    "vscode": {
     "languageId": "python"
    }
   },
   "outputs": [
    {
     "data": {
      "text/plain": [
       "['DecayTree;1']"
      ]
     },
     "execution_count": 37,
     "metadata": {},
     "output_type": "execute_result"
    }
   ],
   "source": [
    "f.keys()"
   ]
  },
  {
   "cell_type": "markdown",
   "metadata": {},
   "source": [
    "We see that we have an object called 'DecayTree'. We can obtain information about the object in the file and its type by using the method classnames()"
   ]
  },
  {
   "cell_type": "code",
   "execution_count": 38,
   "metadata": {
    "vscode": {
     "languageId": "python"
    }
   },
   "outputs": [
    {
     "data": {
      "text/plain": [
       "{'DecayTree;1': 'TTree'}"
      ]
     },
     "execution_count": 38,
     "metadata": {},
     "output_type": "execute_result"
    }
   ],
   "source": [
    "f.classnames()"
   ]
  },
  {
   "attachments": {},
   "cell_type": "markdown",
   "metadata": {},
   "source": [
    "We see that the object called DecayTree is a TTree type. A TTree is simply columns of data stored in the .root format. Each column of data can represent a different physical quantity of a particle. For instance, its charge, energy, momentum etc.\n",
    "\n",
    "Now we know what data the file contains, in future we can quickly access that data. We want to access the mini data. This can be done by executing the command below\n"
   ]
  },
  {
   "cell_type": "code",
   "execution_count": 39,
   "metadata": {
    "vscode": {
     "languageId": "python"
    }
   },
   "outputs": [],
   "source": [
    "events = uproot.open(\"../LHCb_data/3Body/Unknown3body.root:DecayTree\")"
   ]
  },
  {
   "attachments": {},
   "cell_type": "markdown",
   "metadata": {},
   "source": [
    "Let's look at contents of the TTree. Essentially all the columns in the TTree called DecayTree"
   ]
  },
  {
   "cell_type": "code",
   "execution_count": 40,
   "metadata": {
    "vscode": {
     "languageId": "python"
    }
   },
   "outputs": [
    {
     "data": {
      "text/plain": [
       "['p3_PX',\n",
       " 'p3_PY',\n",
       " 'p3_PZ',\n",
       " 'p2_PX',\n",
       " 'p2_PY',\n",
       " 'p2_PZ',\n",
       " 'p1_PX',\n",
       " 'p1_PY',\n",
       " 'p1_PZ']"
      ]
     },
     "execution_count": 40,
     "metadata": {},
     "output_type": "execute_result"
    }
   ],
   "source": [
    "events.keys()"
   ]
  },
  {
   "attachments": {},
   "cell_type": "markdown",
   "metadata": {},
   "source": [
    "We can use the .arrays method to access events with just the columns we specify."
   ]
  },
  {
   "cell_type": "code",
   "execution_count": 41,
   "metadata": {
    "vscode": {
     "languageId": "python"
    }
   },
   "outputs": [],
   "source": [
    "sel_events = events.arrays([\"p1_PX\",\"p1_PY\",\"p1_PZ\",\"p2_PX\",\"p2_PY\",\"p2_PZ\",\"p3_PX\",\"p3_PY\",\"p3_PZ\"])"
   ]
  },
  {
   "attachments": {},
   "cell_type": "markdown",
   "metadata": {},
   "source": [
    "We want to run over all the data and reconstruct the $D^+$ meson mass. To do this we will access events using the arrays method again. Let's look at doing this.\n",
    "\n",
    "First we define a histogram. To do this we can import the python hist library. Once we have done that we can define a histogram. Its name is hist and the x axis is named $m(\\pi^-\\pi^+\\pi^+)$ (MeV). The three initial arguments indicate that this histogram contains 100 bins which fill the gap from 0,150000.\n"
   ]
  },
  {
   "cell_type": "code",
   "execution_count": 42,
   "metadata": {
    "vscode": {
     "languageId": "python"
    }
   },
   "outputs": [],
   "source": [
    "import hist\n",
    "from hist import Hist\n",
    "\n",
    "hist_mass = Hist(hist.axis.Regular(100,0,150000, label = \"$m(\\pi^-\\pi^+\\pi^+)$ (GeV)\"))"
   ]
  },
  {
   "attachments": {},
   "cell_type": "markdown",
   "metadata": {},
   "source": [
    "It is now time to fill our above defined histogram with the masses. To do that, we need to reconstruct our $D^+$ meson invariant mass. \n"
   ]
  },
  {
   "cell_type": "markdown",
   "metadata": {},
   "source": [
    "[Return to contents](#c)"
   ]
  },
  {
   "cell_type": "markdown",
   "metadata": {},
   "source": [
    "---"
   ]
  },
  {
   "attachments": {},
   "cell_type": "markdown",
   "metadata": {},
   "source": [
    "## The invariant mass calculation <a name=\"2.\"></a>\n",
    "\n",
    "One very important quantity we need to define is the invariant mass! It is defined as an invariant quantity which is the same for all observers in all reference frames (that's why we call it *invariant*). To calculate it we use the energy, *E*, and momentum, *p*, both measured in the detector. To derive a proper expression for the invariat mass we ask that in the process both energy and momentum are conserved! \n",
    "\n",
    "* Energy conservation\n",
    "\n",
    "$ E = E_{h1} + E_{h2} + E_{h3} $\n",
    "\n",
    "* Momentum conservation\n",
    "\n",
    "$ \\vec{p} = \\vec{p}_{h1} + \\vec{p}_{h2} + \\vec{p}_{h3} $\n",
    "\n",
    "From special relativity we've learned the relation between mass, energy and momentum to be:\n",
    "\n",
    "$ (pc)^2 + (mc^2)^2 = E^2 $\n",
    "\n",
    "$ E^2 = p^2 + m^2$\n",
    "\n",
    "Rearranging it to $m$:\n",
    "\n",
    "$ m^2 = E^2 - p2 = (E_{h1} + E_{h2} + E_{h3})^2 - || p_{h1} + p_{h2} + p_{h3} ||$\n",
    "\n",
    "$ m^2 = (E_{h1}+ E_{h2} + E_{h3})^2 - (\\vec{p}_{h1} + \\vec{p}_{h2} + \\vec{p}_{h3})\\cdot (\\vec{p}_{h1} + \\vec{p}_{h2} + \\vec{p}_{h3})$\n",
    "\n",
    "Since the dot product of two orthogonal vectors is zero, we can write more explicitly\n",
    "\n",
    "$ m^2 = (E_{h1} + E_{h2} + E_{h3})^2 - (p_{h1_x} + p_{h2_x} + p_{h3_x} )^2 - (p_{h1_y} + p_{h2_y} + p_{h3_y})^2 - (p_{h1_z} + p_{h2_z} + p_{h3_z})^2$\n",
    "\n",
    "<div class=\"alert alert-info\"> Our goal is to calculte the invariant mass of the three chosen particles and we save it to a histogram.</div> "
   ]
  },
  {
   "cell_type": "markdown",
   "metadata": {},
   "source": [
    "## Extracting momentum components and calculating the energy distributions\n"
   ]
  },
  {
   "cell_type": "code",
   "execution_count": 43,
   "metadata": {
    "vscode": {
     "languageId": "python"
    }
   },
   "outputs": [],
   "source": [
    "# Extracting the momentum components and energy of the first muon\n",
    "p1x = events[\"p1_PX\"].array(library=\"np\")\n",
    "p1y = events[\"p1_PY\"].array(library=\"np\")\n",
    "p1z = events[\"p1_PZ\"].array(library=\"np\")"
   ]
  },
  {
   "attachments": {},
   "cell_type": "markdown",
   "metadata": {},
   "source": [
    "Let's visualise one of these momentum components, for instance let's check the x-component of the one of our final particles! To do that we first define a histogram, and we fill it with the values we extracted in `p1x`."
   ]
  },
  {
   "cell_type": "code",
   "execution_count": 44,
   "metadata": {
    "vscode": {
     "languageId": "python"
    }
   },
   "outputs": [
    {
     "data": {
      "image/png": "[encoded data removed]",
      "text/plain": [
       "<Figure size 432x288 with 1 Axes>"
      ]
     },
     "metadata": {
      "needs_background": "light"
     },
     "output_type": "display_data"
    }
   ],
   "source": [
    "import hist\n",
    "from hist import Hist\n",
    "import matplotlib.pyplot as plt\n",
    "import numpy as np\n",
    "\n",
    "# Defining histogram\n",
    "hist_p1x = Hist(hist.axis.Regular(100,-50e3,50e3, label = \"$p_{1x}$ (MeV)\"))\n",
    "\n",
    "# Fiblling histogram with values of p1x\n",
    "hist_p1x.fill(p1x)\n",
    "\n",
    "# Plotting the histogram\n",
    "hist_p1x.plot()\n",
    "plt.show()"
   ]
  },
  {
   "cell_type": "markdown",
   "metadata": {},
   "source": [
    "Great! Momentum is a **vector** quantity, it has x,y and z components. Now let's try to calculate the magnitude of the momentum, $p^{2} = p_{x}^{2} + p_{y}^{2} + p_{z}^{2}$, of the first kaon candidate and plot it into a histogram: "
   ]
  },
  {
   "cell_type": "code",
   "execution_count": 45,
   "metadata": {
    "vscode": {
     "languageId": "python"
    }
   },
   "outputs": [
    {
     "data": {
      "image/png": "[encoded data removed]",
      "text/plain": [
       "<Figure size 432x288 with 1 Axes>"
      ]
     },
     "metadata": {
      "needs_background": "light"
     },
     "output_type": "display_data"
    }
   ],
   "source": [
    "# Calulating the magnitude of the momentum:\n",
    "p1 = np.sqrt( p1x**2 + p1y**2 + p1z**2)\n",
    "\n",
    "# Defining histogram\n",
    "hist_p1 = Hist(hist.axis.Regular(100,0e3,50e3, label = \"$p_{1}$ (GeV)\")) # *** axis label: meson not muon\n",
    "\n",
    "# Fiblling histogram with values of p1\n",
    "hist_p1.fill(p1)\n",
    "\n",
    "# Plotting the histogram\n",
    "hist_p1.plot()\n",
    "plt.show()"
   ]
  },
  {
   "attachments": {},
   "cell_type": "markdown",
   "metadata": {},
   "source": [
    "### Your turn!\n",
    "\n",
    "We've calculated the magnitude of the momentum for the first final state particle. Repeat that now for the other two!\n",
    "\n",
    "The first step is to extract the momentum components. Then plot one of the components as an example, for instace the x-component. Finally, calculate and plot the magnitude of the momentum for the second muon."
   ]
  },
  {
   "cell_type": "code",
   "execution_count": 46,
   "metadata": {
    "vscode": {
     "languageId": "python"
    }
   },
   "outputs": [
    {
     "data": {
      "image/png": "[encoded data removed]",
      "text/plain": [
       "<Figure size 720x360 with 2 Axes>"
      ]
     },
     "metadata": {
      "needs_background": "light"
     },
     "output_type": "display_data"
    }
   ],
   "source": [
    "# Extracting the momentum components and energy of the second muon\n",
    "p2x = events[\"p2_PX\"].array(library=\"np\")\n",
    "p2y = events[\"p2_PY\"].array(library=\"np\")\n",
    "p2z = events[\"p2_PZ\"].array(library=\"np\")\n",
    "\n",
    "p3x = events[\"p3_PX\"].array(library=\"np\")\n",
    "p3y = events[\"p3_PY\"].array(library=\"np\")\n",
    "p3z = events[\"p3_PZ\"].array(library=\"np\")\n",
    "\n",
    "# Defining histogram\n",
    "hist_p2x = Hist(hist.axis.Regular(100,-50e3,50e3, label = \"$p_{2x}$ (MeV)\"))\n",
    "hist_p3x = Hist(hist.axis.Regular(100,-50e3,50e3, label = \"$p_{3x}$ (MeV)\"))\n",
    "\n",
    "# Filling histogram with values of p1x\n",
    "hist_p2x.fill(p2x)\n",
    "hist_p3x.fill(p3x)\n",
    "\n",
    "# Plotting the histograms\n",
    "fig, axes = plt.subplots(figsize=(10,5))\n",
    "plt.subplot(1,2,1)\n",
    "hist_p2x.plot()\n",
    "plt.subplot(1,2,2)\n",
    "hist_p3x.plot()\n",
    "plt.show()\n",
    "\n",
    "plt.show()"
   ]
  },
  {
   "cell_type": "code",
   "execution_count": 47,
   "metadata": {
    "vscode": {
     "languageId": "python"
    }
   },
   "outputs": [
    {
     "data": {
      "image/png": "[encoded data removed]",
      "text/plain": [
       "<Figure size 720x360 with 2 Axes>"
      ]
     },
     "metadata": {
      "needs_background": "light"
     },
     "output_type": "display_data"
    }
   ],
   "source": [
    "# Calulating the magnitude of the momentum:\n",
    "p2 = np.sqrt( p2x**2 + p2y**2 + p2z**2)\n",
    "p3 = np.sqrt( p3x**2 + p3y**2 + p3z**2)\n",
    "\n",
    "# Defining histogram\n",
    "hist_p2 = Hist(hist.axis.Regular(100,0e3,50e3, label = \"$p_{\\pi^+}$ (MeV)\"))\n",
    "hist_p3 = Hist(hist.axis.Regular(100,0e3,50e3, label = \"$p_{\\pi^+}$ (MeV)\"))\n",
    "\n",
    "\n",
    "# Fiblling histogram with values of p1x\n",
    "hist_p2.fill(p2)\n",
    "hist_p3.fill(p3)\n",
    "\n",
    "# Plotting the histograms\n",
    "fig, axes = plt.subplots(figsize=(10,5))\n",
    "plt.subplot(1,2,1)\n",
    "hist_p2.plot()\n",
    "plt.subplot(1,2,2)\n",
    "hist_p3.plot()\n",
    "plt.show()\n"
   ]
  },
  {
   "attachments": {},
   "cell_type": "markdown",
   "metadata": {},
   "source": [
    "## Find the decaying meson! <a name=\"4.\"></a>\n",
    "\n",
    "So far we've learned how to obtain the momentum magnitude but to calculate the energy, we need to know what particles are present in our final state. To find out the exact decays are looking at, we will need to go thought all the possible combinations for a three-body decay involving only pions and kaons, calculate the energy and then we will be ready to reconstruct the invariant mass! \n",
    "\n",
    "Since we have only kaons and pions in our three body decay, the possible combinations in the final state we have are:\n",
    "\n",
    "* $KKK$\n",
    "* $\\pi\\pi\\pi$\n",
    "* $\\pi KK$\n",
    "* $\\pi K\\pi$\n",
    "* $K\\pi\\pi$\n",
    "* $K \\pi K$\n",
    "* $\\pi \\pi K$\n",
    "* $KK\\pi$\n",
    "\n",
    "From the PDG, we know that the mass of the kaon and the pion are:\n",
    "\n",
    "* $m_{\\pi} = 139.57$ MeV/c$^2$\n",
    "* $m_{K} = 493.667$ MeV/c$^2$\n",
    "\n",
    "To identify our decay, we want to reconstruct the invariant mass distribution and we expect that this distribution to look like a gaussian function. If we place the wrong final state particle in a given position, for instance, if we say particle 1 is a pion and it was actually supposed to be a kaon, we will see deviations form our ideal gaussian shape. So this will tell us if the combination we are proposing is right or not.\n",
    "\n",
    "First step is to define the histograms:"
   ]
  },
  {
   "cell_type": "code",
   "execution_count": 48,
   "metadata": {
    "vscode": {
     "languageId": "python"
    }
   },
   "outputs": [],
   "source": [
    "# Declaring the histograms for each possible combination\n",
    "h_pipipi = Hist(hist.axis.Regular(140,1500,2200, label = \"$m(\\pi^- \\pi^+ \\pi^+)$ (GeV)\"))\n",
    "h_pikk = Hist(hist.axis.Regular(140,1500,2200, label = \"$m(\\pi^- K^+ K^+)$ (GeV)\"))\n",
    "h_pikpi = Hist(hist.axis.Regular(140,1500,2200, label = \"$m(\\pi^- K+ \\pi^+)$ (GeV)\"))\n",
    "h_kkk = Hist(hist.axis.Regular(140,1500,2200, label = \"$m(K- K+ K^+)$ (GeV)\"))\n",
    "h_kpipi = Hist(hist.axis.Regular(140,1500,2200, label = \"$m(K^- \\pi^+ \\pi^+)$ (GeV)\"))\n",
    "h_kpik = Hist(hist.axis.Regular(140,1500,2200, label = \"$m(K^- \\pi^+ K^+)$ (GeV)\"))\n",
    "h_pipik = Hist(hist.axis.Regular(140,1500,2200, label = \"$m(\\pi^- \\pi^+ K^+)$ (GeV)\"))\n",
    "h_kkpi = Hist(hist.axis.Regular(140,1500,2200, label = \"$m(K^- K^+ \\pi^+)$ (GeV)\"))"
   ]
  },
  {
   "attachments": {},
   "cell_type": "markdown",
   "metadata": {},
   "source": [
    "Then let's define the mass of the pion and kaon:"
   ]
  },
  {
   "cell_type": "code",
   "execution_count": 49,
   "metadata": {
    "vscode": {
     "languageId": "python"
    }
   },
   "outputs": [],
   "source": [
    "# Declaring kaon and pion mass in MeV\n",
    "mk = 493.667\n",
    "mpi = 139.57"
   ]
  },
  {
   "attachments": {},
   "cell_type": "markdown",
   "metadata": {},
   "source": [
    "## Calculating the invariant mass distributions\n",
    "\n",
    "To test all of our 8 combinations, we will loop through all the events we have in our file and calculate all the eight hypothesis. We will evaluate the energy of the three final state particles, reconstruct the invariant mass and save it into our histogram so we can plot everything together at the end."
   ]
  },
  {
   "cell_type": "code",
   "execution_count": 50,
   "metadata": {
    "vscode": {
     "languageId": "python"
    }
   },
   "outputs": [],
   "source": [
    "sel_events = events.arrays([\"p1_PX\",\"p1_PY\",\"p1_PZ\",\"p2_PX\",\"p2_PY\",\"p2_PZ\",\"p3_PX\",\"p3_PY\",\"p3_PZ\"])\n",
    "\n",
    "for event in sel_events:\n",
    "\n",
    "    # KKpi hypothesis\n",
    "    e1 = np.sqrt(mk**2 + p1x**2 + p1y**2 + p1z**2)\n",
    "    e2 = np.sqrt(mk**2 + p2x**2 + p2y**2 + p2z**2)\n",
    "    e3 = np.sqrt(mpi**2 + p3x**2 + p3y**2 + p3z**2)\n",
    "    e_tot = e1 + e2 + e3\n",
    "    px_tot = p1x + p2x + p3x\n",
    "    py_tot = p1y + p2y + p3y\n",
    "    pz_tot = p1z + p2z + p3z\n",
    "\n",
    "    mkkpi = np.sqrt(e_tot**2 - px_tot**2 - py_tot**2 - pz_tot**2)\n",
    "    h_kkpi.fill(mkkpi)\n",
    "  "
   ]
  },
  {
   "cell_type": "code",
   "execution_count": 51,
   "metadata": {
    "vscode": {
     "languageId": "python"
    }
   },
   "outputs": [
    {
     "data": {
      "text/plain": [
       "[StairsArtists(stairs=<matplotlib.patches.StepPatch object at 0x7faf60ae5790>, errorbar=<ErrorbarContainer object of 3 artists>, legend_artist=<ErrorbarContainer object of 3 artists>)]"
      ]
     },
     "execution_count": 51,
     "metadata": {},
     "output_type": "execute_result"
    },
    {
     "data": {
      "image/png": "[encoded data removed]",
      "text/plain": [
       "<Figure size 432x288 with 1 Axes>"
      ]
     },
     "metadata": {
      "needs_background": "light"
     },
     "output_type": "display_data"
    }
   ],
   "source": [
    "h_kkpi.plot()"
   ]
  },
  {
   "cell_type": "code",
   "execution_count": 35,
   "metadata": {
    "vscode": {
     "languageId": "python"
    }
   },
   "outputs": [
    {
     "ename": "KeyboardInterrupt",
     "evalue": "",
     "output_type": "error",
     "traceback": [
      "\u001b[0;31m---------------------------------------------------------------------------\u001b[0m",
      "\u001b[0;31mKeyboardInterrupt\u001b[0m                         Traceback (most recent call last)",
      "\u001b[0;32m/var/folders/cf/qxs2w9ts3jx44d8n8cn8qmnw0000gn/T/ipykernel_61804/671604811.py\u001b[0m in \u001b[0;36m<module>\u001b[0;34m\u001b[0m\n\u001b[1;32m     74\u001b[0m     \u001b[0mpz_tot\u001b[0m \u001b[0;34m=\u001b[0m \u001b[0mp1z\u001b[0m \u001b[0;34m+\u001b[0m \u001b[0mp2z\u001b[0m \u001b[0;34m+\u001b[0m \u001b[0mp3z\u001b[0m\u001b[0;34m\u001b[0m\u001b[0;34m\u001b[0m\u001b[0m\n\u001b[1;32m     75\u001b[0m \u001b[0;34m\u001b[0m\u001b[0m\n\u001b[0;32m---> 76\u001b[0;31m     \u001b[0mmkpipi\u001b[0m \u001b[0;34m=\u001b[0m \u001b[0mnp\u001b[0m\u001b[0;34m.\u001b[0m\u001b[0msqrt\u001b[0m\u001b[0;34m(\u001b[0m\u001b[0me_tot\u001b[0m\u001b[0;34m**\u001b[0m\u001b[0;36m2\u001b[0m \u001b[0;34m-\u001b[0m \u001b[0mpx_tot\u001b[0m\u001b[0;34m**\u001b[0m\u001b[0;36m2\u001b[0m \u001b[0;34m-\u001b[0m \u001b[0mpy_tot\u001b[0m\u001b[0;34m**\u001b[0m\u001b[0;36m2\u001b[0m \u001b[0;34m-\u001b[0m \u001b[0mpz_tot\u001b[0m\u001b[0;34m**\u001b[0m\u001b[0;36m2\u001b[0m\u001b[0;34m)\u001b[0m\u001b[0;34m\u001b[0m\u001b[0;34m\u001b[0m\u001b[0m\n\u001b[0m\u001b[1;32m     77\u001b[0m     \u001b[0mh_kpipi\u001b[0m\u001b[0;34m.\u001b[0m\u001b[0mfill\u001b[0m\u001b[0;34m(\u001b[0m\u001b[0mmkpipi\u001b[0m\u001b[0;34m)\u001b[0m\u001b[0;34m\u001b[0m\u001b[0;34m\u001b[0m\u001b[0m\n\u001b[1;32m     78\u001b[0m \u001b[0;34m\u001b[0m\u001b[0m\n",
      "\u001b[0;31mKeyboardInterrupt\u001b[0m: "
     ]
    }
   ],
   "source": [
    "sel_events = events.arrays([\"p1_PX\",\"p1_PY\",\"p1_PZ\",\"p2_PX\",\"p2_PY\",\"p2_PZ\",\"p3_PX\",\"p3_PY\",\"p3_PZ\"])\n",
    "\n",
    "for event in sel_events:\n",
    "\n",
    "    # KKpi hypothesis\n",
    "    e1 = np.sqrt(mk**2 + p1x**2 + p1y**2 + p1z**2)\n",
    "    e2 = np.sqrt(mk**2 + p2x**2 + p2y**2 + p2z**2)\n",
    "    e3 = np.sqrt(mpi**2 + p3x**2 + p3y**2 + p3z**2)\n",
    "    e_tot = e1 + e2 + e3\n",
    "    px_tot = p1x + p2x + p3x\n",
    "    py_tot = p1y + p2y + p3y\n",
    "    pz_tot = p1z + p2z + p3z\n",
    "\n",
    "    mkkpi = np.sqrt(e_tot**2 - px_tot**2 - py_tot**2 - pz_tot**2)\n",
    "    h_kkpi.fill(mkkpi)\n",
    "\n",
    "\n",
    "    # pipipi hypothesis\n",
    "    e1 = np.sqrt(mpi**2 + p1x**2 + p1y**2 + p1z**2)\n",
    "    e2 = np.sqrt(mpi**2 + p2x**2 + p2y**2 + p2z**2)\n",
    "    e3 = np.sqrt(mpi**2 + p3x**2 + p3y**2 + p3z**2)\n",
    "    e_tot = e1 + e2 + e3\n",
    "    px_tot = p1x + p2x + p3x\n",
    "    py_tot = p1y + p2y + p3y\n",
    "    pz_tot = p1z + p2z + p3z\n",
    "\n",
    "    mpipipi = np.sqrt(e_tot**2 - px_tot**2 - py_tot**2 - pz_tot**2)\n",
    "    h_pipipi.fill(mpipipi)\n",
    "\n",
    "    # piKK hypothesis\n",
    "    e1 = np.sqrt(mpi**2 + p1x**2 + p1y**2 + p1z**2)\n",
    "    e2 = np.sqrt(mk**2 + p2x**2 + p2y**2 + p2z**2)\n",
    "    e3 = np.sqrt(mk**2 + p3x**2 + p3y**2 + p3z**2)\n",
    "    e_tot = e1 + e2 + e3\n",
    "    px_tot = p1x + p2x + p3x\n",
    "    py_tot = p1y + p2y + p3y\n",
    "    pz_tot = p1z + p2z + p3z\n",
    "\n",
    "    mpikk = np.sqrt(e_tot**2 - px_tot**2 - py_tot**2 - pz_tot**2)\n",
    "    h_pikk.fill(mpikk)\n",
    "\n",
    "    # piKpi hypothesis\n",
    "    e1 = np.sqrt(mpi**2 + p1x**2 + p1y**2 + p1z**2)\n",
    "    e2 = np.sqrt(mk**2 + p2x**2 + p2y**2 + p2z**2)\n",
    "    e3 = np.sqrt(mpi**2 + p3x**2 + p3y**2 + p3z**2)\n",
    "    e_tot = e1 + e2 + e3\n",
    "    px_tot = p1x + p2x + p3x\n",
    "    py_tot = p1y + p2y + p3y\n",
    "    pz_tot = p1z + p2z + p3z\n",
    "\n",
    "    mpikpi = np.sqrt(e_tot**2 - px_tot**2 - py_tot**2 - pz_tot**2)\n",
    "    h_pikpi.fill(mpikpi)\n",
    "\n",
    "\n",
    "    # KKK hypothesis\n",
    "    e1 = np.sqrt(mk**2 + p1x**2 + p1y**2 + p1z**2)\n",
    "    e2 = np.sqrt(mk**2 + p2x**2 + p2y**2 + p2z**2)\n",
    "    e3 = np.sqrt(mk**2 + p3x**2 + p3y**2 + p3z**2)\n",
    "    e_tot = e1 + e2 + e3\n",
    "    px_tot = p1x + p2x + p3x\n",
    "    py_tot = p1y + p2y + p3y\n",
    "    pz_tot = p1z + p2z + p3z\n",
    "\n",
    "    mkkk = np.sqrt(e_tot**2 - px_tot**2 - py_tot**2 - pz_tot**2)\n",
    "    h_kkk.fill(mkkk)\n",
    "\n",
    "    # Kpipi hypothesis\n",
    "    e1 = np.sqrt(mk**2 + p1x**2 + p1y**2 + p1z**2)\n",
    "    e2 = np.sqrt(mpi**2 + p2x**2 + p2y**2 + p2z**2)\n",
    "    e3 = np.sqrt(mpi**2 + p3x**2 + p3y**2 + p3z**2)\n",
    "    e_tot = e1 + e2 + e3\n",
    "    px_tot = p1x + p2x + p3x\n",
    "    py_tot = p1y + p2y + p3y\n",
    "    pz_tot = p1z + p2z + p3z\n",
    "\n",
    "    mkpipi = np.sqrt(e_tot**2 - px_tot**2 - py_tot**2 - pz_tot**2)\n",
    "    h_kpipi.fill(mkpipi)\n",
    "\n",
    "    # KpiK hypothesis\n",
    "    e1 = np.sqrt(mk**2 + p1x**2 + p1y**2 + p1z**2)\n",
    "    e2 = np.sqrt(mpi**2 + p2x**2 + p2y**2 + p2z**2)\n",
    "    e3 = np.sqrt(mk**2 + p3x**2 + p3y**2 + p3z**2)\n",
    "    e_tot = e1 + e2 + e3\n",
    "    px_tot = p1x + p2x + p3x\n",
    "    py_tot = p1y + p2y + p3y\n",
    "    pz_tot = p1z + p2z + p3z\n",
    "\n",
    "    mkpik = np.sqrt(e_tot**2 - px_tot**2 - py_tot**2 - pz_tot**2)\n",
    "    h_kpik.fill(mkpik)\n",
    "\n",
    "    # pipik hypothesis\n",
    "    e1 = np.sqrt(mpi**2 + p1x**2 + p1y**2 + p1z**2)\n",
    "    e2 = np.sqrt(mpi**2 + p2x**2 + p2y**2 + p2z**2)\n",
    "    e3 = np.sqrt(mk**2 + p3x**2 + p3y**2 + p3z**2)\n",
    "    e_tot = e1 + e2 + e3\n",
    "    px_tot = p1x + p2x + p3x\n",
    "    py_tot = p1y + p2y + p3y\n",
    "    pz_tot = p1z + p2z + p3z\n",
    "\n",
    "    mpipik = np.sqrt(e_tot**2 - px_tot**2 - py_tot**2 - pz_tot**2)\n",
    "    h_pipik.fill(mpipik)   "
   ]
  },
  {
   "attachments": {},
   "cell_type": "markdown",
   "metadata": {},
   "source": [
    "Let's now plot all of our histograms!"
   ]
  },
  {
   "cell_type": "code",
   "execution_count": null,
   "metadata": {
    "vscode": {
     "languageId": "python"
    }
   },
   "outputs": [],
   "source": [
    "# Declaring the histograms for each possible combination\n",
    "h_pipipi.plot()\n",
    "h_pikk.plot()\n",
    "h_pikpi.plot()\n",
    "h_kkk.plot()\n",
    "h_kpipi.plot()\n",
    "h_kpik.plot()\n",
    "h_pipik.plot()\n",
    "h_kkpi.plot()"
   ]
  },
  {
   "cell_type": "markdown",
   "metadata": {},
   "source": [
    "<div class=\"alert alert-success\">\n",
    "Great Job! By now you might have all eight invariant mass plots and our final job is to identify our decay!\n",
    "</div>\n",
    "\n",
    "Can you find any of our combinations for which the invariant mass distribution looks like a gaussian function? If yes, which one is that?\n",
    "\n",
    "\n",
    "<details>\n",
    "    <summary>Answer: </summary>\n",
    "        $KK\\pi$ is our decay!\n",
    "</details>\n"
   ]
  },
  {
   "cell_type": "markdown",
   "metadata": {},
   "source": [
    "## Extra: Fitting our mass distribution\n",
    "\n",
    "Now, our last step is to fit this distribution"
   ]
  },
  {
   "cell_type": "code",
   "execution_count": null,
   "metadata": {
    "vscode": {
     "languageId": "python"
    }
   },
   "outputs": [],
   "source": [
    "# 1.) Necessary imports.    \n",
    "import numpy as np\n",
    "import matplotlib.pyplot as plt\n",
    "from scipy.optimize import curve_fit\n",
    "\n",
    "# 2.) Define fit function: Gaussian + exponential\n",
    "def fit_function(x, A, B, C, mu, sigma):\n",
    "    return (A*np.exp(B*x) + C * np.exp(-1.0 * (x - mu)**2 / (2 * sigma**2)))\n",
    "\n",
    "# 3.) Define bins and bin centers\n",
    "bins = np.linspace(1810, 1910, 100)\n",
    "binscenters = np.array([0.5 * (bins[i] + bins[i+1]) for i in range(len(bins)-1)])\n",
    "\n",
    "# 4.) Save the number of events per bin, and the bin values to arrays:\n",
    "y = hist_mD0.counts()\n",
    "x = hist_mD0.values()\n",
    "\n",
    "# 5.) Fit the function to the histogram data.\n",
    "\n",
    "# To perform a fit we first need to set initial values for the parameters in our function, usually we guess \n",
    "# the initial values for our parameters and we let the fit find the optimal values for each one\n",
    "INITIAL_GUESS = [450,0,3000,1870,10]\n",
    "\n",
    "popt, pcov = curve_fit(fit_function, xdata=x, ydata=y, p0=INITIAL_GUESS)\n",
    "print(popt)\n",
    "error = np.sqrt(np.diag(pcov))\n",
    "\n",
    "# 6.) Generate enough x values to make the curves look smooth.\n",
    "xspace = np.linspace(1810, 1910, 100000)\n",
    "\n",
    "# 7.) Plot the histogram and the fitted function.\n",
    "hist_mD0.plot(histtype = \"fill\",label=r'Data')\n",
    "plt.plot(xspace, fit_function(xspace, *popt), color='darkorange', linewidth=2.5, label=r'Fitted function')\n",
    "\n",
    "plt.xlim(1810,1920)\n",
    "plt.xlabel(r'$mass$')\n",
    "plt.ylabel(r'Number of entries')\n",
    "plt.title(r'Invariant mass fit')\n",
    "plt.legend(loc='best')\n",
    "plt.show()\n",
    "plt.clf()"
   ]
  },
  {
   "cell_type": "code",
   "execution_count": 19,
   "metadata": {
    "vscode": {
     "languageId": "python"
    }
   },
   "outputs": [],
   "source": [
    "# Declaring kaon and pion mass\n",
    "# ***mk = 0.493667***\n",
    "# ***mpi = 0.13957***\n",
    "mk = 493.667\n",
    "mpi = 139.57"
   ]
  },
  {
   "cell_type": "code",
   "execution_count": 20,
   "metadata": {
    "vscode": {
     "languageId": "python"
    }
   },
   "outputs": [
    {
     "data": {
      "image/png": "[encoded data removed]",
      "text/plain": [
       "<Figure size 720x360 with 2 Axes>"
      ]
     },
     "metadata": {
      "needs_background": "light"
     },
     "output_type": "display_data"
    }
   ],
   "source": [
    "# Creating histograms for e2 and e3 (energy of the second and third particles)\n",
    "hist_e1 = Hist(hist.axis.Regular(100,0,50e3, label = \"Energy ($p_1$) (GeV)\"))\n",
    "hist_e2 = Hist(hist.axis.Regular(100,0,50e3, label = \"Energy ($p_2$) (GeV)\"))\n",
    "hist_e3 = Hist(hist.axis.Regular(100,0,50e3, label = \"Energy ($p_3$) (GeV)\"))\n",
    "\n",
    "# Calculating the momentum and filling the histogram\n",
    "e1 = np.sqrt((p1*p1)+(mpi*mpi))\n",
    "hist_e1.fill(e1)\n",
    "e2 = np.sqrt((p2*p2)+(mpi*mpi))\n",
    "hist_e2.fill(e2)\n",
    "e3 = np.sqrt((p3*p3)+(mpi*mpi))\n",
    "hist_e3.fill(e3)\n",
    "\n",
    "# Plotting the histograms\n",
    "fig, axes = plt.subplots(figsize=(10,5))\n",
    "plt.subplot(1,2,1)\n",
    "hist_e2.plot()\n",
    "plt.subplot(1,2,2)\n",
    "hist_e3.plot()\n",
    "plt.show()"
   ]
  },
  {
   "cell_type": "code",
   "execution_count": 21,
   "metadata": {
    "vscode": {
     "languageId": "python"
    }
   },
   "outputs": [
    {
     "name": "stderr",
     "output_type": "stream",
     "text": [
      "/var/folders/cf/qxs2w9ts3jx44d8n8cn8qmnw0000gn/T/ipykernel_36118/3138603698.py:1: RuntimeWarning: invalid value encountered in sqrt\n",
      "  mpipipi = np.sqrt((e1 + e2 + e3)**2 - (p1x + p2x + p3x)**2 - (p1y + p2y + p3y)**2 - (p1z + p2z + p3z)**2)\n"
     ]
    },
    {
     "data": {
      "image/png": "[encoded data removed]",
      "text/plain": [
       "<Figure size 432x288 with 1 Axes>"
      ]
     },
     "metadata": {
      "needs_background": "light"
     },
     "output_type": "display_data"
    }
   ],
   "source": [
    "mpipipi = np.sqrt((e1 + e2 + e3)**2 - (p1x + p2x + p3x)**2 - (p1y + p2y + p3y)**2 - (p1z + p2z + p3z)**2)\n",
    "h1.fill(mpipipi)\n",
    "\n",
    "h1.plot(histtype = \"fill\")\n",
    "plt.show()"
   ]
  },
  {
   "cell_type": "markdown",
   "metadata": {},
   "source": [
    "[Return to contents](#c)"
   ]
  },
  {
   "cell_type": "markdown",
   "metadata": {},
   "source": [
    "---"
   ]
  }
 ],
 "metadata": {
  "kernelspec": {
   "display_name": "Python 3 (ipykernel)",
   "language": "python",
   "name": "python3"
  }
 },
 "nbformat": 4,
 "nbformat_minor": 4
}
