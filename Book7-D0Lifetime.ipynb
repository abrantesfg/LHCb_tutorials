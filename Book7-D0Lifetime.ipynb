{
 "cells": [
  {
   "cell_type": "markdown",
   "metadata": {},
   "source": [
    "<CENTER><img src=\"images/logos.png\" style=\"width:50%\"></CENTER>"
   ]
  },
  {
   "attachments": {},
   "cell_type": "markdown",
   "metadata": {},
   "source": [
    "# $D^0 \\rightarrow K^- \\pi^+$ decays: calculating the lifetime measurement <a name=\"c\"></a>\n",
    "\n",
    "\n",
    "In the following analysis we aim to obtain the lifetime measurement of [$D^{0}$](https://en.wikipedia.org/wiki/D_meson) mesons decaying into a kaon and a pion with opposite charge.\n",
    "\n",
    "The $D^{0}$ meson is composed of a $c$ quark and an $\\bar{u}$ antiquark (as we've seen in the Introduction to Particle Physics notebook) and among all the possible routes, it can decay to the final state $K^-\\pi^+$. The kaon is composed of $u$ quark and an $\\bar{s}$ antiquark and the pion is composed of a $u$ quark and an $\\bar{d}$ antiquark. These particles have lifetime which are long enough that, for the purpose of this\n",
    "exercise, they are stable within the LHCb detector.\n",
    "\n",
    "\n",
    "Let's start with understanding the idea of a decay process.\n",
    "\n",
    "We want to find $D^{0}$ mesons, but they don't live long enough to actually see with the detector itself. Instead, we have to **reconstruct** them from their decay products. We don't particularly mind where the $D^{0}$s themselves come from. All you need to know here is that each time the LHC smashes two protons together, they produce lots and lots of particles, some of which are $D^{0}$s.\n",
    "\n",
    "\n",
    "From theory, we know that there are several decay routes as you can see in [here](https://pdglive.lbl.gov/Particle.action?init=0&node=S032&home=MXXX035#decayclump_C) but today we are interested in the particular decay route $D^{0} \\to K^{-} \\pi^{+}$.\n",
    "\n",
    "\n",
    "In this option, a random $D^{0}$ emerges from the collision aftermath in the LHC (we don't care how) can decay directly to $K^-\\pi^+$ with opposite charge. The decay happens at the vertex below, where the $D^0$ blue line changes to a kaon and pion lines (purple and red respectively). We denote a kaon by the letter $K^{-}$ and a pion by $\\pi^+$, with their respective charges on top. \n",
    "\n",
    "<figure>\n",
    "    <center> <img src=\"images/D0-decay.png\" alt=\"image missing\" style=\"width:40%\" />\n",
    "   <figcaption>Image 1: The $D^0$ decay directly from the proton-proton collision. &copy; <a href=\"https://reader.elsevier.com/reader/sd/pii/S2405601415006811?token=6FB63C7A4CA7A9942923D4464E1D0026C06C3D8B7F2480E5D95FAAE090160896368E92EBE888890A4213BCF7055A7856&originRegion=eu-west-1&originCreation=20221101130344\">LHCb Masterclass</a> [1]</figcaption> </center>\n",
    "</figure>\n",
    "\n",
    "Now that we know about 4-vectors from Notebook 4 and we know how to manipulate them, we will look at the $D^{0}$ decay to $K^- \\pi^+$ but firstly, we need to discuss what is the liferime and how we measure it in our decay of interest."
   ]
  },
  {
   "cell_type": "markdown",
   "metadata": {},
   "source": [
    "**Contents:**\n",
    "- [Introduction](#0.)\n",
    "- [Lifetime](#1.)\n",
    "- [The invariant mass calculation](#2.)\n",
    "- [Cuts](#3.)\n",
    "- [Over to you! To four leptons](#3.)\n",
    "- [Real experiments](#4.)\n",
    "- [Extension exercises](#5.)"
   ]
  },
  {
   "cell_type": "markdown",
   "metadata": {},
   "source": [
    "---"
   ]
  },
  {
   "cell_type": "markdown",
   "metadata": {},
   "source": [
    "## Introduction <a name=\"0.\"></a>\n",
    "\n",
    "The Large Hadron Collider (LHC) is not only a tool with which to search for exotic new particles,\n",
    "but also a factory of particles whose existence is in no doubt but whose precise properties are not\n",
    "yet known well enough. One example are charmed hadrons, i.e. hadrons which contain a charm\n",
    "(also known as *c*) quark, which were first discovered more than 30 years ago. Approximately one in\n",
    "every ten LHC interactions produces a charmed hadron, and the LHCb experiment at the LHC has\n",
    "already recorded over one billion signal events in various decay channels.\n",
    "\n",
    "Even though the LHC produces a lot of charmed hadrons, it produces a much greater number of\n",
    "other particles which can be mistaken for the signal (“backgrounds”). In order to extract information\n",
    "from such large signal samples, it is necessary to achieve excellent control over these backgrounds.\n",
    "This set of exercises is designed to teach you how to:\n",
    "\n",
    "1. Fit functional forms for the signal and background to the data in order to measure the number\n",
    "of signal events in the data sample and their purity (defined as the fraction of signal events in\n",
    "the total sample).\n",
    "2. Obtain the distribution of signal events in a given variable by taking the combined distribution of\n",
    "events in the data sample (which contains both signal and background events) and subtracting\n",
    "the background distribution. The result of the fit in the previous step is used to find a sample\n",
    "of pure background events for subtraction, and to compute from the signal yield and purity the\n",
    "appropriate amount of background which should be subtracted.\n",
    "3. Reduce the amount of background contamination by placing requirements on these variables\n",
    "which exclude the background dominated regions, using the signal and background distributions\n",
    "obtained previously.\n",
    "4. The signal you will be looking at decays exponentially with time, analogously to say a radioactive\n",
    "isotope. You can now use the sample of events passing the previous step to measure the\n",
    "“lifetime” of the signal particle. The lifetime is defined as the time taken for $(e − 1)/e$ of the\n",
    "signal events to decay, where $e \\sim 2.718$ is the base of the natural logarithm. It is analogous\n",
    "to the concept of half-life in radioactive decay."
   ]
  },
  {
   "attachments": {},
   "cell_type": "markdown",
   "metadata": {},
   "source": [
    "## Lifetime <a name=\"1.\"></a>\n",
    "\n",
    "\n",
    "\n",
    "The data sample we are going to use for this notebook consists of candidates for the $D^0$ meson found in a sample randomly collected by the LHCb detector during the 2012 data-taking period. \n",
    "\n",
    "The LHCb detector can measure the momentum and energy of muons coming out of decays, and you can access that information quite simply. We mentioned earlier that each smash makes lots of particles. That's true - in fact, it makes so many that we can't actually store all the records of what happened, even on some of the biggest data storage facilities in the world. Therefore, we select only events that are interesting to us, in particular, we want to see exactly **one kaon and one pion** in the final state.\n",
    "\n",
    "\n",
    "The $D^0$ particles have a distinctive feature and that is their measurably long lifetime. The average lifetime is $4 \\cdot 10^{-13}$ seconds. \n",
    "\n",
    "It travels increadibly fast, actually nearly at the speed of light at LHCb (typically $\\nu \\sim 0.99919 \\cdot c$). If you remember from your basic newtonian physics course, to calculate the average distance we would take our velocity and multiply it by the time but, since our particle travels at very high speed, we need to take into account relativistic effects. Therefore, the average distance travelled is expected to be:\n",
    "\n",
    "<CENTER> $0.4 \\beta \\gamma c = 3$mm </CENTER>\n",
    "\n",
    "where $\\gamma$ is the Lorentz factor.\n",
    "\n",
    "<div class=\"alert alert-warning\"> If you don't know about special relativity, don't worry! What we need to know is that when we are dealing with increadibly fast particles travelling along our detector, we need to include this information and the way we do it is adjusting our expressions with the Lorentz factor.\n",
    "</div>\n",
    "\n",
    "Fast mesons live longer, thus a lifetime at rest of 0.4ps means a lifetime inside the experiment of about 10ps or even longer. Another possible process is when the $D^0$ appears as a child of a $B$ particle. In this case we can measure the displacement which we are going to call the *impact parameter (IP)*. The IP is defined as the perpendicular distance between the path of our $D^0$ particle and the center of the collision. \n",
    "\n",
    "\n",
    "<figure>\n",
    "    <center> <img src=\"images/B-D0-decay.png\" alt=\"image missing\" style=\"width:40%\" />\n",
    "   <figcaption>Image 2: Secondary verteces displaced from the proton-proton collision. &copy; <a href=\"https://reader.elsevier.com/reader/sd/pii/S2405601415006811?token=6FB63C7A4CA7A9942923D4464E1D0026C06C3D8B7F2480E5D95FAAE090160896368E92EBE888890A4213BCF7055A7856&originRegion=eu-west-1&originCreation=20221101130344\">LHCb Masterclass</a> [1]</figcaption> </center>\n",
    "</figure>\n",
    "\n",
    "When we are dealing with the case where the $D^0$ is produced directly from the proton-proton collisions (as in Image 1), the IP is small, but when it comes as a child of the $B$ meson, the IP is large. This fact, together with their abundant production, allows the $D^0$ signals to be well separated from the background of the underlying event, most of which consists of random combinations of particles produced in the proton-proton collision.\n",
    "\n",
    "\n",
    "\n"
   ]
  },
  {
   "cell_type": "markdown",
   "metadata": {},
   "source": [
    "Next we have to open the data that we want to analyze. As described earlier, the data is stored in a *.root file. We can use a python library called uproot to access the data. Below is an example of how to open a *.root file using uproot"
   ]
  },
  {
   "cell_type": "code",
   "execution_count": 1,
   "metadata": {
    "vscode": {
     "languageId": "python"
    }
   },
   "outputs": [],
   "source": [
    "## data file\n",
    "import uproot\n",
    "f = uproot.open(\"../LHCb_data/D02KPi/MasterclassData_2012.root\")"
   ]
  },
  {
   "cell_type": "markdown",
   "metadata": {},
   "source": [
    "We can inspect the contents of a file by using the method keys()"
   ]
  },
  {
   "cell_type": "code",
   "execution_count": 2,
   "metadata": {
    "vscode": {
     "languageId": "python"
    }
   },
   "outputs": [
    {
     "data": {
      "text/plain": [
       "['DecayTree;1']"
      ]
     },
     "execution_count": 2,
     "metadata": {},
     "output_type": "execute_result"
    }
   ],
   "source": [
    "f.keys()"
   ]
  },
  {
   "cell_type": "markdown",
   "metadata": {},
   "source": [
    "We see that we have an object called 'DecayTree'. We can obtain information about the object in the file and its type by using the method classnames()"
   ]
  },
  {
   "cell_type": "code",
   "execution_count": 3,
   "metadata": {
    "vscode": {
     "languageId": "python"
    }
   },
   "outputs": [
    {
     "data": {
      "text/plain": [
       "{'DecayTree;1': 'TTree'}"
      ]
     },
     "execution_count": 3,
     "metadata": {},
     "output_type": "execute_result"
    }
   ],
   "source": [
    "f.classnames()"
   ]
  },
  {
   "attachments": {},
   "cell_type": "markdown",
   "metadata": {},
   "source": [
    "We see that the object called DecayTree is a TTree type. A TTree is simply columns of data stored in the .root format. Each column of data can represent a different physical quantity of a particle. For instance, its charge, energy, momentum etc.\n",
    "\n",
    "Now we know what data the file contains, in future we can quickly access that data. We want to access the DecayTree data. This can be done by executing the command below\n"
   ]
  },
  {
   "cell_type": "code",
   "execution_count": 4,
   "metadata": {
    "vscode": {
     "languageId": "python"
    }
   },
   "outputs": [],
   "source": [
    "events = uproot.open(\"../LHCb_data/D02KPi/MasterclassData_2012.root:DecayTree\")"
   ]
  },
  {
   "cell_type": "markdown",
   "metadata": {},
   "source": [
    "Let's look at contents of the TTree. Essentially all the columns in the TTree called DecayTree. Within this tree, you will see\n",
    "three particles : D0, kaon, and pion, as well as some other quantities which are not of immediate\n",
    "interest for this exercise. All information which you need to successfully complete this exercise is\n",
    "contained in Leaves of the DecayTree whose names begin with the name of one of these three\n",
    "particles. The only exception is the number of proton-proton interactions in the event, “nPV”,\n",
    "which will be used in the last exercise."
   ]
  },
  {
   "cell_type": "code",
   "execution_count": 5,
   "metadata": {
    "vscode": {
     "languageId": "python"
    }
   },
   "outputs": [
    {
     "data": {
      "text/plain": [
       "['D0_MM',\n",
       " 'D0_PT',\n",
       " 'D0_TAU',\n",
       " 'D0_MINIPCHI2',\n",
       " 'D0_DIRA_OWNPV',\n",
       " 'nPV',\n",
       " 'D0_MINIP',\n",
       " 'piminus_PT',\n",
       " 'piminus_ProbNNpi',\n",
       " 'piminus_ProbNNk',\n",
       " 'Kplus_PT',\n",
       " 'Kplus_ProbNNpi',\n",
       " 'Kplus_ProbNNk']"
      ]
     },
     "execution_count": 5,
     "metadata": {},
     "output_type": "execute_result"
    }
   ],
   "source": [
    "events.keys()"
   ]
  },
  {
   "cell_type": "markdown",
   "metadata": {},
   "source": [
    "These names might not be very clear so let's talk about the ones that are going to be important for us:\n",
    "\n",
    "* `D0_MM`: this is the invariant mass of the $D^0$ meson. The signal can be seen as a peaking structure rising\n",
    "above a flat background. The range of masses relevant for this analysis is 1816-1914 MeV. A\n",
    "few poorly measured events lie outside this range which can be neglected.\n",
    "\n",
    "* `D0_TAU`: this is the distribution of decay times of the $D^0$ candidates. The signal is described by a\n",
    "single exponential whose slope is the $D^0$ lifetime (the object of the last exercise), while the\n",
    "background concentrates at short decay times.\n",
    "\n",
    "* `D0_MINIPCHI2`: this is the smallest $\\chi^2$ of the $D^0$ impact parameter with respect to any proton-proton interaction\n",
    "in the event. The smaller the impact parameter $\\chi^2$, the more likely it is that the $D^0$ actually\n",
    "came from that primary interaction. This variable is always positive, and is small for the signal\n",
    "and large for the background.\n",
    "\n",
    "* `D0_PT`: this is the momentum of the $D^0$ transverse to the LHC beamline. This is a good background\n",
    "discriminant as you will discover in exercises two and three.\n",
    "\n",
    "* `D0_DIRA_OWNPV`: this is the cosine of the angle between the $D^0$ momentum vector and the vector between\n",
    "the primary proton-proton interaction vertex and the decay vertex of the $D^0$. This variable\n",
    "is close to 1 for the signal (as these two vectors coincide for the signal within the effects of\n",
    "experimental resolution), and is smaller for the background (as the vectors do not coincide,\n",
    "since the background does not come from the primary interaction).\n",
    "\n",
    "* `nPV`: this is the number of proton-proton interactions in the event. If an event contains more than\n",
    "one proton-proton interaction, it is necessary to associate the $D^0$ candidate to one of the\n",
    "interactions in order to measure the $D^0$ decay time and pointing angle. The convention used\n",
    "in this ntuple is that the primary interaction associated to the $D^0$ candidate is the one with\n",
    "respect to which the $D^0$ has the smallest impact parameter."
   ]
  },
  {
   "attachments": {},
   "cell_type": "markdown",
   "metadata": {},
   "source": [
    "## Plotting the $D^0$ mass distribution! <a name=\"4.\"></a>\n",
    "\n",
    "Now that we've learned about the variables, we are ready to plot and fit the invariant mass! The first step will be to put all of our data in a `DataFrame`, which is quite similar to an Excel spreadsheed, including all the variables we are going to work with. To create our DataFrame we will use the option `library=\"pd\"` when creating our arrays.\n",
    "\n",
    "Let's start with plotting the distribution."
   ]
  },
  {
   "cell_type": "code",
   "execution_count": 6,
   "metadata": {
    "vscode": {
     "languageId": "python"
    }
   },
   "outputs": [
    {
     "data": {
      "text/html": [
       "<div>\n",
       "<style scoped>\n",
       "    .dataframe tbody tr th:only-of-type {\n",
       "        vertical-align: middle;\n",
       "    }\n",
       "\n",
       "    .dataframe tbody tr th {\n",
       "        vertical-align: top;\n",
       "    }\n",
       "\n",
       "    .dataframe thead th {\n",
       "        text-align: right;\n",
       "    }\n",
       "</style>\n",
       "<table border=\"1\" class=\"dataframe\">\n",
       "  <thead>\n",
       "    <tr style=\"text-align: right;\">\n",
       "      <th></th>\n",
       "      <th>D0_MM</th>\n",
       "      <th>D0_TAU</th>\n",
       "      <th>D0_PT</th>\n",
       "      <th>D0_MINIPCHI2</th>\n",
       "      <th>D0_MINIP</th>\n",
       "    </tr>\n",
       "  </thead>\n",
       "  <tbody>\n",
       "    <tr>\n",
       "      <th>0</th>\n",
       "      <td>1886.012</td>\n",
       "      <td>0.000160</td>\n",
       "      <td>2577.604143</td>\n",
       "      <td>2.622432</td>\n",
       "      <td>0.029831</td>\n",
       "    </tr>\n",
       "    <tr>\n",
       "      <th>1</th>\n",
       "      <td>1879.058</td>\n",
       "      <td>0.000480</td>\n",
       "      <td>3202.244393</td>\n",
       "      <td>0.967348</td>\n",
       "      <td>0.016257</td>\n",
       "    </tr>\n",
       "    <tr>\n",
       "      <th>2</th>\n",
       "      <td>1863.880</td>\n",
       "      <td>0.000237</td>\n",
       "      <td>2594.053867</td>\n",
       "      <td>1.542374</td>\n",
       "      <td>0.023115</td>\n",
       "    </tr>\n",
       "    <tr>\n",
       "      <th>3</th>\n",
       "      <td>1855.769</td>\n",
       "      <td>0.000654</td>\n",
       "      <td>3215.589746</td>\n",
       "      <td>0.088708</td>\n",
       "      <td>0.006104</td>\n",
       "    </tr>\n",
       "    <tr>\n",
       "      <th>4</th>\n",
       "      <td>1858.912</td>\n",
       "      <td>0.000551</td>\n",
       "      <td>4351.224599</td>\n",
       "      <td>0.216977</td>\n",
       "      <td>0.008370</td>\n",
       "    </tr>\n",
       "    <tr>\n",
       "      <th>5</th>\n",
       "      <td>1861.945</td>\n",
       "      <td>0.000286</td>\n",
       "      <td>4397.288345</td>\n",
       "      <td>2.687102</td>\n",
       "      <td>0.018042</td>\n",
       "    </tr>\n",
       "    <tr>\n",
       "      <th>6</th>\n",
       "      <td>1914.201</td>\n",
       "      <td>0.001441</td>\n",
       "      <td>2608.159770</td>\n",
       "      <td>17.585381</td>\n",
       "      <td>0.149101</td>\n",
       "    </tr>\n",
       "    <tr>\n",
       "      <th>7</th>\n",
       "      <td>1908.030</td>\n",
       "      <td>0.000173</td>\n",
       "      <td>2569.954289</td>\n",
       "      <td>0.933401</td>\n",
       "      <td>0.017547</td>\n",
       "    </tr>\n",
       "    <tr>\n",
       "      <th>8</th>\n",
       "      <td>1857.495</td>\n",
       "      <td>0.000838</td>\n",
       "      <td>2805.503164</td>\n",
       "      <td>0.624405</td>\n",
       "      <td>0.013213</td>\n",
       "    </tr>\n",
       "    <tr>\n",
       "      <th>9</th>\n",
       "      <td>1896.781</td>\n",
       "      <td>0.000236</td>\n",
       "      <td>9620.342971</td>\n",
       "      <td>7.454235</td>\n",
       "      <td>0.026083</td>\n",
       "    </tr>\n",
       "  </tbody>\n",
       "</table>\n",
       "</div>"
      ],
      "text/plain": [
       "      D0_MM    D0_TAU        D0_PT  D0_MINIPCHI2  D0_MINIP\n",
       "0  1886.012  0.000160  2577.604143      2.622432  0.029831\n",
       "1  1879.058  0.000480  3202.244393      0.967348  0.016257\n",
       "2  1863.880  0.000237  2594.053867      1.542374  0.023115\n",
       "3  1855.769  0.000654  3215.589746      0.088708  0.006104\n",
       "4  1858.912  0.000551  4351.224599      0.216977  0.008370\n",
       "5  1861.945  0.000286  4397.288345      2.687102  0.018042\n",
       "6  1914.201  0.001441  2608.159770     17.585381  0.149101\n",
       "7  1908.030  0.000173  2569.954289      0.933401  0.017547\n",
       "8  1857.495  0.000838  2805.503164      0.624405  0.013213\n",
       "9  1896.781  0.000236  9620.342971      7.454235  0.026083"
      ]
     },
     "execution_count": 6,
     "metadata": {},
     "output_type": "execute_result"
    }
   ],
   "source": [
    "import hist\n",
    "from hist import Hist\n",
    "import matplotlib.pyplot as plt\n",
    "import numpy as np\n",
    "\n",
    "# Load data into DataFrame structure\n",
    "D0_df = events.arrays([\"D0_MM\",\"D0_TAU\",\"D0_PT\",\"D0_MINIPCHI2\",\"D0_MINIP\"],library=\"pd\")\n",
    "\n",
    "# View the first 10 rows of the DataFrame\n",
    "D0_df.head(10)\n",
    "\n"
   ]
  },
  {
   "cell_type": "markdown",
   "metadata": {},
   "source": [
    "So here you can see for each entry the respective values of mass, decay time, transverse momentum and IP chi2. Let's now plot the invariant mass distribution."
   ]
  },
  {
   "cell_type": "code",
   "execution_count": 7,
   "metadata": {
    "vscode": {
     "languageId": "python"
    }
   },
   "outputs": [
    {
     "data": {
      "image/png": "[encoded data removed]",
      "text/plain": [
       "<Figure size 432x288 with 1 Axes>"
      ]
     },
     "metadata": {
      "needs_background": "light"
     },
     "output_type": "display_data"
    }
   ],
   "source": [
    "# Define the histogram\n",
    "hist_mD0 = Hist(hist.axis.Regular(100,1810,1910, label = \"$m(K^+ \\pi^-)$ (GeV)\"))\n",
    "\n",
    "# Fill the histogram with the mass values form the DataFrame and plot\n",
    "mD0 = D0_df[\"D0_MM\"]\n",
    "hist_mD0.fill(mD0)\n",
    "hist_mD0.plot(histtype = \"fill\")\n",
    "plt.show()"
   ]
  },
  {
   "cell_type": "markdown",
   "metadata": {},
   "source": [
    "<div class=\"alert alert-success\">\n",
    "\n",
    "__Congratulations!__ You have just plotted the $K^- \\pi^+$ invariant mass!\n",
    "    \n",
    "</div>\n",
    "\n",
    "As you can see, there is a clear peak centered at around 1865GeV. Any ideas what is this peak?\n",
    "\n",
    "\n",
    "<details>\n",
    "    <summary>Answer: </summary>\n",
    "        That's right, it's the $D^0$ meson which has a mass of 1865 GeV!\n",
    "</details>\n"
   ]
  },
  {
   "cell_type": "markdown",
   "metadata": {},
   "source": [
    "[Return to contents](#c)"
   ]
  },
  {
   "cell_type": "markdown",
   "metadata": {},
   "source": [
    "---"
   ]
  },
  {
   "cell_type": "markdown",
   "metadata": {},
   "source": [
    "## Fitting the mass peak <a name=\"5.\"></a>"
   ]
  },
  {
   "cell_type": "markdown",
   "metadata": {},
   "source": [
    "Now that we have reconstructed the $D^0$ mass, the next step is to fit the histogram. To fit the histogram is to try to find the best function, (or combination of funtions) that reproduce the shape we see in our data. Let's start with a simple example. \n",
    "\n",
    "Imagine we have a set of data points and we want to find a line that passes nearby our points."
   ]
  },
  {
   "cell_type": "code",
   "execution_count": 8,
   "metadata": {
    "vscode": {
     "languageId": "python"
    }
   },
   "outputs": [
    {
     "data": {
      "text/plain": [
       "[<matplotlib.lines.Line2D at 0x7f87b1670700>]"
      ]
     },
     "execution_count": 8,
     "metadata": {},
     "output_type": "execute_result"
    },
    {
     "data": {
      "image/png": "[encoded data removed]",
      "text/plain": [
       "<Figure size 432x288 with 1 Axes>"
      ]
     },
     "metadata": {
      "needs_background": "light"
     },
     "output_type": "display_data"
    }
   ],
   "source": [
    "import numpy as np\n",
    "import matplotlib.pyplot as plt\n",
    "\n",
    "#define data\n",
    "x = np.array([1, 2, 3, 4, 5, 6, 7, 8])\n",
    "y = np.array([2, 5, 6, 7, 9, 12, 16, 19])\n",
    "\n",
    "#find line of best fit\n",
    "a, b = np.polyfit(x, y, 1)\n",
    "\n",
    "#add points to plot\n",
    "plt.scatter(x, y)\n",
    "plt.xlabel(\"x\")\n",
    "plt.ylabel(\"y\")\n",
    "\n",
    "#add line of best fit to plot\n",
    "plt.plot(x, a*x+b, c=\"red\")       "
   ]
  },
  {
   "cell_type": "markdown",
   "metadata": {},
   "source": [
    "In our plot, the blue dots represent our data and the red line is the best line we can draw that reproduces the behavior of our data. Our LHCb data is not as simple as this example, but the idea is the same! We want to find the best curve that reproduces the shape of the mass distribution we found. It won't be a straight line as our data does not have this kind of pattern, but there are other types of functions that we can use."
   ]
  },
  {
   "cell_type": "markdown",
   "metadata": {},
   "source": [
    "### Gaussian function\n",
    "\n",
    "One very commonly used is the Gaussian function (also known as the normal distribution). We can represent it by the function:\n",
    "\n",
    "$f(x) = \\frac{1}{\\sigma \\sqrt{2\\pi}} e^{-\\frac{1}{2} \\big(\\frac{x-\\mu}{\\sigma}\\big)^2}$\n",
    "\n",
    "And if we want to draw this function, we can run the following line:"
   ]
  },
  {
   "cell_type": "code",
   "execution_count": 9,
   "metadata": {
    "vscode": {
     "languageId": "python"
    }
   },
   "outputs": [
    {
     "data": {
      "text/plain": [
       "[<matplotlib.lines.Line2D at 0x7f87b2b75a00>]"
      ]
     },
     "execution_count": 9,
     "metadata": {},
     "output_type": "execute_result"
    },
    {
     "data": {
      "image/png": "[encoded data removed]",
      "text/plain": [
       "<Figure size 432x288 with 1 Axes>"
      ]
     },
     "metadata": {
      "needs_background": "light"
     },
     "output_type": "display_data"
    }
   ],
   "source": [
    "import numpy as np\n",
    "import scipy as sp\n",
    "from scipy import stats\n",
    "import matplotlib.pyplot as plt\n",
    "\n",
    "## generate the data and plot it for a gaussian curve\n",
    "\n",
    "## x-axis for the plot\n",
    "x_data = np.arange(-5, 5, 0.001)\n",
    "\n",
    "## y-axis as the gaussian\n",
    "y_data = stats.norm.pdf(x_data, 0, 1)\n",
    "\n",
    "## plot data\n",
    "plt.plot(x_data, y_data)\n"
   ]
  },
  {
   "attachments": {},
   "cell_type": "markdown",
   "metadata": {},
   "source": [
    "Interesting... it looks like this gaussian function has some similarities with the mass peak we found! So perhaps we can use this Gaussian function in our fit to the mass peak. When dealing with gaussian functions, two very important features are the mean value of the function, $\\mu$, and the width, $\\sigma$. The $\\mu$ is the value which our curve is cetered at, in this case, the gaussian peak is centered at zero. The $\\sigma$ is the width of the distrbution, in this case we can see that the distribution is basically over before -2 and after 2. So the total width here is 1.\n",
    "\n",
    "<div class=\"alert alert-warning\"> Don't worry if the function has a complicated mathematical expression, the idea here is that since it looks a lot like our peak, we can use this function to learn features of our data!\n",
    "</div>\n"
   ]
  },
  {
   "attachments": {},
   "cell_type": "markdown",
   "metadata": {},
   "source": [
    "Great! It seems that our mass peak looks like a gaussian centered at around 1865 MeV and outside this gaussian, the distribution looks like a horizontal line.\n",
    "\n",
    "The gaussian-like behavior represents the $D^0 \\to K^- \\pi^+$ candidates, our signal events, and the events in this flat horizontal distribution are called background events. Signal events are the ones corresponding to our process of interest, while background events correspond to processes that we are not interested in. In this case, they correspond to combinatorial background.\n",
    "\n",
    "With all that said, we are ready to fit our invariant mass distribution!\n"
   ]
  },
  {
   "cell_type": "code",
   "execution_count": 10,
   "metadata": {
    "scrolled": true,
    "vscode": {
     "languageId": "python"
    }
   },
   "outputs": [
    {
     "name": "stdout",
     "output_type": "stream",
     "text": [
      "[ 5.50870044e-01 -7.46656397e+02  1.31552047e+03  1.86657741e+03\n",
      "  7.64326087e+00]\n"
     ]
    },
    {
     "data": {
      "image/png": "[encoded data removed]",
      "text/plain": [
       "<Figure size 432x288 with 1 Axes>"
      ]
     },
     "metadata": {
      "needs_background": "light"
     },
     "output_type": "display_data"
    },
    {
     "data": {
      "text/plain": [
       "<Figure size 432x288 with 0 Axes>"
      ]
     },
     "metadata": {},
     "output_type": "display_data"
    }
   ],
   "source": [
    "# 1.) Necessary imports.    \n",
    "import numpy as np\n",
    "import matplotlib.pyplot as plt\n",
    "from scipy.optimize import curve_fit\n",
    "\n",
    "# 2.) Define fit function: Gaussian + exponential\n",
    "# ***2.) Define fit function: Gaussian + straight line***\n",
    "def fit_function(x, A, B, C, mu, sigma):\n",
    "    return (A*x + B + C * np.exp(-1.0 * (x - mu)**2 / (2 * sigma**2)))\n",
    "\n",
    "# 3.) Define bins and bin centers\n",
    "bins = np.linspace(1810, 1910, 100)\n",
    "binscenters = np.array([0.5 * (bins[i] + bins[i+1]) for i in range(len(bins)-1)])\n",
    "\n",
    "# 4.) Save the number of events per bin, and the bin values to arrays:\n",
    "# ***y = hist_mD0.counts()***\n",
    "# ***x = hist_mD0.values()***\n",
    "# count and value are basically aliases\n",
    "x = hist_mD0.axes.centers[0]\n",
    "y = hist_mD0.counts()\n",
    "\n",
    "# 5.) Fit the function to the histogram data.\n",
    "\n",
    "# To perform a fit we first need to set initial values for the parameters in our function, usually we guess \n",
    "# the initial values for our parameters and we let the fit find the optimal values for each one\n",
    "INITIAL_GUESS = [0, 300, 1000, 1865, 5] # Remember that we have 5 parameters to set, so we need something like [A, B, C, mu, sigma]\n",
    "\n",
    "popt, pcov = curve_fit(fit_function, xdata=x, ydata=y, p0=INITIAL_GUESS)\n",
    "print(popt)\n",
    "error = np.sqrt(np.diag(pcov))\n",
    "\n",
    "# 6.) Generate enough x values to make the curves look smooth.\n",
    "xspace = np.linspace(1810, 1910, 100000)\n",
    "\n",
    "# 7.) Plot the histogram and the fitted function.\n",
    "hist_mD0.plot(histtype = \"fill\",label=r'Data')\n",
    "plt.plot(xspace, fit_function(xspace, *popt), color='darkorange', linewidth=2.5, label=r'Fitted function')\n",
    "\n",
    "plt.xlim(1810,1920)\n",
    "plt.xlabel(r'$m(K^- \\pi^+)$')\n",
    "plt.ylabel(r'Number of entries')\n",
    "plt.title(r'Invariant mass fit')\n",
    "plt.legend(loc='best')\n",
    "plt.show()\n",
    "plt.clf()"
   ]
  },
  {
   "cell_type": "code",
   "execution_count": 11,
   "metadata": {
    "vscode": {
     "languageId": "python"
    }
   },
   "outputs": [
    {
     "name": "stdout",
     "output_type": "stream",
     "text": [
      "The values and the uncertainties from the optimization\n",
      "\n",
      "mu = 1866.5774083452056 +- 0.1595317306648971\n",
      "sigma = 7.6432608698915505 +- 0.17479807426606905\n"
     ]
    }
   ],
   "source": [
    "print(\"The values and the uncertainties from the optimization\")\n",
    "print(\"\")\n",
    "\n",
    "third = \"mu = {} +- {}\".format(popt[3], error[3])\n",
    "fourth = \"sigma = {} +- {}\".format(popt[4], error[4])\n",
    "print(third)\n",
    "print(fourth)"
   ]
  },
  {
   "cell_type": "markdown",
   "metadata": {},
   "source": [
    "<div class=\"alert alert-success\">\n",
    "\n",
    "__Congratulations!__ you have just fitted the $D^0$ invariant mass distribution!\n",
    "    \n",
    "</div>\n",
    "\n",
    "Look at the fitted mass distribution. You can split it into three regions : the\n",
    "signal region and two background-only “sidebands” : one above the signal (the upper sideband)\n",
    "and one below the signal (the lower sideband). Once you reach this step of the exercise, discuss\n",
    "how to define these sideband regions, and in particular how to define a region of pure background\n",
    "events."
   ]
  },
  {
   "cell_type": "markdown",
   "metadata": {},
   "source": [
    "## Obtaining signal variable distributions  <a name=\"5.\"></a>"
   ]
  },
  {
   "attachments": {},
   "cell_type": "markdown",
   "metadata": {},
   "source": [
    "Great! Now we can see how many signal and background events we have from our fit. To measure the $D^0$ lifetime properly, we need to get rid of these background events that lie under the signal peak. So, our next step is what we call **background subtraction**. In particular we want to plot distributions of other variables for signal events only.\n",
    "\n",
    "In the previous exercise, you finished by definining a\n",
    "signal region, in which the events were a mixture of signal and background, and a sideband region of\n",
    "pure background events. You can now obtain the distribution of signal events in any given variable\n",
    "by subtracting the distributons found in the signal and sideband regions.\n",
    "\n",
    "Let's define our peak (signal) to be almost fully contained in the window $[1840-1890]$MeV.\n",
    "\n",
    "In particular, an interval of $\\pm1\\sigma$ around the mean value contains 68% of the signal, while $\\pm3\\sigma$ contains 99.7% of the signal. So, if $\\sigma=7.6, \\pm3\\sigma = 22.8$ which corresponds to the limits: $1866.5-22.8 = 1843.7$ and $1866.5+22.8 = 1889.3$.\n",
    "\n",
    "Inside this window we have a mixture of signal and background events, but outside this window, we only have background events! Therefore, we can use these background sidebands to remove background events inside the signal region.\n",
    "\n",
    "We can also check the variables such as transverse momentum and impact parameter, for signal and background regions.\n",
    "\n",
    "For each of the variables listed in the Introduction, let's plot the background subtracted signal\n",
    "distributions. Overplot the background distributions from the sideband region on the same\n",
    "canvas, in order to easily compare the two. If the signal and background distributions look very\n",
    "similar to each other in any variable, plot that variable on a logarithmic scale to bring out the\n",
    "differences."
   ]
  },
  {
   "cell_type": "code",
   "execution_count": 12,
   "metadata": {
    "vscode": {
     "languageId": "python"
    }
   },
   "outputs": [],
   "source": [
    "# Creating a DataFrame for the signal region\n",
    "D0_sig = D0_df.query(\"D0_MM>1840 & D0_MM<1890\")\n",
    "\n",
    "# Creating a DataFrame for the background region\n",
    "D0_bkg = D0_df.query(\"D0_MM<1840 | D0_MM>1890\")"
   ]
  },
  {
   "cell_type": "code",
   "execution_count": 13,
   "metadata": {
    "vscode": {
     "languageId": "python"
    }
   },
   "outputs": [
    {
     "data": {
      "text/html": [
       "<div>\n",
       "<style scoped>\n",
       "    .dataframe tbody tr th:only-of-type {\n",
       "        vertical-align: middle;\n",
       "    }\n",
       "\n",
       "    .dataframe tbody tr th {\n",
       "        vertical-align: top;\n",
       "    }\n",
       "\n",
       "    .dataframe thead th {\n",
       "        text-align: right;\n",
       "    }\n",
       "</style>\n",
       "<table border=\"1\" class=\"dataframe\">\n",
       "  <thead>\n",
       "    <tr style=\"text-align: right;\">\n",
       "      <th></th>\n",
       "      <th>D0_MM</th>\n",
       "      <th>D0_TAU</th>\n",
       "      <th>D0_PT</th>\n",
       "      <th>D0_MINIPCHI2</th>\n",
       "      <th>D0_MINIP</th>\n",
       "    </tr>\n",
       "  </thead>\n",
       "  <tbody>\n",
       "    <tr>\n",
       "      <th>0</th>\n",
       "      <td>1886.012</td>\n",
       "      <td>0.000160</td>\n",
       "      <td>2577.604143</td>\n",
       "      <td>2.622432</td>\n",
       "      <td>0.029831</td>\n",
       "    </tr>\n",
       "    <tr>\n",
       "      <th>1</th>\n",
       "      <td>1879.058</td>\n",
       "      <td>0.000480</td>\n",
       "      <td>3202.244393</td>\n",
       "      <td>0.967348</td>\n",
       "      <td>0.016257</td>\n",
       "    </tr>\n",
       "    <tr>\n",
       "      <th>2</th>\n",
       "      <td>1863.880</td>\n",
       "      <td>0.000237</td>\n",
       "      <td>2594.053867</td>\n",
       "      <td>1.542374</td>\n",
       "      <td>0.023115</td>\n",
       "    </tr>\n",
       "    <tr>\n",
       "      <th>3</th>\n",
       "      <td>1855.769</td>\n",
       "      <td>0.000654</td>\n",
       "      <td>3215.589746</td>\n",
       "      <td>0.088708</td>\n",
       "      <td>0.006104</td>\n",
       "    </tr>\n",
       "    <tr>\n",
       "      <th>4</th>\n",
       "      <td>1858.912</td>\n",
       "      <td>0.000551</td>\n",
       "      <td>4351.224599</td>\n",
       "      <td>0.216977</td>\n",
       "      <td>0.008370</td>\n",
       "    </tr>\n",
       "  </tbody>\n",
       "</table>\n",
       "</div>"
      ],
      "text/plain": [
       "      D0_MM    D0_TAU        D0_PT  D0_MINIPCHI2  D0_MINIP\n",
       "0  1886.012  0.000160  2577.604143      2.622432  0.029831\n",
       "1  1879.058  0.000480  3202.244393      0.967348  0.016257\n",
       "2  1863.880  0.000237  2594.053867      1.542374  0.023115\n",
       "3  1855.769  0.000654  3215.589746      0.088708  0.006104\n",
       "4  1858.912  0.000551  4351.224599      0.216977  0.008370"
      ]
     },
     "execution_count": 13,
     "metadata": {},
     "output_type": "execute_result"
    }
   ],
   "source": [
    "# View first 5 rows\n",
    "D0_sig.head()"
   ]
  },
  {
   "cell_type": "code",
   "execution_count": 14,
   "metadata": {
    "vscode": {
     "languageId": "python"
    }
   },
   "outputs": [
    {
     "data": {
      "text/html": [
       "<div>\n",
       "<style scoped>\n",
       "    .dataframe tbody tr th:only-of-type {\n",
       "        vertical-align: middle;\n",
       "    }\n",
       "\n",
       "    .dataframe tbody tr th {\n",
       "        vertical-align: top;\n",
       "    }\n",
       "\n",
       "    .dataframe thead th {\n",
       "        text-align: right;\n",
       "    }\n",
       "</style>\n",
       "<table border=\"1\" class=\"dataframe\">\n",
       "  <thead>\n",
       "    <tr style=\"text-align: right;\">\n",
       "      <th></th>\n",
       "      <th>D0_MM</th>\n",
       "      <th>D0_TAU</th>\n",
       "      <th>D0_PT</th>\n",
       "      <th>D0_MINIPCHI2</th>\n",
       "      <th>D0_MINIP</th>\n",
       "    </tr>\n",
       "  </thead>\n",
       "  <tbody>\n",
       "    <tr>\n",
       "      <th>6</th>\n",
       "      <td>1914.201</td>\n",
       "      <td>0.001441</td>\n",
       "      <td>2608.159770</td>\n",
       "      <td>17.585381</td>\n",
       "      <td>0.149101</td>\n",
       "    </tr>\n",
       "    <tr>\n",
       "      <th>7</th>\n",
       "      <td>1908.030</td>\n",
       "      <td>0.000173</td>\n",
       "      <td>2569.954289</td>\n",
       "      <td>0.933401</td>\n",
       "      <td>0.017547</td>\n",
       "    </tr>\n",
       "    <tr>\n",
       "      <th>9</th>\n",
       "      <td>1896.781</td>\n",
       "      <td>0.000236</td>\n",
       "      <td>9620.342971</td>\n",
       "      <td>7.454235</td>\n",
       "      <td>0.026083</td>\n",
       "    </tr>\n",
       "    <tr>\n",
       "      <th>10</th>\n",
       "      <td>1910.930</td>\n",
       "      <td>0.000159</td>\n",
       "      <td>2533.094540</td>\n",
       "      <td>19.070041</td>\n",
       "      <td>0.064595</td>\n",
       "    </tr>\n",
       "    <tr>\n",
       "      <th>11</th>\n",
       "      <td>1829.921</td>\n",
       "      <td>0.002125</td>\n",
       "      <td>2664.164988</td>\n",
       "      <td>183.843700</td>\n",
       "      <td>0.224445</td>\n",
       "    </tr>\n",
       "  </tbody>\n",
       "</table>\n",
       "</div>"
      ],
      "text/plain": [
       "       D0_MM    D0_TAU        D0_PT  D0_MINIPCHI2  D0_MINIP\n",
       "6   1914.201  0.001441  2608.159770     17.585381  0.149101\n",
       "7   1908.030  0.000173  2569.954289      0.933401  0.017547\n",
       "9   1896.781  0.000236  9620.342971      7.454235  0.026083\n",
       "10  1910.930  0.000159  2533.094540     19.070041  0.064595\n",
       "11  1829.921  0.002125  2664.164988    183.843700  0.224445"
      ]
     },
     "execution_count": 14,
     "metadata": {},
     "output_type": "execute_result"
    }
   ],
   "source": [
    "# View first 5 rows\n",
    "D0_bkg.head()"
   ]
  },
  {
   "cell_type": "markdown",
   "metadata": {},
   "source": [
    "Now we plot the mass distribution for the signal region only"
   ]
  },
  {
   "cell_type": "code",
   "execution_count": 15,
   "metadata": {
    "vscode": {
     "languageId": "python"
    }
   },
   "outputs": [
    {
     "data": {
      "image/png": "[encoded data removed]",
      "text/plain": [
       "<Figure size 432x288 with 1 Axes>"
      ]
     },
     "metadata": {
      "needs_background": "light"
     },
     "output_type": "display_data"
    }
   ],
   "source": [
    "# Define the signal region histogram\n",
    "hist_mD0_sig = Hist(hist.axis.Regular(100,1810,1910, label = \"$m(K^+ \\pi^-)$ (GeV)\"))\n",
    "\n",
    "# Fill and plot it\n",
    "mD0_sig = D0_sig[\"D0_MM\"]\n",
    "hist_mD0_sig.fill(mD0_sig)\n",
    "\n",
    "hist_mD0_sig.plot(histtype = \"fill\")\n",
    "plt.show()"
   ]
  },
  {
   "cell_type": "markdown",
   "metadata": {},
   "source": [
    "We do the same exercise but now we plot only the background region"
   ]
  },
  {
   "cell_type": "code",
   "execution_count": 17,
   "metadata": {
    "vscode": {
     "languageId": "python"
    }
   },
   "outputs": [
    {
     "data": {
      "image/png": "[encoded data removed]",
      "text/plain": [
       "<Figure size 432x288 with 1 Axes>"
      ]
     },
     "metadata": {
      "needs_background": "light"
     },
     "output_type": "display_data"
    }
   ],
   "source": [
    "# Define the background region histogram\n",
    "hist_mD0_bkg = Hist(hist.axis.Regular(100,1810,1910, label = \"$m(K^+ \\pi^-)$ (GeV)\"))\n",
    "\n",
    "# Fill and plot it\n",
    "mD0_bkg = D0_bkg[\"D0_MM\"]\n",
    "hist_mD0_bkg.fill(mD0_bkg)\n",
    "\n",
    "hist_mD0_bkg.plot(histtype = \"fill\")\n",
    "plt.show()"
   ]
  },
  {
   "cell_type": "markdown",
   "metadata": {},
   "source": [
    "Now let's plot other the pT distribution for both signal and background events!"
   ]
  },
  {
   "cell_type": "code",
   "execution_count": 18,
   "metadata": {
    "vscode": {
     "languageId": "python"
    }
   },
   "outputs": [
    {
     "data": {
      "image/png": "[encoded data removed]",
      "text/plain": [
       "<Figure size 432x288 with 1 Axes>"
      ]
     },
     "metadata": {
      "needs_background": "light"
     },
     "output_type": "display_data"
    }
   ],
   "source": [
    "# Creating histograms for the pT signal and background only distributions\n",
    "hist_pt_sig = Hist(hist.axis.Regular(100,2000,12500, label = \"D0 PT (GeV)\"))\n",
    "hist_pt_bkg = Hist(hist.axis.Regular(100,2000,12500, label = \"D0 PT (GeV)\"))\n",
    "\n",
    "# Filling the histograms\n",
    "pt_sig = D0_sig[\"D0_PT\"]\n",
    "pt_bkg = D0_bkg[\"D0_PT\"]\n",
    "hist_pt_sig.fill(pt_sig)\n",
    "hist_pt_bkg.fill(pt_bkg)\n",
    "\n",
    "# Plotting the histograms\n",
    "hist_pt_sig.plot(histtype = \"fill\",label=r'Signal')\n",
    "hist_pt_bkg.plot(histtype = \"fill\",label=r'Background')\n",
    "plt.legend(loc='best')\n",
    "plt.show()"
   ]
  },
  {
   "attachments": {},
   "cell_type": "markdown",
   "metadata": {},
   "source": [
    "**Your turn!**\n",
    "\n",
    "Plot the signal and background distributions for the `D0_MINIP` and `D0_TAU` variables."
   ]
  },
  {
   "cell_type": "code",
   "execution_count": 19,
   "metadata": {
    "scrolled": true,
    "vscode": {
     "languageId": "python"
    }
   },
   "outputs": [
    {
     "data": {
      "image/png": "[encoded data removed]",
      "text/plain": [
       "<Figure size 432x288 with 1 Axes>"
      ]
     },
     "metadata": {
      "needs_background": "light"
     },
     "output_type": "display_data"
    }
   ],
   "source": [
    "# Creating histograms for the pT signal and background only distributions\n",
    "hist_ip_sig = Hist(hist.axis.Regular(100,-4,2, label = \"D0_MINIP\"))\n",
    "hist_ip_bkg = Hist(hist.axis.Regular(100,-4,2, label = \"D0_MINIP\"))\n",
    "\n",
    "# Filling the histograms\n",
    "ip_sig = D0_sig[\"D0_MINIP\"]\n",
    "ip_bkg = D0_bkg[\"D0_MINIP\"]\n",
    "hist_ip_sig.fill(np.log10(ip_sig))\n",
    "hist_ip_bkg.fill(np.log10(ip_bkg))\n",
    "\n",
    "# Plotting the histograms\n",
    "hist_ip_sig.plot(histtype = \"fill\",label=r'Signal')\n",
    "hist_ip_bkg.plot(histtype = \"fill\",label=r'Background')\n",
    "plt.legend(loc='best')\n",
    "plt.show()"
   ]
  },
  {
   "cell_type": "code",
   "execution_count": 20,
   "metadata": {
    "scrolled": true,
    "vscode": {
     "languageId": "python"
    }
   },
   "outputs": [
    {
     "data": {
      "image/png": "[encoded data removed]",
      "text/plain": [
       "<Figure size 432x288 with 1 Axes>"
      ]
     },
     "metadata": {
      "needs_background": "light"
     },
     "output_type": "display_data"
    }
   ],
   "source": [
    "# Creating histograms for the pT signal and background only distributions\n",
    "hist_tau_sig = Hist(hist.axis.Regular(100,0,0.005, label = \"D0 TAU (GeV)\"))\n",
    "hist_tau_bkg = Hist(hist.axis.Regular(100,0,0.005, label = \"D0 TAU (GeV)\"))\n",
    "\n",
    "# Filling the histograms\n",
    "tau_sig = D0_sig[\"D0_TAU\"]\n",
    "tau_bkg = D0_bkg[\"D0_TAU\"]\n",
    "hist_tau_sig.fill(tau_sig)\n",
    "hist_tau_bkg.fill(tau_bkg)\n",
    "\n",
    "# Plotting the histograms\n",
    "hist_tau_sig.plot(histtype = \"fill\",label=r'Signal')\n",
    "hist_tau_bkg.plot(histtype = \"fill\",label=r'Background')\n",
    "plt.legend(loc='best')\n",
    "plt.yscale('log')\n",
    "plt.show()"
   ]
  },
  {
   "cell_type": "markdown",
   "metadata": {},
   "source": [
    "Now that we've seen the signal and background distributions, we can perform our background subtraction technique! \n",
    "\n",
    "The idea is that we will subtract the background region from the signal region."
   ]
  },
  {
   "attachments": {},
   "cell_type": "markdown",
   "metadata": {},
   "source": [
    "## Measuring the $D^0$ lifetime  <a name=\"5.\"></a>\n",
    "\n",
    "Now we want to use the signal sample which you obtained in the previous step to\n",
    "measure the lifetime of the $D^0$ meson. This is the same quantity as the half-life of a radioactive\n",
    "particle : the $D^0$ decays according to an exponential distribution, and if this exponential is fitted to\n",
    "a distribution of the $D^0$ decay times, the slope of this exponential is the lifetime of the $D^0$.\n",
    "We will plot the decay time distribution of the background in the sideband region\n",
    "which you defined before. Fit this with a single exponential and measure the signal\n",
    "lifetime.\n",
    "\n",
    "First let's define our function that we will use in the fit. It will be a decreasing exponential function as you will see our lifetime will behave like that."
   ]
  },
  {
   "cell_type": "code",
   "execution_count": 21,
   "metadata": {
    "vscode": {
     "languageId": "python"
    }
   },
   "outputs": [],
   "source": [
    "def exponential_function(x, slope, A):\n",
    "    return A*np.exp(-slope*x)"
   ]
  },
  {
   "attachments": {},
   "cell_type": "markdown",
   "metadata": {},
   "source": [
    "Since we want to measure our lifetime from our signal events, we need to differentiate what events are signal like, and which ones are background-like. For that we will create a new columns called `Weights` which we will assign a weight of +1 for all the signal events, and a weight -1 for all the background events."
   ]
  },
  {
   "cell_type": "code",
   "execution_count": 22,
   "metadata": {
    "vscode": {
     "languageId": "python"
    }
   },
   "outputs": [
    {
     "data": {
      "text/html": [
       "<div>\n",
       "<style scoped>\n",
       "    .dataframe tbody tr th:only-of-type {\n",
       "        vertical-align: middle;\n",
       "    }\n",
       "\n",
       "    .dataframe tbody tr th {\n",
       "        vertical-align: top;\n",
       "    }\n",
       "\n",
       "    .dataframe thead th {\n",
       "        text-align: right;\n",
       "    }\n",
       "</style>\n",
       "<table border=\"1\" class=\"dataframe\">\n",
       "  <thead>\n",
       "    <tr style=\"text-align: right;\">\n",
       "      <th></th>\n",
       "      <th>D0_MM</th>\n",
       "      <th>D0_TAU</th>\n",
       "      <th>D0_PT</th>\n",
       "      <th>D0_MINIPCHI2</th>\n",
       "      <th>D0_MINIP</th>\n",
       "      <th>Weights</th>\n",
       "    </tr>\n",
       "  </thead>\n",
       "  <tbody>\n",
       "    <tr>\n",
       "      <th>0</th>\n",
       "      <td>1886.012</td>\n",
       "      <td>0.000160</td>\n",
       "      <td>2577.604143</td>\n",
       "      <td>2.622432</td>\n",
       "      <td>0.029831</td>\n",
       "      <td>1</td>\n",
       "    </tr>\n",
       "    <tr>\n",
       "      <th>1</th>\n",
       "      <td>1879.058</td>\n",
       "      <td>0.000480</td>\n",
       "      <td>3202.244393</td>\n",
       "      <td>0.967348</td>\n",
       "      <td>0.016257</td>\n",
       "      <td>1</td>\n",
       "    </tr>\n",
       "    <tr>\n",
       "      <th>2</th>\n",
       "      <td>1863.880</td>\n",
       "      <td>0.000237</td>\n",
       "      <td>2594.053867</td>\n",
       "      <td>1.542374</td>\n",
       "      <td>0.023115</td>\n",
       "      <td>1</td>\n",
       "    </tr>\n",
       "    <tr>\n",
       "      <th>3</th>\n",
       "      <td>1855.769</td>\n",
       "      <td>0.000654</td>\n",
       "      <td>3215.589746</td>\n",
       "      <td>0.088708</td>\n",
       "      <td>0.006104</td>\n",
       "      <td>1</td>\n",
       "    </tr>\n",
       "    <tr>\n",
       "      <th>4</th>\n",
       "      <td>1858.912</td>\n",
       "      <td>0.000551</td>\n",
       "      <td>4351.224599</td>\n",
       "      <td>0.216977</td>\n",
       "      <td>0.008370</td>\n",
       "      <td>1</td>\n",
       "    </tr>\n",
       "    <tr>\n",
       "      <th>...</th>\n",
       "      <td>...</td>\n",
       "      <td>...</td>\n",
       "      <td>...</td>\n",
       "      <td>...</td>\n",
       "      <td>...</td>\n",
       "      <td>...</td>\n",
       "    </tr>\n",
       "    <tr>\n",
       "      <th>54346</th>\n",
       "      <td>1880.122</td>\n",
       "      <td>0.000780</td>\n",
       "      <td>2773.903593</td>\n",
       "      <td>6.921014</td>\n",
       "      <td>0.042826</td>\n",
       "      <td>1</td>\n",
       "    </tr>\n",
       "    <tr>\n",
       "      <th>54347</th>\n",
       "      <td>1863.139</td>\n",
       "      <td>0.000657</td>\n",
       "      <td>6121.973174</td>\n",
       "      <td>1.014797</td>\n",
       "      <td>0.015543</td>\n",
       "      <td>1</td>\n",
       "    </tr>\n",
       "    <tr>\n",
       "      <th>54349</th>\n",
       "      <td>1871.306</td>\n",
       "      <td>0.000420</td>\n",
       "      <td>6259.780910</td>\n",
       "      <td>0.034160</td>\n",
       "      <td>0.002588</td>\n",
       "      <td>1</td>\n",
       "    </tr>\n",
       "    <tr>\n",
       "      <th>54350</th>\n",
       "      <td>1849.119</td>\n",
       "      <td>0.000518</td>\n",
       "      <td>3737.868342</td>\n",
       "      <td>2.785618</td>\n",
       "      <td>0.022447</td>\n",
       "      <td>1</td>\n",
       "    </tr>\n",
       "    <tr>\n",
       "      <th>54351</th>\n",
       "      <td>1864.630</td>\n",
       "      <td>0.000239</td>\n",
       "      <td>2724.799714</td>\n",
       "      <td>0.538362</td>\n",
       "      <td>0.011358</td>\n",
       "      <td>1</td>\n",
       "    </tr>\n",
       "  </tbody>\n",
       "</table>\n",
       "<p>39809 rows × 6 columns</p>\n",
       "</div>"
      ],
      "text/plain": [
       "          D0_MM    D0_TAU        D0_PT  D0_MINIPCHI2  D0_MINIP  Weights\n",
       "0      1886.012  0.000160  2577.604143      2.622432  0.029831        1\n",
       "1      1879.058  0.000480  3202.244393      0.967348  0.016257        1\n",
       "2      1863.880  0.000237  2594.053867      1.542374  0.023115        1\n",
       "3      1855.769  0.000654  3215.589746      0.088708  0.006104        1\n",
       "4      1858.912  0.000551  4351.224599      0.216977  0.008370        1\n",
       "...         ...       ...          ...           ...       ...      ...\n",
       "54346  1880.122  0.000780  2773.903593      6.921014  0.042826        1\n",
       "54347  1863.139  0.000657  6121.973174      1.014797  0.015543        1\n",
       "54349  1871.306  0.000420  6259.780910      0.034160  0.002588        1\n",
       "54350  1849.119  0.000518  3737.868342      2.785618  0.022447        1\n",
       "54351  1864.630  0.000239  2724.799714      0.538362  0.011358        1\n",
       "\n",
       "[39809 rows x 6 columns]"
      ]
     },
     "execution_count": 22,
     "metadata": {},
     "output_type": "execute_result"
    }
   ],
   "source": [
    "D0_sig = D0_sig.assign(Weights=+1)\n",
    "D0_sig"
   ]
  },
  {
   "cell_type": "code",
   "execution_count": 23,
   "metadata": {
    "vscode": {
     "languageId": "python"
    }
   },
   "outputs": [
    {
     "data": {
      "text/html": [
       "<div>\n",
       "<style scoped>\n",
       "    .dataframe tbody tr th:only-of-type {\n",
       "        vertical-align: middle;\n",
       "    }\n",
       "\n",
       "    .dataframe tbody tr th {\n",
       "        vertical-align: top;\n",
       "    }\n",
       "\n",
       "    .dataframe thead th {\n",
       "        text-align: right;\n",
       "    }\n",
       "</style>\n",
       "<table border=\"1\" class=\"dataframe\">\n",
       "  <thead>\n",
       "    <tr style=\"text-align: right;\">\n",
       "      <th></th>\n",
       "      <th>D0_MM</th>\n",
       "      <th>D0_TAU</th>\n",
       "      <th>D0_PT</th>\n",
       "      <th>D0_MINIPCHI2</th>\n",
       "      <th>D0_MINIP</th>\n",
       "      <th>Weights</th>\n",
       "    </tr>\n",
       "  </thead>\n",
       "  <tbody>\n",
       "    <tr>\n",
       "      <th>6</th>\n",
       "      <td>1914.201</td>\n",
       "      <td>0.001441</td>\n",
       "      <td>2608.159770</td>\n",
       "      <td>17.585381</td>\n",
       "      <td>0.149101</td>\n",
       "      <td>-1</td>\n",
       "    </tr>\n",
       "    <tr>\n",
       "      <th>7</th>\n",
       "      <td>1908.030</td>\n",
       "      <td>0.000173</td>\n",
       "      <td>2569.954289</td>\n",
       "      <td>0.933401</td>\n",
       "      <td>0.017547</td>\n",
       "      <td>-1</td>\n",
       "    </tr>\n",
       "    <tr>\n",
       "      <th>9</th>\n",
       "      <td>1896.781</td>\n",
       "      <td>0.000236</td>\n",
       "      <td>9620.342971</td>\n",
       "      <td>7.454235</td>\n",
       "      <td>0.026083</td>\n",
       "      <td>-1</td>\n",
       "    </tr>\n",
       "    <tr>\n",
       "      <th>10</th>\n",
       "      <td>1910.930</td>\n",
       "      <td>0.000159</td>\n",
       "      <td>2533.094540</td>\n",
       "      <td>19.070041</td>\n",
       "      <td>0.064595</td>\n",
       "      <td>-1</td>\n",
       "    </tr>\n",
       "    <tr>\n",
       "      <th>11</th>\n",
       "      <td>1829.921</td>\n",
       "      <td>0.002125</td>\n",
       "      <td>2664.164988</td>\n",
       "      <td>183.843700</td>\n",
       "      <td>0.224445</td>\n",
       "      <td>-1</td>\n",
       "    </tr>\n",
       "    <tr>\n",
       "      <th>...</th>\n",
       "      <td>...</td>\n",
       "      <td>...</td>\n",
       "      <td>...</td>\n",
       "      <td>...</td>\n",
       "      <td>...</td>\n",
       "      <td>...</td>\n",
       "    </tr>\n",
       "    <tr>\n",
       "      <th>54326</th>\n",
       "      <td>1818.331</td>\n",
       "      <td>0.000212</td>\n",
       "      <td>2855.108504</td>\n",
       "      <td>10.728125</td>\n",
       "      <td>0.058211</td>\n",
       "      <td>-1</td>\n",
       "    </tr>\n",
       "    <tr>\n",
       "      <th>54330</th>\n",
       "      <td>1826.526</td>\n",
       "      <td>0.000244</td>\n",
       "      <td>3284.254578</td>\n",
       "      <td>1.505609</td>\n",
       "      <td>0.034489</td>\n",
       "      <td>-1</td>\n",
       "    </tr>\n",
       "    <tr>\n",
       "      <th>54336</th>\n",
       "      <td>1821.490</td>\n",
       "      <td>0.000160</td>\n",
       "      <td>2512.209876</td>\n",
       "      <td>0.102296</td>\n",
       "      <td>0.006186</td>\n",
       "      <td>-1</td>\n",
       "    </tr>\n",
       "    <tr>\n",
       "      <th>54341</th>\n",
       "      <td>1836.574</td>\n",
       "      <td>0.000151</td>\n",
       "      <td>2614.605120</td>\n",
       "      <td>0.114563</td>\n",
       "      <td>0.006200</td>\n",
       "      <td>-1</td>\n",
       "    </tr>\n",
       "    <tr>\n",
       "      <th>54348</th>\n",
       "      <td>1818.463</td>\n",
       "      <td>0.000240</td>\n",
       "      <td>5680.739926</td>\n",
       "      <td>4.563059</td>\n",
       "      <td>0.025142</td>\n",
       "      <td>-1</td>\n",
       "    </tr>\n",
       "  </tbody>\n",
       "</table>\n",
       "<p>14541 rows × 6 columns</p>\n",
       "</div>"
      ],
      "text/plain": [
       "          D0_MM    D0_TAU        D0_PT  D0_MINIPCHI2  D0_MINIP  Weights\n",
       "6      1914.201  0.001441  2608.159770     17.585381  0.149101       -1\n",
       "7      1908.030  0.000173  2569.954289      0.933401  0.017547       -1\n",
       "9      1896.781  0.000236  9620.342971      7.454235  0.026083       -1\n",
       "10     1910.930  0.000159  2533.094540     19.070041  0.064595       -1\n",
       "11     1829.921  0.002125  2664.164988    183.843700  0.224445       -1\n",
       "...         ...       ...          ...           ...       ...      ...\n",
       "54326  1818.331  0.000212  2855.108504     10.728125  0.058211       -1\n",
       "54330  1826.526  0.000244  3284.254578      1.505609  0.034489       -1\n",
       "54336  1821.490  0.000160  2512.209876      0.102296  0.006186       -1\n",
       "54341  1836.574  0.000151  2614.605120      0.114563  0.006200       -1\n",
       "54348  1818.463  0.000240  5680.739926      4.563059  0.025142       -1\n",
       "\n",
       "[14541 rows x 6 columns]"
      ]
     },
     "execution_count": 23,
     "metadata": {},
     "output_type": "execute_result"
    }
   ],
   "source": [
    "D0_bkg = D0_bkg.assign(Weights=-1)\n",
    "D0_bkg"
   ]
  },
  {
   "attachments": {},
   "cell_type": "markdown",
   "metadata": {},
   "source": [
    "Next we will merge our two DataFrames (signal and background) in order to have all our events in a single DataFrame."
   ]
  },
  {
   "cell_type": "code",
   "execution_count": 24,
   "metadata": {
    "vscode": {
     "languageId": "python"
    }
   },
   "outputs": [
    {
     "data": {
      "text/html": [
       "<div>\n",
       "<style scoped>\n",
       "    .dataframe tbody tr th:only-of-type {\n",
       "        vertical-align: middle;\n",
       "    }\n",
       "\n",
       "    .dataframe tbody tr th {\n",
       "        vertical-align: top;\n",
       "    }\n",
       "\n",
       "    .dataframe thead th {\n",
       "        text-align: right;\n",
       "    }\n",
       "</style>\n",
       "<table border=\"1\" class=\"dataframe\">\n",
       "  <thead>\n",
       "    <tr style=\"text-align: right;\">\n",
       "      <th></th>\n",
       "      <th>D0_MM</th>\n",
       "      <th>D0_TAU</th>\n",
       "      <th>D0_PT</th>\n",
       "      <th>D0_MINIPCHI2</th>\n",
       "      <th>D0_MINIP</th>\n",
       "      <th>Weights</th>\n",
       "    </tr>\n",
       "  </thead>\n",
       "  <tbody>\n",
       "    <tr>\n",
       "      <th>0</th>\n",
       "      <td>1886.012</td>\n",
       "      <td>0.000160</td>\n",
       "      <td>2577.604143</td>\n",
       "      <td>2.622432</td>\n",
       "      <td>0.029831</td>\n",
       "      <td>1</td>\n",
       "    </tr>\n",
       "    <tr>\n",
       "      <th>1</th>\n",
       "      <td>1879.058</td>\n",
       "      <td>0.000480</td>\n",
       "      <td>3202.244393</td>\n",
       "      <td>0.967348</td>\n",
       "      <td>0.016257</td>\n",
       "      <td>1</td>\n",
       "    </tr>\n",
       "    <tr>\n",
       "      <th>2</th>\n",
       "      <td>1863.880</td>\n",
       "      <td>0.000237</td>\n",
       "      <td>2594.053867</td>\n",
       "      <td>1.542374</td>\n",
       "      <td>0.023115</td>\n",
       "      <td>1</td>\n",
       "    </tr>\n",
       "    <tr>\n",
       "      <th>3</th>\n",
       "      <td>1855.769</td>\n",
       "      <td>0.000654</td>\n",
       "      <td>3215.589746</td>\n",
       "      <td>0.088708</td>\n",
       "      <td>0.006104</td>\n",
       "      <td>1</td>\n",
       "    </tr>\n",
       "    <tr>\n",
       "      <th>4</th>\n",
       "      <td>1858.912</td>\n",
       "      <td>0.000551</td>\n",
       "      <td>4351.224599</td>\n",
       "      <td>0.216977</td>\n",
       "      <td>0.008370</td>\n",
       "      <td>1</td>\n",
       "    </tr>\n",
       "    <tr>\n",
       "      <th>...</th>\n",
       "      <td>...</td>\n",
       "      <td>...</td>\n",
       "      <td>...</td>\n",
       "      <td>...</td>\n",
       "      <td>...</td>\n",
       "      <td>...</td>\n",
       "    </tr>\n",
       "    <tr>\n",
       "      <th>54326</th>\n",
       "      <td>1818.331</td>\n",
       "      <td>0.000212</td>\n",
       "      <td>2855.108504</td>\n",
       "      <td>10.728125</td>\n",
       "      <td>0.058211</td>\n",
       "      <td>-1</td>\n",
       "    </tr>\n",
       "    <tr>\n",
       "      <th>54330</th>\n",
       "      <td>1826.526</td>\n",
       "      <td>0.000244</td>\n",
       "      <td>3284.254578</td>\n",
       "      <td>1.505609</td>\n",
       "      <td>0.034489</td>\n",
       "      <td>-1</td>\n",
       "    </tr>\n",
       "    <tr>\n",
       "      <th>54336</th>\n",
       "      <td>1821.490</td>\n",
       "      <td>0.000160</td>\n",
       "      <td>2512.209876</td>\n",
       "      <td>0.102296</td>\n",
       "      <td>0.006186</td>\n",
       "      <td>-1</td>\n",
       "    </tr>\n",
       "    <tr>\n",
       "      <th>54341</th>\n",
       "      <td>1836.574</td>\n",
       "      <td>0.000151</td>\n",
       "      <td>2614.605120</td>\n",
       "      <td>0.114563</td>\n",
       "      <td>0.006200</td>\n",
       "      <td>-1</td>\n",
       "    </tr>\n",
       "    <tr>\n",
       "      <th>54348</th>\n",
       "      <td>1818.463</td>\n",
       "      <td>0.000240</td>\n",
       "      <td>5680.739926</td>\n",
       "      <td>4.563059</td>\n",
       "      <td>0.025142</td>\n",
       "      <td>-1</td>\n",
       "    </tr>\n",
       "  </tbody>\n",
       "</table>\n",
       "<p>54350 rows × 6 columns</p>\n",
       "</div>"
      ],
      "text/plain": [
       "          D0_MM    D0_TAU        D0_PT  D0_MINIPCHI2  D0_MINIP  Weights\n",
       "0      1886.012  0.000160  2577.604143      2.622432  0.029831        1\n",
       "1      1879.058  0.000480  3202.244393      0.967348  0.016257        1\n",
       "2      1863.880  0.000237  2594.053867      1.542374  0.023115        1\n",
       "3      1855.769  0.000654  3215.589746      0.088708  0.006104        1\n",
       "4      1858.912  0.000551  4351.224599      0.216977  0.008370        1\n",
       "...         ...       ...          ...           ...       ...      ...\n",
       "54326  1818.331  0.000212  2855.108504     10.728125  0.058211       -1\n",
       "54330  1826.526  0.000244  3284.254578      1.505609  0.034489       -1\n",
       "54336  1821.490  0.000160  2512.209876      0.102296  0.006186       -1\n",
       "54341  1836.574  0.000151  2614.605120      0.114563  0.006200       -1\n",
       "54348  1818.463  0.000240  5680.739926      4.563059  0.025142       -1\n",
       "\n",
       "[54350 rows x 6 columns]"
      ]
     },
     "execution_count": 24,
     "metadata": {},
     "output_type": "execute_result"
    }
   ],
   "source": [
    "import pandas as pd\n",
    "D0_full = pd.concat([D0_sig, D0_bkg])\n",
    "D0_full"
   ]
  },
  {
   "attachments": {},
   "cell_type": "markdown",
   "metadata": {},
   "source": [
    "Now we are ready to plot our decay time column with the background subtracted. We will be doing this by using the options `weights`. By using this option we are assigning the weights we've just created for signal and background events. Since our backgorund events have a weight of -1, our plot will represent the signal decay time distribution. To see the details more clear, we will also plot in a log scale!"
   ]
  },
  {
   "cell_type": "code",
   "execution_count": 25,
   "metadata": {
    "vscode": {
     "languageId": "python"
    }
   },
   "outputs": [
    {
     "data": {
      "image/png": "[encoded data removed]",
      "text/plain": [
       "<Figure size 432x288 with 1 Axes>"
      ]
     },
     "metadata": {
      "needs_background": "light"
     },
     "output_type": "display_data"
    }
   ],
   "source": [
    "D0_full[\"D0_TAU\"].plot(kind=\"hist\",bins=100, range=[0,0.005], weights=D0_full[\"Weights\"])\n",
    "plt.yscale('log')"
   ]
  },
  {
   "cell_type": "code",
   "execution_count": 29,
   "metadata": {
    "vscode": {
     "languageId": "python"
    }
   },
   "outputs": [
    {
     "name": "stdout",
     "output_type": "stream",
     "text": [
      "[1303.57815879 2781.06468044]\n"
     ]
    },
    {
     "data": {
      "image/png": "[encoded data removed]",
      "text/plain": [
       "<Figure size 432x288 with 1 Axes>"
      ]
     },
     "metadata": {
      "needs_background": "light"
     },
     "output_type": "display_data"
    },
    {
     "data": {
      "text/plain": [
       "<Figure size 432x288 with 0 Axes>"
      ]
     },
     "metadata": {},
     "output_type": "display_data"
    }
   ],
   "source": [
    "# Save the number of events per bin, and the bin values to arrays:\n",
    "x = hist_tau_sig.axes.centers[0]\n",
    "y = hist_tau_sig.counts()\n",
    "\n",
    "# Fit the function to the histogram data.\n",
    "INITIAL_GUESS = [700, 10000]\n",
    "popt, pcov = curve_fit(exponential_function, xdata=x, ydata=y, p0=INITIAL_GUESS)\n",
    "print(popt)\n",
    "error = np.sqrt(np.diag(pcov))\n",
    "\n",
    "# Generate enough x values to make the curves look smooth.\n",
    "xspace = np.linspace(0,0.005, 100000)\n",
    "\n",
    "# Plot the histogram and the fitted function.\n",
    "hist_tau_sig.plot(histtype = \"fill\",label=r'Data')\n",
    "plt.plot(xspace, exponential_function(xspace, *popt), color='darkorange', linewidth=2.5, label=r'Fitted function')\n",
    "\n",
    "plt.xlim(0,0.005)\n",
    "plt.xlabel(r'$m(K^- \\pi^+)$')\n",
    "plt.ylabel(r'Number of entries')\n",
    "plt.title(r'Invariant mass fit')\n",
    "plt.legend(loc='best')\n",
    "plt.yscale('log')\n",
    "plt.show()\n",
    "plt.clf()"
   ]
  },
  {
   "cell_type": "markdown",
   "metadata": {},
   "source": [
    "<div class=\"alert alert-success\">\n",
    "\n",
    "__Congratulations!__ If everything went well, you have just calculated the lifetime of the $D^0$ meson!\n",
    "    \n",
    "</div>\n"
   ]
  },
  {
   "cell_type": "markdown",
   "metadata": {},
   "source": [
    "---"
   ]
  }
 ],
 "metadata": {
  "kernelspec": {
   "display_name": "Python 3 (ipykernel)",
   "language": "python",
   "name": "python3"
  }
 },
 "nbformat": 4,
 "nbformat_minor": 4
}
