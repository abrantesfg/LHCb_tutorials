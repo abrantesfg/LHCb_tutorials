{
 "cells": [
  {
   "cell_type": "markdown",
   "metadata": {},
   "source": [
    "<CENTER><img src=\"images/logos.png\" style=\"width:50%\"></CENTER>"
   ]
  },
  {
   "cell_type": "markdown",
   "metadata": {},
   "source": [
    "# A more difficult notebook in python  <a name=\"c\"></a>\n",
    "\n",
    "# $B_s^{+}$ decays: finding the $B_{s}^{+}$ meson mass!\n",
    "\n",
    "### For an introduction to the ideas behind $B_{s}^{+}$ finding, click <a href=\"Events/ZPath.pdf\"> here</a>.\n",
    "\n",
    "**The following analysis is searching for events where the [$B_{s}^{0}$](https://en.wikipedia.org/wiki/Strange_B_meson) meson decays to two leptons of the same flavour and opposite charge.**\n",
    "\n",
    "The $B_{s}^{0}$ meson is composed of a $b$ quark and an $\\bar{s}$ antiquark (as we've seen in the Introduction to Particle Physics notebook). \n",
    "\n",
    "As you might recall, leptons can be either electrons or muons, or their antiparticles. **Flavour** just means whether a particle is an (anti)electron or a (anti)muon. We know the $B_{s}^{0}$ meson has charge zero, so, to conserve charge, the two leptons to which a single $B_{s}^{0}$ decays must have **opposite charges**. In our case, we are interested in the decay of $B_{s}^{0}$ to two muons ($B_{s}^{0} \\to \\mu^{-} \\mu^{+}$).\n",
    "\n",
    "We also say that muon number must be conserved in this reaction.\n",
    "\n",
    "* Muons and antimuons have $+1$ and $-1$ respectively as their muon numbers, and have zero electron number.\n",
    "* $B_{s}^{0}$ has zero electron number and muon number.\n",
    "\n",
    "Therefore, we see that if the $B_{s}^{0}$ decays to two muons, **they must be the same flavour**. \n",
    "\n",
    "Now that we know about 4-vectors and we know how to manipulate them, we will look at the $B_{s}^{0}$ decay to two muons but firstly, we need to think about how we talk about decays in particle physcis."
   ]
  },
  {
   "cell_type": "markdown",
   "metadata": {},
   "source": [
    "**Contents:**\n",
    "- [Decays](#1.)\n",
    "- [Cuts](#2.)\n",
    "- [Over to you! To four leptons](#3.)\n",
    "- [Real experiments](#4.)\n",
    "- [Extension exercises](#5.)"
   ]
  },
  {
   "cell_type": "markdown",
   "metadata": {},
   "source": [
    "---"
   ]
  },
  {
   "cell_type": "markdown",
   "metadata": {},
   "source": [
    "## Decays <a name=\"1.\"></a>\n",
    "\n",
    "Let's start with understanding the idea of a decay process.\n",
    "\n",
    "We want to find $B_{s}^{0}$ mesons, but they don't live long enough to actually see with the detector itself. Instead, we have to **reconstruct** them from their decay products. We don't particularly mind where the $B_{s}^{0}$s themselves come from. All you need to know here is that each time the LHC smashes two protons together, they produce lots and lots of particles, some of which are $B_{s}^{0}$s.\n",
    "\n",
    "\n",
    "From theory, we know that there are several decay routes as you can see in [here](https://pdglive.lbl.gov/Particle.action?init=0&node=S086&home=MXXX046) but today we are interested in the particular decay route $B_{s}^{0} \\to \\mu^{-} \\mu^{+}$.\n",
    "\n",
    "\n",
    "### To two muons\n",
    "\n",
    "In this option, a random $B_{s}^{0}$ emerges from the collision aftermath in the LHC (we don't care how) can decay directly to two muons with opposite charge. This means a muon and an antimuon. The decay happens at the vertex below, marked by a dot. We denote a lepton by the letter $\\mu^{+}$. Conventionally, antiparticles are shown with a bar on top, so an antilepton is $\\mu^{-}$.\n",
    "\n",
    "<CENTER><img src=\"./images/Z_to_ll.png\" style=\"width:30%\"></CENTER>\n",
    "\n",
    "*Using what you know above, write down the equation of conservation of the energy-momentum four-vector for the above decay.*\n",
    "\n",
    "The LHCb detector can measure the momentum and energy of muons coming out of decays, and you can access that information quite simply. It also measures the charge and flavour of each lepton (whether its a muon/antimuon).\n",
    "\n",
    "We mentioned earlier that each smash makes lots of particles. That's true - in fact, it makes so many that we can't actually store all the records of what happened, even on some of the biggest data storage facilities in the world. \n",
    "\n",
    "Instead, we use what is called a trigger. The trigger here was us seeing **exactly one high energy lepton** and **one jet with a large radius** (don't worry about what that is for now), so all of our data will contain at least those two things, as well as a bunch of other particles.\n"
   ]
  },
  {
   "cell_type": "markdown",
   "metadata": {},
   "source": [
    "Next we have to open the data that we want to analyze. As described earlier, the data is stored in a *.root file. We can use a python library called uproot to access the data. Below is an example of how to open a *.root file using uproot"
   ]
  },
  {
   "cell_type": "code",
   "execution_count": 6,
   "metadata": {},
   "outputs": [],
   "source": [
    "## 2 lepton file\n",
    "f = uproot.open(\"https://atlas-opendata.web.cern.ch/atlas-opendata/samples/2020/1largeRjet1lep/MC/mc_361106.Zee.1largeRjet1lep.root\") ## 13 TeV sam"
   ]
  },
  {
   "cell_type": "markdown",
   "metadata": {},
   "source": [
    "We can inspect the contents of a file by using the method keys()"
   ]
  },
  {
   "cell_type": "code",
   "execution_count": 7,
   "metadata": {},
   "outputs": [
    {
     "data": {
      "text/plain": [
       "['mini;1']"
      ]
     },
     "execution_count": 7,
     "metadata": {},
     "output_type": "execute_result"
    }
   ],
   "source": [
    "f.keys()"
   ]
  },
  {
   "cell_type": "markdown",
   "metadata": {},
   "source": [
    "We see that we have an object called 'mini'. We can obtain information about the object in the file and its type by using the method classnames()"
   ]
  },
  {
   "cell_type": "code",
   "execution_count": 8,
   "metadata": {},
   "outputs": [
    {
     "data": {
      "text/plain": [
       "{'mini;1': 'TTree'}"
      ]
     },
     "execution_count": 8,
     "metadata": {},
     "output_type": "execute_result"
    }
   ],
   "source": [
    "f.classnames()"
   ]
  },
  {
   "cell_type": "markdown",
   "metadata": {},
   "source": [
    "We see that the object called mini is a TTree type. A TTree is simply columns of data stored in the .root format. Each column of data can represent a different physical quantity of a particle. For instance, its charge, energy, momentum etc.\n",
    "\n",
    "Now we know what data the file contains, in future we can quickly access that data. We want to access the mini data. This can be done by executing the command below\n"
   ]
  },
  {
   "cell_type": "code",
   "execution_count": 9,
   "metadata": {},
   "outputs": [],
   "source": [
    "events = uproot.open(\"https://atlas-opendata.web.cern.ch/atlas-opendata/samples/2020/1largeRjet1lep/MC/mc_361106.Zee.1largeRjet1lep.root:mini\")"
   ]
  },
  {
   "cell_type": "markdown",
   "metadata": {},
   "source": [
    "Let's look at contents of the TTree. Essentially all the columns in the TTree called mini"
   ]
  },
  {
   "cell_type": "code",
   "execution_count": 10,
   "metadata": {},
   "outputs": [
    {
     "data": {
      "text/plain": [
       "['runNumber',\n",
       " 'eventNumber',\n",
       " 'channelNumber',\n",
       " 'mcWeight',\n",
       " 'scaleFactor_PILEUP',\n",
       " 'scaleFactor_ELE',\n",
       " 'scaleFactor_MUON',\n",
       " 'scaleFactor_PHOTON',\n",
       " 'scaleFactor_TAU',\n",
       " 'scaleFactor_BTAG',\n",
       " 'scaleFactor_LepTRIGGER',\n",
       " 'scaleFactor_PhotonTRIGGER',\n",
       " 'trigE',\n",
       " 'trigM',\n",
       " 'trigP',\n",
       " 'lep_n',\n",
       " 'lep_truthMatched',\n",
       " 'lep_trigMatched',\n",
       " 'lep_pt',\n",
       " 'lep_eta',\n",
       " 'lep_phi',\n",
       " 'lep_E',\n",
       " 'lep_z0',\n",
       " 'lep_charge',\n",
       " 'lep_type',\n",
       " 'lep_isTightID',\n",
       " 'lep_ptcone30',\n",
       " 'lep_etcone20',\n",
       " 'lep_trackd0pvunbiased',\n",
       " 'lep_tracksigd0pvunbiased',\n",
       " 'met_et',\n",
       " 'met_phi',\n",
       " 'jet_n',\n",
       " 'jet_pt',\n",
       " 'jet_eta',\n",
       " 'jet_phi',\n",
       " 'jet_E',\n",
       " 'jet_jvt',\n",
       " 'jet_trueflav',\n",
       " 'jet_truthMatched',\n",
       " 'jet_MV2c10',\n",
       " 'photon_n',\n",
       " 'photon_truthMatched',\n",
       " 'photon_trigMatched',\n",
       " 'photon_pt',\n",
       " 'photon_eta',\n",
       " 'photon_phi',\n",
       " 'photon_E',\n",
       " 'photon_isTightID',\n",
       " 'photon_ptcone30',\n",
       " 'photon_etcone20',\n",
       " 'photon_convType',\n",
       " 'tau_n',\n",
       " 'tau_pt',\n",
       " 'tau_eta',\n",
       " 'tau_phi',\n",
       " 'tau_E',\n",
       " 'tau_isTightID',\n",
       " 'tau_truthMatched',\n",
       " 'tau_trigMatched',\n",
       " 'tau_nTracks',\n",
       " 'tau_BDTid',\n",
       " 'ditau_m',\n",
       " 'lep_pt_syst',\n",
       " 'met_et_syst',\n",
       " 'jet_pt_syst',\n",
       " 'photon_pt_syst',\n",
       " 'tau_pt_syst',\n",
       " 'XSection',\n",
       " 'SumWeights',\n",
       " 'largeRjet_n',\n",
       " 'largeRjet_pt',\n",
       " 'largeRjet_eta',\n",
       " 'largeRjet_phi',\n",
       " 'largeRjet_E',\n",
       " 'largeRjet_m',\n",
       " 'largeRjet_truthMatched',\n",
       " 'largeRjet_D2',\n",
       " 'largeRjet_tau32',\n",
       " 'largeRjet_pt_syst',\n",
       " 'tau_charge']"
      ]
     },
     "execution_count": 10,
     "metadata": {},
     "output_type": "execute_result"
    }
   ],
   "source": [
    "events.keys()"
   ]
  },
  {
   "cell_type": "markdown",
   "metadata": {},
   "source": [
    "We see columns such as lep_pt and lep_E. This is the transverse momentum and energy respectively of leptons. We can use the .arrays method to access events with just the columns we specify."
   ]
  },
  {
   "cell_type": "code",
   "execution_count": 12,
   "metadata": {},
   "outputs": [],
   "source": [
    "sel_events = events.arrays([\"lep_n\", \"lep_charge\", \"lep_type\", \"lep_pt\", \"lep_eta\", \"lep_phi\", \"lep_E\"])"
   ]
  },
  {
   "cell_type": "markdown",
   "metadata": {},
   "source": [
    "We want to run over all the data and reconstruct the $Z^0$ boson mass. To do this we will access events using the arrays method again. Let's look at doing this.\n",
    "\n",
    "First we define a histogram. To do this we can import the python hist library. Once we have done that we can define a histogram. Its name is hist and the x axis is named mass [GeV]. The three initial arguments indicate that this histogram contains 30 bins which fill the gap from 40 to 140.\n"
   ]
  },
  {
   "cell_type": "code",
   "execution_count": 13,
   "metadata": {},
   "outputs": [],
   "source": [
    "import hist\n",
    "from hist import Hist\n",
    "\n",
    "hist1 = Hist(hist.axis.Regular(30,40,140, label = \"Mass (GeV)\"))"
   ]
  },
  {
   "cell_type": "markdown",
   "metadata": {},
   "source": [
    "It is now time to fill our above defined histogram with the masses. To do that, we need to reconstruct our $Z^0$ boson Lorentz vector. We do this by narrowing down all our events to those that have two leptons of opposite charge and the same flavour, then building `TLorentzVector`s for each of them, and then adding them together. From your equation above, that would give the Lorentz vector of the parent particle - the $Z^0$ (we hope). Once we have that, the invariant mass can come from `Z0_boson_Lorentz_vector.M()`.\n",
    "\n",
    "**The process of narrowing down the number of candidates by imposing a condition is called making a cut**."
   ]
  },
  {
   "cell_type": "markdown",
   "metadata": {},
   "source": [
    "[Return to contents](#c)"
   ]
  },
  {
   "cell_type": "markdown",
   "metadata": {},
   "source": [
    "---"
   ]
  },
  {
   "cell_type": "markdown",
   "metadata": {},
   "source": [
    "## Cuts <a name=\"4.\"></a>\n",
    "\n",
    "Why do we make cuts? Remember that there are lots of other particles flying around, and sometimes you'll just have two electrons of the same charge and same flavour, that have nothing to do with each other, that we measure. Obviously, they won't reconstruct to a $Z^0$ boson.\n",
    "\n",
    "Therefore, we need to not count these events based on that, so we **cut** on the fact that there are two leptons of the same flavour, and then cut again on the fact that those two leptons are oppositely charged.\n",
    "\n",
    "**You may have spotted an issue here - what if we have two random unassociated electrons of the same flavour and opposite charge? We can't eliminate those.**\n",
    "\n",
    "One thing you might want to take note of is that the detector gives us energies and momenta in units of $MeV$! This means that when building our LorentzVectors, we have to divide by a thousand, so that our LorentzVector has an overall unit of $GeV$.\n",
    "\n",
    "### Make sure you read through the code - particularly the comments! You'll be doing this yourself shortly."
   ]
  },
  {
   "cell_type": "markdown",
   "metadata": {},
   "source": [
    "- Cuts\n",
    "- T vector\n",
    "- Invariant mass"
   ]
  },
  {
   "cell_type": "markdown",
   "metadata": {},
   "source": [
    "The $Z^0$ boson decays through two channels:\n",
    "- $Z^0 \\rightarrow l^+ \\; l^-$\n",
    "- $Z^0 \\rightarrow l^+ \\; l^- \\; + \\; l^+ \\; l^-$\n",
    "\n",
    "where $l^+ \\; l^-$ is a lepton-antilepton pair with the constituent leptons being of the same family.  This means the options are $e^+ \\; e^-$, $\\mu^+ \\; \\mu^-$, $\\tau^+ \\; \\tau^-$.  $\\tau$ leptons are rarely produced, so we will generally be looking for $e^+ \\; e^-$ and $\\mu^+ \\; \\mu^-$ pairs."
   ]
  },
  {
   "cell_type": "markdown",
   "metadata": {},
   "source": [
    "This means we can deduce the following for a *pass event*:\n",
    "- There must be at least 2 leptons produced by the event - see by observation\n",
    "- Must be of opposite charge, or equivalently of *unequal charge* (since only two possibilities for charge)\n",
    "- Must be of the same family - see by specification"
   ]
  },
  {
   "cell_type": "code",
   "execution_count": 14,
   "metadata": {},
   "outputs": [],
   "source": [
    "# Declare the two TLorentzVectors\n",
    "\n",
    "leadLepton  = TLorentzVector()\n",
    "trailLepton = TLorentzVector()\n",
    "\n",
    "sel_events = events.arrays([\"lep_pt\", \"lep_eta\", \"lep_phi\", \"lep_E\",\"lep_charge\", \"lep_type\", \"lep_n\"])\n",
    "                  \n",
    "    \n",
    "# Now, iterate through each event in the tree!\n",
    "for event in sel_events:\n",
    "    # Cut #1: At least 2 leptons in the event. lep_n  is the number of them.\n",
    "    \n",
    "    lep_n = event[\"lep_n\"]    \n",
    "    if lep_n >= 2:\n",
    "        \n",
    "        # Cut #2: Leptons with opposite charge.\n",
    "        #We have a list of charges, each corresponding to a lepton: lep_charges.\n",
    "        #Clearly, we can't let these be equal\n",
    "        lep_charge = event[\"lep_charge\"]\n",
    "        if (lep_charge[0] != lep_charge[1]):\n",
    "            \n",
    "            # Cut #3: Leptons of the same family (2 electrons or 2 muons).\n",
    "            # lep_type gives back a number, which is a code for what kind of lepton it is.\n",
    "            lep_type = event[\"lep_type\"]\n",
    "            if ( lep_type[0] == lep_type[1]):\n",
    "                \n",
    "                # By now we should only have paricles that look right remaining.\n",
    "                \n",
    "                # Let's set the components of a TLorentzVector for each lepton.\n",
    "                # Notice that the energy and momenta are given in MeV!\n",
    "                \n",
    "                lep_pt = event[\"lep_pt\"]\n",
    "                lep_eta = event[\"lep_eta\"]\n",
    "                lep_phi = event[\"lep_phi\"]\n",
    "                lep_E = event[\"lep_E\"]\n",
    "                \n",
    "                leadLepton.SetPtEtaPhiE(lep_pt[0]/1000., lep_eta[0], lep_phi[0], lep_E[0]/1000.)\n",
    "                trailLepton.SetPtEtaPhiE(lep_pt[1]/1000., lep_eta[1], lep_phi[1], lep_E[1]/1000.)\n",
    "                \n",
    "                # Now, reconstruct the Z0 boson Lorentz vector! \n",
    "                # Remember, we can add them just like normal vectors.\n",
    "                Z0_boson = leadLepton + trailLepton\n",
    "                \n",
    "                # Put this particular value into the histogram.\n",
    "                hist1.fill(Z0_boson.M())\n",
    "    "
   ]
  },
  {
   "cell_type": "markdown",
   "metadata": {},
   "source": [
    "After filling the histogram we want to see the results of the analysis. We import `matplotlib` and get plotting!"
   ]
  },
  {
   "cell_type": "code",
   "execution_count": 15,
   "metadata": {},
   "outputs": [
    {
     "data": {
      "image/png": "[encoded data removed]",
      "text/plain": [
       "<Figure size 432x288 with 1 Axes>"
      ]
     },
     "metadata": {
      "needs_background": "light"
     },
     "output_type": "display_data"
    }
   ],
   "source": [
    "import matplotlib.pyplot as plt\n",
    "\n",
    "hist1.plot(histtype = \"fill\")\n",
    "plt.show()"
   ]
  },
  {
   "cell_type": "markdown",
   "metadata": {},
   "source": [
    "**Done**\n",
    "\n",
    "Well done!\n",
    "\n",
    "If everything went well, you have just reconstructed the $Z^0$ boson!\n",
    "\n",
    "*Interpret this graph - what is the mass of this boson?*"
   ]
  },
  {
   "cell_type": "markdown",
   "metadata": {},
   "source": [
    "<details>\n",
    "    <summary>Answer: </summary>\n",
    "        That's right - 90 GeV!\n",
    "</details>"
   ]
  },
  {
   "cell_type": "markdown",
   "metadata": {},
   "source": [
    "[Return to contents](#c)"
   ]
  },
  {
   "cell_type": "markdown",
   "metadata": {},
   "source": [
    "---"
   ]
  },
  {
   "cell_type": "markdown",
   "metadata": {},
   "source": [
    "## Over to you! To four leptons <a name=\"5.\"></a>"
   ]
  },
  {
   "cell_type": "markdown",
   "metadata": {},
   "source": [
    "We have a theory that a more complicated interaction occurs between a quark, $q$, and an antiquark, $\\bar{q}$. We think that they come towards each other, and quickly exchange a particle (the vertical line below). When this happens, the quark and antiquarks turn into $Z^0$s, which then decay themselves, exactly as in the last analysis. Notice that the part of the Feynman diagram within the box is exactly the same as the diagram above!\n",
    "\n",
    "<CENTER><img src=\"images/2z4l_boxed.png\" style=\"width:30%\"></CENTER>\n",
    "\n",
    "Does this decay really happen? Let's find out, using some new data. We are going to apply some cuts then see if the plots that we produce still make sense. We are not trying to just confirm what the mass of the $Z^0$ boson is, as we did that above - we just want to see if this kind of decay can happen, and the best way to do that is see if the plots look like what we expect them to look like!\n",
    "\n",
    "*We can't reconstruct the 4-momenta of the quarks, or the exchanged particle - why?*\n",
    "\n",
    "Therefore, we just look at the final state. We are going to work out the masses of both $Z^0$s in these events."
   ]
  },
  {
   "cell_type": "markdown",
   "metadata": {},
   "source": [
    "We have a lot more particles to keep track of this time, so the event will be less clean.\n",
    "\n",
    "Tips:\n",
    "\n",
    "* You will need to add some cuts: what will these cuts be?\n",
    "* How do you pick which lepton came from which $Z^0$. Can you tell at all, or do you try each possible way?\n",
    "* How many ways are there of reconstructing wrongly? How can you tell if you've reconstructed correctly - what else can you cut on?\n",
    "\n",
    "__Remember, there are two sub-decays here. You could try checking if one of them is a good decay (a real $Z^0$ decaying to two leptons), and then only plotting the mass of the other one if it is.__\n"
   ]
  },
  {
   "cell_type": "markdown",
   "metadata": {},
   "source": [
    "### First load your tree and set up you histogram canvas"
   ]
  },
  {
   "cell_type": "markdown",
   "metadata": {},
   "source": [
    "#### File and plot details\n",
    "\n",
    "- Name: `https://atlas-opendata.web.cern.ch/atlas-opendata/samples/2020/4lep/MC/mc_363490.llll.4lep.root`\n",
    "- TTree name: `mini\n",
    "hist1 = Hist(hist.axis.Regular(30,40,140, label = \"Mass (GeV)\"))\n",
    "- Histogram:\n",
    "    - name: `\"hist_Zl4\"`\n",
    "    - nBins: 30\n",
    "    - min: 40\n",
    "    - max: 140\n",
    "    - label: \"Mass (GeV)\"\n",
    "    - title: \"Mass of the Z boson from 4-lepton events\""
   ]
  },
  {
   "cell_type": "code",
   "execution_count": null,
   "metadata": {},
   "outputs": [],
   "source": [
    "# Exactly the same as before, using the details in the cell below\n",
    "# We've renamed the variables to avoid overwriting the old ones, so that you can run them again.\n",
    "\n",
    "f_4l = #### ## 4 lepton 13 TeV sample\n",
    "tree = ####\n",
    "tree.show()\n",
    "\n",
    "#hist_Zl4 = ####"
   ]
  },
  {
   "cell_type": "markdown",
   "metadata": {},
   "source": [
    "### Next, perform your analysis"
   ]
  },
  {
   "cell_type": "code",
   "execution_count": null,
   "metadata": {},
   "outputs": [],
   "source": [
    "#Answer\n",
    "# Declare four TLorentzVectors\n",
    "firstLepton  = ####\n",
    "secondLepton = ####\n",
    "thirdLepton = ####\n",
    "fourthLepton = ####\n",
    "\n",
    "sel_events = f_4l.arrays([\"lep_pt\", \"lep_eta\", \"lep_phi\", \"lep_E\",\"lep_charge\", \"lep_type\", \"lep_n\"])\n",
    "\n",
    "# Now, iterate through each event in the tree!\n",
    "for event in ####:\n",
    "    # Cut #1: At least 4 leptons in the event. lep_n  is the number of them.\n",
    "    lep_n = event[\"lep_n\"]\n",
    "    if #### >= 4:\n",
    "        \n",
    "        # Cut #2: First two leptons must have opposite charge.\n",
    "        lep_charge = event[\"lep_charge\"]\n",
    "        if (lep_charge[0] != ####):\n",
    "            \n",
    "            # Cut #3: First two leptons must have same flavour\n",
    "            lep_type = event[\"lep_type\"]\n",
    "            if ( lep_type[0] == ####):\n",
    "                \n",
    "                lep_pt = event[\"lep_pt\"]\n",
    "                lep_eta = event[\"lep_eta\"]\n",
    "                lep_phi = event[\"lep_phi\"]\n",
    "                lep_E = event[\"lep_E\"]\n",
    "                \n",
    "                firstLepton.SetPtEtaPhiE(lep_pt[0]/1000., lep_eta[0], lep_phi[0], lep_E[0]/1000.)\n",
    "                secondLepton.SetPtEtaPhiE(lep_pt[1]/1000., lep_eta[1], lep_phi[1], lep_E[1]/1000.)\n",
    "                \n",
    "                # Could we add a cut in here? \n",
    "\n",
    "                # Now we look at the second decay - note that we have assumed that the first two\n",
    "                # Cut #4: Second two leptons opposite charge\n",
    "                if (lep_charge[2] != ####):\n",
    "\n",
    "                    # Cut #5:\n",
    "                    if ( lep_type[2] == ####):\n",
    "                        # By now we should only have paricles that look right remaining.\n",
    "                        \n",
    "                        # Let's set the components of a TLorentzVector for each lepton. Notice that the energy and momenta are given in MeV!\n",
    "                        thirdLepton.SetPtEtaPhiE(lep_pt[2]/1000., lep_eta[2], lep_phi[2], lep_E[2]/1000.)\n",
    "                        fourthLepton.SetPtEtaPhiE(lep_pt[3]/1000., lep_eta[3], lep_phi[3], lep_E[3]/1000.)\n",
    "                        \n",
    "                        # Now, reconstruct the Z0 boson Lorentz vector! \n",
    "                        Z0_boson1 = #### + ####\n",
    "                        Z0_boson2 = #### + ####\n",
    "\n",
    "                        # And chuck this particular value into the histogram.\n",
    "                        hist_Zl4.fill(Z0_boson1.M())\n",
    "                        hist_Zl4.fill(Z0_boson2.M())\n"
   ]
  },
  {
   "cell_type": "markdown",
   "metadata": {},
   "source": [
    "#### Some hints to help you - Click to reveal"
   ]
  },
  {
   "cell_type": "markdown",
   "metadata": {},
   "source": [
    "<details>\n",
    "    <summary>a) Declare four TLorentzVectors. </summary>\n",
    "\n",
    "    firstLepton  = TLorentzVector()\n",
    "    secondLepton = TLorentzVector()\n",
    "    thirdLepton  = TLorentzVector()\n",
    "    fourthLepton = TLorentzVector()\n",
    "</details>"
   ]
  },
  {
   "cell_type": "markdown",
   "metadata": {},
   "source": [
    "<details>\n",
    "    <summary> b) Now, iterate through each event in the tree </summary>\n",
    "    \n",
    "    for x in y:\n",
    "    \n",
    "    (x is event and y is the array of events) \n",
    "</details>"
   ]
  },
  {
   "cell_type": "markdown",
   "metadata": {},
   "source": [
    "<details>\n",
    "    <summary>c) Cut #1: At least 4 leptons in the event. </summary>\n",
    "    \n",
    "    if lep_n >= 4:\n",
    "</details>"
   ]
  },
  {
   "cell_type": "markdown",
   "metadata": {},
   "source": [
    "<details>\n",
    "    <summary>d) Cut #2: First two leptons must have opposite charge. </summary>\n",
    "    \n",
    "    if (lep_charge[0] != lep_charge[1]):\n",
    "</details>"
   ]
  },
  {
   "cell_type": "markdown",
   "metadata": {},
   "source": [
    "<details>\n",
    "    <summary>e) Cut #3: First two leptons must have same flavour. </summary>\n",
    "    \n",
    "    if ( lep_type[0] == lep_type[1]):\n",
    "</details>"
   ]
  },
  {
   "cell_type": "markdown",
   "metadata": {},
   "source": [
    "<details>\n",
    "    <summary>f) Cut #4 and Cut #5: Second two leptons opposite charge, same flavour. </summary>\n",
    "    \n",
    "    if (lep_charge[2] != lep_charge[3]):\n",
    "    if (lep_type[2] == lep_type[3]):\n",
    "</details>"
   ]
  },
  {
   "cell_type": "markdown",
   "metadata": {},
   "source": [
    "<details>\n",
    "    <summary>g) Now, reconstruct the Z0 boson Lorentz vectors. </summary>\n",
    "    \n",
    "    Z0_boson1 = firstLepton + secondLepton\n",
    "    Z0_boson2 = thirdLepton + fourthLepton\n",
    "</details>"
   ]
  },
  {
   "cell_type": "markdown",
   "metadata": {},
   "source": [
    "<details>\n",
    "    <summary> --> If you're REALLY stuck... the full solution: </summary>\n",
    "\n",
    "#Answer\n",
    "# Declare four TLorentzVectors\n",
    "firstLepton  = TLorentzVector()\n",
    "secondLepton = TLorentzVector()\n",
    "thirdLepton = TLorentzVector()\n",
    "fourthLepton = TLorentzVector()\n",
    "\n",
    "sel_events = f_4l.arrays([\"lep_pt\", \"lep_eta\", \"lep_phi\", \"lep_E\",\"lep_charge\", \"lep_type\", \"lep_n\"])\n",
    "\n",
    "# Now, iterate through each event in the tree!\n",
    "for event in sel_events:\n",
    "    # Cut #1: At least 4 leptons in the event. lep_n  is the number of them.\n",
    "    lep_n = event[\"lep_n\"]\n",
    "    if lep_n >= 4:\n",
    "        \n",
    "        # Cut #2: First two leptons must have opposite charge.\n",
    "        lep_charge = event[\"lep_charge\"]\n",
    "        if (lep_charge[0] != lep_charge[1]):\n",
    "            \n",
    "            # Cut #3: First two leptons must have same flavour\n",
    "            lep_type = event[\"lep_type\"]\n",
    "            if ( lep_type[0] == lep_type[1]):\n",
    "                \n",
    "                lep_pt = event[\"lep_pt\"]\n",
    "                lep_eta = event[\"lep_eta\"]\n",
    "                lep_phi = event[\"lep_phi\"]\n",
    "                lep_E = event[\"lep_E\"]\n",
    "                \n",
    "                firstLepton.SetPtEtaPhiE(lep_pt[0]/1000., lep_eta[0], lep_phi[0], lep_E[0]/1000.)\n",
    "                secondLepton.SetPtEtaPhiE(lep_pt[1]/1000., lep_eta[1], lep_phi[1], lep_E[1]/1000.)\n",
    "                \n",
    "                # Could we add a cut in here? \n",
    "\n",
    "                # Now we look at the second decay - note that we have assumed that the first two\n",
    "                # Cut #4: Second two leptons opposite charge\n",
    "                if (lep_charge[2] != lep_charge[3]):\n",
    "\n",
    "                    # Cut #5:\n",
    "                    if ( lep_type[2] == lep_type[3]):\n",
    "                        # By now we should only have paricles that look right remaining.\n",
    "                        \n",
    "                        # Let's set the components of a TLorentzVector for each lepton. Notice that the energy and momenta are given in MeV!\n",
    "                        thirdLepton.SetPtEtaPhiE(lep_pt[2]/1000., lep_eta[2], lep_phi[2], lep_E[2]/1000.)\n",
    "                        fourthLepton.SetPtEtaPhiE(lep_pt[3]/1000., lep_eta[3], lep_phi[3], lep_E[3]/1000.)\n",
    "                        \n",
    "                        # Now, reconstruct the Z0 boson Lorentz vector! \n",
    "                        Z0_boson1 = firstLepton + secondLepton\n",
    "                        Z0_boson2 = thirdLepton + fourthLepton\n",
    "\n",
    "                        # And chuck this particular value into the histogram.\n",
    "                        hist_Zl4.fill(Z0_boson1.M())\n",
    "                        hist_Zl4.fill(Z0_boson2.M())\n",
    "        \n",
    "</details>"
   ]
  },
  {
   "cell_type": "markdown",
   "metadata": {},
   "source": [
    "### Finally, plot your results"
   ]
  },
  {
   "cell_type": "code",
   "execution_count": null,
   "metadata": {},
   "outputs": [],
   "source": [
    "hist_Zl4.plot(histtype = \"fill\")\n",
    "plt.show()"
   ]
  },
  {
   "cell_type": "markdown",
   "metadata": {},
   "source": [
    "[Return to contents](#c)"
   ]
  },
  {
   "cell_type": "markdown",
   "metadata": {},
   "source": [
    "---"
   ]
  },
  {
   "cell_type": "markdown",
   "metadata": {},
   "source": [
    "# Real experiments <a name=\"c\"></a>\n",
    "\n",
    "Now, real experiments are not run like this. You may have noticed that although we mentioned a theoretical decay, all we gave you was a diagram. You had no real way of checking whether or not the decay that the theory described is actually what happens in reality, other than saying that the plots look roughly about right.\n",
    "\n",
    "So, one more thing. Surprise! The data you have been analysing here isn't really data at all - it is in fact a simulated sample of $Z^0 \\rightarrow \\ell\\bar{\\ell}$ and $Z^0 Z^0 \\rightarrow \\ell\\bar{\\ell}\\ell\\bar{\\ell}$ decays in the ATLAS detector, based on the Standard Model.\n",
    "\n",
    "The way we perform actual experiments, is that we write some analysis code, just like above, and then run the exact same code on a Standard Model simulation and on the real data that gets spat out by the detector. The extent to which the two agree then tells us how close our model is to reality.\n",
    "\n",
    "Here’s an example of what happens if we compare the simulation with what we see at the LHC. The black dots are the real data, and the bars are real data. You may notice that it looks pretty close to what we had before - that's because there are lots and lots of Z decays that happen in the detector. If you looked closely enough, you would be able to tell that there are other colours stacked there in the histogram, but the slices are so thin that you can't see them.\n",
    "\n",
    "<CENTER><img src=\"images/Zinvmass-ATLASOD8TeV.png\" style=\"width:50%\"></CENTER>\n"
   ]
  },
  {
   "cell_type": "markdown",
   "metadata": {},
   "source": [
    "[Return to contents](#c)"
   ]
  },
  {
   "cell_type": "markdown",
   "metadata": {},
   "source": [
    "---"
   ]
  },
  {
   "cell_type": "markdown",
   "metadata": {},
   "source": [
    "## Extension exercises <a name=\"7.\"></a>"
   ]
  },
  {
   "cell_type": "markdown",
   "metadata": {},
   "source": [
    "a) The way we performed our 4 lepton analysis was not optimal - we ended up selecting many fewer events than actually happened.\n",
    "\n",
    "- What was the problem with our analysis? \n",
    "\n",
    "- Can you think of a better way? Redo the analysis your way and compare the results"
   ]
  },
  {
   "cell_type": "markdown",
   "metadata": {},
   "source": [
    "<details>\n",
    "    <summary>Click for a hint: </summary>\n",
    "    In our version of the analysis we only kept an event if its first two leptons looked like one Z-boson, and its second two leptons looked like another. Is this the only combination we could have chosen?\n",
    "</details>"
   ]
  },
  {
   "cell_type": "markdown",
   "metadata": {},
   "source": [
    "b) An example of a file with real data events containing four leptons is `\"https://atlas-opendata.web.cern.ch/atlas-opendata/samples/2020/4lep/Data/data_A.4lep.root` (with more available in that folder).\n",
    "\n",
    "- Choose one of the analyses above ($Z\\rightarrow ll$ or $ZZ\\rightarrow llll$) and repeat using real data instead of simulation\n",
    "- Do your plots look the same?\n",
    "\n",
    "c) To perform our analysis, we imposed some basic cuts to try select good Z boson candidates, however, in practice real measurements impose more! \n",
    "\n",
    "- Look at the branches available in your TTrees, and their explanation in the [ATLAS Open Data Documentation](http://opendata.atlas.cern/release/2020/documentation/datasets/intro.html) to try come up with some more cuts.\n",
    "- Repeat the analysis and compare your plots:\n",
    "    - How are they different?\n",
    "    - Which one would be considered a 'better measurement' and why?"
   ]
  },
  {
   "cell_type": "markdown",
   "metadata": {},
   "source": [
    "[Return to contents](#c)"
   ]
  },
  {
   "cell_type": "markdown",
   "metadata": {},
   "source": [
    "---"
   ]
  }
 ],
 "metadata": {
  "kernelspec": {
   "display_name": "Python 3 (ipykernel)",
   "language": "python",
   "name": "python3"
  },
  "language_info": {
   "codemirror_mode": {
    "name": "ipython",
    "version": 3
   },
   "file_extension": ".py",
   "mimetype": "text/x-python",
   "name": "python",
   "nbconvert_exporter": "python",
   "pygments_lexer": "ipython3",
   "version": "3.9.7"
  }
 },
 "nbformat": 4,
 "nbformat_minor": 4
}
