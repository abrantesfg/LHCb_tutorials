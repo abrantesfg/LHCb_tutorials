{
 "cells": [
  {
   "cell_type": "markdown",
   "metadata": {},
   "source": [
    "<CENTER><img src=\"images/logos.png\" style=\"width:50%\"></CENTER>"
   ]
  },
  {
   "cell_type": "markdown",
   "metadata": {},
   "source": [
    "<CENTER><h1>Intro to histogramming</h1></CENTER> <a name=\"c\"></a>\n",
    "\n",
    "In particle physics, we use so many events to make our measurements that looking at the events by hand would be very impractical - instead, we use computer code to do the looking for us.\n",
    "\n",
    "This notebook will walk you through some basic computing techniques commonly used in high energy physics (HEP) analyses using data files from the ATLAS experiment. You will learn how to:\n",
    "\n",
    "1. Interact with ATLAS data files\n",
    "2. Create a histogram for displaying data\n",
    "3. Fill your histogram\n",
    "4. Draw your histogram\n",
    "5. Normalise your histogram\n",
    "    \n",
    "We will be showing you examples of these techniques to produce a plot with the __number of leptons__ in each event in a set of 13 TeV Z boson data. At the same time, you will be following along to produce your own plot with the __number of jets__ in each event in a set of 8 TeV W and Z boson data. TeV stands for 'Tera-electron-volt' and is a unit of energy we use in particle physics - we will learn more about the units we use in particle physics in the next notebook!\n",
    "    \n",
    "<table><tr>\n",
    "\n",
    "<td> <img src=\"./images/WBoson.png\" style=\"height: 150px;\"/> </td>\n",
    "</tr></table>"
   ]
  },
  {
   "cell_type": "markdown",
   "metadata": {},
   "source": [
    "---"
   ]
  },
  {
   "cell_type": "markdown",
   "metadata": {},
   "source": [
    "<div class=\"alert alert-success\">\n",
    "    Before you get into your histogramming and are introduced to Z invariant mass, make sure you review the fundamentals of particle physics and the Standard Model by watching <a href=\"https://youtu.be/hmM-ic4Wh68\"> this</a> RAL video by Dr Emmanuel Olaiya.\n",
    "</div>"
   ]
  },
  {
   "cell_type": "markdown",
   "metadata": {},
   "source": [
    "**Contents:**\n",
    "- [Step 0: What to load](#0.)\n",
    "- [Step 1: Working with .root files](#1.)\n",
    "- [Step 2: Getting ready to display histograms](#2.)\n",
    "- [Step 3: Filling histograms](#3.)\n",
    "- [Step 4: Drawing histograms](#4.)\n",
    "- [Step 5: Normalising histograms](#5.)\n",
    "- [Extension exercises](#6.)"
   ]
  },
  {
   "cell_type": "markdown",
   "metadata": {},
   "source": [
    "---"
   ]
  },
  {
   "cell_type": "markdown",
   "metadata": {},
   "source": [
    "## Step 0: What to load <a name=\"0.\"></a>"
   ]
  },
  {
   "cell_type": "markdown",
   "metadata": {},
   "source": [
    "The software we will use to analyse our ATLAS data is called __uproot__ and __hist__. Using `uproot`, we are able to process large datasets, do statistical analyses, and visualise our data using __hist__. The data is stored in a format called .root"
   ]
  },
  {
   "cell_type": "code",
   "execution_count": 2,
   "metadata": {},
   "outputs": [],
   "source": [
    "#Import the uproot library\n",
    "import uproot\n",
    "\n",
    "#Here you could also import any other python libraries you would like to use\n",
    "import matplotlib.pyplot as plt\n",
    "import numpy as np"
   ]
  },
  {
   "cell_type": "markdown",
   "metadata": {},
   "source": [
    "[Return to contents](#c)"
   ]
  },
  {
   "cell_type": "markdown",
   "metadata": {},
   "source": [
    "---"
   ]
  },
  {
   "cell_type": "markdown",
   "metadata": {},
   "source": [
    "## Step 1: Working with .root files <a name=\"1.\"></a>"
   ]
  },
  {
   "cell_type": "markdown",
   "metadata": {},
   "source": [
    "Next we have to open the data files that we want to analyze. \n",
    "\n",
    "As mentioned above, the format for storing physics data - is a _[something].root_ file. For each event in the dataset we could have many particles, and for each particle, there are several __variables__ we measure (e.g. energy, momentum, charge). The structure of a _*.root_ file is as follows:\n",
    "\n",
    "\n",
    "- A _.root_ file stores and keeps track of all this information in a container called a __TTree__. \n",
    "- Inside the TTree, each variable that we measure are stored separately in containers called __branches__. \n",
    "- Inside each branch, the measurement of that variable for each event is stored."
   ]
  },
  {
   "cell_type": "markdown",
   "metadata": {},
   "source": [
    "<CENTER><img src=\"./images/root_struct.png\" style=\"width:70%\"></CENTER>"
   ]
  },
  {
   "cell_type": "markdown",
   "metadata": {},
   "source": [
    "Lets load our _.root_ file using `uproot`'s `uproot.open()` function. The __argument__ inside the brackets tells uproot where to look for the file."
   ]
  },
  {
   "cell_type": "code",
   "execution_count": 3,
   "metadata": {},
   "outputs": [],
   "source": [
    "f = uproot.open(\"https://atlas-opendata.web.cern.ch/atlas-opendata/samples/2020/1largeRjet1lep/MC/mc_361106.Zee.1largeRjet1lep.root\") ## 13 TeV sample\n",
    "#f = uproot.open(\"http://opendata.atlas.cern/release/samples/MC/mc_105987.WZ.root\") ## 8 TeV sample"
   ]
  },
  {
   "cell_type": "markdown",
   "metadata": {},
   "source": [
    "<div class=\"alert alert-info\">You could uncomment one of the other lines to repeat the analysis we will do below for a different dataset (remember to comment out the top line first).</div>\n"
   ]
  },
  {
   "cell_type": "markdown",
   "metadata": {},
   "source": [
    "<div class=\"alert alert-success\">If you are curious about where the files above come from, check out the instructions for finding the ATLAS Open Data <a href=\"FindingOpenData.pdf\"> here</a>.</div>\n"
   ]
  },
  {
   "cell_type": "markdown",
   "metadata": {},
   "source": [
    "Next, to inspect the contents of a _.root_ file, we use the `.keys()` function."
   ]
  },
  {
   "cell_type": "code",
   "execution_count": 4,
   "metadata": {},
   "outputs": [
    {
     "data": {
      "text/plain": [
       "['mini;1']"
      ]
     },
     "execution_count": 4,
     "metadata": {},
     "output_type": "execute_result"
    }
   ],
   "source": [
    "f.keys()"
   ]
  },
  {
   "cell_type": "markdown",
   "metadata": {},
   "source": [
    "We can see what this object 'mini' is using the `.classnames()` function."
   ]
  },
  {
   "cell_type": "code",
   "execution_count": 5,
   "metadata": {},
   "outputs": [
    {
     "data": {
      "text/plain": [
       "{'mini;1': 'TTree'}"
      ]
     },
     "execution_count": 5,
     "metadata": {},
     "output_type": "execute_result"
    }
   ],
   "source": [
    "f.classnames()"
   ]
  },
  {
   "cell_type": "markdown",
   "metadata": {},
   "source": [
    "This means *mini* is a TTree object and should contain all the data we need.  To load the TTree data directly, we can select it using the below code."
   ]
  },
  {
   "cell_type": "code",
   "execution_count": 6,
   "metadata": {},
   "outputs": [],
   "source": [
    "my_tree = f[\"mini\"]"
   ]
  },
  {
   "cell_type": "markdown",
   "metadata": {},
   "source": [
    "Alternatively, we can change our file loading code so it specifies the TTree file *mini*."
   ]
  },
  {
   "cell_type": "code",
   "execution_count": 7,
   "metadata": {},
   "outputs": [],
   "source": [
    "my_tree = uproot.open(\"https://atlas-opendata.web.cern.ch/atlas-opendata/samples/2020/1largeRjet1lep/MC/mc_361106.Zee.1largeRjet1lep.root:mini\")"
   ]
  },
  {
   "cell_type": "markdown",
   "metadata": {},
   "source": [
    "The `.show()` function allows us to see the full contents of our TTree."
   ]
  },
  {
   "cell_type": "code",
   "execution_count": 8,
   "metadata": {},
   "outputs": [
    {
     "name": "stdout",
     "output_type": "stream",
     "text": [
      "name                 | typename                 | interpretation                \n",
      "---------------------+--------------------------+-------------------------------\n",
      "runNumber            | int32_t                  | AsDtype('>i4')\n",
      "eventNumber          | int32_t                  | AsDtype('>i4')\n",
      "channelNumber        | int32_t                  | AsDtype('>i4')\n",
      "mcWeight             | float                    | AsDtype('>f4')\n",
      "scaleFactor_PILEUP   | float                    | AsDtype('>f4')\n",
      "scaleFactor_ELE      | float                    | AsDtype('>f4')\n",
      "scaleFactor_MUON     | float                    | AsDtype('>f4')\n",
      "scaleFactor_PHOTON   | float                    | AsDtype('>f4')\n",
      "scaleFactor_TAU      | float                    | AsDtype('>f4')\n",
      "scaleFactor_BTAG     | float                    | AsDtype('>f4')\n",
      "scaleFactor_LepTR... | float                    | AsDtype('>f4')\n",
      "scaleFactor_Photo... | float                    | AsDtype('>f4')\n",
      "trigE                | bool                     | AsDtype('bool')\n",
      "trigM                | bool                     | AsDtype('bool')\n",
      "trigP                | bool                     | AsDtype('bool')\n",
      "lep_n                | uint32_t                 | AsDtype('>u4')\n",
      "lep_truthMatched     | std::vector<bool>        | AsJagged(AsDtype('bool'), h...\n",
      "lep_trigMatched      | std::vector<bool>        | AsJagged(AsDtype('bool'), h...\n",
      "lep_pt               | std::vector<float>       | AsJagged(AsDtype('>f4'), he...\n",
      "lep_eta              | std::vector<float>       | AsJagged(AsDtype('>f4'), he...\n",
      "lep_phi              | std::vector<float>       | AsJagged(AsDtype('>f4'), he...\n",
      "lep_E                | std::vector<float>       | AsJagged(AsDtype('>f4'), he...\n",
      "lep_z0               | std::vector<float>       | AsJagged(AsDtype('>f4'), he...\n",
      "lep_charge           | std::vector<int32_t>     | AsJagged(AsDtype('>i4'), he...\n",
      "lep_type             | std::vector<uint32_t>    | AsJagged(AsDtype('>u4'), he...\n",
      "lep_isTightID        | std::vector<bool>        | AsJagged(AsDtype('bool'), h...\n",
      "lep_ptcone30         | std::vector<float>       | AsJagged(AsDtype('>f4'), he...\n",
      "lep_etcone20         | std::vector<float>       | AsJagged(AsDtype('>f4'), he...\n",
      "lep_trackd0pvunbi... | std::vector<float>       | AsJagged(AsDtype('>f4'), he...\n",
      "lep_tracksigd0pvu... | std::vector<float>       | AsJagged(AsDtype('>f4'), he...\n",
      "met_et               | float                    | AsDtype('>f4')\n",
      "met_phi              | float                    | AsDtype('>f4')\n",
      "jet_n                | uint32_t                 | AsDtype('>u4')\n",
      "jet_pt               | std::vector<float>       | AsJagged(AsDtype('>f4'), he...\n",
      "jet_eta              | std::vector<float>       | AsJagged(AsDtype('>f4'), he...\n",
      "jet_phi              | std::vector<float>       | AsJagged(AsDtype('>f4'), he...\n",
      "jet_E                | std::vector<float>       | AsJagged(AsDtype('>f4'), he...\n",
      "jet_jvt              | std::vector<float>       | AsJagged(AsDtype('>f4'), he...\n",
      "jet_trueflav         | std::vector<int32_t>     | AsJagged(AsDtype('>i4'), he...\n",
      "jet_truthMatched     | std::vector<bool>        | AsJagged(AsDtype('bool'), h...\n",
      "jet_MV2c10           | std::vector<float>       | AsJagged(AsDtype('>f4'), he...\n",
      "photon_n             | uint32_t                 | AsDtype('>u4')\n",
      "photon_truthMatched  | std::vector<bool>        | AsJagged(AsDtype('bool'), h...\n",
      "photon_trigMatched   | std::vector<bool>        | AsJagged(AsDtype('bool'), h...\n",
      "photon_pt            | std::vector<float>       | AsJagged(AsDtype('>f4'), he...\n",
      "photon_eta           | std::vector<float>       | AsJagged(AsDtype('>f4'), he...\n",
      "photon_phi           | std::vector<float>       | AsJagged(AsDtype('>f4'), he...\n",
      "photon_E             | std::vector<float>       | AsJagged(AsDtype('>f4'), he...\n",
      "photon_isTightID     | std::vector<bool>        | AsJagged(AsDtype('bool'), h...\n",
      "photon_ptcone30      | std::vector<float>       | AsJagged(AsDtype('>f4'), he...\n",
      "photon_etcone20      | std::vector<float>       | AsJagged(AsDtype('>f4'), he...\n",
      "photon_convType      | std::vector<int32_t>     | AsJagged(AsDtype('>i4'), he...\n",
      "tau_n                | uint32_t                 | AsDtype('>u4')\n",
      "tau_pt               | std::vector<float>       | AsJagged(AsDtype('>f4'), he...\n",
      "tau_eta              | std::vector<float>       | AsJagged(AsDtype('>f4'), he...\n",
      "tau_phi              | std::vector<float>       | AsJagged(AsDtype('>f4'), he...\n",
      "tau_E                | std::vector<float>       | AsJagged(AsDtype('>f4'), he...\n",
      "tau_isTightID        | std::vector<bool>        | AsJagged(AsDtype('bool'), h...\n",
      "tau_truthMatched     | std::vector<bool>        | AsJagged(AsDtype('bool'), h...\n",
      "tau_trigMatched      | std::vector<bool>        | AsJagged(AsDtype('bool'), h...\n",
      "tau_nTracks          | std::vector<int32_t>     | AsJagged(AsDtype('>i4'), he...\n",
      "tau_BDTid            | std::vector<float>       | AsJagged(AsDtype('>f4'), he...\n",
      "ditau_m              | float                    | AsDtype('>f4')\n",
      "lep_pt_syst          | std::vector<float>       | AsJagged(AsDtype('>f4'), he...\n",
      "met_et_syst          | float                    | AsDtype('>f4')\n",
      "jet_pt_syst          | std::vector<float>       | AsJagged(AsDtype('>f4'), he...\n",
      "photon_pt_syst       | std::vector<float>       | AsJagged(AsDtype('>f4'), he...\n",
      "tau_pt_syst          | std::vector<float>       | AsJagged(AsDtype('>f4'), he...\n",
      "XSection             | float                    | AsDtype('>f4')\n",
      "SumWeights           | float                    | AsDtype('>f4')\n",
      "largeRjet_n          | uint32_t                 | AsDtype('>u4')\n",
      "largeRjet_pt         | std::vector<float>       | AsJagged(AsDtype('>f4'), he...\n",
      "largeRjet_eta        | std::vector<float>       | AsJagged(AsDtype('>f4'), he...\n",
      "largeRjet_phi        | std::vector<float>       | AsJagged(AsDtype('>f4'), he...\n",
      "largeRjet_E          | std::vector<float>       | AsJagged(AsDtype('>f4'), he...\n",
      "largeRjet_m          | std::vector<float>       | AsJagged(AsDtype('>f4'), he...\n",
      "largeRjet_truthMa... | std::vector<float>       | AsJagged(AsDtype('>f4'), he...\n",
      "largeRjet_D2         | std::vector<float>       | AsJagged(AsDtype('>f4'), he...\n",
      "largeRjet_tau32      | std::vector<float>       | AsJagged(AsDtype('>f4'), he...\n",
      "largeRjet_pt_syst    | std::vector<float>       | AsJagged(AsDtype('>f4'), he...\n",
      "tau_charge           | std::vector<int32_t>     | AsJagged(AsDtype('>i4'), he...\n"
     ]
    }
   ],
   "source": [
    "my_tree.show()"
   ]
  },
  {
   "cell_type": "markdown",
   "metadata": {},
   "source": [
    "We see the names of all the different quantities stored. Rather than use the word name (written at the top of the table), we use the word branch. Let's look at an individual branch in this TTree to see its form. We specify what branch we want to look at (\"lep_eta\") and the type of array we want to output (\"np\" which is short for numpy array)"
   ]
  },
  {
   "cell_type": "code",
   "execution_count": 9,
   "metadata": {},
   "outputs": [
    {
     "data": {
      "text/plain": [
       "array([array([-1.8025961, -1.29893  ], dtype=float32),\n",
       "       array([ 0.04702532, -0.12980008], dtype=float32),\n",
       "       array([ 0.5145523, -0.5389483], dtype=float32), ...,\n",
       "       array([-0.24873704], dtype=float32),\n",
       "       array([0.63657373, 0.06841107], dtype=float32),\n",
       "       array([0.78326404, 0.05061899], dtype=float32)], dtype=object)"
      ]
     },
     "execution_count": 9,
     "metadata": {},
     "output_type": "execute_result"
    }
   ],
   "source": [
    "lep_eta = my_tree[\"lep_eta\"].array(library=\"np\")\n",
    "lep_eta"
   ]
  },
  {
   "cell_type": "markdown",
   "metadata": {},
   "source": [
    "In effect, this is a 2D array containing 2 elements: an array of values, and the data type of the array.  It is this method of storing values that allows an array to be 'jagged' - that is, having each row be a different length - without becoming an issue for array manipulation."
   ]
  },
  {
   "cell_type": "markdown",
   "metadata": {},
   "source": [
    "We can see how many events are stored in the tree by looking at the length of the array using the len function"
   ]
  },
  {
   "cell_type": "code",
   "execution_count": 10,
   "metadata": {},
   "outputs": [
    {
     "data": {
      "text/plain": [
       "53653"
      ]
     },
     "execution_count": 10,
     "metadata": {},
     "output_type": "execute_result"
    }
   ],
   "source": [
    "len(lep_eta)"
   ]
  },
  {
   "cell_type": "markdown",
   "metadata": {},
   "source": [
    "### Over to you"
   ]
  },
  {
   "cell_type": "markdown",
   "metadata": {},
   "source": [
    "__1)__ __Replace the ###'s in the cell below__ to open the _*.root_ data file `\"http://opendata.atlas.cern/release/samples/MC/mc_105987.WZ.root\"`"
   ]
  },
  {
   "cell_type": "markdown",
   "metadata": {},
   "source": [
    "<details>\n",
    "    <summary>Click here for hint 1: </summary>\n",
    "    \n",
    "    What function did we use above to open a .root file?\n",
    "</details>"
   ]
  },
  {
   "cell_type": "code",
   "execution_count": null,
   "metadata": {},
   "outputs": [],
   "source": [
    "my_file = ###"
   ]
  },
  {
   "cell_type": "markdown",
   "metadata": {},
   "source": [
    "<details>\n",
    "    <summary>Click here for the answer: </summary>\n",
    "\n",
    "    my_file = uproot.open(\"http://opendata.atlas.cern/release/samples/MC/mc_105987.WZ.root\")\n",
    "</details>"
   ]
  },
  {
   "cell_type": "markdown",
   "metadata": {},
   "source": [
    "__2)__ Load the tree named \"mini\" stored in the _.*root_ data file. Print the number of events in this tree."
   ]
  },
  {
   "cell_type": "markdown",
   "metadata": {},
   "source": [
    "<details>\n",
    "    <summary>Click here for hint 1: </summary>\n",
    "    All data is stored in the TTree 'mini'.\n",
    "</details>"
   ]
  },
  {
   "cell_type": "markdown",
   "metadata": {},
   "source": [
    "<details>\n",
    "    <summary>Click here for hint 2: </summary>\n",
    "    Pick a branch (name) and output it as an array .\n",
    "</details>"
   ]
  },
  {
   "cell_type": "markdown",
   "metadata": {},
   "source": [
    "<details>\n",
    "    <summary>Click here for hint 3: </summary>\n",
    "    Look at the length of the array\n",
    "</details>"
   ]
  },
  {
   "cell_type": "code",
   "execution_count": null,
   "metadata": {},
   "outputs": [],
   "source": [
    "my_tree = my_file[###]\n",
    "eventNumber = my_tree[###].array(###)\n",
    "print(###)\n"
   ]
  },
  {
   "cell_type": "markdown",
   "metadata": {},
   "source": [
    "<details>\n",
    "    <summary>Click here for the answer: </summary>\n",
    "        \n",
    "    my_tree = my_file[\"mini\"]\n",
    "    eventNumber = my_tree[\"eventNumber\"].array(library=\"np\")\n",
    "    len(eventNumber)\n",
    "</details>"
   ]
  },
  {
   "cell_type": "markdown",
   "metadata": {},
   "source": [
    "__3)__ We will also need to create variables for the maximum number of jets and the minimum number of jets in a single event in this dataset for later."
   ]
  },
  {
   "cell_type": "markdown",
   "metadata": {},
   "source": [
    "<details>\n",
    "    <summary>Click here for hint 1: </summary>\n",
    "    The object you need is called \"jet_n\". Get an array which is the jet_n for each event\n",
    "</details>"
   ]
  },
  {
   "cell_type": "markdown",
   "metadata": {},
   "source": [
    "<details>\n",
    "    <summary>Click here for hint 2: </summary>\n",
    "    Pick an event from this array, specifying the event number within sqaure brackets. Remember the first event is [0]. \n",
    "</details>"
   ]
  },
  {
   "cell_type": "markdown",
   "metadata": {},
   "source": [
    "<details>\n",
    "    <summary>Click here for hint 3: </summary>\n",
    "    Numpy has two functions, .min() and .max(), that return the minimum and maximum values of an array.\n",
    "</details>"
   ]
  },
  {
   "cell_type": "code",
   "execution_count": null,
   "metadata": {},
   "outputs": [],
   "source": [
    "import numpy as np\n",
    "\n",
    "jet_n = my_tree[###].array(###)\n",
    "minimum = np.min(###)\n",
    "maximum = np.max(###)\n",
    "print(\"Minimum number of jets:\", ###)\n",
    "print(\"Maximum number of jets;\", ###)\n",
    "      \n",
    "#Peek inside the first event using list indexing\n",
    "jet_n_Event1 = jet_n[#] \n",
    "print(\"Number of jets in Event 1:\", ###)"
   ]
  },
  {
   "cell_type": "markdown",
   "metadata": {},
   "source": [
    "<details>\n",
    "    <summary>Answer: </summary>\n",
    "        \n",
    "    import numpy as np\n",
    "\n",
    "    jet_n = my_tree[\"jet_n\"].array(library=\"np\")\n",
    "    minimum = np.min(jet_n)\n",
    "    maximum = np.max(jet_n)  \n",
    "    print(\"Minimum number of jets:\", minimum)\n",
    "    print(\"Maximum number of jets;\", maximum)\n",
    "    \n",
    "    jet_n_Event1 = jet_n[0]\n",
    "    print(\"Number of jets in Event 1:\", jet_n_Event1)\n",
    "</details>"
   ]
  },
  {
   "cell_type": "markdown",
   "metadata": {},
   "source": [
    "[Return to contents](#c)"
   ]
  },
  {
   "cell_type": "markdown",
   "metadata": {},
   "source": [
    "---"
   ]
  },
  {
   "cell_type": "markdown",
   "metadata": {},
   "source": [
    "## Step 2: Getting ready to display histograms <a name=\"2.\"></a>"
   ]
  },
  {
   "cell_type": "markdown",
   "metadata": {},
   "source": [
    "Before we can display any histograms, we must import a few modules:\n",
    "- `hist` is a library that handles the generation and customization of histograms\n",
    "- `Hist` is a module from `hist` that allows for the generation of a basic histogram"
   ]
  },
  {
   "cell_type": "code",
   "execution_count": 12,
   "metadata": {},
   "outputs": [],
   "source": [
    "import hist\n",
    "from hist import Hist"
   ]
  },
  {
   "cell_type": "markdown",
   "metadata": {},
   "source": [
    "Let's generate a regular histogram using `Hist`; we'll use the `hist.axis.Regular()` option, which takes arguments `(bins, lower_lim, upper_lim, label = \"axis label\")`.  Here, the **bins** of our histogram are 'slices' of the range of values we fill our histogram with.  But what to fill our histogram with?"
   ]
  },
  {
   "cell_type": "markdown",
   "metadata": {},
   "source": [
    "A simple choice would be the number of leptons, as we can guess the number of bins and both the upper and lower limits fairly easily; the smallest number of leptons would be $0$ and the largest number $4$ - this corresponds to 5 bins ($0,1,2,3,4$), a lower limit of $0$ and an upper limit of $4$.  Let's implement this:"
   ]
  },
  {
   "cell_type": "code",
   "execution_count": 13,
   "metadata": {},
   "outputs": [],
   "source": [
    "hist1 = Hist(hist.axis.Regular(5, -0.5, 4.5, label = \"Number of leptons\"))"
   ]
  },
  {
   "cell_type": "markdown",
   "metadata": {},
   "source": [
    "Note the offset of 0.5 in the range arguments. This shifts the bins so they are centred on 0,1,2,3,4 rather than \n",
    "having their leftmost edges on those values, as is the default.\n",
    "\n",
    "<div class=\"alert alert-info\">We don't expect any output to be printed from this step - all we're doing here is telling python the details of the histogram we're planning to fill.</div>"
   ]
  },
  {
   "cell_type": "markdown",
   "metadata": {},
   "source": [
    "### Over to you"
   ]
  },
  {
   "cell_type": "markdown",
   "metadata": {},
   "source": [
    "__4)__ Create a template histogram called \"Number of jets\" to display your plot."
   ]
  },
  {
   "cell_type": "markdown",
   "metadata": {},
   "source": [
    "<details>\n",
    "    <summary>Click here for hint 1: </summary>\n",
    "    Use the minimum (-0.5) and maximum number of jets (9.5) for your axis limits.\n",
    "</details>"
   ]
  },
  {
   "cell_type": "markdown",
   "metadata": {},
   "source": [
    "<details>\n",
    "    <summary>Click here for hint 2: </summary>\n",
    "    Use the maximum number of jets for your bin numbers.\n",
    "</details>"
   ]
  },
  {
   "cell_type": "code",
   "execution_count": null,
   "metadata": {},
   "outputs": [],
   "source": [
    "my_hist = Hist(hist.axis.Regular(###, ###, ###, label = ###))"
   ]
  },
  {
   "cell_type": "markdown",
   "metadata": {},
   "source": [
    "<details>\n",
    "    <summary>Click here for the answer: </summary>\n",
    "        \n",
    "    my_hist = Hist(hist.axis.Regular(5, -0.5, 9.5, label = \"Number of jets\"))\n",
    "</details>"
   ]
  },
  {
   "cell_type": "markdown",
   "metadata": {},
   "source": [
    "[Return to contents](#c)"
   ]
  },
  {
   "cell_type": "markdown",
   "metadata": {},
   "source": [
    "---"
   ]
  },
  {
   "cell_type": "markdown",
   "metadata": {},
   "source": [
    "## Step 3: Filling histograms <a name=\"3.\"></a>"
   ]
  },
  {
   "cell_type": "markdown",
   "metadata": {},
   "source": [
    "Now to fill our histogram!  The first step is to extract the number of leptons from our TTree using `uproot`.  We'll want to extract it in the form of a `numpy` array like so:"
   ]
  },
  {
   "cell_type": "code",
   "execution_count": 14,
   "metadata": {},
   "outputs": [],
   "source": [
    "lep_n = my_tree[\"lep_n\"].array(library=\"np\")"
   ]
  },
  {
   "cell_type": "markdown",
   "metadata": {},
   "source": [
    "This is the data we shall use to fill our histogram using the `.fill()` function from `hist`.  It's very simple:"
   ]
  },
  {
   "cell_type": "code",
   "execution_count": 15,
   "metadata": {},
   "outputs": [
    {
     "data": {
      "text/html": [
       "<html>\n",
       "<div style=\"display:flex; align-items:center;\">\n",
       "<div style=\"width:290px;\">\n",
       "<svg xmlns=\"http://www.w3.org/2000/svg\" viewBox=\"-10 -105 270 120\">\n",
       "<line x1=\"-5\" y1=\"0\" x2=\"255\" y2=\"0\" style=\"fill:none;stroke-width:2;stroke:currentColor\"/>\n",
       "<text text-anchor=\"middle\" x=\"0\" y=\"15\" style=\"fill:currentColor;\">\n",
       "-0.5\n",
       "</text>\n",
       "<text text-anchor=\"middle\" x=\"250\" y=\"15\" style=\"fill:currentColor;\">\n",
       "4.5\n",
       "</text>\n",
       "<text text-anchor=\"middle\" x=\"125.0\" y=\"15\" style=\"fill:currentColor;\">\n",
       "Number of leptons\n",
       "</text>\n",
       "<polyline points=\"  0,0   0,-0  50,-0  50,-38.7 100,-38.7 100,-100 150,-100 150,-0.634 200,-0.634 200,-0.00779 250,-0.00779 250,0\" style=\"fill:none; stroke:currentColor;\"/>\n",
       "</svg>\n",
       "</div>\n",
       "<div style=\"flex=grow:1;\">\n",
       "Regular(5, -0.5, 4.5, label='Number of leptons')<br/>\n",
       "<hr style=\"margin-top:.2em; margin-bottom:.2em;\"/>\n",
       "Double() Σ=53653.0\n",
       "\n",
       "</div>\n",
       "</div>\n",
       "</html>"
      ],
      "text/plain": [
       "Hist(Regular(5, -0.5, 4.5, label='Number of leptons'), storage=Double()) # Sum: 53653.0"
      ]
     },
     "execution_count": 15,
     "metadata": {},
     "output_type": "execute_result"
    }
   ],
   "source": [
    "hist1.fill(lep_n)"
   ]
  },
  {
   "cell_type": "markdown",
   "metadata": {},
   "source": [
    "To properly render our histogram, we'll need to plot it using the `.plot()` function from `hist` and the `plt.show()` function from `matplotlib`.  Let's import `matplotlib` and do exactly this."
   ]
  },
  {
   "cell_type": "code",
   "execution_count": 16,
   "metadata": {},
   "outputs": [
    {
     "data": {
      "image/png": "[encoded data removed]",
      "text/plain": [
       "<Figure size 432x288 with 1 Axes>"
      ]
     },
     "metadata": {
      "needs_background": "light"
     },
     "output_type": "display_data"
    }
   ],
   "source": [
    "hist1.plot()\n",
    "plt.show()"
   ]
  },
  {
   "cell_type": "markdown",
   "metadata": {},
   "source": [
    "<div class=\"alert alert-info\">In later examples, we'll be more picky about the events we put in our histogram, skipping some events in the tree if they don't meet certain criteria. This is called making cuts.</div>"
   ]
  },
  {
   "cell_type": "markdown",
   "metadata": {},
   "source": [
    "### Over to you"
   ]
  },
  {
   "cell_type": "markdown",
   "metadata": {},
   "source": [
    "__5)__ Fill your histogram with the number of jets in each event."
   ]
  },
  {
   "cell_type": "markdown",
   "metadata": {},
   "source": [
    "<details>\n",
    "    <summary>Click here for hint 1: </summary>\n",
    "        Remember: we've already made a template histogram.\n",
    "</details>"
   ]
  },
  {
   "cell_type": "markdown",
   "metadata": {},
   "source": [
    "<details>\n",
    "    <summary>Click here for hint 2: </summary>\n",
    "        The data you're after is \"jet_n\".\n",
    "</details>"
   ]
  },
  {
   "cell_type": "code",
   "execution_count": null,
   "metadata": {},
   "outputs": [],
   "source": [
    "my_hist.fill(###)\n",
    "my_hist.###\n",
    "plt.###\n",
    "  "
   ]
  },
  {
   "cell_type": "markdown",
   "metadata": {},
   "source": [
    "<details>\n",
    "    <summary>Click here for the answer: </summary>\n",
    "        \n",
    "    my_hist.fill(jet_n)\n",
    "    my_hist.plot()\n",
    "    plt.show()\n",
    "</details>"
   ]
  },
  {
   "cell_type": "markdown",
   "metadata": {},
   "source": [
    "[Return to contents](#c)"
   ]
  },
  {
   "cell_type": "markdown",
   "metadata": {},
   "source": [
    "---"
   ]
  },
  {
   "cell_type": "markdown",
   "metadata": {},
   "source": [
    "## Step 4: Drawing histograms <a name=\"4.\"></a>"
   ]
  },
  {
   "cell_type": "markdown",
   "metadata": {},
   "source": [
    "Adding a title to a histogram is fairly easy - you simply pass `plt.title()`."
   ]
  },
  {
   "cell_type": "code",
   "execution_count": 17,
   "metadata": {},
   "outputs": [
    {
     "data": {
      "image/png": "[encoded data removed]",
      "text/plain": [
       "<Figure size 432x288 with 1 Axes>"
      ]
     },
     "metadata": {
      "needs_background": "light"
     },
     "output_type": "display_data"
    }
   ],
   "source": [
    "hist2 = Hist(hist.axis.Regular(5, -0.5, 4.5, label = \"Number\"))\n",
    "hist2.fill(lep_n)\n",
    "hist2.plot()\n",
    "plt.title(\"Number of leptons in a 13 TeV dataset\")\n",
    "plt.show()"
   ]
  },
  {
   "cell_type": "markdown",
   "metadata": {},
   "source": [
    "We can also include multiple histograms on the same axis, which is useful if you're trying to look for a particularly elusive particle.  Let's start by accessing the necessary `.root` files."
   ]
  },
  {
   "cell_type": "code",
   "execution_count": 18,
   "metadata": {},
   "outputs": [],
   "source": [
    "tr1 = uproot.open(\"https://atlas-opendata.web.cern.ch/atlas-opendata/samples/2020/1largeRjet1lep/MC/mc_363491.lllv.1largeRjet1lep.root:mini\")\n",
    "lep_n1 = tr1[\"lep_n\"].array(library = \"np\")"
   ]
  },
  {
   "cell_type": "code",
   "execution_count": 19,
   "metadata": {},
   "outputs": [],
   "source": [
    "tr2 = uproot.open(\"https://atlas-opendata.web.cern.ch/atlas-opendata/samples/2020/1largeRjet1lep/MC/mc_363492.llvv.1largeRjet1lep.root:mini\")\n",
    "lep_n2 = tr2[\"lep_n\"].array(library = \"np\")"
   ]
  },
  {
   "cell_type": "code",
   "execution_count": 20,
   "metadata": {},
   "outputs": [],
   "source": [
    "tr3 = uproot.open(\"https://atlas-opendata.web.cern.ch/atlas-opendata/samples/2020/1largeRjet1lep/MC/mc_363493.lvvv.1largeRjet1lep.root:mini\")\n",
    "lep_n3 = tr3[\"lep_n\"].array(library = \"np\")"
   ]
  },
  {
   "cell_type": "markdown",
   "metadata": {},
   "source": [
    "Here, the events in question produced leptons and their associated neutrinos.  We're curious as to how many leptons were produced in each event and how these numbers compare, so overlapping our histograms would be preferable. This is a straightforward process. You can fill three separate histograms, and plot them one after the other. Everytime you run `plot()`, it will draw the histogram on top of what is already there. Of course run `plt.show()` to display what you have drawn. Run the cells below as an example."
   ]
  },
  {
   "cell_type": "code",
   "execution_count": 21,
   "metadata": {},
   "outputs": [],
   "source": [
    "#Create the histgrams\n",
    "\n",
    "ax1 = Hist(hist.axis.Regular(5, -0.5, 4.5, label = \"Number of leptons\"))\n",
    "ax2 = Hist(hist.axis.Regular(5, -0.5, 4.5, label = \"Number of leptons\"))\n",
    "ax3 = Hist(hist.axis.Regular(5, -0.5, 4.5, label = \"Number of leptons\"))"
   ]
  },
  {
   "cell_type": "code",
   "execution_count": 22,
   "metadata": {},
   "outputs": [
    {
     "data": {
      "text/html": [
       "<html>\n",
       "<div style=\"display:flex; align-items:center;\">\n",
       "<div style=\"width:290px;\">\n",
       "<svg xmlns=\"http://www.w3.org/2000/svg\" viewBox=\"-10 -105 270 120\">\n",
       "<line x1=\"-5\" y1=\"0\" x2=\"255\" y2=\"0\" style=\"fill:none;stroke-width:2;stroke:currentColor\"/>\n",
       "<text text-anchor=\"middle\" x=\"0\" y=\"15\" style=\"fill:currentColor;\">\n",
       "-0.5\n",
       "</text>\n",
       "<text text-anchor=\"middle\" x=\"250\" y=\"15\" style=\"fill:currentColor;\">\n",
       "4.5\n",
       "</text>\n",
       "<text text-anchor=\"middle\" x=\"125.0\" y=\"15\" style=\"fill:currentColor;\">\n",
       "Number of leptons\n",
       "</text>\n",
       "<polyline points=\"  0,0   0,-0  50,-0  50,-100 100,-100 100,-0.712 150,-0.712 150,-0.00373 200,-0.00373 200,-0 250,-0 250,0\" style=\"fill:none; stroke:currentColor;\"/>\n",
       "</svg>\n",
       "</div>\n",
       "<div style=\"flex=grow:1;\">\n",
       "Regular(5, -0.5, 4.5, label='Number of leptons')<br/>\n",
       "<hr style=\"margin-top:.2em; margin-bottom:.2em;\"/>\n",
       "Double() Σ=188814.0\n",
       "\n",
       "</div>\n",
       "</div>\n",
       "</html>"
      ],
      "text/plain": [
       "Hist(Regular(5, -0.5, 4.5, label='Number of leptons'), storage=Double()) # Sum: 188814.0"
      ]
     },
     "execution_count": 22,
     "metadata": {},
     "output_type": "execute_result"
    }
   ],
   "source": [
    "#Fill the histograms\n",
    "\n",
    "ax1.fill(lep_n1)\n",
    "ax2.fill(lep_n2)\n",
    "ax3.fill(lep_n3)"
   ]
  },
  {
   "cell_type": "code",
   "execution_count": 23,
   "metadata": {},
   "outputs": [
    {
     "data": {
      "image/png": "[encoded data removed]",
      "text/plain": [
       "<Figure size 432x288 with 1 Axes>"
      ]
     },
     "metadata": {
      "needs_background": "light"
     },
     "output_type": "display_data"
    }
   ],
   "source": [
    "#Draw one histogram on top of the other and then display the final plot\n",
    "\n",
    "ax1.plot()\n",
    "ax2.plot()\n",
    "ax3.plot()\n",
    "\n",
    "plt.show()"
   ]
  },
  {
   "cell_type": "markdown",
   "metadata": {},
   "source": [
    "Rather than overlay the histograms this stacks the bin contents on top of each other. This is for useful when you want to add data. We can simply add the histograms and then plot the sum"
   ]
  },
  {
   "cell_type": "code",
   "execution_count": 24,
   "metadata": {},
   "outputs": [
    {
     "data": {
      "image/png": "[encoded data removed]",
      "text/plain": [
       "<Figure size 432x288 with 1 Axes>"
      ]
     },
     "metadata": {
      "needs_background": "light"
     },
     "output_type": "display_data"
    }
   ],
   "source": [
    "histo_sum = ax1+ax2+ax3\n",
    "histo_sum.plot()\n",
    "plt.show()"
   ]
  },
  {
   "cell_type": "markdown",
   "metadata": {},
   "source": [
    "We can also use the `.stack()` function from `hist`, to overlay or stack histograms, though we'll need to prepare a little first. "
   ]
  },
  {
   "cell_type": "markdown",
   "metadata": {},
   "source": [
    "Let's start with the axis of our template histogram, which will be the same as our previous histogram on lepton numbers."
   ]
  },
  {
   "cell_type": "code",
   "execution_count": 25,
   "metadata": {},
   "outputs": [],
   "source": [
    "ax = hist.axis.Regular(5, -0.5, 4.5, flow=False, name = \"Number of leptons\")"
   ]
  },
  {
   "cell_type": "markdown",
   "metadata": {},
   "source": [
    "Now we need a 'category axis' or `cax`, which operates in a similar manner to a dictionary.  Its $1^{st}$ argument is a list of histogram labels and its $2^{nd}$ argument is a label for the collective axis.  In effect, each histogram label is like a key, linking each histogram to its name, color and position."
   ]
  },
  {
   "cell_type": "code",
   "execution_count": 26,
   "metadata": {},
   "outputs": [],
   "source": [
    "cax = hist.axis.StrCategory([\"lllv\", \"llvv\", \"lvvv\"], name = \"c\")"
   ]
  },
  {
   "attachments": {},
   "cell_type": "markdown",
   "metadata": {},
   "source": [
    "Now to generate our 'stacked' histogram.  `Hist()` actually takes two arguments - the *axis* and the *category axis*. Here l stands for a lepton and v a neutrino, so we are considering the cases of three leptons and one neutrino, two leptons and two neutrinos and one lepton and three neutrinos."
   ]
  },
  {
   "cell_type": "code",
   "execution_count": 27,
   "metadata": {},
   "outputs": [],
   "source": [
    "full_hist = Hist(ax, cax)"
   ]
  },
  {
   "cell_type": "markdown",
   "metadata": {},
   "source": [
    "`.fill()` also takes two arguments - *data* and *category*.  Let's fill for each dataset."
   ]
  },
  {
   "cell_type": "code",
   "execution_count": 28,
   "metadata": {},
   "outputs": [
    {
     "data": {
      "text/html": [
       "<html>\n",
       "<div style=\"display:flex; align-items:center;\">\n",
       "<div style=\"width:290px;\">\n",
       "<svg xmlns=\"http://www.w3.org/2000/svg\" viewBox=\"-20 -270 290 290\">\n",
       "<text text-anchor=\"middle\" x=\"0\" y=\"13\" style=\"fill:currentColor;\">\n",
       "-0.5\n",
       "</text>\n",
       "<text text-anchor=\"middle\" x=\"250\" y=\"13\" style=\"fill:currentColor;\">\n",
       "4.5\n",
       "</text>\n",
       "<text text-anchor=\"middle\" x=\"-10\" y=\"0\" style=\"fill:currentColor;\">\n",
       "0\n",
       "</text>\n",
       "<text text-anchor=\"middle\" x=\"-10\" y=\"-250\" style=\"fill:currentColor;\">\n",
       "3\n",
       "</text>\n",
       "<text text-anchor=\"middle\" x=\"125.0\" y=\"13\" style=\"fill:currentColor;\">\n",
       "Number of leptons\n",
       "</text>\n",
       "<text text-anchor=\"middle\" x=\"-10\" y=\"-125.0\" transform=\"rotate(-90,-10,-125.0)\" style=\"fill:currentColor;\">\n",
       "c\n",
       "</text>\n",
       "<rect x=\"0.0\" y=\"-83.33333333333333\" width=\"50.0\" height=\"83.333\" opacity=\"0.0\" fill=\"currentColor\" stroke-width=\"0.1\"/>\n",
       "<rect x=\"50.0\" y=\"-83.33333333333333\" width=\"50.0\" height=\"83.333\" opacity=\"0.5200148162185909\" fill=\"currentColor\" stroke-width=\"0.1\"/>\n",
       "<rect x=\"100.0\" y=\"-83.33333333333333\" width=\"50.0\" height=\"83.333\" opacity=\"0.6951132320891733\" fill=\"currentColor\" stroke-width=\"0.1\"/>\n",
       "<rect x=\"149.99999999999997\" y=\"-83.33333333333333\" width=\"50.0\" height=\"83.333\" opacity=\"0.5405507843120362\" fill=\"currentColor\" stroke-width=\"0.1\"/>\n",
       "<rect x=\"200.0\" y=\"-83.33333333333333\" width=\"50.0\" height=\"83.333\" opacity=\"0.004052924911059618\" fill=\"currentColor\" stroke-width=\"0.1\"/>\n",
       "<rect x=\"0.0\" y=\"-166.66666666666666\" width=\"50.0\" height=\"83.333\" opacity=\"0.0\" fill=\"currentColor\" stroke-width=\"0.1\"/>\n",
       "<rect x=\"50.0\" y=\"-166.66666666666666\" width=\"50.0\" height=\"83.333\" opacity=\"1.0\" fill=\"currentColor\" stroke-width=\"0.1\"/>\n",
       "<rect x=\"100.0\" y=\"-166.66666666666666\" width=\"50.0\" height=\"83.333\" opacity=\"0.9787232209770094\" fill=\"currentColor\" stroke-width=\"0.1\"/>\n",
       "<rect x=\"149.99999999999997\" y=\"-166.66666666666666\" width=\"50.0\" height=\"83.333\" opacity=\"0.0069214137429041474\" fill=\"currentColor\" stroke-width=\"0.1\"/>\n",
       "<rect x=\"200.0\" y=\"-166.66666666666666\" width=\"50.0\" height=\"83.333\" opacity=\"6.0298564032767965e-05\" fill=\"currentColor\" stroke-width=\"0.1\"/>\n",
       "<rect x=\"0.0\" y=\"-250.0\" width=\"50.0\" height=\"83.333\" opacity=\"0.0\" fill=\"currentColor\" stroke-width=\"0.1\"/>\n",
       "<rect x=\"50.0\" y=\"-250.0\" width=\"50.0\" height=\"83.333\" opacity=\"0.8074537639225077\" fill=\"currentColor\" stroke-width=\"0.1\"/>\n",
       "<rect x=\"100.0\" y=\"-250.0\" width=\"50.0\" height=\"83.333\" opacity=\"0.0057455917442651785\" fill=\"currentColor\" stroke-width=\"0.1\"/>\n",
       "<rect x=\"149.99999999999997\" y=\"-250.0\" width=\"50.0\" height=\"83.333\" opacity=\"3.014928201638397e-05\" fill=\"currentColor\" stroke-width=\"0.1\"/>\n",
       "<rect x=\"200.0\" y=\"-250.0\" width=\"50.0\" height=\"83.333\" opacity=\"0.0\" fill=\"currentColor\" stroke-width=\"0.1\"/>\n",
       "</svg>\n",
       "</div>\n",
       "<div style=\"flex=grow:1;\">\n",
       "Regular(5, -0.5, 4.5, underflow=False, overflow=False, name='Number of leptons', label='Number of leptons')<br/>\n",
       "StrCategory(['lllv', 'llvv', 'lvvv'], name='c', label='c')<br/>\n",
       "<hr style=\"margin-top:.2em; margin-bottom:.2em;\"/>\n",
       "Double() Σ=1058422.0\n",
       "\n",
       "</div>\n",
       "</div>\n",
       "</html>"
      ],
      "text/plain": [
       "Hist(\n",
       "  Regular(5, -0.5, 4.5, underflow=False, overflow=False, name='Number of leptons', label='Number of leptons'),\n",
       "  StrCategory(['lllv', 'llvv', 'lvvv'], name='c', label='c'),\n",
       "  storage=Double()) # Sum: 1058422.0"
      ]
     },
     "execution_count": 28,
     "metadata": {},
     "output_type": "execute_result"
    }
   ],
   "source": [
    "full_hist.fill(lep_n1, c = \"lllv\")\n",
    "full_hist.fill(lep_n2, c = \"llvv\")\n",
    "full_hist.fill(lep_n3, c = \"lvvv\")"
   ]
  },
  {
   "cell_type": "markdown",
   "metadata": {},
   "source": [
    "Yep, this is impossible to read - particularly as we have no idea which monochrome shade represents which dataset! Lets use the stack method and specify the name of the  label \"c\". This will overlay this histograms."
   ]
  },
  {
   "cell_type": "code",
   "execution_count": 29,
   "metadata": {},
   "outputs": [
    {
     "data": {
      "text/plain": [
       "[StairsArtists(stairs=<matplotlib.patches.StepPatch object at 0x7fafbe4256a0>, errorbar=<ErrorbarContainer object of 3 artists>, legend_artist=<ErrorbarContainer object of 3 artists>),\n",
       " StairsArtists(stairs=<matplotlib.patches.StepPatch object at 0x7fafbe436940>, errorbar=<ErrorbarContainer object of 3 artists>, legend_artist=<ErrorbarContainer object of 3 artists>),\n",
       " StairsArtists(stairs=<matplotlib.patches.StepPatch object at 0x7fafbe469e50>, errorbar=<ErrorbarContainer object of 3 artists>, legend_artist=<ErrorbarContainer object of 3 artists>)]"
      ]
     },
     "execution_count": 29,
     "metadata": {},
     "output_type": "execute_result"
    },
    {
     "data": {
      "image/png": "[encoded data removed]",
      "text/plain": [
       "<Figure size 432x288 with 1 Axes>"
      ]
     },
     "metadata": {
      "needs_background": "light"
     },
     "output_type": "display_data"
    }
   ],
   "source": [
    "s = full_hist.stack(\"c\")\n",
    "s.plot()"
   ]
  },
  {
   "cell_type": "markdown",
   "metadata": {},
   "source": [
    "This looks the same as the output from our previous overlay method, as it should! This plot is slightly more discernible, but we still don't know which histogram is which!  We should add  a title and a legend to properly render our stacked histogram, as well as fill it in so the coloured regions are more visible."
   ]
  },
  {
   "cell_type": "code",
   "execution_count": 30,
   "metadata": {},
   "outputs": [
    {
     "data": {
      "image/png": "[encoded data removed]",
      "text/plain": [
       "<Figure size 432x288 with 1 Axes>"
      ]
     },
     "metadata": {
      "needs_background": "light"
     },
     "output_type": "display_data"
    }
   ],
   "source": [
    "s = full_hist.stack(\"c\")\n",
    "s.plot(histtype = \"fill\")\n",
    "plt.title(\"Lepton counts per event for multiple datasets\")\n",
    "plt.legend()\n",
    "plt.show()"
   ]
  },
  {
   "cell_type": "markdown",
   "metadata": {},
   "source": [
    "Here, we've used the condition `histtype = \"fill\"` when plotting our histogram."
   ]
  },
  {
   "cell_type": "markdown",
   "metadata": {},
   "source": [
    "We can 'stack' this histograms so that the bin contents are added. We can do this by setting the stack option to True as follows "
   ]
  },
  {
   "cell_type": "code",
   "execution_count": 31,
   "metadata": {},
   "outputs": [
    {
     "data": {
      "image/png": "[encoded data removed]",
      "text/plain": [
       "<Figure size 432x288 with 1 Axes>"
      ]
     },
     "metadata": {
      "needs_background": "light"
     },
     "output_type": "display_data"
    }
   ],
   "source": [
    "s.plot(stack=True, histtype = \"fill\")\n",
    "plt.title(\"Lepton counts per event for multiple datasets\")\n",
    "plt.legend()\n",
    "plt.show()"
   ]
  },
  {
   "cell_type": "markdown",
   "metadata": {},
   "source": [
    "Again the bin contents look the same as our previous method of just adding the histograms"
   ]
  },
  {
   "cell_type": "markdown",
   "metadata": {},
   "source": [
    "Below is an example showing the steps from opening a root file, filling a histogram and plotting the data"
   ]
  },
  {
   "cell_type": "code",
   "execution_count": 32,
   "metadata": {},
   "outputs": [
    {
     "data": {
      "image/png": "[encoded data removed]",
      "text/plain": [
       "<Figure size 432x288 with 1 Axes>"
      ]
     },
     "metadata": {
      "needs_background": "light"
     },
     "output_type": "display_data"
    }
   ],
   "source": [
    "f = uproot.open(\"http://opendata.atlas.cern/release/samples/MC/mc_105987.WZ.root\")\n",
    "tree = f[\"mini\"]\n",
    "lep_n = tree[\"lep_n\"].array(library=\"np\")\n",
    "lep_n\n",
    "\n",
    "hist_n = Hist(hist.axis.Regular(5, -0.5, 4.5, label = \"Number\"))\n",
    "hist_n.fill(lep_n)\n",
    "\n",
    "hist_n.plot(histtype = \"fill\")\n",
    "plt.title(\"Lepton counts per event for multiple datasets\")\n",
    "plt.show()"
   ]
  },
  {
   "cell_type": "markdown",
   "metadata": {},
   "source": [
    "As for all of the datapoints located at the bottom of the fitted curve, these are a result of the extra bins - only the integer-valued bins have a non-zero value for the number of leptons, so the rest all take values of zero."
   ]
  },
  {
   "cell_type": "markdown",
   "metadata": {},
   "source": [
    "### Over to you"
   ]
  },
  {
   "cell_type": "markdown",
   "metadata": {},
   "source": [
    "__6)__ Display multiple histograms for lepton number on the same plot.  You'll need the below files:\n",
    "- 4 leptons - https://atlas-opendata.web.cern.ch/atlas-opendata/samples/2020/4lep/MC/mc_363490.llll.4lep.root\n",
    "- 3 leptons - https://atlas-opendata.web.cern.ch/atlas-opendata/samples/2020/1largeRjet1lep/MC/mc_363491.lllv.1largeRjet1lep.root\n",
    "- 2 leptons - https://atlas-opendata.web.cern.ch/atlas-opendata/samples/2020/1largeRjet1lep/MC/mc_363492.llvv.1largeRjet1lep.root\n",
    "- 1 lepton - https://atlas-opendata.web.cern.ch/atlas-opendata/samples/2020/1largeRjet1lep/MC/mc_363493.lvvv.1largeRjet1lep.root"
   ]
  },
  {
   "cell_type": "markdown",
   "metadata": {},
   "source": [
    "<details>\n",
    "    <summary>Click here for hint 1: </summary>\n",
    "        You'll need to access the TTree data for lepton number 4 separate times, 1 for each dataset.\n",
    "</details>"
   ]
  },
  {
   "cell_type": "markdown",
   "metadata": {},
   "source": [
    "<details>\n",
    "    <summary>Click here for hint 2: </summary>\n",
    "        Think about the bin numbers and boundaries for your axis, and remember that we have 4 datasets now when generating the category axis.\n",
    "</details>"
   ]
  },
  {
   "cell_type": "markdown",
   "metadata": {},
   "source": [
    "<details>\n",
    "    <summary>Click here for hint 3: </summary>\n",
    "        You'll need to fill your template histogram 4 times.\n",
    "</details>"
   ]
  },
  {
   "cell_type": "code",
   "execution_count": null,
   "metadata": {},
   "outputs": [],
   "source": [
    "### Repeat for each root file\n",
    "tr1 = uproot.open(###)\n",
    "lep_n1 = tr1[###].array(###)\n",
    "\n",
    "### Repeat 4 times\n",
    "\n",
    "ax = hist.axis.Regular(###)\n",
    "cax = hist.axis.StrCategory([###], name = ###)\n",
    "full_hist = Hist(###, ###)\n",
    "\n",
    "full_hist.fill(###, c = ###)\n",
    "### Repeat 4 times\n",
    "\n",
    "s = full_hist.stack(###)\n",
    "s.###\n",
    "plt.title(###)\n",
    "plt.###\n",
    "plt.###"
   ]
  },
  {
   "cell_type": "markdown",
   "metadata": {},
   "source": [
    "<details>\n",
    "    <summary>Click here for the answer: </summary>\n",
    "        \n",
    "    tr1 = uproot.open(\"https://atlas-opendata.web.cern.ch/atlas-opendata/samples/2020/4lep/MC/mc_363490.llll.4lep.root:mini\")\n",
    "    lep_n1 = tr1[\"lep_n\"].array(library = \"np\")\n",
    "    \n",
    "    tr2 = uproot.open(\"https://atlas-opendata.web.cern.ch/atlas-opendata/samples/2020/1largeRjet1lep/MC/mc_363491.lllv.1largeRjet1lep.root:mini\")\n",
    "    lep_n2 = tr2[\"lep_n\"].array(library = \"np\")\n",
    "    \n",
    "    tr3 = uproot.open(\"https://atlas-opendata.web.cern.ch/atlas-opendata/samples/2020/1largeRjet1lep/MC/mc_363492.llvv.1largeRjet1lep.root:mini\")\n",
    "    lep_n3 = tr3[\"lep_n\"].array(library = \"np\")\n",
    "    \n",
    "    tr4 = uproot.open(\"https://atlas-opendata.web.cern.ch/atlas-opendata/samples/2020/1largeRjet1lep/MC/mc_363493.lvvv.1largeRjet1lep.root:mini\")\n",
    "    lep_n4 = tr4[\"lep_n\"].array(library = \"np\")\n",
    "\n",
    "    ax = hist.axis.Regular(5, -0.5, 5.5, flow=False, name = \"Number of leptons\")\n",
    "    cax = hist.axis.StrCategory([\"4l\", \"3l1v\", \"2l2v\", \"1l3v\"], name = \"c\")\n",
    "    full_hist = Hist(ax, cax)\n",
    "    \n",
    "    full_hist.fill(lep_n1, c = \"4l\")\n",
    "    full_hist.fill(lep_n2, c = \"3l1v\")\n",
    "    full_hist.fill(lep_n3, c = \"2l2v\")\n",
    "    full_hist.fill(lep_n4, c = \"1l3v\")\n",
    "    \n",
    "    s = full_hist.stack(\"c\")\n",
    "    s.plot()\n",
    "    plt.title(\"Lepton counts per event for multiple datasets\")\n",
    "    plt.legend()\n",
    "    plt.show()\n",
    "</details>"
   ]
  },
  {
   "cell_type": "markdown",
   "metadata": {},
   "source": [
    "[Return to contents](#c)"
   ]
  },
  {
   "cell_type": "markdown",
   "metadata": {},
   "source": [
    "---"
   ]
  },
  {
   "cell_type": "markdown",
   "metadata": {},
   "source": [
    "## Step 5: Normalising histograms <a name=\"5.\"></a>"
   ]
  },
  {
   "cell_type": "markdown",
   "metadata": {},
   "source": [
    "Often, we are more interested in the __proportions__ of our histogram than the absolute number of events it contains (which can change depending on what dataset you use).  Our final step will be to rescale the y-axis of our histogram to that the histogram's total is equal to 1. This is called __normalisation__."
   ]
  },
  {
   "cell_type": "markdown",
   "metadata": {},
   "source": [
    "Firstly, we must extract the bin values (heights) as an array, which can be done with the `.values` function."
   ]
  },
  {
   "cell_type": "code",
   "execution_count": 33,
   "metadata": {},
   "outputs": [],
   "source": [
    "arr1 = hist1.values()"
   ]
  },
  {
   "cell_type": "markdown",
   "metadata": {},
   "source": [
    "We use the `.sum()` function on our array of bin values to sum the values it contains, then create a new array containing each of the original bin values divided by the sum."
   ]
  },
  {
   "cell_type": "code",
   "execution_count": 34,
   "metadata": {},
   "outputs": [],
   "source": [
    "arr2 = arr1/arr1.sum()"
   ]
  },
  {
   "cell_type": "markdown",
   "metadata": {},
   "source": [
    "Let's make a new template histogram:"
   ]
  },
  {
   "cell_type": "code",
   "execution_count": 35,
   "metadata": {},
   "outputs": [],
   "source": [
    "hist3 = Hist(hist.axis.Regular(5, -0.5, 4.5, flow=False, label = \"Number of leptons\"))"
   ]
  },
  {
   "cell_type": "markdown",
   "metadata": {},
   "source": [
    "Now we assign our normalised bin values to the original bin values.  Here, we use the length of our `values()` array to refer to the index - simply remove 1 from the full length to refer to the final value, as typical of Python indexing."
   ]
  },
  {
   "cell_type": "code",
   "execution_count": 36,
   "metadata": {},
   "outputs": [],
   "source": [
    "binsize = hist1.values()\n",
    "uplim = len(binsize)\n",
    "hist3[0:uplim] = arr2[0:uplim]"
   ]
  },
  {
   "cell_type": "markdown",
   "metadata": {},
   "source": [
    "Let's see what we get!"
   ]
  },
  {
   "cell_type": "code",
   "execution_count": 37,
   "metadata": {},
   "outputs": [
    {
     "data": {
      "image/png": "[encoded data removed]",
      "text/plain": [
       "<Figure size 432x288 with 1 Axes>"
      ]
     },
     "metadata": {
      "needs_background": "light"
     },
     "output_type": "display_data"
    }
   ],
   "source": [
    "hist3.plot(histtype=\"fill\")\n",
    "plt.show()"
   ]
  },
  {
   "cell_type": "markdown",
   "metadata": {},
   "source": [
    "Now let's show that this is normalised - we've already used the function required to do this!"
   ]
  },
  {
   "cell_type": "code",
   "execution_count": 38,
   "metadata": {},
   "outputs": [
    {
     "name": "stdout",
     "output_type": "stream",
     "text": [
      "1.0\n"
     ]
    }
   ],
   "source": [
    "print(hist3.sum())"
   ]
  },
  {
   "cell_type": "markdown",
   "metadata": {},
   "source": [
    "### Over to you"
   ]
  },
  {
   "cell_type": "markdown",
   "metadata": {},
   "source": [
    "__6)__ Normalise your histogram and redraw it."
   ]
  },
  {
   "cell_type": "markdown",
   "metadata": {},
   "source": [
    "<details>\n",
    "    <summary>Click here for hint 1: </summary>\n",
    "        Use .values() to access the height of each bar in the histogram.\n",
    "</details>"
   ]
  },
  {
   "cell_type": "markdown",
   "metadata": {},
   "source": [
    "<details>\n",
    "    <summary>Click here for hint 2: </summary>\n",
    "        Use .sum to find the sum of these heights - you'll need to divide each bar's height by the sum.\n",
    "</details>"
   ]
  },
  {
   "cell_type": "markdown",
   "metadata": {},
   "source": [
    "<details>\n",
    "    <summary>Click here for hint 3: </summary>\n",
    "        Redraw your histogram and assign new values to each bin.\n",
    "</details>"
   ]
  },
  {
   "cell_type": "code",
   "execution_count": null,
   "metadata": {},
   "outputs": [],
   "source": [
    "heights = my_hist.###\n",
    "norm_heights = ###/heights.###\n",
    "new_hist = Hist(hist.axis.Regular(###, ###, ###, label = ###))\n",
    "new_hist[###] = norm_heights[###]\n",
    "new_hist.###\n",
    "plt.###"
   ]
  },
  {
   "cell_type": "markdown",
   "metadata": {},
   "source": [
    "<details>\n",
    "    <summary>Click here for the answer: </summary>\n",
    "        \n",
    "    heights = my_hist.values()\n",
    "    norm_heights = heights/heights.sum()\n",
    "    new_hist = Hist(hist.axis.Regular(5, -0.5, 4.5, label = \"Number of jets\"))\n",
    "    new_hist[0:4] = norm_heights[0:4]\n",
    "    new_hist.plot()\n",
    "    plt.show()\n",
    "</details>"
   ]
  },
  {
   "cell_type": "markdown",
   "metadata": {},
   "source": [
    "[Return to contents](#c)"
   ]
  },
  {
   "cell_type": "markdown",
   "metadata": {},
   "source": [
    "---"
   ]
  },
  {
   "cell_type": "markdown",
   "metadata": {},
   "source": [
    "## Optional extra exercises / 'Do your own project' ideas  <a name=\"6.\"></a>"
   ]
  },
  {
   "cell_type": "markdown",
   "metadata": {},
   "source": [
    "<div class=\"alert alert-info\"> When completing these execises, it is recommended to copy/paste any code you're reusing from above into new cells, to keep the example available for reference.\n",
    "<br>\n",
    "    \n",
    "New cells can be added above using `esc` + `a`, below using `esc` + `b`, or using the `Insert` tab at the top of the page.</div> "
   ]
  },
  {
   "cell_type": "markdown",
   "metadata": {},
   "source": [
    "1) Remember how to extract the list of branches from a TTree? Choose a new branch from `my_tree` and repeat steps __4-8__ above to show the distribution of that branch's variable over the dataset.\n",
    "\n",
    "2) Are there any branches in the tree that you do not understand? List up to 3, then explore the\n",
    "[ATLAS Open Data Documentation](http://opendata.atlas.cern/release/2020/documentation/datasets/intro.html)\n",
    "- \n",
    "- \n",
    "- \n",
    "    \n",
    "3) In the example above we plotted the number of leptons resulting from simulated ('Monte-Carlo'/'MC') collisions with one lepton and one jet at an energy of 13 TeV.\n",
    "\n",
    "- You might have noticed the number of leptons plotted is not exactly 1 for each event. Why might that be?"
   ]
  },
  {
   "cell_type": "markdown",
   "metadata": {},
   "source": [
    "<details>\n",
    "    <summary>Click here for hint 1: </summary>\n",
    "    What exact process is simulated in this file? Look at the last part of the file path, mc_361106.Zee.1largeRjet1lep.root\n",
    "</details>"
   ]
  },
  {
   "cell_type": "markdown",
   "metadata": {},
   "source": [
    "<details>\n",
    "    <summary>Click here for hint 2: </summary>\n",
    "    Z-->ee is the process simulated here, but one of the electrons is being missed. What could have happened to it?\n",
    "</details>"
   ]
  },
  {
   "cell_type": "markdown",
   "metadata": {},
   "source": [
    "Using the instructions for finding new datasets <a href=\"FindingOpenData.pdf\"> here</a>, find a file with two 'final state' leptons and plot the number of leptons. "
   ]
  },
  {
   "cell_type": "markdown",
   "metadata": {},
   "source": [
    "<details>\n",
    "    <summary>Click here for hint 3: </summary>\n",
    "    Taking our file mc_361106.Zee.1largeRjet1lep.root as an example...\n",
    "    \n",
    "    - mc: Means that this file has simulated data\n",
    "    - 361106: This is a unique identifying number for each file\n",
    "    - Zee: This is the process being produced\n",
    "    - 1largeRjet1lep: These are the particles being observed in the simulated detector, in this case 1 large radius jet and 1 lepton\n",
    "</details>"
   ]
  },
  {
   "cell_type": "markdown",
   "metadata": {},
   "source": [
    "<div class=\"alert alert-warning\">How do the two plots compare?\n",
    "    \n",
    "Do you understand what all the file names mean?\n",
    "</div>\n"
   ]
  },
  {
   "cell_type": "markdown",
   "metadata": {},
   "source": [
    "4) So far, we have only plotted simulated data. \n",
    "- Using the instructions above, find the directory containing real collisions with 1 lepton and 1 jet in the final state.\n",
    "- You might notice that the real data is split across several different files (e.g. data_A.1largeRjet1lep.root). Fill a histogram showing a branch of your choice with ALL the events in the full dataset"
   ]
  },
  {
   "cell_type": "markdown",
   "metadata": {},
   "source": [
    "<details>\n",
    "    <summary>Click here for hint 1: </summary>\n",
    "    Load in each data file and its TTree under a separate name. Create a list containing all your separate trees:\n",
    "    \n",
    "    my_trees = [tree1,tree2,tree3,tree4] etc.\n",
    "</details>"
   ]
  },
  {
   "cell_type": "markdown",
   "metadata": {},
   "source": [
    "<details>\n",
    "    <summary>Click here for hint 2: </summary>\n",
    "    Set up one histogram as usual\n",
    "</details>"
   ]
  },
  {
   "cell_type": "markdown",
   "metadata": {},
   "source": [
    "<details>\n",
    "    <summary>Click here for hint 3: </summary>\n",
    "    Add an extra layer to your histogram filling for loop, looping over the events in all of your trees \n",
    "    \n",
    "    for tree in my_trees:\n",
    "        for event in tree:\n",
    "            ...\n",
    "</details>"
   ]
  },
  {
   "cell_type": "markdown",
   "metadata": {},
   "source": [
    "5) So far we have only shown one histogram at a time. Draw two histograms on the same plot to compare them directly e.g. the `n_lepton` branch for the samples with both 1 and 2 final state leptons"
   ]
  },
  {
   "cell_type": "markdown",
   "metadata": {},
   "source": [
    "<details>\n",
    "    <summary>Click here for hint 1: </summary>\n",
    "    Fill two seprate histograms, but only set up 1 plot.\n",
    "</details>"
   ]
  },
  {
   "cell_type": "markdown",
   "metadata": {},
   "source": [
    "[Return to contents](#c)"
   ]
  },
  {
   "cell_type": "markdown",
   "metadata": {},
   "source": [
    "<div class=\"alert alert-success\">\n",
    "\n",
    "__Congratulations!__ You've worked with actual LHC data like a real particle physicist! To build on this and use this data to make a real-life measurement of the a particle's physics properties, move on to Notebook 4.\n",
    "    \n",
    "</div>"
   ]
  },
  {
   "cell_type": "markdown",
   "metadata": {},
   "source": [
    "_This notebook was taken from the ATLAS Co-Creation workshop_"
   ]
  },
  {
   "cell_type": "code",
   "execution_count": null,
   "metadata": {},
   "outputs": [],
   "source": []
  }
 ],
 "metadata": {
  "kernelspec": {
   "display_name": "Python 3 (ipykernel)",
   "language": "python",
   "name": "python3"
  },
  "language_info": {
   "codemirror_mode": {
    "name": "ipython",
    "version": 3
   },
   "file_extension": ".py",
   "mimetype": "text/x-python",
   "name": "python",
   "nbconvert_exporter": "python",
   "pygments_lexer": "ipython3",
   "version": "3.9.7"
  }
 },
 "nbformat": 4,
 "nbformat_minor": 4
}
