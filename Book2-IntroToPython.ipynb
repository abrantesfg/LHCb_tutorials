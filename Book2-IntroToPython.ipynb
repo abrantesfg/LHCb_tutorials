{
 "cells": [
  {
   "cell_type": "markdown",
   "id": "95b63f7d",
   "metadata": {},
   "source": [
    "<CENTER><img src=\"images/logos3.png\" style=\"width:30%\"></CENTER>"
   ]
  },
  {
   "cell_type": "markdown",
   "id": "e9407872",
   "metadata": {},
   "source": [
    "# Introduction to coding in Python\n",
    "\n",
    "Being able to code is an essential skill for a Particle Physicist (or any scientist, for that matter).  Our datasets are simply too large to process without the assistance of computers!  An LHCb Physicist typically uses some combination of the C++ and Python programming languages to accomplish everything from simulating proton-proton collisions to searching for Higgs bosons.\n",
    "\n",
    "As being code-literate is a prerequisite to analysing LHCb data, we will in this notebook review some of the basics of coding in Python.  We will do this by presenting a diluted and interactive version of the tutorial of the [official Python documentation][PyTutorial].  For more information on any topic, let the official Python documentation be your first port of call.  We will link to specific parts of the tutorial as we go along.\n",
    "\n",
    "Python is extensively used by beginners and software engineers alike, for both business and pleasure.  It can be fun!  It is named after the BBC series \"Monty Python's Flying Circus\" and refers to its founder as a Benevolent Dictator For Life ([BDFL][BDFL]).\n",
    "\n",
    "[PyTutorial]: <https://docs.python.org/3/tutorial/index.html>\n",
    "[BDFL]: <https://docs.python.org/3/glossary.html>"
   ]
  },
  {
   "cell_type": "markdown",
   "id": "a8edc39d",
   "metadata": {},
   "source": [
    "> ## A note on Jupyter notebooks\n",
    ">\n",
    "> The web-based, interactive coding environment you are currently seeing is a [Jupyter notebook][Jupyter].  With Jupyter, you can edit and execute code in your browser, and write and edit text boxes to explain/document what you are doing as you go using the [Markdown][Markdown] language.\n",
    ">\n",
    "> To get started, memorise these [keyboard shortcuts][kbd]:\n",
    "> * `Shift + Enter`: run cell\n",
    "> * `Enter`: enter edit mode\n",
    "> * `Esc`: exit a cell\n",
    ">\n",
    "> Give these commands a quick go by clicking on this text, hitting `Enter` to enter edit mode, then pressing `Shift + Enter` to 'run' the cell.  Feel free to make a change!  If you ever change something to the point of breaking, just reload the page to retrieve a fresh copy of the notebook.\n",
    ">\n",
    "> To learn more about using Jupyter notebooks, browse through the items of the menu above (Edit, View, Insert, etc.) and note what you can (and cannot) do.  As an extra perk, see that under Help, there is a series of links to Reference material for some of the most widely used Python libraries in science.\n",
    "\n",
    "[Jupyter]: <https://jupyter-notebook.readthedocs.io/en/stable/index.html>\n",
    "[Markdown]: <https://daringfireball.net/projects/markdown/>\n",
    "[kbd]: <https://jupyter-notebook.readthedocs.io/en/stable/notebook.html#keyboard-shortcuts>"
   ]
  },
  {
   "cell_type": "markdown",
   "id": "b4cede98",
   "metadata": {},
   "source": [
    "**Contents:**  <a name=\"c\"></a>\n",
    "- [How do I save my work](#0.)\n",
    "- [Hello, World!](#1.)\n",
    "- [Numbers, Strings, and Compound Data Types](#2.)\n",
    "- [Control Flow](#3.)\n",
    "- [Functions](#4.)\n",
    "- [Modules](#5.)\n",
    "- [Conclusion](#6.)\n",
    "\n",
    "---"
   ]
  },
  {
   "cell_type": "markdown",
   "id": "b9608647",
   "metadata": {},
   "source": [
    "## How do I save my work?? <a name=\"0.\"></a>\n",
    "\n",
    "Throughout these notebooks, there may be points where you want to save your work and come back to it later. This is easy to do with Jupyter! Use either:\n",
    "\n",
    " - The keyboard shortcuts `Command` + `s` (Mac), `Control` + `s` (PC), or \n",
    " \n",
    " \n",
    " - The menu at the top of the page. Navigate to `File` $\\rightarrow$ `Save and checkpoint`\n",
    " \n",
    " [Return to contents](#c)\n",
    "\n",
    "---"
   ]
  },
  {
   "cell_type": "markdown",
   "id": "bafd326d",
   "metadata": {},
   "source": [
    "## Hello, World! <a name=\"1.\"></a>\n",
    "\n",
    "The [\"Hello, World!\" programme][HelloWorld] is a time-honoured tradition in Computer Science which will be respected here.  The idea of Hello World is to illustrate the basics of a language and to verify that the coding environment has been properly installed and set up.  So to test Python in this notebook, have a go at running the code of the next cell (`Shift + Enter`)...if it does what you expect, then you are good to go!\n",
    "\n",
    "[HelloWorld]: <https://en.wikipedia.org/wiki/%22Hello,_World!%22_program>"
   ]
  },
  {
   "cell_type": "code",
   "execution_count": null,
   "id": "9b7ce478",
   "metadata": {},
   "outputs": [],
   "source": [
    "print(\"Hello, World!\")"
   ]
  },
  {
   "cell_type": "markdown",
   "id": "a89a7a6d",
   "metadata": {},
   "source": [
    "[Return to contents](#c)\n",
    "\n",
    "---"
   ]
  },
  {
   "cell_type": "markdown",
   "id": "f052877b",
   "metadata": {},
   "source": [
    "## Numbers, Strings, and Compound Data Types <a name=\"2.\"></a>\n",
    "\n",
    "[Follwing [An Informal Introduction to Python](https://docs.python.org/3/tutorial/introduction.html)]"
   ]
  },
  {
   "cell_type": "markdown",
   "id": "58aa8dcc",
   "metadata": {},
   "source": [
    "### Python as a calculator\n",
    "\n",
    "Python is good at maths!  Run the examples of the following code cells to see what the operators `+`, `-`, `*` and `/` do, to find that they have the effect of addition, subtraction, multiplication, and division."
   ]
  },
  {
   "cell_type": "code",
   "execution_count": null,
   "id": "e2e38954",
   "metadata": {},
   "outputs": [],
   "source": [
    "2 + 2"
   ]
  },
  {
   "cell_type": "code",
   "execution_count": null,
   "id": "d0e374b4",
   "metadata": {},
   "outputs": [],
   "source": [
    "50 - 5*6"
   ]
  },
  {
   "cell_type": "code",
   "execution_count": null,
   "id": "1964a79c",
   "metadata": {},
   "outputs": [],
   "source": [
    "(50 - 5*6) / 4"
   ]
  },
  {
   "cell_type": "code",
   "execution_count": null,
   "id": "b9431a2b",
   "metadata": {},
   "outputs": [],
   "source": [
    "8 / 5"
   ]
  },
  {
   "cell_type": "markdown",
   "id": "8ac9cf2e",
   "metadata": {},
   "source": [
    "Python additionally povides a convenient power operator `**`."
   ]
  },
  {
   "cell_type": "code",
   "execution_count": null,
   "id": "5af698bd",
   "metadata": {},
   "outputs": [],
   "source": [
    "2**7 # Power"
   ]
  },
  {
   "cell_type": "code",
   "execution_count": null,
   "id": "c30150b3",
   "metadata": {},
   "outputs": [],
   "source": [
    "4**(1/2) # Use fractional powers to calculate roots"
   ]
  },
  {
   "cell_type": "markdown",
   "id": "5fc22756",
   "metadata": {},
   "source": [
    "Notice the `#`'s above? This notation tells Python that everything after the hashtag in that same line should not  be executed as a command, but it is just a comment."
   ]
  },
  {
   "cell_type": "markdown",
   "id": "a5a6c847",
   "metadata": {},
   "source": [
    "Why do some of the numbers produced by these operations have decimal points, while others do not?  It is because we have here two _types_ of numbers: `int` types and `float` types.  The `float` type represents a [floating point number][fpn] and is a computer's formulaic binary representation of a decimal number.  The `int` type represents integer values.\n",
    "> If you are lucky, you will never have to worry about 'floating point precision', but it can be a significant consideration, with errors here having in the past caused [rockets to explode][Ariane]!\n",
    "\n",
    "[fpn]: <https://en.wikipedia.org/wiki/Floating-point_arithmetic>\n",
    "[Ariane]: <http://www-users.math.umn.edu/~arnold/disasters/ariane.html>"
   ]
  },
  {
   "cell_type": "markdown",
   "id": "8aae9afe",
   "metadata": {},
   "source": [
    "It is possible to assign a value to a variable using the `=` operator."
   ]
  },
  {
   "cell_type": "code",
   "execution_count": null,
   "id": "3ddf45bc",
   "metadata": {},
   "outputs": [],
   "source": [
    "x = 4\n",
    "x**2"
   ]
  },
  {
   "cell_type": "markdown",
   "id": "b0c7bb56",
   "metadata": {},
   "source": [
    "We have also the handy in-place operators `+=`, `-=`, `*=` and `/=`. These perform an operation on the variable they are being applied to, then reassigning that variable to the result of the operation."
   ]
  },
  {
   "cell_type": "code",
   "execution_count": null,
   "id": "c9e48ecf",
   "metadata": {},
   "outputs": [],
   "source": [
    "y = 10\n",
    "y += 2\n",
    "print(y)"
   ]
  },
  {
   "cell_type": "code",
   "execution_count": null,
   "id": "fe192898",
   "metadata": {},
   "outputs": [],
   "source": [
    "z = 2\n",
    "z *= 2\n",
    "z -=1\n",
    "z /= 2\n",
    "print(z)"
   ]
  },
  {
   "cell_type": "markdown",
   "id": "4c9f94df",
   "metadata": {},
   "source": [
    "### Strings\n",
    "\n",
    "The Python `string` is a string of characters enclosed in quotation marks (`'...'` or `\"...\"`).  Strings may be operated upon by the above mathematical operations and are indexed as if they were lists of characters!"
   ]
  },
  {
   "cell_type": "code",
   "execution_count": null,
   "id": "fd79022d",
   "metadata": {},
   "outputs": [],
   "source": [
    "prefix = 'Py'\n",
    "prefix + 'thon'"
   ]
  },
  {
   "cell_type": "code",
   "execution_count": null,
   "id": "98fff3a9",
   "metadata": {},
   "outputs": [],
   "source": [
    "# 3 times 'un', followed by 'ium'\n",
    "3 * 'un' + 'ium'"
   ]
  },
  {
   "cell_type": "code",
   "execution_count": null,
   "id": "2e33c9d2",
   "metadata": {},
   "outputs": [],
   "source": [
    "word = 'Python'"
   ]
  },
  {
   "cell_type": "code",
   "execution_count": null,
   "id": "bad6d6ac",
   "metadata": {},
   "outputs": [],
   "source": [
    "# Access the first character of the string which is indexed by 0\n",
    "word[0]"
   ]
  },
  {
   "cell_type": "code",
   "execution_count": null,
   "id": "580d82f6",
   "metadata": {},
   "outputs": [],
   "source": [
    "# Access the last character of the string which is indexed by -1\n",
    "word[-1]"
   ]
  },
  {
   "cell_type": "code",
   "execution_count": null,
   "id": "7c0694a0",
   "metadata": {},
   "outputs": [],
   "source": [
    "# Slice the string from index 1 (inclusive) to 5 (not inclusive)\n",
    "word[1:5]"
   ]
  },
  {
   "cell_type": "markdown",
   "id": "abe69f73",
   "metadata": {},
   "source": [
    "### Compound Data Types\n",
    "\n",
    "A Python list is a mutable (i.e. you can change it), compound (the list itself holds values of a certain type) data type for grouping together a sequence of values, and have them ordered in a certain way so that we can find each entry in the array by its \"house number\" or index."
   ]
  },
  {
   "cell_type": "code",
   "execution_count": null,
   "id": "ae587e89",
   "metadata": {},
   "outputs": [],
   "source": [
    "# Here is an example list\n",
    "nums = [1, 2, 3]"
   ]
  },
  {
   "cell_type": "code",
   "execution_count": null,
   "id": "b82cc320",
   "metadata": {},
   "outputs": [],
   "source": [
    "# Lists are mutable\n",
    "nums[0] = 4 #Like strings, the numbering of the elements starts at 0, not 1\n",
    "nums"
   ]
  },
  {
   "cell_type": "code",
   "execution_count": null,
   "id": "3dafbd59",
   "metadata": {},
   "outputs": [],
   "source": [
    "# Lists can contain different data types\n",
    "nums += ['a']\n",
    "nums"
   ]
  },
  {
   "cell_type": "code",
   "execution_count": null,
   "id": "7b8c836f",
   "metadata": {},
   "outputs": [],
   "source": [
    "# Lists can be 'sliced'\n",
    "nums[1:3]"
   ]
  },
  {
   "cell_type": "markdown",
   "id": "5a5c31d8",
   "metadata": {},
   "source": [
    "The [built-in][builtin-funcs] function [`len(s)`][len] returns the length of, or number of items in, a sequence or collection `s`.  One excellent example use case is to find which of the words ['Llanfairpwllgwyngyllgogerychwyrndrobwllsantysiliogogogoch'][Llanfairpwll] and 'supercalifragilisticexpialidocious' is longer.\n",
    "\n",
    "[builtin-funcs]: <https://docs.python.org/3/library/functions.html>\n",
    "[len]: <https://docs.python.org/3/library/functions.html#len>\n",
    "[Llanfairpwll]: <https://en.wikipedia.org/wiki/Llanfairpwllgwyngyll>"
   ]
  },
  {
   "cell_type": "code",
   "execution_count": null,
   "id": "f51f23e8",
   "metadata": {},
   "outputs": [],
   "source": [
    "len_llanfair = len('Llanfairpwllgwyngyllgogerychwyrndrobwllllantysiliogogogoch')\n",
    "len_supercali = len('supercalifragilisticexpialidocious')\n",
    "\n",
    "print(len_llanfair)\n",
    "print(len_llanfair / len_supercali)"
   ]
  },
  {
   "cell_type": "markdown",
   "id": "671065ec",
   "metadata": {},
   "source": [
    "As compound data types, [_tuples_][tuples] and [_dictionaries_][dicts] are also frequently used.  Can you figure out what they do from the linked pages?  Feel free to make new code cells here to explore.\n",
    "\n",
    "[tuples]: <https://docs.python.org/3/tutorial/datastructures.html#tuples-and-sequences>\n",
    "[dicts]: <https://docs.python.org/3/tutorial/datastructures.html#dictionaries>\n",
    "\n",
    "[Return to contents](#c)\n",
    "\n",
    "---"
   ]
  },
  {
   "cell_type": "markdown",
   "id": "2720e473",
   "metadata": {},
   "source": [
    "## Control Flow <a name=\"3.\"></a>\n",
    "\n",
    "In the preceding example code snippets (the mathematical and string operations, and list manipulations), we programmed our commands to be executed line-by-line.  It would be fair to say that these top-to-bottom programmes are quite dull.  A programme may be made to exhibit a more complex [control flow][flow] by use of [_control flow statements_][PFlow].  \n",
    "\n",
    "\n",
    "Python has two types of control flow statements - conditional statements and loop constructs.  Conditional statements (`if`, `elif`, `else`) are used to execute blocks of code only when certain conditions are met - Python only does the thing mentioned after the \"if\" statement if the \"if\" statement is correct, otherwiese it doesn't do it.  Loop constructs are used to execute blocks of code some number of times (`for`) or while certain conditions are met (`while`).\n",
    "\n",
    "[flow]: <https://en.wikipedia.org/wiki/Control_flow>\n",
    "[PFlow]: <https://docs.python.org/3/tutorial/controlflow.html>\n",
    "\n",
    "### `if` Statements"
   ]
  },
  {
   "cell_type": "code",
   "execution_count": null,
   "id": "eb5a661b",
   "metadata": {},
   "outputs": [],
   "source": [
    "x = int(input('Please enter an integer:  '))"
   ]
  },
  {
   "cell_type": "code",
   "execution_count": null,
   "id": "4930cb79",
   "metadata": {},
   "outputs": [],
   "source": [
    "# Example conditional 'if' block\n",
    "if x < 0: #Python checks if this is a true statement\n",
    "    print('You entered a negative number!')\n",
    "elif x == 0: #Short for 'else if', this condition is checked if the 'if' statement is false\n",
    "    print('You entered zero')\n",
    "else: #All other cases\n",
    "    print('You entered a positive number')"
   ]
  },
  {
   "cell_type": "markdown",
   "id": "5b574ab1",
   "metadata": {},
   "source": [
    "Notice the whitespace (specifically, 4 spaces) in front of the code blocks after `if`, `elif` and `else`? We call this _indentation_, and it tell Python which lines of code should only be executed if the control flow statement is true. This has the advantage that the code becomes easily readable for humans. So, remember, indent = 4 times space bar.|"
   ]
  },
  {
   "cell_type": "markdown",
   "id": "d5649eb3",
   "metadata": {},
   "source": [
    "### `for` Statements\n",
    "\n",
    "`for` statements in Python allow you to iterate over the items of any sequence (like a list or string) in order.\n",
    "\n",
    "Notice again the _indentation_!"
   ]
  },
  {
   "cell_type": "code",
   "execution_count": null,
   "id": "9e6e9d68",
   "metadata": {},
   "outputs": [],
   "source": [
    "# Measure some strings in a `for` loop\n",
    "words = ['cat', 'window', 'defenestrate', 'quark']\n",
    "for w in words:\n",
    "    print(w, len(w))"
   ]
  },
  {
   "cell_type": "markdown",
   "id": "1c090fb7",
   "metadata": {},
   "source": [
    "In conjunction with `for` statements, the built-in [`range()`][range] function is often useful.  It returns a range object, constructed by calling `range(stop)` or `range(start, stop[, step])`, that represents a sequence of numbers that goes from `start` (0 by default) to `stop` in steps of `step` (1 by default).\n",
    "\n",
    "[range]: <https://docs.python.org/3/library/stdtypes.html#range>"
   ]
  },
  {
   "cell_type": "code",
   "execution_count": null,
   "id": "d8691261",
   "metadata": {},
   "outputs": [],
   "source": [
    "range(10)"
   ]
  },
  {
   "cell_type": "code",
   "execution_count": null,
   "id": "0b79a7dd",
   "metadata": {},
   "outputs": [],
   "source": [
    "list(range(10))"
   ]
  },
  {
   "cell_type": "code",
   "execution_count": null,
   "id": "1bfa2244",
   "metadata": {},
   "outputs": [],
   "source": [
    "list(range(0, 10, 2))"
   ]
  },
  {
   "cell_type": "code",
   "execution_count": null,
   "id": "88557dcd",
   "metadata": {},
   "outputs": [],
   "source": [
    "# Example 'for' loop over a range that pushes items onto a list\n",
    "items = []\n",
    "for i in range(10):\n",
    "    items.append(i) #.append() is another useful way to add something to the end of a python list\n",
    "print(items)"
   ]
  },
  {
   "cell_type": "markdown",
   "id": "822af3c3",
   "metadata": {},
   "source": [
    "### `while` Statements\n",
    "\n",
    "A `while [condition]` loop executes for as long as `condition` is true."
   ]
  },
  {
   "cell_type": "code",
   "execution_count": null,
   "id": "7f14f3a6",
   "metadata": {},
   "outputs": [],
   "source": [
    "# A more interesting while loop: calculate the Fibonacci series!\n",
    "a, b = 0, 1\n",
    "while a < 1000:\n",
    "    print(a, end=' ')\n",
    "    a, b = b, a + b"
   ]
  },
  {
   "cell_type": "markdown",
   "id": "771f1434",
   "metadata": {},
   "source": [
    "<div class=\"alert alert-info\"> Important note: If the condition is always true, then you have an infinite loop - a loop that will never end.  In Jupyter, you can interrupt a cell by clicking the stop button in the menu above, or double-tapping 'i' on your keyboard.</div>\n",
    "\n",
    "[Return to contents](#c)\n",
    "\n",
    "---"
   ]
  },
  {
   "cell_type": "markdown",
   "id": "aa3aec05",
   "metadata": {},
   "source": [
    "## Functions <a name=\"4.\"></a>\n",
    "\n",
    "What if we want to use some block of code multiple times and in different places?  We could simply copy-and-paste that block of code every time we want to use it, but there is a better way!  We can wrap the block of code in a [_function_][functions] and 'call' that function as many times as we like.\n",
    "\n",
    "To create function in Python, we don't need any brackets etc. to indicate where the beginning and end of the calculations inside the function is, we just use indentation (like for `if/else`, `for` and `while` above).\n",
    "\n",
    "Here are the important parts of Python functions:\n",
    "\n",
    " - They start with `def`, then comes the name you have chosen for the function, and then in round brackets the name(s) of the input variable(s), then a colon.\n",
    " - The next lines, where you actually have the function calculate something, needs to start with 4 white spaces.\n",
    " - You explicitly tell the function which value is the output value with `return` and then the name of the output.\n",
    "\n",
    "\n",
    "[functions]: <https://docs.python.org/3/tutorial/controlflow.html#defining-functions>"
   ]
  },
  {
   "cell_type": "markdown",
   "id": "75d4db6e",
   "metadata": {},
   "source": [
    "In the preceding section, we calculated all the terms of the Fibonacci sequence that are less than 1000.  By making a function `fibonacci(n)` of our Fibonacci code, we could provide the upper limit as a parameter `n` of the function and calculate the series up to many different values of `n`!"
   ]
  },
  {
   "cell_type": "code",
   "execution_count": null,
   "id": "c317721d",
   "metadata": {},
   "outputs": [],
   "source": [
    "def fibonacci(n):\n",
    "    '''Calculate and print out the terms of the Fibonacci series \n",
    "    that are less than `n`.'''\n",
    "    a, b = 0, 1\n",
    "    while a < n:\n",
    "        print(a, end=' ')\n",
    "        a, b = b, a + b\n",
    "    print()\n",
    "    \n",
    "    return"
   ]
  },
  {
   "cell_type": "code",
   "execution_count": null,
   "id": "66a54012",
   "metadata": {},
   "outputs": [],
   "source": [
    "# Print the terms of the Fibonacci series that are less than n = 10\n",
    "fibonacci(10)"
   ]
  },
  {
   "cell_type": "code",
   "execution_count": null,
   "id": "920dbd72",
   "metadata": {},
   "outputs": [],
   "source": [
    "# Print the terms of the Fibonacci series that are less than n = i for each i < 25!\n",
    "for i in range(25):\n",
    "    fibonacci(i)"
   ]
  },
  {
   "cell_type": "markdown",
   "id": "1023a294",
   "metadata": {},
   "source": [
    "Did you notice the `return` statement in the definition of the `fibonacci` function?  It did nothing!  But we can in general use the `return` statement to return (i.e. to _pass_) information from inside a function to outside.  Consider the following update of the original `fibonacci` function.  It returns a list of the terms of the Fibonacci series, which may be more useful than printing them!"
   ]
  },
  {
   "cell_type": "code",
   "execution_count": null,
   "id": "b719bdb3",
   "metadata": {},
   "outputs": [],
   "source": [
    "def return_fibonacci_series(n):\n",
    "    '''Calculate the terms of the Fibonacci series \n",
    "    that are less than `n`, returning a list of the result.'''\n",
    "    \n",
    "    # Make a list called 'series' to store the terms\n",
    "    series = []\n",
    "    \n",
    "    # Calculate the terms up to n\n",
    "    a, b = 0, 1\n",
    "    while a < n:\n",
    "        series.append(a)\n",
    "        a, b = b, a + b\n",
    "        \n",
    "    # Return the series\n",
    "    return series\n",
    "        "
   ]
  },
  {
   "cell_type": "markdown",
   "id": "a16357e6",
   "metadata": {},
   "source": [
    "Let's check to see if this function behaves as we would expect.  We will do that by calling it with `n = 100`, and then by operating on the returned list."
   ]
  },
  {
   "cell_type": "code",
   "execution_count": null,
   "id": "c627bedf",
   "metadata": {},
   "outputs": [],
   "source": [
    "result = return_fibonacci_series(100)\n",
    "\n",
    "# Print the result...\n",
    "print(result)\n",
    "\n",
    "# Reverse the result and print it, just for fun...\n",
    "reversed_result = list(reversed(result))\n",
    "print(reversed_result)\n",
    "\n",
    "# Do anything you like with the Fibonacci series here!\n",
    "# . . ."
   ]
  },
  {
   "cell_type": "markdown",
   "id": "465e9cde",
   "metadata": {},
   "source": [
    "When we printed the Fibonacci series in a `for` loop, we ended up printing each new series many times.  By using the returned list of the updated Fibonacci function, we could now print the series only if it differs from the previous series!  The next example illustrates how to implement this, and is logically as complicated as it gets..."
   ]
  },
  {
   "cell_type": "code",
   "execution_count": null,
   "id": "d228d833",
   "metadata": {},
   "outputs": [],
   "source": [
    "# Variable to hold the currently-largest term\n",
    "largest_term = -1\n",
    "\n",
    "for n in range(10000):\n",
    "    # Call the updated Fibonacci function that returns a list of terms\n",
    "    series = return_fibonacci_series(n)\n",
    "    \n",
    "    # If the series contains terms (`if series` checks that `series` is not empty = [])\n",
    "    if series:\n",
    "        \n",
    "        # If the largest term is larger than the largest term seen so far\n",
    "        series_largest_term = series[-1]\n",
    "        if series_largest_term > largest_term:\n",
    "            \n",
    "            # Print the series\n",
    "            for term in series:\n",
    "                print(term, end=' ')\n",
    "            print()\n",
    "            \n",
    "            # Update the largest term\n",
    "            largest_term = series_largest_term"
   ]
  },
  {
   "cell_type": "markdown",
   "id": "09e25efc",
   "metadata": {},
   "source": [
    "So you see in this last example that the coding techniques that we have learned in this notebook enable us to write some really quite complex programmes!\n",
    "\n",
    "You will meet functions repeatedly throughout the course of these notebooks. Whenever you execute code that has the signature `function(...)`, you are calling a function!  Furthermore, in the notebook on _'Searching for the Higgs boson'_, you will in fact get to write your own functions to help you along the way to observing the Higgs boson...\n",
    "\n",
    "[Return to contents](#c)\n",
    "\n",
    "---"
   ]
  },
  {
   "cell_type": "markdown",
   "id": "7a079575",
   "metadata": {},
   "source": [
    "## Modules <a name=\"5.\"></a>\n",
    "\n",
    "In this notebook, we have been writing small snippets of disposable code and executing them, before moving on and forgetting about them.  When it comes to writing a more elaborate programme, it is more convenient to put your code in a file.  When a file is populated with Python definitions, it becomes a [_module_][module] which can be _imported_ from other Python-speaking files such that its content may be used.\n",
    "\n",
    "The module-oriented approach to software development has the effect of keeping your code organsied, but more importantly facilitates code-sharing.  In the world of open-source and free software, much of the code you will ever need to write has already been written and is available to use!  One rarely has to code everything from scratch. \n",
    "\n",
    "Popular libraries include\n",
    "* [`numpy`][numpy] for numerical computing\n",
    "* [`matplotlib`][matplotlib] for data visualisation\n",
    "* [`tensorflow`][tensorflow] for machine learning\n",
    "* [`pandas`][pandas] for data manipulation\n",
    "\n",
    "These libraries of modules are there to be used at no cost. Let's look at the first two in more detail.\n",
    "\n",
    "[numpy]: <https://numpy.org/>\n",
    "[matplotlib]: <https://matplotlib.org/>\n",
    "[tensorflow]: <https://www.tensorflow.org/>\n",
    "[pandas]: <https://pandas.pydata.org/>\n"
   ]
  },
  {
   "cell_type": "markdown",
   "id": "9356b924",
   "metadata": {},
   "source": [
    "### The `numpy` module"
   ]
  },
  {
   "cell_type": "markdown",
   "id": "d2340d90",
   "metadata": {},
   "source": [
    "If we want to do some more complicated mathematical operation (as we often do in physics), we can use a package called `\"numpy\"`, which is a very powerful and often-used library for numerical operations.\n",
    "\n",
    "\n",
    "Let's begin by importing it."
   ]
  },
  {
   "cell_type": "code",
   "execution_count": null,
   "id": "10112660",
   "metadata": {},
   "outputs": [],
   "source": [
    "import numpy as np"
   ]
  },
  {
   "cell_type": "markdown",
   "id": "f62cf731",
   "metadata": {},
   "source": [
    "We could also just write \"import numpy\", but then we would have to type every time we want to use a function from numpy \"numpy.name_of_function\", whereas with the \"as np\" we save ourselves a bit of typing and just have to write \"np.name_of_function\".\n",
    "\n",
    "`numpy` provides us with alternative ways of performing operations, as well as its own version of lists called \"arrays\"."
   ]
  },
  {
   "cell_type": "code",
   "execution_count": null,
   "id": "4997be51",
   "metadata": {},
   "outputs": [],
   "source": [
    "np.sqrt(2)"
   ]
  },
  {
   "cell_type": "code",
   "execution_count": null,
   "id": "2a3325dd",
   "metadata": {},
   "outputs": [],
   "source": [
    "np.power(2, 10)"
   ]
  },
  {
   "cell_type": "code",
   "execution_count": null,
   "id": "77a90049",
   "metadata": {},
   "outputs": [],
   "source": [
    "arr = np.array([2., 4., 6., 8., 10.])\n",
    "print(arr)"
   ]
  },
  {
   "cell_type": "markdown",
   "id": "ccbb9d27",
   "metadata": {},
   "source": [
    "`numpy` arrays can be indexed and sliced the same way as regular lists:"
   ]
  },
  {
   "cell_type": "code",
   "execution_count": null,
   "id": "26fe14ae",
   "metadata": {},
   "outputs": [],
   "source": [
    "print(arr[4])\n",
    "print(arr[-1])\n",
    "print(arr[0:3])"
   ]
  },
  {
   "cell_type": "markdown",
   "id": "63b2ba21",
   "metadata": {},
   "source": [
    "`numpy` arrays also have their own version of the `range()` function - `np.arange()`."
   ]
  },
  {
   "cell_type": "code",
   "execution_count": null,
   "id": "d2e7d418",
   "metadata": {},
   "outputs": [],
   "source": [
    "np.arange(2, 2.8, 0.1) #(start, stop, [step])"
   ]
  },
  {
   "cell_type": "markdown",
   "id": "03f14f1d",
   "metadata": {},
   "source": [
    "**But**, `numpy` also has some very useful commands which are not available in regular python.\n",
    "\n",
    "One example is `np.zeros` which creates an array filled with zeros (and it will have as many zeros as the numbers you give in brackets)."
   ]
  },
  {
   "cell_type": "code",
   "execution_count": null,
   "id": "d6adf192",
   "metadata": {},
   "outputs": [],
   "source": [
    "np.zeros(5)"
   ]
  },
  {
   "cell_type": "markdown",
   "id": "c4cdaf53",
   "metadata": {},
   "source": [
    "If you want instead an array filled with ones:"
   ]
  },
  {
   "cell_type": "code",
   "execution_count": null,
   "id": "3c7185c3",
   "metadata": {},
   "outputs": [],
   "source": [
    "np.ones(3)"
   ]
  },
  {
   "cell_type": "markdown",
   "id": "fd8af3d8",
   "metadata": {},
   "source": [
    "To create an array with, say, 5 linearly spaced numbers between the values 1 and 10:"
   ]
  },
  {
   "cell_type": "code",
   "execution_count": null,
   "id": "d6d1789f",
   "metadata": {},
   "outputs": [],
   "source": [
    "np.linspace(1, 100, 5)"
   ]
  },
  {
   "cell_type": "markdown",
   "id": "4c03ed5f",
   "metadata": {},
   "source": [
    "To create an array with 5 logarithmically spaced numbers between the values 10$^1$ and 10$^{10}$:"
   ]
  },
  {
   "cell_type": "code",
   "execution_count": null,
   "id": "64cc96cf",
   "metadata": {},
   "outputs": [],
   "source": [
    "np.logspace(1, 10, 5)"
   ]
  },
  {
   "cell_type": "markdown",
   "id": "cbde7dae",
   "metadata": {},
   "source": [
    "Unlike lists in regular Python, `numpy` arrays can be manipulated very easily!! Say, for example, you have an array with some numbers in it, and you want to multiply every number in the array by a factor of 2. First we create the array:"
   ]
  },
  {
   "cell_type": "code",
   "execution_count": null,
   "id": "02b64f17",
   "metadata": {},
   "outputs": [],
   "source": [
    "arr = np.arange(2,12)\n",
    "\n",
    "print(arr)"
   ]
  },
  {
   "cell_type": "markdown",
   "id": "ae4f05c1",
   "metadata": {},
   "source": [
    "Then we make the new array with the multiplied values:"
   ]
  },
  {
   "cell_type": "code",
   "execution_count": null,
   "id": "2ff551ee",
   "metadata": {},
   "outputs": [],
   "source": [
    "newarr = 2 * arr\n",
    "\n",
    "print(newarr)"
   ]
  },
  {
   "cell_type": "markdown",
   "id": "33cca8e4",
   "metadata": {},
   "source": [
    "Easy!"
   ]
  },
  {
   "cell_type": "markdown",
   "id": "31d1cb3b",
   "metadata": {},
   "source": [
    "### The `matplotlib` module"
   ]
  },
  {
   "cell_type": "markdown",
   "id": "06017513",
   "metadata": {},
   "source": [
    "One of the strengths of python is that it is quite easy to have your data (say, your measurements) organized in arrays and then plot those in a nice viewgraph.\n",
    "\n",
    "To do plotting in python, we use the library `matplotlib.pyplot`. Like before, we'll load the library with a convenient shortcut so that we have to do less typing further down the road:"
   ]
  },
  {
   "cell_type": "code",
   "execution_count": null,
   "id": "ecef5186",
   "metadata": {},
   "outputs": [],
   "source": [
    "import matplotlib.pyplot as plt"
   ]
  },
  {
   "cell_type": "markdown",
   "id": "3348f284",
   "metadata": {},
   "source": [
    "Now let's define some data as the stuff that will go on the X axis of our plot, and some other data that will go on the Y axis.\n",
    "\n",
    "Let's say our x values are integers between 0 and 10:"
   ]
  },
  {
   "cell_type": "code",
   "execution_count": null,
   "id": "614a5ec1",
   "metadata": {},
   "outputs": [],
   "source": [
    "x = np.arange(0, 10)\n",
    "print(x)"
   ]
  },
  {
   "cell_type": "markdown",
   "id": "1458349c",
   "metadata": {},
   "source": [
    "And let's say our y values are the the x values to the power of two:"
   ]
  },
  {
   "cell_type": "code",
   "execution_count": null,
   "id": "8e42b4db",
   "metadata": {},
   "outputs": [],
   "source": [
    "y = x**2\n",
    "print(y)"
   ]
  },
  {
   "cell_type": "markdown",
   "id": "4a385375",
   "metadata": {},
   "source": [
    "Now we want to plot the x and y data. First we tell python to make a new figure with the `plt.figure()` command; for now it doesn't do much, but it can become important when you are making multiple figures and you want to start a fresh plot eachtime and not overplot on the old one. After making the empty figure, we plot the x and y data with the `plt.plot` command."
   ]
  },
  {
   "cell_type": "code",
   "execution_count": null,
   "id": "054a2747",
   "metadata": {},
   "outputs": [],
   "source": [
    "plt.figure()\n",
    "plt.plot(x,y)"
   ]
  },
  {
   "cell_type": "markdown",
   "id": "0ed4f938",
   "metadata": {},
   "source": [
    "Now we can see our plot! However, right now it doesm't look very interesting  - let's add a few extra lines to change that:"
   ]
  },
  {
   "cell_type": "code",
   "execution_count": null,
   "id": "bdd23afb",
   "metadata": {},
   "outputs": [],
   "source": [
    "plt.plot(x, y, 'o', label='y') # this plots only circular markes, but no lines\n",
    "plt.plot(x, 1.1*y, '-o', label='1.1y') # this plots markers and lines\n",
    "plt.plot(x, 0.9*y, '--', label='0.9y') # this plots a dashed lines instead of a solid line\n",
    "plt.axis([3, 10, 0, 100]) # this zooms into a certain part of the plot (x_start, x_end, y_start, y_end)\n",
    "plt.xlabel('x axis') #Adds an x-axis label\n",
    "plt.ylabel('y axis') #Adds a y-axis label\n",
    "plt.title('My plot') #Adds a title to your plot\n",
    "plt.legend(loc='best') #Adds a legend, in the location matplotlib thinks is best"
   ]
  },
  {
   "cell_type": "markdown",
   "id": "f70c5124",
   "metadata": {},
   "source": [
    "As you can see, matplotlib automatically chooses a new colour if you plot a new thing into the same plot. You can also directly control which colour you want to use with these abbreviations:\n",
    "\n",
    "    'b' = blue\n",
    "    'g' = green\n",
    "    'r' = red\n",
    "    'y' = yellow\n",
    "    'c' = cyan\n",
    "    'm' = magenta\n",
    "    'k' = black\n",
    "    'w' = white\n",
    "\n",
    "And some different markers:\n",
    "\n",
    "    'o' for a big circle\n",
    "    '.' for a small circle\n",
    "    's' for a square\n",
    "    '*' for a star\n",
    "    '+' for a plus sign\n",
    "    and many more\n",
    "\n",
    "And there are various line styles to use:\n",
    "\n",
    "    '-' for a solid line\n",
    "    '--' for a dashed line\n",
    "    ':' for a dotted line\n",
    "    '-.' for a dash-dotted line\n",
    "    and just the marker symbol, but no symbol for the line to have only the markers.\n",
    "\n",
    "Here is an example how to use that:\n"
   ]
  },
  {
   "cell_type": "code",
   "execution_count": null,
   "id": "ebba26f7",
   "metadata": {},
   "outputs": [],
   "source": [
    "plt.figure(figsize=(8,6))\n",
    "plt.plot(x, 0.1*y, 'b-')\n",
    "plt.plot(x, 0.2*y, 'g-o')\n",
    "plt.plot(x, 0.3*y, 'y--*')\n",
    "plt.plot(x, 0.4*y, 'r.')\n",
    "plt.plot(x, 0.5*y, 'm-.')\n",
    "plt.plot(x, 0.6*y, 'ws')\n",
    "plt.plot(x, 0.7*y, 'k:+')\n",
    "plt.xlabel('x axis') #Adds an x-axis label\n",
    "plt.ylabel('y axis') #Adds a y-axis label\n",
    "plt.title('Another plot') #Adds a title to your plot"
   ]
  },
  {
   "cell_type": "markdown",
   "id": "450573de",
   "metadata": {},
   "source": [
    "[Return to contents](#c)\n",
    "\n",
    "---"
   ]
  },
  {
   "cell_type": "markdown",
   "id": "121b9a9c",
   "metadata": {},
   "source": [
    "# Conclusion <a name=\"6.\"></a>\n",
    "\n",
    "In this notebook, we have very quickly gone from zero to sixty at coding in Python!  We have been working in a Jupyter notebook where we can run code interactively and write text to annotate what we are doing.  After saying `'Hello, World!'`, we learned how to do maths with Python and how to use strings and compound data types.  By using control flow statements, we saw that we can write quite complex programmes, which we can organise into functions and modules for convenience and shareability!\n",
    "\n",
    "On all of these features, we were brief so that we can get on to more interesting topics quickly.  To that end, we omitted or glossed over many details and many technicalities - there is much more to learn!  But independently learning how to do something new can be a part of the fun and is certainly a part of the job.  When coding, it is normal to not immediately know how to do something.\n",
    "\n",
    "<div class=\"alert alert-info\">In using Python, you are a part of a large global community.  This means that the internet is full of advice on how to write Python code well.  Describing your problem to a search engine more often than not brings up a solution straight away.  Make use of what other Pythonistas know about Python!\n",
    "\n",
    "Good luck analysing LHCb Open Data!  We hope that this Introduction to coding in Python will serve you well.</div>\n"
   ]
  },
  {
   "cell_type": "markdown",
   "id": "f350463b",
   "metadata": {},
   "source": [
    "[Return to contents](#c)\n",
    "\n",
    "---"
   ]
  },
  {
   "cell_type": "markdown",
   "id": "08c1d23a",
   "metadata": {},
   "source": [
    "<div class=\"alert alert-success\">\n",
    "\n",
    "__Congratulations!__ Now you know how to to program in python like a particle physicist! If you feel like a programming and mathematical challenge, check out the __optional__ Notebook2.5. Otherwise, see you in Notebook 3 when we'll take our first look at real LHCb data.\n",
    "    \n",
    "</div>"
   ]
  },
  {
   "cell_type": "markdown",
   "id": "23e19a6c",
   "metadata": {},
   "source": [
    "_This notebook was taken from the ATLAS Co-Creation workshop_"
   ]
  },
  {
   "cell_type": "code",
   "execution_count": null,
   "id": "c82a4ef3",
   "metadata": {},
   "outputs": [],
   "source": []
  }
 ],
 "metadata": {
  "kernelspec": {
   "display_name": "Python 3 (ipykernel)",
   "language": "python",
   "name": "python3"
  },
  "language_info": {
   "codemirror_mode": {
    "name": "ipython",
    "version": 3
   },
   "file_extension": ".py",
   "mimetype": "text/x-python",
   "name": "python",
   "nbconvert_exporter": "python",
   "pygments_lexer": "ipython3",
   "version": "3.10.8"
  }
 },
 "nbformat": 4,
 "nbformat_minor": 5
}
