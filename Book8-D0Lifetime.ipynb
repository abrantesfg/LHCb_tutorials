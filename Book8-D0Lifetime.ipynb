{
 "cells": [
  {
   "cell_type": "markdown",
   "metadata": {},
   "source": [
    "<CENTER><img src=\"images/logos.png\" style=\"width:50%\"></CENTER>"
   ]
  },
  {
   "cell_type": "markdown",
   "metadata": {},
   "source": [
    "# $D^0 \\rightarrow K^- \\pi^+$ decays: calculating the lifetime measurement <a name=\"c\"></a>\n",
    "\n",
    "\n",
    "In the following analysis we aim to obtain the lifetime measurement of [$D^{0}$](https://en.wikipedia.org/wiki/D_meson) mesons decaying into a kaon and a pion with opposite charge.\n",
    "\n",
    "The $D^{0}$ meson is composed of a $c$ quark and an $\\bar{u}$ antiquark (as we've seen in the Introduction to Particle Physics notebook) and among all the possible routes, it can decay to the final state $K^-\\pi^+$. The kaon is composed of $u$ quark and an $\\bar{s}$ antiquark and the pion is composed of a $u$ quark and an $\\bar{d}$ antiquark. Since the $D^{0}$ meson has zero electric charge, the final state particles $K^-\\pi^+$ must have opposite charges. The reasor for that is **charge conservation**! The overall charge in both sides of our decay process must be the same!\n",
    "\n",
    "Electric charges:\n",
    "\n",
    "<div class=\"alert alert-success\">\n",
    "$D^0 \\rightarrow K^- \\pi^+$: $0 \\rightarrow -1 +1$\n",
    "</div>\n",
    "\n",
    "Let's start with understanding the idea of a decay process.\n",
    "\n",
    "We want to find $D^{0}$ mesons, but they don't live long enough to actually see with the detector itself. Instead, we have to **reconstruct** them from their decay products. We don't particularly mind where the $D^{0}$s themselves come from. All you need to know here is that each time the LHC smashes two protons together, they produce lots and lots of particles, some of which are $D^{0}$s.\n",
    "\n",
    "\n",
    "From theory, we know that there are several decay routes as you can see in [here](https://pdglive.lbl.gov/Particle.action?init=0&node=S032&home=MXXX035#decayclump_C) but today we are interested in the particular decay route $D^{0} \\to K^{-} \\pi^{+}$.\n",
    "\n",
    "\n",
    "In this option, a random $D^{0}$ emerges from the collision aftermath in the LHC (we don't care how) can decay directly to $K^-\\pi^+$ with opposite charge. The decay happens at the vertex below, where the $D^0$ blue line changes to a kaon and pion lines (purple and red respectively). We denote a kaon by the letter $K^{-}$ and a pion by $\\pi^+$, with their respective charges on top. \n",
    "\n",
    "<figure>\n",
    "    <center> <img src=\"images/D0-decay.png\" alt=\"image missing\" style=\"width:40%\" />\n",
    "   <figcaption>Image 1: The $D^0$ decay directly from the proton-proton collision. &copy; <a href=\"https://reader.elsevier.com/reader/sd/pii/S2405601415006811?token=6FB63C7A4CA7A9942923D4464E1D0026C06C3D8B7F2480E5D95FAAE090160896368E92EBE888890A4213BCF7055A7856&originRegion=eu-west-1&originCreation=20221101130344\">LHCb Masterclass</a> [1]</figcaption> </center>\n",
    "</figure>\n",
    "\n",
    "Now that we know about 4-vectors and we know how to manipulate them, we will look at the $D^{0}$ decay to $K^- \\pi^+$ but firstly, we need to discuss what is the liferime and how we measure it in our decay of interest."
   ]
  },
  {
   "cell_type": "markdown",
   "metadata": {},
   "source": [
    "**Contents:**\n",
    "- [Lifetime](#1.)\n",
    "- [The invariant mass calculation](#2.)\n",
    "- [Cuts](#3.)\n",
    "- [Over to you! To four leptons](#3.)\n",
    "- [Real experiments](#4.)\n",
    "- [Extension exercises](#5.)"
   ]
  },
  {
   "cell_type": "markdown",
   "metadata": {},
   "source": [
    "---"
   ]
  },
  {
   "cell_type": "markdown",
   "metadata": {},
   "source": [
    "## Lifetime <a name=\"1.\"></a>\n",
    "\n",
    "\n",
    "\n",
    "The data sample we are going to use for this notebook consists of candidates for the $D^0$ meson found in a sample randomly collected by the LHCb detector during the 2011 data-taking period. \n",
    "\n",
    "The LHCb detector can measure the momentum and energy of muons coming out of decays, and you can access that information quite simply. We mentioned earlier that each smash makes lots of particles. That's true - in fact, it makes so many that we can't actually store all the records of what happened, even on some of the biggest data storage facilities in the world. Therefore, we select only events that are interesting to us, in particular, we want to see exactly **one kaon and one pion** in the final state.\n",
    "\n",
    "\n",
    "The $D^0$ particles have a distinctive feature and that is their measurably long lifetime. The average lifetime is $4 \\cdot 10^{-13}$ seconds. \n",
    "\n",
    "It travels increadibly fast, actually nearly at the speed of light at LHCb (typically $\\nu \\sim 0.99919 \\cdot c$). If you remember from your basic newtonian physics course, to calculate the average distance we would take our velocity and multiply it by the time but, since our particle travels at very high speed, we need to take into account relativistic effects. Therefore, the average distance travelled is expected to be:\n",
    "\n",
    "<CENTER> $0.4 \\beta \\gamma c = 3$mm </CENTER>\n",
    "\n",
    "where $\\gamma$ is the Lorentz factor.\n",
    "\n",
    "<div class=\"alert alert-warning\"> If you don't know about special relativity, don't worry! What we need to know is that when we are dealing with increadibly fast particles travelling along our detector, we need to include this information and the way we do it is adjusting our expressions with the Lorentz factor.\n",
    "</div>\n",
    "\n",
    "Fast mesons live longer, this a lifetime at rest of 0.4ps means a lifetime inside the exoeriment of about 10ps or even longer. Another possible process is when the $D^0$ appears as a child of a $B$ particle. In this case we can measure the displacement which we are going to call the *impact parameter (IP)*. The IP is defined as the perpendicular distance between the path of our $D^0$ particle and the center of the collision. \n",
    "\n",
    "\n",
    "<figure>\n",
    "    <center> <img src=\"images/B-D0-decay.png\" alt=\"image missing\" style=\"width:40%\" />\n",
    "   <figcaption>Image 2: Secondary verteces displaced from the proton-proton collision. &copy; <a href=\"https://reader.elsevier.com/reader/sd/pii/S2405601415006811?token=6FB63C7A4CA7A9942923D4464E1D0026C06C3D8B7F2480E5D95FAAE090160896368E92EBE888890A4213BCF7055A7856&originRegion=eu-west-1&originCreation=20221101130344\">LHCb Masterclass</a> [1]</figcaption> </center>\n",
    "</figure>\n",
    "\n",
    "When we are dealing with the case where the $D^0$ is produced directly from the proton-proton collisions (as in Image 1), the IP is small, but when it comes as a child of the $B$ meson, the IP is large. This fact, together with their abundant production, allows the $D^0$ signals to be well separated from the background of the underlying event, most of which consists of random combinations of particles produced in the proton-proton collision.\n",
    "\n",
    "\n",
    "\n"
   ]
  },
  {
   "cell_type": "markdown",
   "metadata": {},
   "source": [
    "Next we have to open the data that we want to analyze. As described earlier, the data is stored in a *.root file. We can use a python library called uproot to access the data. Below is an example of how to open a *.root file using uproot"
   ]
  },
  {
   "cell_type": "code",
   "execution_count": 6,
   "metadata": {},
   "outputs": [],
   "source": [
    "## data file\n",
    "f = uproot.open(\"https://atlas-opendata.web.cern.ch/atlas-opendata/samples/2020/1largeRjet1lep/MC/mc_361106.Zee.1largeRjet1lep.root\") ## 13 TeV sam"
   ]
  },
  {
   "cell_type": "markdown",
   "metadata": {},
   "source": [
    "We can inspect the contents of a file by using the method keys()"
   ]
  },
  {
   "cell_type": "code",
   "execution_count": 7,
   "metadata": {},
   "outputs": [
    {
     "data": {
      "text/plain": [
       "['mini;1']"
      ]
     },
     "execution_count": 7,
     "metadata": {},
     "output_type": "execute_result"
    }
   ],
   "source": [
    "f.keys()"
   ]
  },
  {
   "cell_type": "markdown",
   "metadata": {},
   "source": [
    "We see that we have an object called 'mini'. We can obtain information about the object in the file and its type by using the method classnames()"
   ]
  },
  {
   "cell_type": "code",
   "execution_count": 8,
   "metadata": {},
   "outputs": [
    {
     "data": {
      "text/plain": [
       "{'mini;1': 'TTree'}"
      ]
     },
     "execution_count": 8,
     "metadata": {},
     "output_type": "execute_result"
    }
   ],
   "source": [
    "f.classnames()"
   ]
  },
  {
   "cell_type": "markdown",
   "metadata": {},
   "source": [
    "We see that the object called mini is a TTree type. A TTree is simply columns of data stored in the .root format. Each column of data can represent a different physical quantity of a particle. For instance, its charge, energy, momentum etc.\n",
    "\n",
    "Now we know what data the file contains, in future we can quickly access that data. We want to access the mini data. This can be done by executing the command below\n"
   ]
  },
  {
   "cell_type": "code",
   "execution_count": 9,
   "metadata": {},
   "outputs": [],
   "source": [
    "events = uproot.open(\"https://atlas-opendata.web.cern.ch/atlas-opendata/samples/2020/1largeRjet1lep/MC/mc_361106.Zee.1largeRjet1lep.root:mini\")"
   ]
  },
  {
   "cell_type": "markdown",
   "metadata": {},
   "source": [
    "Let's look at contents of the TTree. Essentially all the columns in the TTree called mini"
   ]
  },
  {
   "cell_type": "code",
   "execution_count": 10,
   "metadata": {},
   "outputs": [
    {
     "data": {
      "text/plain": [
       "['runNumber',\n",
       " 'eventNumber',\n",
       " 'channelNumber',\n",
       " 'mcWeight',\n",
       " 'scaleFactor_PILEUP',\n",
       " 'scaleFactor_ELE',\n",
       " 'scaleFactor_MUON',\n",
       " 'scaleFactor_PHOTON',\n",
       " 'scaleFactor_TAU',\n",
       " 'scaleFactor_BTAG',\n",
       " 'scaleFactor_LepTRIGGER',\n",
       " 'scaleFactor_PhotonTRIGGER',\n",
       " 'trigE',\n",
       " 'trigM',\n",
       " 'trigP',\n",
       " 'lep_n',\n",
       " 'lep_truthMatched',\n",
       " 'lep_trigMatched',\n",
       " 'lep_pt',\n",
       " 'lep_eta',\n",
       " 'lep_phi',\n",
       " 'lep_E',\n",
       " 'lep_z0',\n",
       " 'lep_charge',\n",
       " 'lep_type',\n",
       " 'lep_isTightID',\n",
       " 'lep_ptcone30',\n",
       " 'lep_etcone20',\n",
       " 'lep_trackd0pvunbiased',\n",
       " 'lep_tracksigd0pvunbiased',\n",
       " 'met_et',\n",
       " 'met_phi',\n",
       " 'jet_n',\n",
       " 'jet_pt',\n",
       " 'jet_eta',\n",
       " 'jet_phi',\n",
       " 'jet_E',\n",
       " 'jet_jvt',\n",
       " 'jet_trueflav',\n",
       " 'jet_truthMatched',\n",
       " 'jet_MV2c10',\n",
       " 'photon_n',\n",
       " 'photon_truthMatched',\n",
       " 'photon_trigMatched',\n",
       " 'photon_pt',\n",
       " 'photon_eta',\n",
       " 'photon_phi',\n",
       " 'photon_E',\n",
       " 'photon_isTightID',\n",
       " 'photon_ptcone30',\n",
       " 'photon_etcone20',\n",
       " 'photon_convType',\n",
       " 'tau_n',\n",
       " 'tau_pt',\n",
       " 'tau_eta',\n",
       " 'tau_phi',\n",
       " 'tau_E',\n",
       " 'tau_isTightID',\n",
       " 'tau_truthMatched',\n",
       " 'tau_trigMatched',\n",
       " 'tau_nTracks',\n",
       " 'tau_BDTid',\n",
       " 'ditau_m',\n",
       " 'lep_pt_syst',\n",
       " 'met_et_syst',\n",
       " 'jet_pt_syst',\n",
       " 'photon_pt_syst',\n",
       " 'tau_pt_syst',\n",
       " 'XSection',\n",
       " 'SumWeights',\n",
       " 'largeRjet_n',\n",
       " 'largeRjet_pt',\n",
       " 'largeRjet_eta',\n",
       " 'largeRjet_phi',\n",
       " 'largeRjet_E',\n",
       " 'largeRjet_m',\n",
       " 'largeRjet_truthMatched',\n",
       " 'largeRjet_D2',\n",
       " 'largeRjet_tau32',\n",
       " 'largeRjet_pt_syst',\n",
       " 'tau_charge']"
      ]
     },
     "execution_count": 10,
     "metadata": {},
     "output_type": "execute_result"
    }
   ],
   "source": [
    "events.keys()"
   ]
  },
  {
   "cell_type": "markdown",
   "metadata": {},
   "source": [
    "## The invariant mass calculation <a name=\"2.\"></a>\n",
    "\n",
    "One very important quantity we need to define is the invariant mass! It is defined as an invariant quantity which is the same for all observers in all reference frames (that's why we call it *invariant*). To calculate it we use the energy, *E*, and momentum, *p*, both measured in the detector. To derive a proper expression for the invariat mass we ask that in the process both energy and momentum are conserved! \n",
    "\n",
    "* Energy conservation\n",
    "\n",
    "$ E = E_K + E_\\pi $\n",
    "\n",
    "* Momentum conservation\n",
    "\n",
    "$ \\vec{p} = \\vec{p}_K + \\vec{p}_\\pi $\n",
    "\n",
    "From special relativity we've learned the relation between mass, energy and momentum to be:\n",
    "\n",
    "$ (pc)^2 + (mc^2)^2 = E^2 $\n",
    "\n",
    "$ E^2 = p^2 + m^2$\n",
    "\n",
    "Rearraging it to $m$:\n",
    "\n",
    "$ m^2 = E^2 - p2 = (E_K + E_\\pi)^2 - || p_K + p_\\pi ||$\n",
    "\n",
    "$ m^2 = (E_K + E_\\pi)^2 - (\\vec{p}_K + \\vec{p}_\\pi)\\cdot (\\vec{p}_K + \\vec{p}_\\pi)$\n",
    "\n",
    "Since the dot product of two orthogonal vectors is zero, we can write more explicitly\n",
    "\n",
    "$ m^2 = (E_K + E_\\pi)^2 - (p_{K_x} + p_{\\pi_x} )^2 - (p_{K_y} + p_{\\pi_y} )^2 - (p_{K_z} + p_{\\pi_z} )^2$\n",
    "\n",
    "<div class=\"alert alert-info\"> Our goal is to calculte the invariant mass of the two chosen particles and if the mass is close to the $D^0$ mass, we save it to a histogram.</div> "
   ]
  },
  {
   "cell_type": "code",
   "execution_count": 12,
   "metadata": {},
   "outputs": [],
   "source": [
    "sel_events = events.arrays([\"H1_p\", \"H2_p\", \"H3_p\", \"H1_E\", \"H2_E\", \"H3_E\"])"
   ]
  },
  {
   "cell_type": "markdown",
   "metadata": {},
   "source": [
    "We want to run over all the data and reconstruct the $D^0$ meson mass. To do this we will access events using the arrays method again. Let's look at doing this.\n",
    "\n",
    "First we define a histogram. To do this we can import the python hist library. Once we have done that we can define a histogram. Its name is hist and the x axis is named $m(K^- \\pi^+)$ [GeV]. The three initial arguments indicate that this histogram contains 30 bins which fill the gap from 1810 to 1920.\n"
   ]
  },
  {
   "cell_type": "code",
   "execution_count": 13,
   "metadata": {},
   "outputs": [],
   "source": [
    "import hist\n",
    "from hist import Hist\n",
    "\n",
    "hist = Hist(hist.axis.Regular(100,1810,1920, label = \"$m(K^- \\\\pi^+)$ (GeV)\"))"
   ]
  },
  {
   "cell_type": "markdown",
   "metadata": {},
   "source": [
    "It is now time to fill our above defined histogram with the masses. When filling our histogram we also want to be exclude events that don't satisfy a specific requirement. In our case we only want $D^0$ events in the region: $2.5 < p_T < 20$, $0 < \\tau < 10$ and $-4 < IP_{D^0} < 1.5$.\n",
    "\n",
    "**The process of narrowing down the number of candidates by imposing a condition is called making a cut**."
   ]
  },
  {
   "cell_type": "markdown",
   "metadata": {},
   "source": [
    "[Return to contents](#c)"
   ]
  },
  {
   "cell_type": "markdown",
   "metadata": {},
   "source": [
    "---"
   ]
  },
  {
   "cell_type": "markdown",
   "metadata": {},
   "source": [
    "## Cuts <a name=\"4.\"></a>\n",
    "\n",
    "Why do we make cuts? Remember that there are lots of other particles flying around that we measure, these might be processes we are **not** interested in. Obviously, they won't reconstruct to a $D^0$ meson.\n",
    "\n",
    "Therefore, we need to not count these events based on that, so we **cut** on the fact that our $D^0$ particles lie in a particular region of transverse momentum, tau and impact parameter. \n",
    "\n",
    "\n",
    "### Make sure you read through the code - particularly the comments! You'll be doing this yourself shortly."
   ]
  },
  {
   "cell_type": "markdown",
   "metadata": {},
   "source": [
    "The $D^0$ meson decays to:\n",
    "- $D^0 \\rightarrow K^- \\pi^+$\n"
   ]
  },
  {
   "cell_type": "markdown",
   "metadata": {},
   "source": [
    "This means we can deduce the following for a *pass event*:\n",
    "- There must be 2 mesons produced by the event - see by observation\n",
    "- Must be of opposite charge, or equivalently of *unequal charge* (since only two possibilities for charge)\n",
    "- Must be a kaon and a pion\n",
    "\n",
    "Let's open our LHCb data but now selecting only the events satisfying the criteria:\n",
    "\n",
    "1. are **not** muons: `!K_isMuon` and `!pi_isMuon==` where `!` means *not*, so `!K_isMuon` reads \"K is *not* a muon\""
   ]
  },
  {
   "cell_type": "code",
   "execution_count": 14,
   "metadata": {},
   "outputs": [],
   "source": [
    "# Define preselection\n",
    "preselection = \"\"\n",
    "\n",
    "f = uproot.open(\":DecayTree\", where=preselection)"
   ]
  },
  {
   "cell_type": "code",
   "execution_count": null,
   "metadata": {},
   "outputs": [],
   "source": [
    "# Extracting the momentum components and energy of the first muon\n",
    "p1x = events[\"K_PX\"].array(library=\"np\")\n",
    "p1y = events[\"K_PY\"].array(library=\"np\")\n",
    "p1z = events[\"K_PZ\"].array(library=\"np\")\n",
    "p1E = events[\"K_E\"].array(library=\"np\")"
   ]
  },
  {
   "cell_type": "markdown",
   "metadata": {},
   "source": [
    "Let's visualise one of these momentum components, for instance let's check the x-component of the $\\mu^-$! To do that we first define a histogram, and we fill it with the values we extracted in `p1x`."
   ]
  },
  {
   "cell_type": "code",
   "execution_count": null,
   "metadata": {},
   "outputs": [],
   "source": [
    "import hist\n",
    "from hist import Hist\n",
    "import matplotlib.pyplot as plt\n",
    "import numpy as np\n",
    "\n",
    "# Defining histogram\n",
    "hist_p1x = Hist(hist.axis.Regular(100,-150e3,150e3, label = \"$p_{1x}$ (GeV)\"))\n",
    "\n",
    "# Fiblling histogram with values of p1x\n",
    "hist_p1x.fill(p1x)\n",
    "\n",
    "# Plotting the histogram\n",
    "hist_p1x.plot()\n",
    "plt.show()"
   ]
  },
  {
   "cell_type": "markdown",
   "metadata": {},
   "source": [
    "Great! Momentum is a **vector** quantity, it has x,y and z components. Now let's try to calculate the magnitude of the momentum, $p^{2} = p_{x}^{2} + p_{y}^{2} + p_{z}^{2}$, of the first kaon candidate and plot it into a histogram: "
   ]
  },
  {
   "cell_type": "code",
   "execution_count": null,
   "metadata": {},
   "outputs": [],
   "source": [
    "# Calulating the magnitude of the momentum:\n",
    "p1 = np.sqrt( p1x**2 + p1y**2, p1z**2)\n",
    "\n",
    "# Defining histogram\n",
    "hist_p1 = Hist(hist.axis.Regular(100,-150e3,150e3, label = \"$p_{\\mu^-}$ (GeV)\"))\n",
    "\n",
    "# Fiblling histogram with values of p1x\n",
    "hist_p1.fill(p1)\n",
    "\n",
    "# Plotting the histogram\n",
    "hist_p1.plot()\n",
    "plt.show()"
   ]
  },
  {
   "cell_type": "markdown",
   "metadata": {},
   "source": [
    "### Your turn!\n",
    "\n",
    "We've calculated the magnitude of the momentum for the $\\mu^-$. Repeat that now for the other muon, $\\mu^+$!\n",
    "\n",
    "The first step is to extract the momentum components. Then plot one of the components as an example, for instace the x-component. Finally, calculate and plot the magnitude of the momentum for the second muon."
   ]
  },
  {
   "cell_type": "code",
   "execution_count": null,
   "metadata": {},
   "outputs": [],
   "source": [
    "# Extracting the momentum components and energy of the second muon\n",
    "p2x = events[\"muplus_PX\"].array(library=\"np\")\n",
    "p2y = events[\"muplus_PY\"].array(library=\"np\")\n",
    "p2z = events[\"muplus_PZ\"].array(library=\"np\")\n",
    "p2E = events[\"muplus_E\"].array(library=\"np\")\n",
    "\n",
    "# Defining histogram\n",
    "hist_p2x = Hist(hist.axis.Regular(100,-150e3,150e3, label = \"$p_{2x}$ (GeV)\"))\n",
    "\n",
    "# Filling histogram with values of p1x\n",
    "hist_p2x.fill(p2x)\n",
    "\n",
    "# Plotting the histogram\n",
    "hist_p2x.plot()\n",
    "plt.show()"
   ]
  },
  {
   "cell_type": "code",
   "execution_count": null,
   "metadata": {},
   "outputs": [],
   "source": [
    "# Calulating the magnitude of the momentum:\n",
    "p2 = np.sqrt( p2x**2 + p2y**2, p2z**2)\n",
    "\n",
    "# Defining histogram\n",
    "hist_p2 = Hist(hist.axis.Regular(100,-150e3,150e3, label = \"$p_{\\mu^+}$ (GeV)\"))\n",
    "\n",
    "# Fiblling histogram with values of p1x\n",
    "hist_p2.fill(p2)\n",
    "\n",
    "# Plotting the histogram\n",
    "hist_p2.plot()\n",
    "plt.show()"
   ]
  },
  {
   "cell_type": "markdown",
   "metadata": {},
   "source": [
    "<div class=\"alert alert-success\">\n",
    "Great Job!\n",
    "</div>\n",
    "\n",
    "## Find the $D^0$ meson! <a name=\"4.\"></a>\n",
    "\n",
    "Now that we've learned how to obtain the momentum and energy, we are ready to reconstruct the invariant mass! After filling the histogram we want to see the results of the analysis. We import `matplotlib` and get plotting!"
   ]
  },
  {
   "cell_type": "code",
   "execution_count": 15,
   "metadata": {},
   "outputs": [
    {
     "data": {
      "image/png": "[encoded data removed]",
      "text/plain": [
       "<Figure size 432x288 with 1 Axes>"
      ]
     },
     "metadata": {
      "needs_background": "light"
     },
     "output_type": "display_data"
    }
   ],
   "source": [
    "m = np.sqrt((p1E + p2E)**2 - (p1x + p2x)**2 - (p1y + p2y)**2 - (p1z + p2z)**2)\n",
    "hist_mass.fill(m)\n",
    "\n",
    "hist_mass.plot(histtype = \"fill\")\n",
    "plt.show()"
   ]
  },
  {
   "cell_type": "markdown",
   "metadata": {},
   "source": [
    "<div class=\"alert alert-success\">\n",
    "\n",
    "__Congratulations!__ If everything went well, you have just reconstructed the $D^0$ meson!\n",
    "    \n",
    "</div>\n",
    "\n",
    "\n",
    "*Interpret this graph - what is the mass of this meson?*"
   ]
  },
  {
   "cell_type": "markdown",
   "metadata": {},
   "source": [
    "<details>\n",
    "    <summary>Answer: </summary>\n",
    "        That's right - 1865 GeV!\n",
    "</details>"
   ]
  },
  {
   "cell_type": "markdown",
   "metadata": {},
   "source": [
    "[Return to contents](#c)"
   ]
  },
  {
   "cell_type": "markdown",
   "metadata": {},
   "source": [
    "---"
   ]
  },
  {
   "cell_type": "markdown",
   "metadata": {},
   "source": [
    "## Fitting the mass peak <a name=\"5.\"></a>"
   ]
  },
  {
   "cell_type": "markdown",
   "metadata": {},
   "source": [
    "Now that we have reconstructed the $D^0$ mass, the next step is to fit the histogram. To fit the histogram is to try to find the best function, (or combination of funtions) that reproduce the shape we see in our data. Let's start with a simple example. \n",
    "\n",
    "Imagine we have a set of data points and we want to find a line that passes nearby our points."
   ]
  },
  {
   "cell_type": "code",
   "execution_count": 4,
   "metadata": {},
   "outputs": [
    {
     "data": {
      "text/plain": [
       "[<matplotlib.lines.Line2D at 0x7fc9dd9cc2e0>]"
      ]
     },
     "execution_count": 4,
     "metadata": {},
     "output_type": "execute_result"
    },
    {
     "data": {
      "image/png": "[encoded data removed]",
      "text/plain": [
       "<Figure size 432x288 with 1 Axes>"
      ]
     },
     "metadata": {
      "needs_background": "light"
     },
     "output_type": "display_data"
    }
   ],
   "source": [
    "import numpy as np\n",
    "import matplotlib.pyplot as plt\n",
    "\n",
    "#define data\n",
    "x = np.array([1, 2, 3, 4, 5, 6, 7, 8])\n",
    "y = np.array([2, 5, 6, 7, 9, 12, 16, 19])\n",
    "\n",
    "#find line of best fit\n",
    "a, b = np.polyfit(x, y, 1)\n",
    "\n",
    "#add points to plot\n",
    "plt.scatter(x, y)\n",
    "plt.xlabel(\"x\")\n",
    "plt.ylabel(\"y\")\n",
    "\n",
    "#add line of best fit to plot\n",
    "plt.plot(x, a*x+b, c=\"red\")       "
   ]
  },
  {
   "cell_type": "markdown",
   "metadata": {},
   "source": [
    "In our plot, the blue dots represent our data and the red line is the best line we can draw that reproduces the behavior of our data. Our LHCb data is not as simple as this example, but the idea is the same, We want to find the best curve that reproduces the shape of the mass distribution we found. It won't be a straight line as our data does not have this kind of pattern, but there are other types of functions that we can use."
   ]
  },
  {
   "cell_type": "markdown",
   "metadata": {},
   "source": [
    "### Gaussian function\n",
    "\n",
    "One very commonly used is the Gaussian function (also known as the normal distribution). We can represent it by the function:\n",
    "\n",
    "$f(x) = \\frac{1}{\\sigma \\sqrt{2\\pi}} e^{-\\frac{1}{2} \\big(\\frac{x-\\mu}{\\sigma}\\big)^2}$\n",
    "\n",
    "And if we want to draw this function, we can run the following line:"
   ]
  },
  {
   "cell_type": "code",
   "execution_count": 5,
   "metadata": {},
   "outputs": [
    {
     "data": {
      "text/plain": [
       "[<matplotlib.lines.Line2D at 0x7fc9de5fc220>]"
      ]
     },
     "execution_count": 5,
     "metadata": {},
     "output_type": "execute_result"
    },
    {
     "data": {
      "image/png": "[encoded data removed]",
      "text/plain": [
       "<Figure size 432x288 with 1 Axes>"
      ]
     },
     "metadata": {
      "needs_background": "light"
     },
     "output_type": "display_data"
    }
   ],
   "source": [
    "import numpy as np\n",
    "import scipy as sp\n",
    "from scipy import stats\n",
    "import matplotlib.pyplot as plt\n",
    "\n",
    "## generate the data and plot it for an ideal normal curve\n",
    "\n",
    "## x-axis for the plot\n",
    "x_data = np.arange(-5, 5, 0.001)\n",
    "\n",
    "## y-axis as the gaussian\n",
    "y_data = stats.norm.pdf(x_data, 0, 1)\n",
    "\n",
    "## plot data\n",
    "plt.plot(x_data, y_data)\n"
   ]
  },
  {
   "cell_type": "markdown",
   "metadata": {},
   "source": [
    "Interesting... it looks like this gaussian function has some similarities with the mass peak we found! So perhaps we can use this Gaussian function in our fit to the mass peak. When dealing with gaussian functions, two very important features are the mean value of the function, $\\mu$, and the width, $\\sigma$. The $\\mu$ is the value which our curve is cetered at, in this case, the gaussian peak is centered at zero. The $\\sigma$ is the width of the distrbution, in this case we can see that the distribution is basically over before -2 and after 2. So the total width here is 4.\n",
    "\n",
    "<div class=\"alert alert-warning\"> Don't worry if the function has a complicated mathematical expression, the idea here is that since it looks a lot like our peak, we can use this function to learn features of our data!\n",
    "</div>\n"
   ]
  },
  {
   "cell_type": "markdown",
   "metadata": {},
   "source": [
    "Great! It seems that our mass peak has a gaussian centeres at around 1865 GeV and outside this gaussian, the distribution looks like a horizontal line.\n",
    "\n",
    "The gaussian-like behavior represents the $D^0 \\to K^- \\pi^+$ candidates, our signal events, and the events in this flat horizontal distribution are called background events. Signal events are the ones corresponding to our process of interest, while background events correspond to processes that we are not interested in. In this case, they correspond to combinatorial background.\n",
    "\n",
    "With all that said, we are ready to fit our invariant mass distribution!\n"
   ]
  },
  {
   "cell_type": "code",
   "execution_count": 4,
   "metadata": {},
   "outputs": [],
   "source": [
    "import numpy as np\n",
    "import matplotlib.pyplot as plt\n",
    "from scipy.optimize import curve_fit\n",
    "\n",
    "\n",
    "def gauss(x, a, x0, sigma):\n",
    "    return a * np.exp(-(x - x0) ** 2 / (2 * sigma ** 2))\n",
    "\n",
    "ydata = np.array([2., 2., 11., 0., 5., 7., 18., 12., 19., 20., 36., 11., 21., 8., 13., 14., 8., 3., 21., 0., 24., 0., 12.,\n",
    "0., 8., 11., 18., 0., 9., 21., 17., 21., 28., 36., 51., 36., 47., 69., 78., 73., 52., 81., 96., 71., 92., 70., 84.,72.,\n",
    "88., 82., 106., 101., 88., 74., 94., 80., 83., 70., 78., 85., 85., 56., 59., 56., 73., 33., 49., 50., 40., 22., 37., 26.,\n",
    "6., 11., 7., 26., 0., 3., 0., 0., 0., 0., 0., 3., 9., 0., 31., 0., 11., 0., 8., 0., 9., 18.,9., 14., 0., 0., 6., 0.])\n",
    "\n",
    "xdata = np.arange(0, len(ydata), 1)\n",
    "\n",
    "#plt.plot(xdata, ydata, 'bo', label='data')\n",
    "\n",
    "popt, pcov = curve_fit(gauss, xdata, ydata, p0=[ydata.max(), ydata.mean(), ydata.std()])\n",
    "#plt.plot(xdata, gauss(xdata, *popt), 'r-', label='fit')\n"
   ]
  },
  {
   "cell_type": "markdown",
   "metadata": {},
   "source": [
    "<figure>\n",
    "    <center> <img src=\"images/D0-fit.png\" alt=\"image missing\" style=\"width:50%\" /></center>\n",
    "</figure>"
   ]
  },
  {
   "cell_type": "markdown",
   "metadata": {},
   "source": [
    "Great! Now we can see how many signal and background events we have from our fit. To measure the $D^0$ lifetime properly, we need to get rid of these background events that lie under the signal peak. So, our next step is what we call **background subtraction**.\n",
    "\n",
    "Let's define our signal to be almost fully contained in the window $[1840-1890]$MeV.\n",
    "\n",
    "In particular, an interval of $\\pm1\\sigma$ around the mean value contains 68% of the signal, while $\\pm3\\sigma$ contains 99.7% of the signal. So, if $\\sigma=8.2, \\pm3\\sigma = 24.6$ which corresponds to the limits: $1866.5-24.6 = 1841.9$ and $1866.5+24.6 = 1891.1$.\n",
    "\n",
    "We can also check the transverse momentum and impact parameter distribution"
   ]
  },
  {
   "cell_type": "markdown",
   "metadata": {},
   "source": [
    "<figure>\n",
    "    <center> <img src=\"images/D0-pT.png\" alt=\"image missing\" style=\"width:50%\" /></center>\n",
    "    <center> <img src=\"images/D0-IP.png\" alt=\"image missing\" style=\"width:50%\" /></center>\n",
    "</figure>\n",
    "\n",
    "From that we can obtain the decay time distribution as $t = \\frac{ml}{p}$\n",
    "\n",
    "<figure>\n",
    "    <center> <img src=\"images/D0-t.png\" alt=\"image missing\" style=\"width:50%\" /></center>\n",
    "</figure>"
   ]
  },
  {
   "cell_type": "markdown",
   "metadata": {},
   "source": [
    "From the decay time distribution, we can measure the lifetime by fitting the decay time and checking the slope\n",
    "\n",
    "<figure>\n",
    "    <center> <img src=\"images/D0-lifetime.png\" alt=\"image missing\" style=\"width:50%\" /></center>\n",
    "</figure>"
   ]
  },
  {
   "cell_type": "markdown",
   "metadata": {},
   "source": [
    "<div class=\"alert alert-success\">\n",
    "\n",
    "__Congratulations!__ If everything went well, you have just calculated the lifetime of the $D^0$ meson!\n",
    "    \n",
    "</div>\n"
   ]
  },
  {
   "cell_type": "markdown",
   "metadata": {},
   "source": [
    "---"
   ]
  },
  {
   "cell_type": "markdown",
   "metadata": {},
   "source": [
    "## Over to you!\n",
    "\n",
    "Now that you've learned how to measure the lifetime of the $D^0$ meson,\n",
    "\n",
    "Repeat step 4 but now varying the upper D0 log(IP) variable range from 1.5 to -2 in steps of 0.2. Do you notice a pattern? Does the D0 lifetime with an log(IP) cut of-1.5 agree better or worse with the PDG than the lifetime with an log(IP) cut of 1.5 ?\n",
    "\n",
    "Another interesting discussion is to compare the lifetime of different particles! You might have noticed that in another notebook, the lifetime of the $B$ meson is calculated following the exact same procedure we did here. Reach one of your friends doing the $B$ meson lifetime and compare your results. Are they different? If yes, why are they different?"
   ]
  },
  {
   "cell_type": "code",
   "execution_count": null,
   "metadata": {},
   "outputs": [],
   "source": []
  }
 ],
 "metadata": {
  "kernelspec": {
   "display_name": "Python 3 (ipykernel)",
   "language": "python",
   "name": "python3"
  },
  "language_info": {
   "codemirror_mode": {
    "name": "ipython",
    "version": 3
   },
   "file_extension": ".py",
   "mimetype": "text/x-python",
   "name": "python",
   "nbconvert_exporter": "python",
   "pygments_lexer": "ipython3",
   "version": "3.9.7"
  }
 },
 "nbformat": 4,
 "nbformat_minor": 4
}
