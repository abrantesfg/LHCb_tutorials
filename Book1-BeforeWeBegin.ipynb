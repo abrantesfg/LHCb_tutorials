{
 "cells": [
  {
   "cell_type": "markdown",
   "id": "5c807734",
   "metadata": {},
   "source": [
    "<CENTER><img src=\"images/logos3.png\" style=\"width:30%\"></CENTER>"
   ]
  },
  {
   "cell_type": "markdown",
   "id": "99d8064d",
   "metadata": {},
   "source": [
    "# Introduction to Particle Physics \n",
    "\n",
    "In this first notebook we will learn some of the initial concepts in particle physics and the LHCb detector. We will learn what particle physics is interested in and how do we experimentaly build our setup to study the fundamental particles.\n",
    "\n",
    "**Contents:**  <a name=\"c\"></a>\n",
    "- [Before we begin... The theory background](#0.)\n",
    "- [Accelerating particles](#1.)\n",
    "- [Examining particle collisions](#2.)\n",
    "- [The LHCb detector](#3.)\n",
    "\n",
    "---\n",
    "\n"
   ]
  },
  {
   "cell_type": "markdown",
   "id": "b4914195",
   "metadata": {},
   "source": [
    "## Before we begin... The theory background <a name=\"0.\"></a>"
   ]
  },
  {
   "cell_type": "markdown",
   "id": "a1d8c9e4",
   "metadata": {},
   "source": [
    "Throughout many decades, we have tried to understand nature in its most fundamental level. We've learned that everything we see is made of _protons, neutrons and electrons_, and if we combine these three 'elements' one can obtain the different atoms we know and form the periodic table as shown in Image 1."
   ]
  },
  {
   "cell_type": "markdown",
   "id": "3033e00d",
   "metadata": {},
   "source": [
    "<figure>\n",
    "    <center> <img src=\"images/version-periodic-table-elements.webp\" alt=\"image missing\" style=\"height: 350px\" />\n",
    "   <figcaption>Image 1: Periodic table. &copy; <a href=\"https://www.britannica.com/science/periodic-table\">Encyclopedia Britannica</a> </figcaption> </center>\n",
    "</figure>"
   ]
  },
  {
   "cell_type": "markdown",
   "id": "5b79e34d",
   "metadata": {},
   "source": [
    "If we look at all the atoms and think that all elements are made of protons, neutrons and electrons, we could ask ourselves: Since all matter is made of atoms, and atoms are made of smaller structures. Are protons, neutrons and electrons also made of something else? Are they made of something even more fundamental? We will see that and the electron is already a fundamental particle (it's not constituted of anything 'smaller') but protons and neutrons are made of something which we will call **quarks**! (see image 2)"
   ]
  },
  {
   "cell_type": "markdown",
   "id": "fcc1e617",
   "metadata": {},
   "source": [
    "<figure>\n",
    "    <center> <img src=\"images/atom_scale.jpg\" alt=\"image missing\" style=\"height: 350px\" />\n",
    "   <figcaption>Image 2: Atom scale and its constituints. &copy; <a href=\"https://www.physics.louisville.edu/cldavis/phys111/notes/ap_bblock.html\">University of Louisville</a> </figcaption> </center>\n",
    "</figure>"
   ]
  },
  {
   "attachments": {},
   "cell_type": "markdown",
   "id": "a651aed2",
   "metadata": {},
   "source": [
    "So now we are ready to check a slightly different table, the \"periodic table\" of the fundamental particles we have in nature (image 3). All the particles here are **elementary**, which means they are not made of something else (that's why we are calling them fundamental). **Everything** in the universe is made of these particles, even after a fraction of a second after the Big Bang! How amazing this is, such a small set of particles is responsible for our entire universe!"
   ]
  },
  {
   "cell_type": "markdown",
   "id": "8ea7e8e1",
   "metadata": {},
   "source": [
    "<figure>\n",
    "    <center> <img src=\"images/SM_graphic-FINAL_T02.svg\" alt=\"image missing\" style=\"height: 350px\" />\n",
    "   <figcaption>Image 3: Elementary particles. &copy; <a href=\"https://www.quantamagazine.org/a-new-map-of-the-standard-model-of-particle-physics-20201022/\">[2]</a></figcaption> </center>\n",
    "</figure>"
   ]
  },
  {
   "attachments": {},
   "cell_type": "markdown",
   "id": "04b865ed",
   "metadata": {},
   "source": [
    "Among these particles note that we have two quarks (in dark blue): the charm, *c*, and beauty, *b*, quarks. You don't need to know them yet, but we will see that these quarks are particularly interesting in our LHCb analyses.\n",
    "\n",
    "With all that in mind, we can now define _Particle physics_ as the field of physics where structures of matter and radiation and the interactions between them are studied. We study the particles shown in image 3 and how they interact with each other, the physical laws governing these interactions. In experimental particle physics, research is performed by accelerating particles and colliding them either with other particles or with solid targets. This is done with _particle accelerators_ and  the collisions are examined with _particle detectors_.\n",
    "\n",
    "The world's largest particle accelerator, the Large Hadron Collider (LHC), is located at CERN, the European Organization for Nuclear Research. The LHC is a 27 kilometers long circle-shaped synchrotron accelerator with the objective of colliding high-enery particle beams made of protons travelling almost at the speed of light. The LHC is located in a tunnel 100 meters underground on the border of France and Switzerland (image 4)."
   ]
  },
  {
   "cell_type": "markdown",
   "id": "43010fd7",
   "metadata": {},
   "source": [
    "One of the most famous events reported by the LHC (perhaps you might have heard about this already) is the discovery of the Higgs boson. In 2012 the ATLAS and CMS experiments at CERN made an announcement that they had observed a new particle with a mass equal to the predicted mass of the Higgs boson. The Higgs boson and the Higgs field related to it explain the origin of the mass of particles. In 2013 Peter Higgs and François Englert, who predicted the Higgs boson theoretically, were awarded the Nobel prize in physics."
   ]
  },
  {
   "cell_type": "markdown",
   "id": "059a6400",
   "metadata": {},
   "source": [
    "<figure>\n",
    "    <center> <img src=\"images/LHC-Copy1.png\" alt=\"image missing\" style=\"height: 350px\" />\n",
    "   <figcaption>Image 4: The LHC accelerator and the four detectors around it. &copy; <a href=\"https://cds.cern.ch/record/1708847\">CERN</a> [1]</figcaption> </center>\n",
    "</figure>"
   ]
  },
  {
   "cell_type": "markdown",
   "id": "4b1d215c",
   "metadata": {},
   "source": [
    "### Accelerating particles <a name=\"1.\"></a>"
   ]
  },
  {
   "attachments": {},
   "cell_type": "markdown",
   "id": "c1680c0d",
   "metadata": {},
   "source": [
    "The LHC mainly accelerates protons. The proton source of the LHC is a bottle of hydrogen. Protons are produced by stripping the electrons away from the hydrogen atoms with the help of an electric field.\n",
    "\n",
    "The process of accelerating the protons starts before the LHC. Before the protons arrive in the LHC they are accelerated with electric fields and directed with magnetic fields in smaller accelerators (Linac 2, Proton Synchrotron Booster, Proton Synchrotron and Super Proton Synchrotron) (image 5). After these the protons have an energy of 450 GeV. The protons are injected into the LHC in two different beampipes, each beam contains 2808 proton bunches located about 7.5 meters from each other. Each of these bunches includes $1\\text{.}2\\cdot 10^{11}$ protons.\n"
   ]
  },
  {
   "cell_type": "markdown",
   "id": "f08637f1",
   "metadata": {},
   "source": [
    "<figure>\n",
    " \n",
    "   <center> <img src=\"images/LHC3.png\" alt=\"image missing\" style=\"height: 400px\" />\n",
    "     <figcaption>Image 5: Part of the LHC accelerator opened. &copy; <a href=\"https://cds.cern.ch/record/905940\">CERN</a> [2]</figcaption> </center>\n",
    "</figure>"
   ]
  },
  {
   "cell_type": "markdown",
   "id": "b093a9f5",
   "metadata": {},
   "source": [
    "The two beams circulate in opposite directions in two different vacuum tubes. Image 6 shows a part of the LHC accelerator opened with the two vacuum tubes visible inside. Each of the proton beams will reach the energy of about 7 TeV (7000 GeV) in the LHC."
   ]
  },
  {
   "cell_type": "markdown",
   "id": "87689849",
   "metadata": {},
   "source": [
    "<figure>\n",
    " \n",
    "   <center> <img src=\"images/LHC2.jpg\" alt=\"image missing\" style=\"height: 350px\" />\n",
    "     <figcaption>Image 6: Part of the LHC accelerator opened. &copy; <a href=\"https://cds.cern.ch/record/905940\">CERN</a> [2]</figcaption> </center>\n",
    "</figure>"
   ]
  },
  {
   "cell_type": "markdown",
   "id": "86c2e76c",
   "metadata": {},
   "source": [
    "Particle collisions are created by crossing these two beams that are heading in opposite directions. Because the bunches are travelling so fast, there will be about 40 million bunch crosses per second in the LHC. When two proton bunches cross not all of the protons collide with each others. Only about 40 protons per bunch will collide and so create about 20 collisions. But that means there will be 800 million proton collisions every second in the LHC. That's a lot of action!\n",
    "\n",
    "The maximum energy of these collisions is 14 TeV. However in most cases the collision energy is smaller than that because when protons collide it is really their constitiuents, the quarks and gluons, which collide with each other. So not all of the energy of the protons is transmitted to the collision.\n",
    "\n",
    "When the protons collide the energy of the collision can be transformed into mass ($E=mc^2$) and new particles are produced in the collisions. These new particles are ejected from the collision area, a bit like a small explosion. By examining and measuring the particles created in collisions, researchers try to understand better the known particles which make up our universe and search for new particles which could explain puzzles such as dark matter."
   ]
  },
  {
   "cell_type": "markdown",
   "id": "10b43be3",
   "metadata": {},
   "source": [
    "### Video"
   ]
  },
  {
   "cell_type": "markdown",
   "id": "8ab37698",
   "metadata": {},
   "source": [
    "The acceleration and collision processes are summarised well in the short video below. Watch the video from the start until 1:15 to get a picture about these processes. You can start the video by running the code cell below (click the cell and then press SHIFT + ENTER)."
   ]
  },
  {
   "cell_type": "code",
   "execution_count": 2,
   "id": "da214926",
   "metadata": {},
   "outputs": [
    {
     "data": {
      "text/html": [
       "<iframe width=\"560\" height=\"315\" src=\"https://www.youtube.com/embed/pQhbhpU9Wrg\" frameborder=\"0\" allow=\"accelerometer; autoplay; encrypted-media; gyroscope; picture-in-picture\" allowfullscreen></iframe>"
      ],
      "text/plain": [
       "<IPython.core.display.HTML object>"
      ]
     },
     "execution_count": 2,
     "metadata": {},
     "output_type": "execute_result"
    }
   ],
   "source": [
    "from IPython.display import HTML\n",
    "HTML('<iframe width=\"560\" height=\"315\" src=\"https://www.youtube.com/embed/pQhbhpU9Wrg\" frameborder=\"0\" allow=\"accelerometer; autoplay; encrypted-media; gyroscope; picture-in-picture\" allowfullscreen></iframe>')"
   ]
  },
  {
   "cell_type": "markdown",
   "id": "b731e54b",
   "metadata": {},
   "source": [
    "### Examining particle collisions <a name=\"2.\"></a>"
   ]
  },
  {
   "cell_type": "markdown",
   "id": "75fd0e0f",
   "metadata": {},
   "source": [
    "At the LHC the proton beams are brought together to collide at four different points. In order to study the particles produced by the collisions, <b>particle detectors</b> are built around the collision points. \n",
    "The four particle detectors at the LHC are ATLAS, LHCb, ALICE and CMS (check Images 4 and 5). These detectors are like very large digital cameras and take a \"picture\" of the particles emerging from the collision.\n",
    "\n",
    "In Image 7 there are visualisations of some particles created in one collision <b>event</b> seen at the LHCb (Large Hadron Collider Beauty) detector."
   ]
  },
  {
   "cell_type": "markdown",
   "id": "13c24240",
   "metadata": {},
   "source": [
    "\n",
    "   <center> <img src=\"images/LHCb_event.jpg\" alt=\"image missing\" style=\"height: 350px\" />\n",
    "     <figcaption>Image 7: Event at the LHCb detector. &copy; <a href=\"https://cds.cern.ch/record/1478147/\">CERN</a> [2]</figcaption> </center>\n",
    "</figure>"
   ]
  },
  {
   "cell_type": "markdown",
   "id": "9674adcf",
   "metadata": {},
   "source": [
    "At the energies which the LHC operates, the *b* (beauty) or *c* (charm) quarks are produced with a strong forward boost along the directions of the proton beams, and those that fly through the detector are measured. For instance, a particle called *B* meson (which is composed of a *b* quark), travels a few mm into the detector. The decay products are measured and their path through the detector is reconstructed. By combining these decay products we can reconstruct the original particle, *B* meson. If this is not very clear right now, **don't worry**, we will learn about mesons and reconstructing particles in our notebooks!\n",
    "\n",
    "If you want to look at some more event displays for different types of events, open the file <a href=\"Events/EventDisplays.pdf\"> here</a> which explains event displays in the CMS (Compact Muon Solenoid) detector. For answers to the quiz at the end, click <a href=\"Events/QuizAnswers.pdf\"> here</a>."
   ]
  },
  {
   "cell_type": "markdown",
   "id": "e819ea0c",
   "metadata": {},
   "source": [
    "## The LHCb detector <a name=\"3.\"></a>"
   ]
  },
  {
   "attachments": {},
   "cell_type": "markdown",
   "id": "5a52b429",
   "metadata": {},
   "source": [
    "In this workshop we will be using data recorded by the LHCb detector, so lets look in more details at this detector.\n",
    "\n",
    "The goal of the LHCb detector is to detect particles that are created in collisions and measure different quantities about them (charge, energy, momentum, etc.). The LHCb is a foward facing single-arm detector, which means that the collision happens on the left hand side of Image 8 (where the red lines \"start\") and all the detector is placed on the forward side (everything else on the right), and it consists of different <b> sub-detectors</b> which form a structure composed of several \"parallel planes\" in the forward region of the collision point. In particular, this detector is designed to efficiently detect particles containing _b_ and _c_ quarks, ensuring that as many particles as possible from the collision are detected and measured. One very important use for this detector is the study of matter and anti-matter differences through analysing *b* (beauty) or *c* (charm) quark (and anti-quark) decay processes.\n",
    "\n",
    "The beamline is located at y = 0 in the picture and runs in the z direction (see Image 9). In what follows “transverse” means transverse to the LHC beamline, “upstream” is towards smaller values of z and “downstream” is towards greater\n",
    "values of z. The detector includes a high-precision system for tracking charged particles consisting\n",
    "of a silicon-strip detector surrounding the proton-proton interaction region, a large-area silicon-strip\n",
    "detector located upstream of a dipole magnet with a bending power of about 4Tm, and three\n",
    "stations of silicon-strip detectors and straw drift tubes placed downstream. Charged particles leave\n",
    "straight line tracks in the detector surrounding the interaction region, where there is no magnetic\n",
    "field, and are subsequently bent by the magnet before leaving tracks in the downstream tracking\n",
    "station. Their momentum can be deduced from the curvature induced by this magnetic field. "
   ]
  },
  {
   "cell_type": "markdown",
   "id": "186693bd",
   "metadata": {},
   "source": [
    "<figure>\n",
    "    <center> <img src=\"images/LHCb_Fig2.png\" alt=\"image missing\" style=\"height: 300px\" />\n",
    "    <figcaption>Image 8: The LHCb detector. &copy; <a href=\"https://cds.cern.ch/record/1978280/plots \">LHCb Collaboration</a> [3]</figcaption> </center>\n",
    "</figure>"
   ]
  },
  {
   "attachments": {},
   "cell_type": "markdown",
   "id": "33137e00",
   "metadata": {},
   "source": [
    "The figures above show the layout of the LHCb experiment. The two proton beams travel in the LHC along the horizontal pipe in the centre of the detector, from the left-hand side and from the right-hand side, and they collide in the Vertex Locator (first sub-detector at the left-hand side of the figure. If you can't see it now, don't worry, it will become more clear in Figure 9).\n",
    "\n",
    "In real life, the detector looks like Image 9. This is the detector inside the cavern at the LHC at around 100m underground.\n",
    "\n",
    "<center> <img src=\"images/lhcb_photo.jpeg\" alt=\"image missing\" style=\"height: 350px\" />\n",
    "     <figcaption>Image 7: Photograph of the LHCb detector. &copy; <a href=\"https://cds.cern.ch/record/1478147/\">CERN</a> [2]</figcaption> </center>\n",
    "</figure>\n",
    "\n",
    "\n",
    "The coordinate system used is that the path of one of the proton beams into the detector runs along the z axis (from left to right). The y axis is vertical and the x axis is perpendicular to the page. \n",
    "\n",
    "\n",
    "Let's look at the different parts of the detector: \n",
    "\n",
    "<figure>\n",
    "    <center> <img src=\"images/LHCb_Fig1.png\" alt=\"image missing\" style=\"height: 300px\" />\n",
    "    <figcaption>Image 9: The LHCb detector. &copy; <a href=\"https://cds.cern.ch/record/1978280/plots \">LHCb Collaboration</a> [3]</figcaption> </center>\n",
    "</figure>"
   ]
  },
  {
   "cell_type": "markdown",
   "id": "f04fbfc9",
   "metadata": {},
   "source": [
    "__Vertex Locator (VELO)__\n",
    "\n",
    "Located close to the interaction point, the VELO is responsible for providing information about the coordinates of tracks left by the particles. With these coordinates we are able to find a common point where some tracks are originated, _i.e._, we are able to reconstruct vertices."
   ]
  },
  {
   "attachments": {},
   "cell_type": "markdown",
   "id": "08e49529",
   "metadata": {},
   "source": [
    "__Magnet__\n",
    "\n",
    "A charged particle in the presence of a magnetic field experiences a perpendicular force which causes bending of the tracks depending on its momentum. The magnets are responsible for measuring the charge and momentum of the particles."
   ]
  },
  {
   "cell_type": "markdown",
   "id": "2575508c",
   "metadata": {},
   "source": [
    "__Tracking stations__\n",
    "\n",
    "The tracking system (VELO, TT, T1-T3) is composed of silicon trackers and provides information about the trajectories of charged particles allowing to reconstruct them."
   ]
  },
  {
   "cell_type": "markdown",
   "id": "5be97670",
   "metadata": {},
   "source": [
    "__Ring-Imaging Cherenkov System (RICH)__\n",
    "\n",
    "One of the most important information provided by the LHCb detector is a good identification of particles. The RICH detectors are responsible for differentiating charged particles by using Cherenkov radiation."
   ]
  },
  {
   "cell_type": "markdown",
   "id": "6cf18119",
   "metadata": {},
   "source": [
    "__Calorimeter__\n",
    "\n",
    "\n",
    "Particle energies can be measured with help of the calorimeters. Electrons and photons will be stopped by the Electromagnetic Calorimeter (ECAL). Hadrons, for example protons or neutrons, will pass through the ECAL but will be stopped in the Hadron Calorimeter (HCAL). "
   ]
  },
  {
   "cell_type": "markdown",
   "id": "fde9297e",
   "metadata": {},
   "source": [
    "__Muon detector__\n",
    "\n",
    "Only muons and very weakly interacting particles like neutrinos will pass through both the ECAL and HCAL without being stopped. Energies and momenta of muons can be determined with the muon chambers (M1-M5). The detection of the momentum is based on electrical pulses that muons create in the different sections of the muon chambers. Energies of muons can't be measured directly, but the energies will be determined by calculating them from the other measured quantities.\n"
   ]
  },
  {
   "cell_type": "markdown",
   "id": "ca830ab5",
   "metadata": {},
   "source": [
    "__Missing energy__\n",
    "\n",
    "Neutrinos can't be detected directly in the detector (they only interact very weakly and pass right through the detector), but the existence of them can be derived with the help of missing energy. It is possible that the total energy of the particles detected in a collision is smaller than the energy before the collision. Yet, we know that energy must be conserved. This situation indicates that something was undetected in the collision, this <b>\"missing energy\"</b> is assumed to be due to neutrinos created in the collision."
   ]
  },
  {
   "cell_type": "markdown",
   "id": "ef389e35",
   "metadata": {},
   "source": [
    "Different particles act differently in the different sub-detectors of the LHCb. In image 10 you can see the interactions of different particle types with the components of the detector."
   ]
  },
  {
   "cell_type": "markdown",
   "id": "dafab1dd",
   "metadata": {},
   "source": [
    "<figure>\n",
    "   <center>  <img src=\"images/detector.png\" alt=\"image missing\" style=\"height: 350px\" />\n",
    "   <figcaption>Image 10: Interaction of different particle types in the detector components. &copy; <a href=\"https://arxiv.org/abs/1101.3276\">Christian Lippmann</a> [4]</figcaption> </center>\n",
    "</figure>"
   ]
  },
  {
   "cell_type": "markdown",
   "id": "b9792f65",
   "metadata": {},
   "source": [
    "---"
   ]
  },
  {
   "cell_type": "markdown",
   "id": "37a981a2",
   "metadata": {},
   "source": [
    "<div class=\"alert alert-success\">\n",
    "\n",
    "__Congratulations!__ Now you know how a particle accelerator works, and how particle physicists use detectors to get a snapshot of the collisions! To get a first taste of the programming tools used to study the results of particle collisions, move on to Notebook 2.\n",
    "    \n",
    "</div>"
   ]
  },
  {
   "cell_type": "markdown",
   "id": "e0cea12e",
   "metadata": {},
   "source": [
    "<div class=\"alert alert-success\">Before you continue to the next notebook, please familarise yourself with how particle accelerators work by watching <a href=\"https://youtu.be/WwLPH5B0efk\"> this </a> RAL video by Dr Tom Williams..</div>"
   ]
  },
  {
   "cell_type": "markdown",
   "id": "ac3d5176",
   "metadata": {},
   "source": [
    "---"
   ]
  },
  {
   "cell_type": "markdown",
   "id": "65f55962",
   "metadata": {},
   "source": [
    "## Sources"
   ]
  },
  {
   "cell_type": "markdown",
   "id": "bea1000f",
   "metadata": {},
   "source": [
    "This notebook was based on the material from the ATLAS Co-Creation Workshop.\n",
    "\n",
    "[1] P. Mouche, *Overall view of the LHC. Vue d'ensemble du LHC*, 2014.\n",
    "Url: [https://cds.cern.ch/record/1708847](https://cds.cern.ch/record/1708847).\n",
    "\n",
    "[2] M. Brice, *View of an open LHC interconnection. Vue d'une interconnection ouverte*, 2005.\n",
    "Url: [https://cds.cern.ch/record/905940](https://cds.cern.ch/record/905940).\n",
    "\n",
    "[3] LHCb Experiment, *Event display of a proton–lead event in the LHCb detector, showing the reconstructed tracks of particles produced in the collision*, 2012.\n",
    "Url: [https://cds.cern.ch/record/1478147/](https://cds.cern.ch/record/1478147/).\n",
    "\n",
    "[4] LHCb Experiment, *LHCb detector performance*, 2014.\n",
    "Url: [https://cds.cern.ch/record/1978280/plots](https://cds.cern.ch/record/1978280/plots).\n",
    "\n",
    "[5] Christian Lippmann, *Particle identification*, 2011.\n",
    "Url: [https://arxiv.org/abs/1101.3276](https://arxiv.org/abs/1101.3276).\n"
   ]
  },
  {
   "cell_type": "markdown",
   "id": "992c749c",
   "metadata": {},
   "source": [
    "_This notebook was based on the ATLAS Co-Creation workshop together with official descriptions from the LHCb website_"
   ]
  },
  {
   "cell_type": "code",
   "execution_count": null,
   "id": "662b14b8",
   "metadata": {},
   "outputs": [],
   "source": []
  }
 ],
 "metadata": {
  "kernelspec": {
   "display_name": "Python 3 (ipykernel)",
   "language": "python",
   "name": "python3"
  },
  "language_info": {
   "codemirror_mode": {
    "name": "ipython",
    "version": 3
   },
   "file_extension": ".py",
   "mimetype": "text/x-python",
   "name": "python",
   "nbconvert_exporter": "python",
   "pygments_lexer": "ipython3",
   "version": "3.10.8"
  }
 },
 "nbformat": 4,
 "nbformat_minor": 5
}
