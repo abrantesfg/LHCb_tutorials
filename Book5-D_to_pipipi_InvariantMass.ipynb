{
 "cells": [
  {
   "cell_type": "markdown",
   "metadata": {},
   "source": [
    "<CENTER><img src=\"images/logos3.png\" style=\"width:30%\"></CENTER>"
   ]
  },
  {
   "attachments": {},
   "cell_type": "markdown",
   "metadata": {},
   "source": [
    "# $D^+$ decays: finding the $D^+$ meson mass! <a name=\"c\"></a>\n",
    "\n",
    "**The following analysis aims to search for events where the [$D^+$](https://en.wikipedia.org/wiki/D_meson) meson decays to three pions.**\n",
    "\n",
    "The $D^+$ meson is composed of a $c$ quark and an $\\bar{d}$ antiquark and the pion, $\\pi^+$, is composed of a $u$ quark and an $\\bar{d}$ antiquark (as we've seen in the Introduction to Particle Physics notebook). In this notebook we want to reconstruct the trajectories of our final state particles, our pions, in order to find the mass of the $D^+$ meson.\n",
    "\n",
    "We will be dealing with a three-body decay, $D^+ \\to \\pi^- \\pi^+ \\pi^+$. In this process the electric charge must be conserved!\n",
    "\n",
    "We've learned in the previous notebook about 4-vectors and we know how to manipulate them. You will see now why it was so important to learn about 4-vectors and what we can do with them in real life! We will look at the $D^+$ decay to three pions but firstly, we need to think about how we talk about decays in particle physcis."
   ]
  },
  {
   "cell_type": "markdown",
   "metadata": {},
   "source": [
    "**Contents:**\n",
    "- [Decays](#1.)\n",
    "- [The invariant mass calculation](#2.)\n",
    "- [Cuts](#3.)\n",
    "- [Find the $D^+$ meson!](#4.)"
   ]
  },
  {
   "cell_type": "markdown",
   "metadata": {},
   "source": [
    "---"
   ]
  },
  {
   "attachments": {},
   "cell_type": "markdown",
   "metadata": {},
   "source": [
    "## Decays <a name=\"1.\"></a>\n",
    "\n",
    "Let's start with understanding the idea of a decay process!\n",
    "\n",
    "We want to find $D^+$ mesons, but they don't live long enough to actually see them with the detector itself. Instead, we have to **reconstruct** them from their decay products. We don't particularly mind where the $D^+$'s themselves come from. All you need to know here is that each time the LHC smashes two protons together, they produce lots and lots of particles, some of which are $D^+$'s.\n",
    "\n",
    "\n",
    "From theory, we know that there are several decay routes as you can see in [here](https://pdglive.lbl.gov/Particle.action?init=0&node=S031&home=MXXX035) but today we are interested in the particular decay route $D^+ \\to \\pi^- \\pi^+ \\pi^+$.\n",
    "\n",
    "\n",
    "In this process, a random $D^+$ emerges from the collision aftermath in the LHC (we don't care how) can decay directly to three pions. The decay happens at the vertex below, where the two arrows meet. We denote a pion by the letter $\\pi^{+}$, and the antiparticle is $\\pi^{-}$.\n",
    "\n",
    "<figure>\n",
    "    <center> <img src=\"images/DTopipipi.png\" alt=\"TEST\" style=\"width:40%\" />\n",
    "   <figcaption>Image 1: The $D^+$ decay directly from the proton-proton collision. </figcaption> </center>\n",
    "</figure>\n",
    "\n",
    "The LHCb detector can measure the momentum and energy of pions coming out of decays, and you can access that information quite simply. It also measures the charge and flavour of each particle.\n",
    "\n",
    "We mentioned earlier that each smash makes lots of particles. That's true - in fact, it makes so many that we can't actually store all the records of what happened, even on some of the biggest data storage facilities in the world. \n",
    "\n",
    "Instead, we use what is called a trigger. The trigger here was us seeing **exactly one high energy pion**, so all of our data will contain at least those events, as well as a bunch of other particles.\n"
   ]
  },
  {
   "cell_type": "markdown",
   "metadata": {},
   "source": [
    "Next we have to open the data that we want to analyze. As described earlier, the data is stored in a *.root file. We can use a python library called uproot to access the data. Below is an example of how to open a *.root file using uproot"
   ]
  },
  {
   "cell_type": "code",
   "execution_count": null,
   "metadata": {},
   "outputs": [],
   "source": [
    "## data file\n",
    "import uproot\n",
    "f = uproot.open(\"../LHCb_data/D2PiPiPi/PPP_MagUpDown_allm2_TIS_runNumber_lessBranches_Sample2_SamePol_MVA_BDTG0p7_vetoKs.root\")"
   ]
  },
  {
   "cell_type": "markdown",
   "metadata": {},
   "source": [
    "We can inspect the contents of a file by using the method keys()"
   ]
  },
  {
   "cell_type": "code",
   "execution_count": null,
   "metadata": {},
   "outputs": [],
   "source": [
    "f.keys()"
   ]
  },
  {
   "cell_type": "markdown",
   "metadata": {},
   "source": [
    "We see that we have an object called 'DecayTree'. We can obtain information about the object in the file and its type by using the method classnames()"
   ]
  },
  {
   "cell_type": "code",
   "execution_count": null,
   "metadata": {},
   "outputs": [],
   "source": [
    "f.classnames()"
   ]
  },
  {
   "attachments": {},
   "cell_type": "markdown",
   "metadata": {},
   "source": [
    "We see that the object called DecayTree is a TTree type. A TTree is simply columns of data stored in the .root format. Each column of data can represent a different physical quantity of a particle. For instance, its charge, energy, momentum etc.\n",
    "\n",
    "Now we know what data the file contains, in future we can quickly access that data. We want to access the mini data. This can be done by executing the command below\n"
   ]
  },
  {
   "cell_type": "code",
   "execution_count": null,
   "metadata": {},
   "outputs": [],
   "source": [
    "events = uproot.open(\"../LHCb_data/D2PiPiPi/PPP_MagUpDown_allm2_TIS_runNumber_lessBranches_Sample2_SamePol_MVA_BDTG0p7_vetoKs.root:DecayTree\")"
   ]
  },
  {
   "attachments": {},
   "cell_type": "markdown",
   "metadata": {},
   "source": [
    "Let's look at contents of the TTree. Essentially all the columns in the TTree called DecayTree"
   ]
  },
  {
   "cell_type": "code",
   "execution_count": null,
   "metadata": {},
   "outputs": [],
   "source": [
    "events.keys()"
   ]
  },
  {
   "attachments": {},
   "cell_type": "markdown",
   "metadata": {},
   "source": [
    "We see lots of columns, which means we have lots of variables saved from the collisions on this file. But the most important ones for us are the momentum components of each final state particle. We can use the .arrays method to access events with just the columns we specify.\n",
    "\n",
    "We want to run over all the data and reconstruct the $D^+$ meson mass. To do this we will access events using the arrays method again. Let's look at doing this."
   ]
  },
  {
   "attachments": {},
   "cell_type": "markdown",
   "metadata": {},
   "source": [
    "First we define a histogram. To do this we can import the python hist library. Once we have done that we can define a histogram. Its name is hist and the x axis is named $m(\\pi^-\\pi^+\\pi^+)$ (MeV). For instance, here is an example of how we define a histogram. The three initial arguments indicate that this histogram contains 100 bins which fill the gap from 0 to 150000.\n"
   ]
  },
  {
   "cell_type": "code",
   "execution_count": null,
   "metadata": {},
   "outputs": [],
   "source": [
    "import hist\n",
    "from hist import Hist\n",
    "\n",
    "hist_mass = Hist(hist.axis.Regular(100,0,150000, label = \"$m(\\pi^-\\pi^+\\pi^+)$ (MeV)\"))"
   ]
  },
  {
   "attachments": {},
   "cell_type": "markdown",
   "metadata": {},
   "source": [
    "It is now time to fill our above defined histogram with the masses. To do that, we need to reconstruct our $D^+$ meson invariant mass. \n"
   ]
  },
  {
   "cell_type": "markdown",
   "metadata": {},
   "source": [
    "[Return to contents](#c)"
   ]
  },
  {
   "cell_type": "markdown",
   "metadata": {},
   "source": [
    "---"
   ]
  },
  {
   "attachments": {},
   "cell_type": "markdown",
   "metadata": {},
   "source": [
    "## The invariant mass calculation <a name=\"2.\"></a>\n",
    "\n",
    "One very important quantity we need to define is the invariant mass! It is defined as an invariant quantity which is the same for all observers in all reference frames (that's why we call it *invariant*). To calculate it we use the energy, *E*, and momentum, *p*, both measured in the detector. To derive a proper expression for the invariat mass we ask that in the process both energy and momentum are conserved! \n",
    "\n",
    "* Energy conservation\n",
    "\n",
    "$ E = E_{\\pi^-} + E_{\\pi^+} + E_{\\pi^+} $\n",
    "\n",
    "* Momentum conservation\n",
    "\n",
    "$ \\vec{p} = \\vec{p}_{\\pi^-} + \\vec{p}_{\\pi^+} + \\vec{p}_{\\pi^+} $\n",
    "\n",
    "From special relativity we've learned the relation between mass, energy and momentum to be:\n",
    "\n",
    "$ (pc)^2 + (mc^2)^2 = E^2 $\n",
    "\n",
    "$ E^2 = p^2 + m^2$\n",
    "\n",
    "Rearraging it to $m$:\n",
    "\n",
    "$ m^2 = E^2 - p^2 = (E_{\\pi^-} + E_{\\pi^+} + E_{\\pi^+})^2 - || p_{\\pi^-} + p_{\\pi^+} + p_{\\pi^+} ||$\n",
    "\n",
    "$ m^2 = (E_{\\pi^-}+ E_{\\pi^+} + E_{\\pi^+})^2 - (\\vec{p}_{\\pi^-} + \\vec{p}_{\\pi^+} + \\vec{p}_{\\pi^+})\\cdot (\\vec{p}_{\\pi^-} + \\vec{p}_{\\pi^+} + \\vec{p}_{\\pi^+})$\n",
    "\n",
    "Since the dot product of two orthogonal vectors is zero, we can write more explicitly\n",
    "\n",
    "$ m^2 = (E_{\\pi^-} + E_{\\pi^+} + E_{\\pi^+})^2 - (p_{\\pi^-_x} + p_{\\pi^+_x} + p_{\\pi^+_x} )^2 - (p_{\\pi^-_y} + p_{\\pi^+_y} + p_{\\pi^+_y})^2 - (p_{\\pi^-_z} + p_{\\pi^+_z} + p_{\\pi^+_z})^2$\n",
    "\n",
    "<div class=\"alert alert-info\"> Our goal is to calculte the invariant mass of the three chosen particles and if the mass is close to the D+ mass, we save it to a histogram.</div> "
   ]
  },
  {
   "cell_type": "markdown",
   "metadata": {},
   "source": [
    "## Cuts <a name=\"3.\"></a>\n",
    "\n",
    "Why do we make cuts? Remember that there are lots of other particles flying around, and sometimes you'll just have combinations of particles, that have nothing to do with each other, that we measure. Obviously, they won't reconstruct to a $D^+$ meson. We will call this *background*.\n",
    "\n",
    "\n",
    "### Make sure you read through the code - particularly the comments! You'll be doing this yourself shortly."
   ]
  },
  {
   "cell_type": "markdown",
   "metadata": {},
   "source": [
    "The $D^+$ meson decays to:\n",
    "- $D^+ \\rightarrow \\pi^- \\; \\pi^+ \\; \\pi^+$"
   ]
  },
  {
   "attachments": {},
   "cell_type": "markdown",
   "metadata": {},
   "source": [
    "This means we can deduce the following for a *pass event*:\n",
    "- There must be 3 pions produced by the event - see by observation\n",
    "- The sum of the 3 pions charge has to be the same as the charge of the decaying particle $D^+$ \n",
    "- The final state particles are **not** muons\n",
    "\n",
    "Let's open our LHCb data but now selecting only the events satisfying the criteria:\n",
    "\n",
    "1. are **not** muons: `p1_isMuon==0` and `p2_isMuon==0` and `p3_isMuon==0` "
   ]
  },
  {
   "cell_type": "code",
   "execution_count": null,
   "metadata": {},
   "outputs": [],
   "source": [
    "# Define preselection\n",
    "preselection = \"p1_isMuon==0 & p2_isMuon==0 & p3_isMuon==0\"\n",
    "\n",
    "events = uproot.open(\"../LHCb_data/D2PiPiPi/PPP_MagUpDown_allm2_TIS_runNumber_lessBranches_Sample2_SamePol_MVA_BDTG0p7_vetoKs.root:DecayTree\",where=preselection)"
   ]
  },
  {
   "cell_type": "code",
   "execution_count": null,
   "metadata": {},
   "outputs": [],
   "source": [
    "# Extracting the momentum components and energy of the first particle\n",
    "p1x = events[\"p1_PX\"].array(library=\"np\")\n",
    "p1y = events[\"p1_PY\"].array(library=\"np\")\n",
    "p1z = events[\"p1_PZ\"].array(library=\"np\")"
   ]
  },
  {
   "attachments": {},
   "cell_type": "markdown",
   "metadata": {},
   "source": [
    "Let's visualise one of these momentum components, for instance let's check the x-component of the pion! To do that we first define a histogram, and we fill it with the values we extracted in `p1x`."
   ]
  },
  {
   "cell_type": "code",
   "execution_count": null,
   "metadata": {},
   "outputs": [],
   "source": [
    "import hist\n",
    "from hist import Hist\n",
    "import matplotlib.pyplot as plt\n",
    "import numpy as np\n",
    "\n",
    "# Defining histogram\n",
    "hist_p1x = Hist(hist.axis.Regular(100,-50e3,50e3, label = \"$p_{1x}$ (MeV)\"))\n",
    "\n",
    "# Fiblling histogram with values of p1x\n",
    "hist_p1x.fill(p1x)\n",
    "\n",
    "# Plotting the histogram\n",
    "hist_p1x.plot()\n",
    "plt.show()"
   ]
  },
  {
   "cell_type": "markdown",
   "metadata": {},
   "source": [
    "Great! Momentum is a **vector** quantity, it has x,y and z components. Now let's try to calculate the magnitude of the momentum, $p^{2} = p_{x}^{2} + p_{y}^{2} + p_{z}^{2}$, of the first kaon candidate and plot it into a histogram: "
   ]
  },
  {
   "cell_type": "code",
   "execution_count": null,
   "metadata": {},
   "outputs": [],
   "source": [
    "# Calulating the magnitude of the momentum:\n",
    "p1 = np.sqrt( p1x**2 + p1y**2 + p1z**2)\n",
    "\n",
    "# Defining histogram\n",
    "hist_p1 = Hist(hist.axis.Regular(100,0e3,50e3, label = \"$p_{1}$ (GeV)\"))\n",
    "\n",
    "# Filling histogram with values of p1x\n",
    "hist_p1.fill(p1)\n",
    "\n",
    "# Plotting the histogram\n",
    "hist_p1.plot()\n",
    "plt.show()"
   ]
  },
  {
   "attachments": {},
   "cell_type": "markdown",
   "metadata": {},
   "source": [
    "### Your turn!\n",
    "\n",
    "We've calculated the magnitude of the momentum for the $\\pi^-$. Repeat that now for the other pions, $\\pi^+$!\n",
    "\n",
    "The first step is to extract the momentum components. Then plot one of the components as an example, for instace the x-component. Finally, calculate and plot the magnitude of the momentum for the second and third pion."
   ]
  },
  {
   "cell_type": "code",
   "execution_count": null,
   "metadata": {},
   "outputs": [],
   "source": [
    "# Extracting the momentum components and energy of the second muon\n",
    "p2x = #COMPLETE\n",
    "p2y = #COMPLETE\n",
    "p2z = #COMPLETE\n",
    "\n",
    "p3x = #COMPLETE\n",
    "p3y = #COMPLETE\n",
    "p3z = #COMPLETE\n",
    "\n",
    "# Defining histogram\n",
    "hist_p2x = Hist(hist.axis.Regular(100,-50e3,50e3, label = \"$p_{2x}$ (MeV)\"))\n",
    "hist_p3x = Hist(hist.axis.Regular(100,-50e3,50e3, label = \"$p_{3x}$ (MeV)\"))\n",
    "\n",
    "# Filling histogram with values of p2x and p3x\n",
    "hist_p2x.fill(#COMPLETE\n",
    "hist_p3x.fill(#COMPLETE\n",
    "\n",
    "# Plotting the histograms\n",
    "fig, axes = plt.subplots(figsize=(10,5))\n",
    "plt.subplot(1,2,1)\n",
    "hist_p2x.plot()\n",
    "plt.subplot(1,2,2)\n",
    "hist_p3x.plot()\n",
    "plt.show()\n",
    "\n",
    "plt.show()"
   ]
  },
  {
   "cell_type": "code",
   "execution_count": null,
   "metadata": {},
   "outputs": [],
   "source": [
    "# Calulating the magnitude of the momentum\n",
    "p2 = #COMPLETE\n",
    "p3 = #COMPLETE\n",
    "\n",
    "# Defining histogram\n",
    "hist_p2 = Hist(hist.axis.Regular(100,0e3,50e3, label = \"$p_{2}$ (GeV)\"))\n",
    "hist_p3 = Hist(hist.axis.Regular(100,0e3,50e3, label = \"$p_{3}$ (GeV)\"))\n",
    "\n",
    "\n",
    "# Filling histogram with values of p2 and p3\n",
    "hist_p2.fill(p2)\n",
    "hist_p3.fill(p3)\n",
    "\n",
    "# Plotting the histograms\n",
    "fig, axes = plt.subplots(figsize=(10,5))\n",
    "plt.subplot(1,2,1)\n",
    "hist_p2.plot()\n",
    "plt.subplot(1,2,2)\n",
    "hist_p3.plot()\n",
    "plt.show()\n"
   ]
  },
  {
   "cell_type": "markdown",
   "metadata": {},
   "source": [
    "<div class=\"alert alert-success\">\n",
    "Great Job!\n",
    "</div>\n",
    "\n",
    "## Calculating the energy distributions\n"
   ]
  },
  {
   "cell_type": "code",
   "execution_count": null,
   "metadata": {},
   "outputs": [],
   "source": [
    "# Creating histograms for e2 and e3 (energy of the second and third particles)\n",
    "hist_e1 = Hist(hist.axis.Regular(100,0,50e3, label = \"Energy ($p_1$) (GeV)\"))\n",
    "hist_e2 = Hist(hist.axis.Regular(100,0,50e3, label = \"Energy ($p_2$) (GeV)\"))\n",
    "hist_e3 = Hist(hist.axis.Regular(100,0,50e3, label = \"Energy ($p_3$) (GeV)\"))\n",
    "\n",
    "# Pion mass in MeV\n",
    "m_pion = 139.57\n",
    "\n",
    "# Calculating the momentum and filling the histogram\n",
    "e1 = #COMPLETE\n",
    "hist_e1.fill#COMPLETE\n",
    "e2 = #COMPLETE\n",
    "hist_e2.fill#COMPLETE\n",
    "e3 = #COMPLETE\n",
    "hist_e3.fill#COMPLETE\n",
    "\n",
    "# Plotting the histograms\n",
    "fig, axes = plt.subplots(figsize=(10,5))\n",
    "plt.subplot(1,2,1)\n",
    "hist_e2.plot()\n",
    "plt.subplot(1,2,2)\n",
    "hist_e3.plot()\n",
    "plt.show()"
   ]
  },
  {
   "attachments": {},
   "cell_type": "markdown",
   "metadata": {},
   "source": [
    "## Find the $D^+$ meson! <a name=\"4.\"></a>\n",
    "\n",
    "Now that we've learned how to obtain the momentum and energy, we are ready to reconstruct the invariant mass! After filling the histogram we want to see the results of the analysis."
   ]
  },
  {
   "cell_type": "code",
   "execution_count": null,
   "metadata": {},
   "outputs": [],
   "source": [
    "# Defining mass histogram\n",
    "#COMPLETE\n",
    "\n",
    "# Calculating invariant mass\n",
    "m = #COMPLETE\n",
    "\n",
    "# Filling histogram\n",
    "#COMPLETE\n",
    "\n",
    "# Plotting histogram\n",
    "#COMPLETE\n",
    "plt.show()"
   ]
  },
  {
   "cell_type": "markdown",
   "metadata": {},
   "source": [
    "<div class=\"alert alert-success\">\n",
    "Great Job! If everything went well, you have just reconstructed the $D^+$ meson!\n",
    "</div>\n",
    "\n",
    "*Interpret this graph - what is the mass of this meson?*"
   ]
  },
  {
   "cell_type": "markdown",
   "metadata": {},
   "source": [
    "<details>\n",
    "    <summary>Answer: </summary>\n",
    "        That's right, around 1866 GeV!\n",
    "</details>"
   ]
  },
  {
   "cell_type": "markdown",
   "metadata": {},
   "source": [
    "If you want to double check you result, there is already one column in our data file which is exactly the invariant mass distribution. If you've done if correctly, your plot should look like the following result:"
   ]
  },
  {
   "cell_type": "code",
   "execution_count": null,
   "metadata": {},
   "outputs": [],
   "source": [
    "import hist\n",
    "from hist import Hist\n",
    "import matplotlib.pyplot as plt\n",
    "import numpy as np\n",
    "\n",
    "dmm = events[\"D_MM\"].array(library=\"np\") \n",
    "\n",
    "# Defining histogram\n",
    "hist_dmm = Hist(hist.axis.Regular(100,1800,1950, label = \"$m(\\pi^- \\pi^+ \\pi^+)$ (GeV)\"))\n",
    "\n",
    "# Filling histogram with values of the invariant mass\n",
    "hist_dmm.fill(dmm)\n",
    "\n",
    "# Plotting the histogram\n",
    "hist_dmm.plot()\n",
    "plt.show()"
   ]
  },
  {
   "cell_type": "markdown",
   "metadata": {},
   "source": [
    "[Return to contents](#c)"
   ]
  },
  {
   "cell_type": "markdown",
   "metadata": {},
   "source": [
    "## Fitting the mass peak <a name=\"5.\"></a>"
   ]
  },
  {
   "cell_type": "markdown",
   "metadata": {},
   "source": [
    "Now that we have reconstructed the $D^+$ mass, the next step is to fit the histogram. To fit the histogram is to try to find the best function, (or combination of funtions) that reproduce the shape we see in our data. Let's start with a simple example. \n",
    "\n",
    "Imagine we have a set of data points and we want to find a line that passes nearby our points."
   ]
  },
  {
   "cell_type": "code",
   "execution_count": null,
   "metadata": {},
   "outputs": [],
   "source": [
    "import numpy as np\n",
    "import matplotlib.pyplot as plt\n",
    "\n",
    "#define data\n",
    "x = np.array([1, 2, 3, 4, 5, 6, 7, 8])\n",
    "y = np.array([2, 5, 6, 7, 9, 12, 16, 19])\n",
    "\n",
    "#find line of best fit\n",
    "a, b = np.polyfit(x, y, 1)\n",
    "\n",
    "#add points to plot\n",
    "plt.scatter(x, y)\n",
    "plt.xlabel(\"x\")\n",
    "plt.ylabel(\"y\")\n",
    "\n",
    "#add line of best fit to plot\n",
    "plt.plot(x, a*x+b, c=\"red\")       "
   ]
  },
  {
   "cell_type": "markdown",
   "metadata": {},
   "source": [
    "In our plot, the blue dots represent our data and the red line is the best line we can draw that reproduces the behavior of our data. Our LHCb data is not as simple as this example, but the idea is the same! We want to find the best curve that reproduces the shape of the mass distribution we found. It won't be a straight line as our data does not have this kind of pattern, but there are other types of functions that we can use.\n",
    "\n",
    "### Gaussian function\n",
    "\n",
    "One very commonly used is the Gaussian function (also known as the normal distribution). We can represent it by the function:\n",
    "\n",
    "$f(x) = \\frac{1}{\\sigma \\sqrt{2\\pi}} e^{-\\frac{1}{2} \\big(\\frac{x-\\mu}{\\sigma}\\big)^2}$\n",
    "\n",
    "And if we want to draw this function, we can run the following line:"
   ]
  },
  {
   "cell_type": "code",
   "execution_count": null,
   "metadata": {},
   "outputs": [],
   "source": [
    "import numpy as np\n",
    "import scipy as sp\n",
    "from scipy import stats\n",
    "import matplotlib.pyplot as plt\n",
    "\n",
    "## generate the data and plot it for a gaussian curve\n",
    "\n",
    "## x-axis for the plot\n",
    "x_data = np.arange(-5, 5, 0.001)\n",
    "\n",
    "## y-axis as the gaussian\n",
    "y_data = stats.norm.pdf(x_data, 0, 1)\n",
    "\n",
    "## plot data\n",
    "plt.plot(x_data, y_data)\n"
   ]
  },
  {
   "cell_type": "markdown",
   "metadata": {},
   "source": [
    "Interesting... it looks like this gaussian function has some similarities with the mass peak we found! So perhaps we can use this Gaussian function in our fit to the mass peak. When dealing with gaussian functions, two very important features are the mean value of the function, $\\mu$, and the width, $\\sigma$. The $\\mu$ is the value which our curve is cetered at, in this case, the gaussian peak is centered at zero. The $\\sigma$ is the width of the distrbution, in this case we can see that the distribution is basically over before -2 and after 2. So the total width here is 1.\n",
    "\n",
    "<div class=\"alert alert-warning\"> Don't worry if the function has a complicated mathematical expression, the idea here is that since it looks a lot like our peak, we can use this function to learn features of our data!\n",
    "</div>\n"
   ]
  },
  {
   "cell_type": "markdown",
   "metadata": {},
   "source": [
    "Great! It seems that our mass peak looks like a gaussian centered at around 1870 MeV and outside this gaussian, the distribution looks like a horizontal line.\n",
    "\n",
    "The gaussian-like behavior represents the $D^+ \\to \\pi^- \\pi^+ \\pi^+$ candidates, our signal events, and the events in this flat horizontal distribution are called background events. Signal events are the ones corresponding to our process of interest, while background events correspond to processes that we are not interested in. In this case, they correspond to combinatorial background.\n",
    "\n",
    "With all that said, we are ready to fit our invariant mass distribution!\n"
   ]
  },
  {
   "cell_type": "code",
   "execution_count": null,
   "metadata": {},
   "outputs": [],
   "source": [
    "# 1.) Necessary imports.    \n",
    "import numpy as np\n",
    "import matplotlib.pyplot as plt\n",
    "from scipy.optimize import curve_fit\n",
    "\n",
    "# 2.) Define fit function: Gaussian + straight line***\n",
    "def fit_function(x, A, B, C, mu, sigma):\n",
    "    return (A*x + B + C * np.exp(-1.0 * (x - mu)**2 / (2 * sigma**2)))\n",
    "\n",
    "# 3.) Define bins and bin centers\n",
    "bins = np.linspace(1800, 1940, 100)\n",
    "binscenters = np.array([0.5 * (bins[i] + bins[i+1]) for i in range(len(bins)-1)])\n",
    "\n",
    "# 4.) Save the number of events per bin, and the bin values to arrays:\n",
    "# count and value are basically aliases\n",
    "x = mass_distr.axes.centers[0]\n",
    "y = mass_distr.counts()\n",
    "\n",
    "# 5.) Fit the function to the histogram data.\n",
    "\n",
    "# To perform a fit we first need to set initial values for the parameters in our function, usually we guess \n",
    "# the initial values for our parameters and we let the fit find the optimal values for each one\n",
    "INITIAL_GUESS = [0, 300, 1000, #COMPLETE, #COMPLETE] # Remember that we have 5 parameters to set, so we need something like [A, B, C, mu, sigma]\n",
    "\n",
    "popt, pcov = curve_fit(fit_function, xdata=x, ydata=y, p0=INITIAL_GUESS)\n",
    "error = np.sqrt(np.diag(pcov))\n",
    "\n",
    "# 6.) Generate enough x values to make the curves look smooth.\n",
    "xspace = np.linspace(1800, 1940, 100000)\n",
    "\n",
    "# 7.) Plot the histogram and the fitted function.\n",
    "mass_distr.plot(histtype = \"fill\",label=r'Data')\n",
    "plt.plot(xspace, fit_function(xspace, *popt), color='darkorange', linewidth=2.5, label=r'Fitted function')\n",
    "\n",
    "plt.xlim(1800,1940)\n",
    "plt.xlabel(r'$m(\\pi^- \\pi^+ \\pi^+)$')\n",
    "plt.ylabel(r'Number of entries')\n",
    "plt.title(r'Invariant mass fit')\n",
    "plt.legend(loc='best')\n",
    "plt.show()\n",
    "plt.clf()"
   ]
  },
  {
   "cell_type": "code",
   "execution_count": null,
   "metadata": {},
   "outputs": [],
   "source": [
    "print(\"The mean values and the uncertainties from the optimization\")\n",
    "print(\"\")\n",
    "\n",
    "mean_value = \"mu = {} +- {}\".format(popt[3], error[3])\n",
    "sigma_value = \"sigma = {} +- {}\".format(popt[4], error[4])\n",
    "print(mean_value)\n",
    "print(sigma_value)"
   ]
  },
  {
   "cell_type": "markdown",
   "metadata": {},
   "source": [
    "<div class=\"alert alert-success\">\n",
    "Congratulations! You have just fitted the invariant mass distribution and you see the signal peak as a Gaussian function. Note that the mean of this gaussian is exactly the mass of our D+ meson.\n",
    "</div>"
   ]
  },
  {
   "cell_type": "markdown",
   "metadata": {},
   "source": [
    "---"
   ]
  }
 ],
 "metadata": {
  "kernelspec": {
   "display_name": "Python 3 (ipykernel)",
   "language": "python",
   "name": "python3"
  },
  "language_info": {
   "codemirror_mode": {
    "name": "ipython",
    "version": 3
   },
   "file_extension": ".py",
   "mimetype": "text/x-python",
   "name": "python",
   "nbconvert_exporter": "python",
   "pygments_lexer": "ipython3",
   "version": "3.10.8"
  }
 },
 "nbformat": 4,
 "nbformat_minor": 4
}
