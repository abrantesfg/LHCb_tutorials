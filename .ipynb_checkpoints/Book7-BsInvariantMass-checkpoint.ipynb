{
 "cells": [
  {
   "cell_type": "markdown",
   "metadata": {},
   "source": [
    "<CENTER><img src=\"images/logos.png\" style=\"width:50%\"></CENTER>"
   ]
  },
  {
   "cell_type": "markdown",
   "metadata": {},
   "source": [
    "# $B_s^{+}$ decays: finding the $B_{s}^{+}$ meson mass! <a name=\"c\"></a>\n",
    "\n",
    "**The following analysis aims to search for events where the [$B_{s}^{0}$](https://en.wikipedia.org/wiki/Strange_B_meson) meson decays to two leptons, muons in this case, of the same flavour and opposite charge.**\n",
    "\n",
    "The $B_{s}^{0}$ meson is composed of a $b$ quark and an $\\bar{s}$ antiquark (as we've seen in the Introduction to Particle Physics notebook). \n",
    "\n",
    "As you might recall, leptons can be either electrons or muons, or their antiparticles. **Flavour** just means whether a particle is an (anti)electron or a (anti)muon. We know the $B_{s}^{0}$ meson has charge zero, so, to conserve charge, the two leptons to which a single $B_{s}^{0}$ decays must have **opposite charges**. In our case, we are interested in the decay of $B_{s}^{0}$ to two muons ($B_{s}^{0} \\to \\mu^{-} \\mu^{+}$).\n",
    "\n",
    "We also say that muon number must be conserved in this reaction.\n",
    "\n",
    "* Muons and antimuons have $+1$ and $-1$ respectively as their muon numbers, and have zero electron number.\n",
    "* $B_{s}^{0}$ has zero electron number and muon number.\n",
    "\n",
    "Therefore, we see that if the $B_{s}^{0}$ decays to two muons, **they must be the same flavour**. \n",
    "\n",
    "\n",
    "Now that we know about 4-vectors and we know how to manipulate them, we will look at the $B_{s}^{0}$ decay to two muons but firstly, we need to think about how we talk about decays in particle physcis."
   ]
  },
  {
   "cell_type": "markdown",
   "metadata": {},
   "source": [
    "**Contents:**\n",
    "- [Decays](#1.)\n",
    "- [The invariant mass calculation](#2.)\n",
    "- [Cuts](#3.)\n",
    "- [Find the $B_s^0$ meson!](#4.)\n",
    "- [Extension exercises](#5.)"
   ]
  },
  {
   "cell_type": "markdown",
   "metadata": {},
   "source": [
    "---"
   ]
  },
  {
   "cell_type": "markdown",
   "metadata": {},
   "source": [
    "## Decays <a name=\"1.\"></a>\n",
    "\n",
    "Let's start with understanding the idea of a decay process.\n",
    "\n",
    "We want to find $B_{s}^{0}$ mesons, but they don't live long enough to actually see with the detector itself. Instead, we have to **reconstruct** them from their decay products. We don't particularly mind where the $B_{s}^{0}$s themselves come from. All you need to know here is that each time the LHC smashes two protons together, they produce lots and lots of particles, some of which are $B_{s}^{0}$s.\n",
    "\n",
    "\n",
    "From theory, we know that there are several decay routes as you can see in [here](https://pdglive.lbl.gov/Particle.action?init=0&node=S086&home=MXXX046) but today we are interested in the particular decay route $B_{s}^{0} \\to \\mu^{-} \\mu^{+}$.\n",
    "\n",
    "As you might have noticed, this decay is not very easy to observe. In comparison with other possible routes, this particular decay happens less frequently and because of that we can call this a **rare decay**.\n",
    "### To two muons\n",
    "\n",
    "In this option, a random $B_{s}^{0}$ emerges from the collision aftermath in the LHC (we don't care how) can decay directly to two muons with opposite charge. This means a muon and an antimuon. The decay happens at the vertex below, marked by a dot. We denote a lepton by the letter $\\mu^{+}$. Conventionally, antiparticles are shown with a bar on top, so an antilepton is $\\mu^{-}$.\n",
    "\n",
    "<figure>\n",
    "    <center> <img src=\"images/D0-decay.png\" alt=\"image missing\" style=\"width:40%\" />\n",
    "   <figcaption>Image 1: The $B_s^0$ decay directly from the proton-proton collision. ADAPT FIGURE! &copy; </figcaption> </center>\n",
    "</figure>\n",
    "\n",
    "The LHCb detector can measure the momentum and energy of muons coming out of decays, and you can access that information quite simply. It also measures the charge and flavour of each lepton (whether its a muon/antimuon).\n",
    "\n",
    "We mentioned earlier that each smash makes lots of particles. That's true - in fact, it makes so many that we can't actually store all the records of what happened, even on some of the biggest data storage facilities in the world. \n",
    "\n",
    "Instead, we use what is called a trigger. The trigger here was us seeing **exactly one high energy lepton**, so all of our data will contain at least those events, as well as a bunch of other particles.\n"
   ]
  },
  {
   "cell_type": "markdown",
   "metadata": {},
   "source": [
    "Next we have to open the data that we want to analyze. As described earlier, the data is stored in a *.root file. We can use a python library called uproot to access the data. Below is an example of how to open a *.root file using uproot"
   ]
  },
  {
   "cell_type": "code",
   "execution_count": 6,
   "metadata": {},
   "outputs": [],
   "source": [
    "## data file\n",
    "f = uproot.open(\"\")"
   ]
  },
  {
   "cell_type": "markdown",
   "metadata": {},
   "source": [
    "We can inspect the contents of a file by using the method keys()"
   ]
  },
  {
   "cell_type": "code",
   "execution_count": 7,
   "metadata": {},
   "outputs": [
    {
     "data": {
      "text/plain": [
       "['mini;1']"
      ]
     },
     "execution_count": 7,
     "metadata": {},
     "output_type": "execute_result"
    }
   ],
   "source": [
    "f.keys()"
   ]
  },
  {
   "cell_type": "markdown",
   "metadata": {},
   "source": [
    "We see that we have an object called 'mini'. We can obtain information about the object in the file and its type by using the method classnames()"
   ]
  },
  {
   "cell_type": "code",
   "execution_count": 8,
   "metadata": {},
   "outputs": [
    {
     "data": {
      "text/plain": [
       "{'mini;1': 'TTree'}"
      ]
     },
     "execution_count": 8,
     "metadata": {},
     "output_type": "execute_result"
    }
   ],
   "source": [
    "f.classnames()"
   ]
  },
  {
   "cell_type": "markdown",
   "metadata": {},
   "source": [
    "We see that the object called mini is a TTree type. A TTree is simply columns of data stored in the .root format. Each column of data can represent a different physical quantity of a particle. For instance, its charge, energy, momentum etc.\n",
    "\n",
    "Now we know what data the file contains, in future we can quickly access that data. We want to access the mini data. This can be done by executing the command below\n"
   ]
  },
  {
   "cell_type": "code",
   "execution_count": 9,
   "metadata": {},
   "outputs": [],
   "source": [
    "events = uproot.open(\":DecayTree\")"
   ]
  },
  {
   "cell_type": "markdown",
   "metadata": {},
   "source": [
    "Let's look at contents of the TTree. Essentially all the columns in the TTree called mini"
   ]
  },
  {
   "cell_type": "code",
   "execution_count": 2,
   "metadata": {},
   "outputs": [],
   "source": [
    "events.keys()"
   ]
  },
  {
   "cell_type": "markdown",
   "metadata": {},
   "source": [
    "We see columns such as lep_pt and lep_E. This is the transverse momentum and energy respectively of leptons. We can use the .arrays method to access events with just the columns we specify."
   ]
  },
  {
   "cell_type": "code",
   "execution_count": 12,
   "metadata": {},
   "outputs": [],
   "source": [
    "sel_events = events.arrays([\"muminus_PX\",\"muminus_PY\",\"muminus_PZ\",\"muminus_PE\",\"muplus_PX\",\"muplus_PY\",\"muplus_PZ\",\"muplus_PE\"])"
   ]
  },
  {
   "cell_type": "markdown",
   "metadata": {},
   "source": [
    "We want to run over all the data and reconstruct the $B_s^0$ meson mass. To do this we will access events using the arrays method again. Let's look at doing this.\n",
    "\n",
    "First we define a histogram. To do this we can import the python hist library. Once we have done that we can define a histogram. Its name is hist and the x axis is named mass [GeV]. The three initial arguments indicate that this histogram contains 30 bins which fill the gap from 5200 to 5400.\n"
   ]
  },
  {
   "cell_type": "code",
   "execution_count": 1,
   "metadata": {},
   "outputs": [],
   "source": [
    "import hist\n",
    "from hist import Hist\n",
    "\n",
    "hist_mass = Hist(hist.axis.Regular(30,5200,5400, label = \"$m(\\mu^-\\mu^+)$ (GeV)\"))"
   ]
  },
  {
   "cell_type": "markdown",
   "metadata": {},
   "source": [
    "It is now time to fill our above defined histogram with the masses. To do that, we need to reconstruct our $B_s^0$ meson invariant mass. We do this by narrowing down all our events to those that have two leptons of opposite charge and the same flavour, then building `TLorentzVector`s for each of them, and then adding them together. From your equation above, that would give the Lorentz vector of the parent particle - the $B_s^0$ (we hope). Once we have that, the invariant mass can come from `Bs_meson_Lorentz_vector.M()`.\n",
    "\n",
    "**The process of narrowing down the number of candidates by imposing a condition is called making a cut**."
   ]
  },
  {
   "cell_type": "markdown",
   "metadata": {},
   "source": [
    "[Return to contents](#c)"
   ]
  },
  {
   "cell_type": "markdown",
   "metadata": {},
   "source": [
    "---"
   ]
  },
  {
   "cell_type": "markdown",
   "metadata": {},
   "source": [
    "## The invariant mass calculation <a name=\"2.\"></a>\n",
    "\n",
    "One very important quantity we need to define is the invariant mass! It is defined as an invariant quantity which is the same for all observers in all reference frames (that's why we call it *invariant*). To calculate it we use the energy, *E*, and momentum, *p*, both measured in the detector. To derive a proper expression for the invariat mass we ask that in the process both energy and momentum are conserved! \n",
    "\n",
    "* Energy conservation\n",
    "\n",
    "$ E = E_\\mu^- + E_\\mu^+ $\n",
    "\n",
    "* Momentum conservation\n",
    "\n",
    "$ \\vec{p} = \\vec{p}_{\\mu^-} + \\vec{p}_{\\mu^+} $\n",
    "\n",
    "From special relativity we've learned the relation between mass, energy and momentum to be:\n",
    "\n",
    "$ (pc)^2 + (mc^2)^2 = E^2 $\n",
    "\n",
    "$ E^2 = p^2 + m^2$\n",
    "\n",
    "Rearraging it to $m$:\n",
    "\n",
    "$ m^2 = E^2 - p2 = (E_{\\mu^-} + E_{\\mu^+})^2 - || p_{\\mu^-} + p_{\\mu^+} ||$\n",
    "\n",
    "$ m^2 = (E_{\\mu^-}+ E_{\\mu^+})^2 - (\\vec{p}_{\\mu^-} + \\vec{p}_{\\mu^+})\\cdot (\\vec{p}_{\\mu^-} + \\vec{p}_{\\mu^+})$\n",
    "\n",
    "Since the dot product of two orthogonal vectors is zero, we can write more explicitly\n",
    "\n",
    "$ m^2 = (E_{\\mu^-} + E_{\\mu^+})^2 - (p_{\\mu^-_x} + p_{\\mu^+_x} )^2 - (p_{\\mu^-_y} + p_{\\mu^+_y} )^2 - (p_{\\mu^-_z} + p_{\\mu^+_z} )^2$\n",
    "\n",
    "<div class=\"alert alert-info\"> Our goal is to calculte the invariant mass of the two chosen particles and if the mass is close to the $B_s^0$ mass, we save it to a histogram.</div> "
   ]
  },
  {
   "cell_type": "markdown",
   "metadata": {},
   "source": [
    "## Cuts <a name=\"3.\"></a>\n",
    "\n",
    "Why do we make cuts? Remember that there are lots of other particles flying around, and sometimes you'll just have two electrons of the same charge and same flavour, that have nothing to do with each other, that we measure. Obviously, they won't reconstruct to a $B_s^0$ meson.\n",
    "\n",
    "Therefore, we need to not count these events based on that, so we **cut** on the fact that there are two leptons of the same flavour, and then cut again on the fact that those two leptons are oppositely charged.\n",
    "\n",
    "**You may have spotted an issue here - what if we have two random unassociated electrons of the same flavour and opposite charge? We can't eliminate those.**\n",
    "\n",
    "One thing you might want to take note of is that the detector gives us energies and momenta in units of $MeV$! This means that when building our LorentzVectors, we have to divide by a thousand, so that our LorentzVector has an overall unit of $GeV$.\n",
    "\n",
    "### Make sure you read through the code - particularly the comments! You'll be doing this yourself shortly."
   ]
  },
  {
   "cell_type": "markdown",
   "metadata": {},
   "source": [
    "The $B_s^0$ meson decays to:\n",
    "- $B_s^0 \\rightarrow \\mu^+ \\; \\mu^-$\n",
    "\n",
    "\n",
    "where $\\mu^+ \\; \\mu^-$ is a muon-antimuon pair."
   ]
  },
  {
   "cell_type": "markdown",
   "metadata": {},
   "source": [
    "This means we can deduce the following for a *pass event*:\n",
    "- There must be at least 2 muons produced by the event - see by observation\n",
    "- Must be of opposite charge, or equivalently of *unequal charge* (since only two possibilities for charge)\n",
    "- Must be of the same family - see by specification\n",
    "\n",
    "Let's open our LHCb data but now selecting only the events satisfying the criteria:\n",
    "\n",
    "1. are muons: `muminus_isMuon==1` and `muplus_isMuon==1`"
   ]
  },
  {
   "cell_type": "code",
   "execution_count": null,
   "metadata": {},
   "outputs": [],
   "source": [
    "# Define preselection\n",
    "preselection = \"muminus_isMuon==1 & muplus_isMuon==1\"\n",
    "\n",
    "f = uproot.open(\"https://opendata.cern.ch/record/4900/files/B2HHH_MagnetDown.root:DecayTree\", where=preselection)"
   ]
  },
  {
   "cell_type": "code",
   "execution_count": null,
   "metadata": {},
   "outputs": [],
   "source": [
    "# Extracting the momentum components and energy of the first muon\n",
    "p1x = events[\"muminus_PX\"].array(library=\"np\")\n",
    "p1y = events[\"muminus_PY\"].array(library=\"np\")\n",
    "p1z = events[\"muminus_PZ\"].array(library=\"np\")\n",
    "p1E = events[\"muminus_E\"].array(library=\"np\")"
   ]
  },
  {
   "cell_type": "markdown",
   "metadata": {},
   "source": [
    "Let's visualise one of these momentum components, for instance let's check the x-component of the $\\mu^-$! To do that we first define a histogram, and we fill it with the values we extracted in `p1x`."
   ]
  },
  {
   "cell_type": "code",
   "execution_count": null,
   "metadata": {},
   "outputs": [],
   "source": [
    "import hist\n",
    "from hist import Hist\n",
    "import matplotlib.pyplot as plt\n",
    "import numpy as np\n",
    "\n",
    "# Defining histogram\n",
    "hist_p1x = Hist(hist.axis.Regular(100,-150e3,150e3, label = \"$p_{1x}$ (GeV)\"))\n",
    "\n",
    "# Fiblling histogram with values of p1x\n",
    "hist_p1x.fill(p1x)\n",
    "\n",
    "# Plotting the histogram\n",
    "hist_p1x.plot()\n",
    "plt.show()"
   ]
  },
  {
   "cell_type": "markdown",
   "metadata": {},
   "source": [
    "Great! Momentum is a **vector** quantity, it has x,y and z components. Now let's try to calculate the magnitude of the momentum, $p^{2} = p_{x}^{2} + p_{y}^{2} + p_{z}^{2}$, of the first kaon candidate and plot it into a histogram: "
   ]
  },
  {
   "cell_type": "code",
   "execution_count": null,
   "metadata": {},
   "outputs": [],
   "source": [
    "# Calulating the magnitude of the momentum:\n",
    "p1 = np.sqrt( p1x**2 + p1y**2, p1z**2)\n",
    "\n",
    "# Defining histogram\n",
    "hist_p1 = Hist(hist.axis.Regular(100,-150e3,150e3, label = \"$p_{\\mu^-}$ (GeV)\"))\n",
    "\n",
    "# Fiblling histogram with values of p1x\n",
    "hist_p1.fill(p1)\n",
    "\n",
    "# Plotting the histogram\n",
    "hist_p1.plot()\n",
    "plt.show()"
   ]
  },
  {
   "cell_type": "markdown",
   "metadata": {},
   "source": [
    "### Your turn!\n",
    "\n",
    "We've calculated the magnitude of the momentum for the $\\mu^-$. Repeat that now for the other muon, $\\mu^+$!\n",
    "\n",
    "The first step is to extract the momentum components. Then plot one of the components as an example, for instace the x-component. Finally, calculate and plot the magnitude of the momentum for the second muon."
   ]
  },
  {
   "cell_type": "code",
   "execution_count": null,
   "metadata": {},
   "outputs": [],
   "source": [
    "# Extracting the momentum components and energy of the second muon\n",
    "p2x = events[\"muplus_PX\"].array(library=\"np\")\n",
    "p2y = events[\"muplus_PY\"].array(library=\"np\")\n",
    "p2z = events[\"muplus_PZ\"].array(library=\"np\")\n",
    "p2E = events[\"muplus_E\"].array(library=\"np\")\n",
    "\n",
    "# Defining histogram\n",
    "hist_p2x = Hist(hist.axis.Regular(100,-150e3,150e3, label = \"$p_{2x}$ (GeV)\"))\n",
    "\n",
    "# Filling histogram with values of p1x\n",
    "hist_p2x.fill(p2x)\n",
    "\n",
    "# Plotting the histogram\n",
    "hist_p2x.plot()\n",
    "plt.show()"
   ]
  },
  {
   "cell_type": "code",
   "execution_count": null,
   "metadata": {},
   "outputs": [],
   "source": [
    "# Calulating the magnitude of the momentum:\n",
    "p2 = np.sqrt( p2x**2 + p2y**2, p2z**2)\n",
    "\n",
    "# Defining histogram\n",
    "hist_p2 = Hist(hist.axis.Regular(100,-150e3,150e3, label = \"$p_{\\mu^+}$ (GeV)\"))\n",
    "\n",
    "# Fiblling histogram with values of p1x\n",
    "hist_p2.fill(p2)\n",
    "\n",
    "# Plotting the histogram\n",
    "hist_p2.plot()\n",
    "plt.show()"
   ]
  },
  {
   "cell_type": "markdown",
   "metadata": {},
   "source": [
    "<div class=\"alert alert-success\">\n",
    "Great Job!\n",
    "</div>\n",
    "\n",
    "## Find the $B_s^0$ meson! <a name=\"4.\"></a>\n",
    "\n",
    "Now that we've learned how to obtain the momentum and energy, we are ready to reconstruct the invariant mass! After filling the histogram we want to see the results of the analysis. We import `matplotlib` and get plotting!"
   ]
  },
  {
   "cell_type": "code",
   "execution_count": null,
   "metadata": {},
   "outputs": [],
   "source": [
    "m = np.sqrt((p1E + p2E)**2 - (p1x + p2x)**2 - (p1y + p2y)**2 - (p1z + p2z)**2)\n",
    "hist_mass.fill(m)\n",
    "\n",
    "hist_mass.plot(histtype = \"fill\")\n",
    "plt.show()"
   ]
  },
  {
   "cell_type": "markdown",
   "metadata": {},
   "source": [
    "<div class=\"alert alert-success\">\n",
    "Great Job! If everything went well, you have just reconstructed the $B_s^0$ meson!\n",
    "</div>\n",
    "\n",
    "*Interpret this graph - what is the mass of this meson?*"
   ]
  },
  {
   "cell_type": "markdown",
   "metadata": {},
   "source": [
    "<details>\n",
    "    <summary>Answer: </summary>\n",
    "        That's right, around 5366 GeV!\n",
    "</details>"
   ]
  },
  {
   "cell_type": "markdown",
   "metadata": {},
   "source": [
    "[Return to contents](#c)"
   ]
  },
  {
   "cell_type": "markdown",
   "metadata": {},
   "source": [
    "---"
   ]
  }
 ],
 "metadata": {
  "kernelspec": {
   "display_name": "Python 3 (ipykernel)",
   "language": "python",
   "name": "python3"
  },
  "language_info": {
   "codemirror_mode": {
    "name": "ipython",
    "version": 3
   },
   "file_extension": ".py",
   "mimetype": "text/x-python",
   "name": "python",
   "nbconvert_exporter": "python",
   "pygments_lexer": "ipython3",
   "version": "3.9.7"
  }
 },
 "nbformat": 4,
 "nbformat_minor": 4
}
