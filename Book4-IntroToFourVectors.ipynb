{
 "cells": [
  {
   "cell_type": "markdown",
   "metadata": {},
   "source": [
    "<CENTER><img src=\"images/logos3.png\" style=\"width:30%\"></CENTER>"
   ]
  },
  {
   "cell_type": "markdown",
   "metadata": {},
   "source": [
    "# Let's start with some proper physics! <a name=\"c\"></a>\n",
    "\n",
    "\n",
    "When dealing with particle physics problems, some fundamental concepts are needed. In this notebook we will explore the concept of 4-vectors (what they are, why are they important in particle physics and how to manipulate them).\n",
    "\n",
    "Here and in the following projects you will see that these 4-vector are fundamental structures when we want to reconstruct masses and perform searches for specific particles in decay processes!"
   ]
  },
  {
   "cell_type": "markdown",
   "metadata": {},
   "source": [
    "**Contents:**\n",
    "- [Feynman diagrams and Lorentz vectors](#1.)\n",
    "- [How to use TLorentzVectors in Python](#2.)"
   ]
  },
  {
   "attachments": {},
   "cell_type": "markdown",
   "metadata": {},
   "source": [
    "## Feynman diagrams and Lorentz vectors <a name=\"1.\"></a>\n",
    "\n",
    "We show decays with a [Feynman diagram](https://en.wikipedia.org/wiki/Feynman_diagram), which (for our purposes) we can think of a diagram of the interaction itself, where time goes from left to right. This is not strictly true, but it will suffice for now.\n",
    "\n",
    "Each particle is a single line, and you can think of the vertical axis as space, so in this example we have an electron $e^-$ and its antiparticle, a positron, $e^+$, moving towards each other in space, annihilating each other, producing a photon ($\\gamma$) and then that photon decays to two muons.\n",
    "\n",
    "<CENTER><img src=\"./images/electronpositronannihilation.png\" style=\"width:50%\"></CENTER>\n",
    "\n",
    "\n",
    "You may have noticed that the arrow for the positron is the wrong way round for the process which we have just described. By convention, the arrow for an antiparticle is reversed. (If you really want to know, it's because an antiparticle can be thought of as a particle moving backwards in time - something which we will not go into here).\n",
    "\n",
    "Now, we say that energy and momentum must be conserved at each vertex in the Feynman diagram. $\\vec{p}^\\mathrm{tot}_\\mathrm{before} = \\vec{p}^\\mathrm{tot}_\\mathrm{after}$, and $E^\\mathrm{tot}_\\mathrm{before} =E^\\mathrm{tot}_\\mathrm{after}$.\n",
    "\n",
    "A concise way of writing that is with a **Lorentz vector**, or 4-vector, which neatly packages together energy and momentum.\n",
    "\n",
    "$$P = (E/c, \\vec{p}) = (E/c, p_x, p_y, p_z)$$\n",
    "\n",
    "P has four components so, starting at zero, $P^0 = E/c$, $P^1 = p_1 = p_x$, $P^2 = p_2 = p_y$, $P^3 = p_3 = p_z$. However, we make sure to write it to make it clear that this is no ordinary spatial vector that we're dealing with.\n",
    "\n",
    "We can add and subtract these four-vectors like any other vector with four components:\n",
    "\n",
    "$$P_{e^+} + P_{e^-} = (E_{e^+} + E_{e^-}, \\vec{p}_{e^+} + \\vec{p}_{e^-}) = P_\\mathrm{tot}$$\n",
    "\n",
    "Since all of its components must be conserved, $P_\\mathrm{before} = P_\\mathrm{after}$ at every vertex.\n",
    "\n",
    "For the electron-positron annihilation above, conserving 4-momentum at each vertex, we have:\n",
    "\n",
    "$$P_{e^+} + P_{e^-} = P_\\gamma\\text{, and } P_\\gamma =  P_{\\mu^+} +  P_{\\mu^-}$$\n",
    "\n",
    "More interestingly, if you remember the most famous equation in Physics, $E=mc^2$. That's only true if an object is stationary. If it's not, you have $E^2 = m^2 c^4 + p^2 c^2$. The $m$ in this is called its invariant mass. Clearly, you can quite easily construct $m$ from the components of the 4-vector. \n",
    "\n",
    "$$m = \\frac{1}{c^2}\\sqrt{E^2 - p^2 c^2}$$\n",
    "\n",
    "###  Units\n",
    "\n",
    "One last thing - we can just pick a system of units in which $c = 1$. We basically do this by redefining what our SI units are. Imagine that we measured distances in pirate-wizards, which we define to be equal to $299 792 458$ metres. Let's keep measuring times in seconds, though. You, then are about $6\\times 10^{-9}$ pirate-wizards tall.\n",
    "\n",
    "You may have noticed the specific value we picked for a pirate-wizard. \n",
    "\n",
    "<div class=\"alert alert-warning\">What does that mean the speed of light is, measured in our new unit system?</div>"
   ]
  },
  {
   "cell_type": "markdown",
   "metadata": {},
   "source": [
    "<details>\n",
    "    <summary>Click here for answer: </summary>\n",
    "    It's exactly $1$ pirate-wizard per second!\n",
    "</details>"
   ]
  },
  {
   "attachments": {},
   "cell_type": "markdown",
   "metadata": {},
   "source": [
    "Let's then define the unit of energy as 1 GeV - one gigaelectronvolt. What does that make our unit of mass? Now, we know that the units still have to match up dimensionally, and we know that $1 kg = 1 Joule /c^2$, so let's measure mass in $eV /c^2$. Similarly, let's measure momentum in $eV/c$.\n",
    "\n",
    "So, we can measure some particle A to have a mass of $3 GeV/c^2$, an energy of $5 GeV/c^2$, and a momentum of $4 GeV/c$. The advantage of setting $c=1$ is that we can throw out all of those extra $c$'s. That means we can measure everything in units  of $GeV$! So, our particle A just has $m=3GeV$, $E=5GeV$, and $p=4GeV$. Now mass, energy and momentum have the same dimensions, it makes a lot of things easier - trust me. For one thing, our mass equation turns out to be pretty simple: $m = \\sqrt{E^2 - p^2}$. \n",
    "\n",
    "**Check if particle A satisfies this!**"
   ]
  },
  {
   "cell_type": "markdown",
   "metadata": {},
   "source": [
    "[Return to contents](#c)"
   ]
  },
  {
   "cell_type": "markdown",
   "metadata": {},
   "source": [
    "---"
   ]
  },
  {
   "attachments": {},
   "cell_type": "markdown",
   "metadata": {},
   "source": [
    "## How to use TLorentzVectors in Python <a name=\"2.\"></a>\n",
    " \n",
    "Since we're using code, we're going to have a pretty simple function that takes our Lorentz Vector and spits out the rest mass of that Lorentz vector.\n",
    "\n",
    "Thankfully, the dirty work has been done for you already. There is one class called TLorantzVector that will make our lives easier. By using this class, we are defining our entire P vector, including all of its components. So, if you have a TLorentzVector variable called `particle1`, and you want its invariant mass, just do this:\n",
    "\n",
    "`particle1.M()`"
   ]
  },
  {
   "cell_type": "markdown",
   "metadata": {},
   "source": [
    "First of all - like we did it in the first notebook - uproot is imported to read the files in the .root data format, and to give us the relevant libraries."
   ]
  },
  {
   "cell_type": "code",
   "execution_count": null,
   "metadata": {},
   "outputs": [],
   "source": [
    "import uproot"
   ]
  },
  {
   "cell_type": "markdown",
   "metadata": {},
   "source": [
    "We've written a module that generates Lorentz vectors, so let's import it."
   ]
  },
  {
   "cell_type": "code",
   "execution_count": null,
   "metadata": {},
   "outputs": [],
   "source": [
    "from TLorentzVector import TLorentzVector"
   ]
  },
  {
   "cell_type": "markdown",
   "metadata": {},
   "source": [
    "Now, let's declare two TLorentzVectors. We do this by declaring two variables, and then saying that each one is a `TLorentzVector` from the library `ROOT`."
   ]
  },
  {
   "cell_type": "code",
   "execution_count": null,
   "metadata": {},
   "outputs": [],
   "source": [
    "particle1 = TLorentzVector()\n",
    "particle2 = TLorentzVector()"
   ]
  },
  {
   "cell_type": "markdown",
   "metadata": {},
   "source": [
    "Of course, they're just empty vectors at the moment. Let's set them with values. Notice the way this is written, with the E coming last.\n",
    "\n",
    "_Try editing the code to print the energy $E$._"
   ]
  },
  {
   "cell_type": "code",
   "execution_count": null,
   "metadata": {},
   "outputs": [],
   "source": [
    "particle1.SetPxPyPzE(0, 0, 0, 1)\n",
    "print(particle1.Px())\n",
    "print(particle1.Py())\n",
    "print(particle1.Pz())\n",
    "print(particle1.E())\n",
    "####\n",
    "particle1_energy = 0 #FIX ME!\n",
    "print(\"The energy is \", particle1_energy, \"MeV\") \n",
    "particle1_mass = 0 #FIX ME!\n",
    "print(\"The energy is \", particle1_mass, \"MeV/c^2\")"
   ]
  },
  {
   "cell_type": "markdown",
   "metadata": {},
   "source": [
    "As a reminder from your event displays, the co-ordinate system used is that the path of one of the proton beams into the detector runs along the z axis (from left to right). The y axis is vertical and the x axis is perpendicular to the page (coming out of the page). In the context of the LHCb (Large Hadron Collider beauty) detector, the three angles theta ($\\theta$), eta ($\\eta$), and phi ($\\phi$) are used to describe the direction and momentum of particles produced in collisions. \n",
    "\n",
    "* Theta ($\\theta$):\n",
    "Theta represents the polar angle. It is measured with respect to the beamline (the direction of the colliding particles' motion) and defines the angle of the particle's trajectory with respect to the positive z-axis. The z-axis is usually chosen to be parallel to the beamline. Theta is typically measured in radians and lies in the range [0, π].\n",
    "\n",
    "* Eta ($\\eta$):\n",
    "Eta is the pseudorapidity and is a quantity used in high-energy physics to describe the rapidity of a particle. It is defined in terms of the polar angle ($\\theta$) as follows: $\\eta = -\\ln(\\tan(\\theta/2))$\n",
    "\n",
    "  Pseudorapidity is used instead of rapidity in many experiments because it is more easily measured. It is a dimensionless quantity and provides a measure of how forward or backward a particle is emitted from the collision point. In the LHCb coordinate system, the pseudorapidity can take values from -5 to 5, although the detector's coverage may be limited within this range.\n",
    "\n",
    "* Phi (\\phi):\n",
    "Phi represents the azimuthal angle. It is measured in the x-y plane and gives the angle of the particle's trajectory with respect to the positive x-axis. The positive x-axis is often defined to point towards the center of the LHCb detector. Phi is typically measured in radians and lies in the range [0, 2π].\n",
    "\n",
    "Together, theta, eta, and phi provide a complete description of the direction and momentum of particles produced in the LHCb collisions, enabling physicists to study the properties and behavior of particles containing b-quarks. These angles are crucial for understanding the decay products of these particles and inferring their properties and interactions.\n",
    "\n",
    "\n",
    "<figure>\n",
    "    <center> <img src=\"images/LHCb_Fig1.png\" alt=\"image missing\" style=\"height: 300px\" />\n",
    "    <figcaption>Image 9: The LHCb detector. &copy; <a href=\"https://cds.cern.ch/record/1978280/plots \">LHCb Collaboration</a> [3]</figcaption> </center>\n",
    "</figure>\n",
    "\n",
    "In our data files, we get given the following three quantities for each final state particle.\n",
    "\n",
    "* $p_T$: the amount of momentum perpendicular to the direction of the beam, called the **transverse momentum**.\n",
    "* $\\eta$: the rapidity, which is a function of the polar angle $\\theta$\n",
    "* $\\phi$: the azimuthal angle - direction of that perpendicular component of momentum (in radians, of course). This is just like the azimuthal angle in spherical coordinates.\n",
    "\n",
    "<div class=\"alert alert-warning\">Does this uniquely determine (three-)momentum?.</div>"
   ]
  },
  {
   "cell_type": "markdown",
   "metadata": {},
   "source": [
    "<details>\n",
    "    <summary>Click here for answer: </summary>\n",
    "    Yes! We are measuring a three-dimensional momentum, and have been given three mutually-exclusive ('orthogonal') coordinates.\n",
    "</details>"
   ]
  },
  {
   "cell_type": "markdown",
   "metadata": {},
   "source": [
    "So, we can also define the components of $P^\\mu = (E, \\vec{p})$ like this, using the function `.SetPtEtaPhiE(pt, eta, phi, E)`.\n",
    "\n",
    "So, if $p_T = 1 GeV$, the rapidity $\\eta = 1.0$, and the transverse component of momentum came off at an azimuthal angle $\\phi = \\pi/2$, and its overall energy is $5 GeV$, we can build the Lorentz vector as follows."
   ]
  },
  {
   "cell_type": "code",
   "execution_count": null,
   "metadata": {},
   "outputs": [],
   "source": [
    "from numpy import pi # We need to import the value of pi from the numpy library\n",
    "particle2.SetPtEtaPhiE(1, 1, pi/2, 5)\n",
    "particle2.M()"
   ]
  },
  {
   "cell_type": "markdown",
   "metadata": {},
   "source": [
    "Finally, you can add four-vectors in Python just like you can mathematically. if you want to define $P^\\mu_3 = P^\\mu_1 + P^\\mu_2$, it is as easy as `particle 3 = particle1 + particle2`."
   ]
  },
  {
   "cell_type": "code",
   "execution_count": null,
   "metadata": {},
   "outputs": [],
   "source": [
    "# Add the particle 1 and particle2 four-vectors together, \n",
    "# and print out the invariant mass of the two-particle system\n",
    "\n",
    "\n",
    "\n"
   ]
  },
  {
   "cell_type": "markdown",
   "metadata": {},
   "source": [
    "[Return to contents](#c)"
   ]
  },
  {
   "cell_type": "markdown",
   "metadata": {},
   "source": [
    "---"
   ]
  }
 ],
 "metadata": {
  "kernelspec": {
   "display_name": "Python 3 (ipykernel)",
   "language": "python",
   "name": "python3"
  },
  "language_info": {
   "codemirror_mode": {
    "name": "ipython",
    "version": 3
   },
   "file_extension": ".py",
   "mimetype": "text/x-python",
   "name": "python",
   "nbconvert_exporter": "python",
   "pygments_lexer": "ipython3",
   "version": "3.10.8"
  }
 },
 "nbformat": 4,
 "nbformat_minor": 4
}
