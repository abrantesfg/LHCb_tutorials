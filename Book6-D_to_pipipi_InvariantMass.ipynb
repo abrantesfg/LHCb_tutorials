{
 "cells": [
  {
   "cell_type": "markdown",
   "metadata": {},
   "source": [
    "<CENTER><img src=\"images/logos.png\" style=\"width:50%\"></CENTER>"
   ]
  },
  {
   "cell_type": "markdown",
   "metadata": {},
   "source": [
    "# $D^+$ decays: finding the $D^+$ meson mass! <a name=\"c\"></a>\n",
    "\n",
    "**The following analysis aims to search for events where the [$D^+$](https://en.wikipedia.org/wiki/D_meson) meson decays to three pions.**\n",
    "\n",
    "The $D^+$ meson is composed of a $c$ quark and an $\\bar{d}$ antiquark and the pion, $\\pi^+$, is composed of a $u$ quark and an $\\bar{d}$ antiquark (as we've seen in the Introduction to Particle Physics notebook). In this notebook we want to reconstruct the trajectories of our final state particles, our pions, in order to find the mass of the $D^+$ meson.\n",
    "\n",
    "We will be dealing with a three-body decay, $D^+ \\to \\pi^- \\pi^+ \\pi^+$. In this process the electric charge must be conserved!\n",
    "\n",
    "We've learned in the previous notebook about 4-vectors and we know how to manipulate them. You will see now why was so important to learn about 4-vectors and what we can do with them in real life! We will look at the $D^+$ decay to three pions but firstly, we need to think about how we talk about decays in particle physcis."
   ]
  },
  {
   "cell_type": "markdown",
   "metadata": {},
   "source": [
    "**Contents:**\n",
    "- [Decays](#1.)\n",
    "- [The invariant mass calculation](#2.)\n",
    "- [Cuts](#3.)\n",
    "- [Find the $D^+$ meson!](#4.)"
   ]
  },
  {
   "cell_type": "markdown",
   "metadata": {},
   "source": [
    "---"
   ]
  },
  {
   "cell_type": "markdown",
   "metadata": {},
   "source": [
    "## Decays <a name=\"1.\"></a>\n",
    "\n",
    "Let's start with understanding the idea of a decay process!\n",
    "\n",
    "We want to find $D^+$ mesons, but they don't live long enough to actually see with the detector itself. Instead, we have to **reconstruct** them from their decay products. We don't particularly mind where the $D^+$s themselves come from. All you need to know here is that each time the LHC smashes two protons together, they produce lots and lots of particles, some of which are $D^+$s.\n",
    "\n",
    "\n",
    "From theory, we know that there are several decay routes as you can see in [here](https://pdglive.lbl.gov/Particle.action?init=0&node=S031&home=MXXX035) but today we are interested in the particular decay route $D^+ \\to \\pi^- \\pi^+ \\pi^+$.\n",
    "\n",
    "\n",
    "In this process, a random $D^+$ emerges from the collision aftermath in the LHC (we don't care how) can decay directly to three pions. The decay happens at the vertex below, marked by a dot. We denote a pion by the letter $\\pi^{+}$, and the antiparticle is $\\pi^{-}$.\n",
    "\n",
    "<figure>\n",
    "    <center> <img src=\"images/DTopipipi.png\" alt=\"TEST\" style=\"width:40%\" />\n",
    "   <figcaption>Image 1: The $D^+$ decay directly from the proton-proton collision. </figcaption> </center>\n",
    "</figure>\n",
    "\n",
    "The LHCb detector can measure the momentum and energy of muons coming out of decays, and you can access that information quite simply. It also measures the charge and flavour of each lepton (whether its a muon/antimuon).\n",
    "\n",
    "We mentioned earlier that each smash makes lots of particles. That's true - in fact, it makes so many that we can't actually store all the records of what happened, even on some of the biggest data storage facilities in the world. \n",
    "\n",
    "Instead, we use what is called a trigger. The trigger here was us seeing our **exactly one high energy pion**, so all of our data will contain at least those events, as well as a bunch of other particles.\n"
   ]
  },
  {
   "cell_type": "markdown",
   "metadata": {},
   "source": [
    "Next we have to open the data that we want to analyze. As described earlier, the data is stored in a *.root file. We can use a python library called uproot to access the data. Below is an example of how to open a *.root file using uproot"
   ]
  },
  {
   "cell_type": "code",
   "execution_count": 34,
   "metadata": {},
   "outputs": [],
   "source": [
    "## data file\n",
    "import uproot\n",
    "f = uproot.open(\"../LHCb_data/D2PiPiPi/PPP_MagUpDown_allm2_TIS_runNumber_lessBranches_Sample2_SamePol_MVA_BDTG0p7_vetoKs.root\")"
   ]
  },
  {
   "cell_type": "markdown",
   "metadata": {},
   "source": [
    "We can inspect the contents of a file by using the method keys()"
   ]
  },
  {
   "cell_type": "code",
   "execution_count": 35,
   "metadata": {},
   "outputs": [
    {
     "data": {
      "text/plain": [
       "['DecayTree;9', 'DecayTree;8']"
      ]
     },
     "execution_count": 35,
     "metadata": {},
     "output_type": "execute_result"
    }
   ],
   "source": [
    "f.keys()"
   ]
  },
  {
   "cell_type": "markdown",
   "metadata": {},
   "source": [
    "We see that we have an object called 'DecayTree'. We can obtain information about the object in the file and its type by using the method classnames()"
   ]
  },
  {
   "cell_type": "code",
   "execution_count": 36,
   "metadata": {},
   "outputs": [
    {
     "data": {
      "text/plain": [
       "{'DecayTree;9': 'TTree', 'DecayTree;8': 'TTree'}"
      ]
     },
     "execution_count": 36,
     "metadata": {},
     "output_type": "execute_result"
    }
   ],
   "source": [
    "f.classnames()"
   ]
  },
  {
   "cell_type": "markdown",
   "metadata": {},
   "source": [
    "We see that the object called mini is a TTree type. A TTree is simply columns of data stored in the .root format. Each column of data can represent a different physical quantity of a particle. For instance, its charge, energy, momentum etc.\n",
    "\n",
    "Now we know what data the file contains, in future we can quickly access that data. We want to access the mini data. This can be done by executing the command below\n"
   ]
  },
  {
   "cell_type": "code",
   "execution_count": 37,
   "metadata": {},
   "outputs": [],
   "source": [
    "events = uproot.open(\"../LHCb_data/D2PiPiPi/PPP_MagUpDown_allm2_TIS_runNumber_lessBranches_Sample2_SamePol_MVA_BDTG0p7_vetoKs.root:DecayTree\")"
   ]
  },
  {
   "cell_type": "markdown",
   "metadata": {},
   "source": [
    "Let's look at contents of the TTree. Essentially all the columns in the TTree called mini"
   ]
  },
  {
   "cell_type": "code",
   "execution_count": 38,
   "metadata": {},
   "outputs": [
    {
     "data": {
      "text/plain": [
       "['totCandidates',\n",
       " 'Polarity',\n",
       " 'runNumber',\n",
       " 'D_ID',\n",
       " 'nTracks',\n",
       " 'D_IP_OWNPV',\n",
       " 'D_IPCHI2_OWNPV',\n",
       " 'D_FD_OWNPV',\n",
       " 'D_FDCHI2_OWNPV',\n",
       " 'D_DIRA_OWNPV',\n",
       " 'D_ENDVERTEX_CHI2',\n",
       " 'D_P',\n",
       " 'D_PT',\n",
       " 'D_DOCA12',\n",
       " 'D_DOCA13',\n",
       " 'D_DOCA23',\n",
       " 'D_MM',\n",
       " 'PTsum',\n",
       " 'logIP',\n",
       " 'p3_IP_OWNPV',\n",
       " 'p3_IPCHI2_OWNPV',\n",
       " 'p3_P',\n",
       " 'p3_PT',\n",
       " 'p3_PIDK',\n",
       " 'p3_LOKI_ETA',\n",
       " 'p3_PX',\n",
       " 'p3_PY',\n",
       " 'p3_PZ',\n",
       " 'p3_isMuon',\n",
       " 'p2_IP_OWNPV',\n",
       " 'p2_IPCHI2_OWNPV',\n",
       " 'p2_P',\n",
       " 'p2_PT',\n",
       " 'p2_PIDK',\n",
       " 'p2_LOKI_ETA',\n",
       " 'p2_PX',\n",
       " 'p2_PY',\n",
       " 'p2_PZ',\n",
       " 'p2_isMuon',\n",
       " 'p1_IP_OWNPV',\n",
       " 'p1_IPCHI2_OWNPV',\n",
       " 'p1_P',\n",
       " 'p1_PT',\n",
       " 'p1_PIDK',\n",
       " 'p1_LOKI_ETA',\n",
       " 'p1_PX',\n",
       " 'p1_PY',\n",
       " 'p1_PZ',\n",
       " 'p1_isMuon',\n",
       " 'm3pi',\n",
       " 's12_pipi_DTF',\n",
       " 's13_pipi_DTF',\n",
       " 's23_pipi_DTF',\n",
       " 's12_pipi',\n",
       " 's13_pipi',\n",
       " 's23_pipi',\n",
       " 'D_BPVTRGPOINTING',\n",
       " 'D_L0Global_TOS',\n",
       " 'D_L0Global_TIS',\n",
       " 'D_L0HadronDecision_TOS',\n",
       " 'D_L0HadronDecision_TIS',\n",
       " 'D_L0MuonDecision_TOS',\n",
       " 'D_L0MuonDecision_TIS',\n",
       " 'D_L0ElectronDecision_TOS',\n",
       " 'D_L0ElectronDecision_TIS',\n",
       " 'D_L0PhotonDecision_TOS',\n",
       " 'D_L0PhotonDecision_TIS',\n",
       " 'D_L0DiMuonDecision_TOS',\n",
       " 'D_L0DiMuonDecision_TIS',\n",
       " 'tCM',\n",
       " '__index__',\n",
       " 'mva_BDT_D2PPP',\n",
       " 'mva_BDTPCA_D2PPP',\n",
       " 'mva_BDTG_D2PPP']"
      ]
     },
     "execution_count": 38,
     "metadata": {},
     "output_type": "execute_result"
    }
   ],
   "source": [
    "events.keys()"
   ]
  },
  {
   "cell_type": "markdown",
   "metadata": {},
   "source": [
    "We see lots of columns but the most important ones for us are the momentum components of each final state particle. We can use the .arrays method to access events with just the columns we specify."
   ]
  },
  {
   "cell_type": "code",
   "execution_count": 39,
   "metadata": {},
   "outputs": [],
   "source": [
    "sel_events = events.arrays([\"p1_PX\",\"p1_PY\",\"p1_PZ\",\"p2_PX\",\"p2_PY\",\"p2_PZ\",\"p3_PX\",\"p3_PY\",\"p3_PZ\"])"
   ]
  },
  {
   "cell_type": "markdown",
   "metadata": {},
   "source": [
    "We want to run over all the data and reconstruct the $D^+$ meson mass. To do this we will access events using the arrays method again. Let's look at doing this.\n",
    "\n",
    "First we define a histogram. To do this we can import the python hist library. Once we have done that we can define a histogram. Its name is hist and the x axis is named mass [GeV]. The three initial arguments indicate that this histogram contains 30 bins which fill the gap from 1800 to 1900.\n"
   ]
  },
  {
   "cell_type": "code",
   "execution_count": 40,
   "metadata": {},
   "outputs": [],
   "source": [
    "import hist\n",
    "from hist import Hist\n",
    "\n",
    "hist_mass = Hist(hist.axis.Regular(100,0,150000, label = \"$m(\\pi^-\\pi^+\\pi^+)$ (GeV)\"))"
   ]
  },
  {
   "cell_type": "markdown",
   "metadata": {},
   "source": [
    "It is now time to fill our above defined histogram with the masses. To do that, we need to reconstruct our $D^+$ meson invariant mass. \n",
    "\n",
    "**The process of narrowing down the number of candidates by imposing a condition is called making a cut**."
   ]
  },
  {
   "cell_type": "markdown",
   "metadata": {},
   "source": [
    "[Return to contents](#c)"
   ]
  },
  {
   "cell_type": "markdown",
   "metadata": {},
   "source": [
    "---"
   ]
  },
  {
   "cell_type": "markdown",
   "metadata": {},
   "source": [
    "## The invariant mass calculation <a name=\"2.\"></a>\n",
    "\n",
    "One very important quantity we need to define is the invariant mass! It is defined as an invariant quantity which is the same for all observers in all reference frames (that's why we call it *invariant*). To calculate it we use the energy, *E*, and momentum, *p*, both measured in the detector. To derive a proper expression for the invariat mass we ask that in the process both energy and momentum are conserved! \n",
    "\n",
    "* Energy conservation\n",
    "\n",
    "$ E = E_{\\pi^-} + E_{\\pi^+} + E_{\\pi^+} $\n",
    "\n",
    "* Momentum conservation\n",
    "\n",
    "$ \\vec{p} = \\vec{p}_{\\pi^-} + \\vec{p}_{\\pi^+} + \\vec{p}_{\\pi^+} $\n",
    "\n",
    "From special relativity we've learned the relation between mass, energy and momentum to be:\n",
    "\n",
    "$ (pc)^2 + (mc^2)^2 = E^2 $\n",
    "\n",
    "$ E^2 = p^2 + m^2$\n",
    "\n",
    "Rearraging it to $m$:\n",
    "\n",
    "$ m^2 = E^2 - p2 = (E_{\\pi^-} + E_{\\pi^+} + E_{\\pi^+})^2 - || p_{\\pi^-} + p_{\\pi^+} + p_{\\pi^+} ||$\n",
    "\n",
    "$ m^2 = (E_{\\pi^-}+ E_{\\pi^+} + E_{\\pi^+})^2 - (\\vec{p}_{\\pi^-} + \\vec{p}_{\\pi^+} + \\vec{p}_{\\pi^+})\\cdot (\\vec{p}_{\\pi^-} + \\vec{p}_{\\pi^+} + \\vec{p}_{\\pi^+})$\n",
    "\n",
    "Since the dot product of two orthogonal vectors is zero, we can write more explicitly\n",
    "\n",
    "$ m^2 = (E_{\\pi^-} + E_{\\pi^+} + E_{\\pi^+})^2 - (p_{\\pi^-_x} + p_{\\pi^+_x} + p_{\\pi^+_x} )^2 - (p_{\\pi^-_y} + p_{\\pi^+_y} + p_{\\pi^+_y})^2 - (p_{\\pi^-_z} + p_{\\pi^+_z} + p_{\\pi^+_z})^2$\n",
    "\n",
    "<div class=\"alert alert-info\"> Our goal is to calculte the invariant mass of the two chosen particles and if the mass is close to the $D^+$ mass, we save it to a histogram.</div> "
   ]
  },
  {
   "cell_type": "markdown",
   "metadata": {},
   "source": [
    "## Cuts <a name=\"3.\"></a>\n",
    "\n",
    "Why do we make cuts? Remember that there are lots of other particles flying around, and sometimes you'll just have two particles of the same charge and same flavour, that have nothing to do with each other, that we measure. Obviously, they won't reconstruct to a $D^+$ meson.\n",
    "\n",
    "\n",
    "### Make sure you read through the code - particularly the comments! You'll be doing this yourself shortly."
   ]
  },
  {
   "cell_type": "markdown",
   "metadata": {},
   "source": [
    "The $D^+$ meson decays to:\n",
    "- $D^+ \\rightarrow \\pi^- \\; \\pi^+ \\; \\pi^+$"
   ]
  },
  {
   "cell_type": "markdown",
   "metadata": {},
   "source": [
    "This means we can deduce the following for a *pass event*:\n",
    "- There must be 3 pions produced by the event - see by observation\n",
    "- The sum of the 3 pions charge has to be the same as the charge of the decaying particle $D^+$ \n",
    "- The final state particles are **not** muons\n",
    "\n",
    "Let's open our LHCb data but now selecting only the events satisfying the criteria:\n",
    "\n",
    "1. are muons: `p1_isMuon==0` and `p2_isMuon==0` and `p3_isMuon==0` \n",
    "2. have opposite charge: `muminus_Charge==1` and `muplus_Charge==-1` (or vice versa)"
   ]
  },
  {
   "cell_type": "code",
   "execution_count": 41,
   "metadata": {},
   "outputs": [],
   "source": [
    "# Define preselection\n",
    "preselection = \"p1_isMuon==0 & p2_isMuon==0 & p3_isMuon==0\"\n",
    "\n",
    "f = uproot.open(\"../LHCb_data/D2PiPiPi/PPP_MagUpDown_allm2_TIS_runNumber_lessBranches_Sample2_SamePol_MVA_BDTG0p7_vetoKs.root:DecayTree\",where=preselection)"
   ]
  },
  {
   "cell_type": "code",
   "execution_count": 42,
   "metadata": {},
   "outputs": [],
   "source": [
    "# Extracting the momentum components and energy of the first muon\n",
    "p1x = events[\"p1_PX\"].array(library=\"np\")\n",
    "p1y = events[\"p1_PY\"].array(library=\"np\")\n",
    "p1z = events[\"p1_PZ\"].array(library=\"np\")\n",
    "\n"
   ]
  },
  {
   "cell_type": "markdown",
   "metadata": {},
   "source": [
    "Let's visualise one of these momentum components, for instance let's check the x-component of the $\\mu^-$! To do that we first define a histogram, and we fill it with the values we extracted in `p1x`."
   ]
  },
  {
   "cell_type": "code",
   "execution_count": 43,
   "metadata": {},
   "outputs": [
    {
     "data": {
      "image/png": "[encoded data removed]",
      "text/plain": [
       "<Figure size 432x288 with 1 Axes>"
      ]
     },
     "metadata": {
      "needs_background": "light"
     },
     "output_type": "display_data"
    }
   ],
   "source": [
    "import hist\n",
    "from hist import Hist\n",
    "import matplotlib.pyplot as plt\n",
    "import numpy as np\n",
    "\n",
    "# Defining histogram\n",
    "hist_p1x = Hist(hist.axis.Regular(100,-50e3,50e3, label = \"$p_{1x}$ (GeV)\"))\n",
    "\n",
    "# Fiblling histogram with values of p1x\n",
    "hist_p1x.fill(p1x)\n",
    "\n",
    "# Plotting the histogram\n",
    "hist_p1x.plot()\n",
    "plt.show()"
   ]
  },
  {
   "cell_type": "markdown",
   "metadata": {},
   "source": [
    "Great! Momentum is a **vector** quantity, it has x,y and z components. Now let's try to calculate the magnitude of the momentum, $p^{2} = p_{x}^{2} + p_{y}^{2} + p_{z}^{2}$, of the first kaon candidate and plot it into a histogram: "
   ]
  },
  {
   "cell_type": "code",
   "execution_count": 44,
   "metadata": {},
   "outputs": [
    {
     "data": {
      "image/png": "[encoded data removed]",
      "text/plain": [
       "<Figure size 432x288 with 1 Axes>"
      ]
     },
     "metadata": {
      "needs_background": "light"
     },
     "output_type": "display_data"
    }
   ],
   "source": [
    "# Calulating the magnitude of the momentum:\n",
    "p1 = np.sqrt( p1x**2 + p1y**2, p1z**2)\n",
    "\n",
    "# Defining histogram\n",
    "hist_p1 = Hist(hist.axis.Regular(100,0e3,50e3, label = \"$p_{\\mu^-}$ (GeV)\"))\n",
    "\n",
    "# Fiblling histogram with values of p1x\n",
    "hist_p1.fill(p1)\n",
    "\n",
    "# Plotting the histogram\n",
    "hist_p1.plot()\n",
    "plt.show()"
   ]
  },
  {
   "cell_type": "markdown",
   "metadata": {},
   "source": [
    "### Your turn!\n",
    "\n",
    "We've calculated the magnitude of the momentum for the $\\pi^-$. Repeat that now for the other pions, $\\pi^+$!\n",
    "\n",
    "The first step is to extract the momentum components. Then plot one of the components as an example, for instace the x-component. Finally, calculate and plot the magnitude of the momentum for the second muon."
   ]
  },
  {
   "cell_type": "code",
   "execution_count": 45,
   "metadata": {},
   "outputs": [
    {
     "data": {
      "image/png": "[encoded data removed]",
      "text/plain": [
       "<Figure size 720x360 with 2 Axes>"
      ]
     },
     "metadata": {
      "needs_background": "light"
     },
     "output_type": "display_data"
    }
   ],
   "source": [
    "# Extracting the momentum components and energy of the second muon\n",
    "p2x = events[\"p2_PX\"].array(library=\"np\")\n",
    "p2y = events[\"p2_PY\"].array(library=\"np\")\n",
    "p2z = events[\"p2_PZ\"].array(library=\"np\")\n",
    "\n",
    "p3x = events[\"p3_PX\"].array(library=\"np\")\n",
    "p3y = events[\"p3_PY\"].array(library=\"np\")\n",
    "p3z = events[\"p3_PZ\"].array(library=\"np\")\n",
    "\n",
    "# Defining histogram\n",
    "hist_p2x = Hist(hist.axis.Regular(100,-50e3,50e3, label = \"$p_{2x}$ (GeV)\"))\n",
    "hist_p3x = Hist(hist.axis.Regular(100,-50e3,50e3, label = \"$p_{3x}$ (GeV)\"))\n",
    "\n",
    "# Filling histogram with values of p1x\n",
    "hist_p2x.fill(p2x)\n",
    "hist_p3x.fill(p3x)\n",
    "\n",
    "# Plotting the histograms\n",
    "fig, axes = plt.subplots(figsize=(10,5))\n",
    "plt.subplot(1,2,1)\n",
    "hist_p2x.plot()\n",
    "plt.subplot(1,2,2)\n",
    "hist_p3x.plot()\n",
    "plt.show()\n",
    "\n",
    "plt.show()"
   ]
  },
  {
   "cell_type": "code",
   "execution_count": 46,
   "metadata": {},
   "outputs": [
    {
     "data": {
      "image/png": "[encoded data removed]",
      "text/plain": [
       "<Figure size 720x360 with 2 Axes>"
      ]
     },
     "metadata": {
      "needs_background": "light"
     },
     "output_type": "display_data"
    }
   ],
   "source": [
    "# Calulating the magnitude of the momentum:\n",
    "p2 = np.sqrt( p2x**2 + p2y**2, p2z**2)\n",
    "p3 = np.sqrt( p3x**2 + p3y**2, p3z**2)\n",
    "\n",
    "# Defining histogram\n",
    "hist_p2 = Hist(hist.axis.Regular(100,0e3,50e3, label = \"$p_{\\pi^+}$ (GeV)\"))\n",
    "hist_p3 = Hist(hist.axis.Regular(100,0e3,50e3, label = \"$p_{\\pi^+}$ (GeV)\"))\n",
    "\n",
    "\n",
    "# Fiblling histogram with values of p1x\n",
    "hist_p2.fill(p2)\n",
    "hist_p3.fill(p3)\n",
    "\n",
    "# Plotting the histograms\n",
    "fig, axes = plt.subplots(figsize=(10,5))\n",
    "plt.subplot(1,2,1)\n",
    "hist_p2.plot()\n",
    "plt.subplot(1,2,2)\n",
    "hist_p3.plot()\n",
    "plt.show()\n"
   ]
  },
  {
   "cell_type": "markdown",
   "metadata": {},
   "source": [
    "<div class=\"alert alert-success\">\n",
    "Great Job!\n",
    "</div>\n",
    "\n",
    "## Calculating the energy distributions\n"
   ]
  },
  {
   "cell_type": "code",
   "execution_count": 47,
   "metadata": {},
   "outputs": [
    {
     "data": {
      "image/png": "[encoded data removed]",
      "text/plain": [
       "<Figure size 720x360 with 2 Axes>"
      ]
     },
     "metadata": {
      "needs_background": "light"
     },
     "output_type": "display_data"
    }
   ],
   "source": [
    "# Creating histograms for e2 and e3 (energy of the second and third particles)\n",
    "hist_e1 = Hist(hist.axis.Regular(100,0,50e3, label = \"Energy ($p_1$) (GeV)\"))\n",
    "hist_e2 = Hist(hist.axis.Regular(100,0,50e3, label = \"Energy ($p_2$) (GeV)\"))\n",
    "hist_e3 = Hist(hist.axis.Regular(100,0,50e3, label = \"Energy ($p_3$) (GeV)\"))\n",
    "\n",
    "m_pion = 0.13957\n",
    "\n",
    "# Calculating the momentum and filling the histogram\n",
    "e1 = np.sqrt((p1*p1)+(m_pion*m_pion))\n",
    "hist_e1.fill(e1)\n",
    "e2 = np.sqrt((p2*p2)+(m_pion*m_pion))\n",
    "hist_e2.fill(e2)\n",
    "e3 = np.sqrt((p3*p3)+(m_pion*m_pion))\n",
    "hist_e3.fill(e3)\n",
    "\n",
    "# Plotting the histograms\n",
    "fig, axes = plt.subplots(figsize=(10,5))\n",
    "plt.subplot(1,2,1)\n",
    "hist_e2.plot()\n",
    "plt.subplot(1,2,2)\n",
    "hist_e3.plot()\n",
    "plt.show()"
   ]
  },
  {
   "cell_type": "markdown",
   "metadata": {},
   "source": [
    "## Find the $D^+$ meson! <a name=\"4.\"></a>\n",
    "\n",
    "Now that we've learned how to obtain the momentum and energy, we are ready to reconstruct the invariant mass! After filling the histogram we want to see the results of the analysis. We import `matplotlib` and get plotting!"
   ]
  },
  {
   "cell_type": "code",
   "execution_count": 57,
   "metadata": {},
   "outputs": [
    {
     "name": "stderr",
     "output_type": "stream",
     "text": [
      "/var/folders/cf/qxs2w9ts3jx44d8n8cn8qmnw0000gn/T/ipykernel_33005/1803832468.py:2: RuntimeWarning: invalid value encountered in sqrt\n",
      "  m = np.sqrt((e1 + e2 + e3)**2 - (p1x + p2x + p3x)**2 - (p1y + p2y + p3y)**2 - (p1z + p2z + p3z)**2)\n"
     ]
    },
    {
     "data": {
      "image/png": "[encoded data removed]",
      "text/plain": [
       "<Figure size 432x288 with 1 Axes>"
      ]
     },
     "metadata": {
      "needs_background": "light"
     },
     "output_type": "display_data"
    }
   ],
   "source": [
    "mass_distr = Hist(hist.axis.Regular(100,1800,1950, label = \"$m(\\pi^- \\pi^+ \\pi^+)$ (GeV)\"))\n",
    "m = np.sqrt((e1 + e2 + e3)**2 - (p1x + p2x + p3x)**2 - (p1y + p2y + p3y)**2 - (p1z + p2z + p3z)**2)\n",
    "mass_distr.fill(m)\n",
    "\n",
    "mass_distr.plot(histtype = \"fill\")\n",
    "plt.show()"
   ]
  },
  {
   "cell_type": "markdown",
   "metadata": {},
   "source": [
    "<div class=\"alert alert-success\">\n",
    "Great Job! If everything went well, you have just reconstructed the $D^+$ meson!\n",
    "</div>\n",
    "\n",
    "*Interpret this graph - what is the mass of this meson?*"
   ]
  },
  {
   "cell_type": "markdown",
   "metadata": {},
   "source": [
    "<details>\n",
    "    <summary>Answer: </summary>\n",
    "        That's right, around 1866 GeV!\n",
    "</details>"
   ]
  },
  {
   "cell_type": "markdown",
   "metadata": {},
   "source": [
    "If you want to double check you result, there is already one column in our data file which is exactly the invariant mass distribution. If you've done if correctly, your plot should look like the following result:"
   ]
  },
  {
   "cell_type": "code",
   "execution_count": 58,
   "metadata": {},
   "outputs": [
    {
     "data": {
      "image/png": "[encoded data removed]",
      "text/plain": [
       "<Figure size 432x288 with 1 Axes>"
      ]
     },
     "metadata": {
      "needs_background": "light"
     },
     "output_type": "display_data"
    }
   ],
   "source": [
    "import hist\n",
    "from hist import Hist\n",
    "import matplotlib.pyplot as plt\n",
    "import numpy as np\n",
    "\n",
    "dmm = events[\"D_MM\"].array(library=\"np\") \n",
    "# Defining histogram\n",
    "hist_dmm = Hist(hist.axis.Regular(100,1800,1950, label = \"$m(\\pi^- \\pi^+ \\pi^+)$ (GeV)\"))\n",
    "\n",
    "# Fiblling histogram with values of p1x\n",
    "hist_dmm.fill(dmm)\n",
    "\n",
    "# Plotting the histogram\n",
    "hist_dmm.plot()\n",
    "plt.show()"
   ]
  },
  {
   "cell_type": "markdown",
   "metadata": {},
   "source": [
    "[Return to contents](#c)"
   ]
  },
  {
   "cell_type": "markdown",
   "metadata": {},
   "source": [
    "---"
   ]
  }
 ],
 "metadata": {
  "kernelspec": {
   "display_name": "Python 3 (ipykernel)",
   "language": "python",
   "name": "python3"
  },
  "language_info": {
   "codemirror_mode": {
    "name": "ipython",
    "version": 3
   },
   "file_extension": ".py",
   "mimetype": "text/x-python",
   "name": "python",
   "nbconvert_exporter": "python",
   "pygments_lexer": "ipython3",
   "version": "3.9.7"
  }
 },
 "nbformat": 4,
 "nbformat_minor": 4
}
