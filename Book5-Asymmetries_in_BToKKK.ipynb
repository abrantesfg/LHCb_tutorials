{
 "cells": [
  {
   "cell_type": "markdown",
   "metadata": {},
   "source": [
    "<CENTER><img src=\"images/logos.png\" style=\"width:50%\"></CENTER>"
   ]
  },
  {
   "cell_type": "markdown",
   "metadata": {},
   "source": [
    "# Matter antimatter differences  <a name=\"c\"></a>\n",
    "\n",
    "## B meson decays to three hadrons: studying the matter antimatter asymmetries\n",
    "\n",
    "\n",
    "This project will take you through the process of analysing data from the LHCb experiment looking for a difference in the rate of production of matter and [anti-matter](https://en.wikipedia.org/wiki/Antimatter) from B-meson decay.\n",
    "\n",
    "\n",
    "\n",
    "Before we start, it might be helpful to discuss about matter antimatter asymmetries, what we hope to learn by studying them, and how we can detect them with experiments such as the LHCb experiment at CERN.\n",
    "\n",
    "One last thing, just like CERN scientists you will be coding your own analysis and we will use the computer programming language Python as we've gone through the tutorials in the first two notebooks. For more python tutorials click [here](https://www.tutorialspoint.com/python/)"
   ]
  },
  {
   "cell_type": "markdown",
   "metadata": {},
   "source": [
    "**Contents:**\n",
    "- [Matter and antimatter](#0.)\n",
    "- [B mesons](#1.)\n",
    "- [$B^{+} \\to K^+ K^+ K^-$ Feyman diagram](#2.)\n",
    "- [What is matter/antimatter asymmetry?](#3.)\n",
    "- [Starting with a simulation sample](#4.)\n",
    "- [Working with real data](#5.)\n",
    "- [Searching for a global asymmetry](#6.)"
   ]
  },
  {
   "attachments": {},
   "cell_type": "markdown",
   "metadata": {},
   "source": [
    "## Matter/antimatter and $b$ quarks <a name=\"0.\"></a>\n",
    "\n",
    "In this project we will analyse particles containing the *b* (or beauty) quark and its anti-particles. You might be wondering where these *b* quarks come from... In addition, you might be familiar with the idea of matter, but what is antimatter? Antimatter is defined as matter composed of the antiparticles of the corresponding particles in \"ordinary\" matter. So now we are ready to explore where matter and antimatter come from!\n",
    "\n",
    "Shortly after the Big Bang, lots of different particles were produced **including the b quark!** (Remember that the $b$ quark if one of the fundamental particles in our standard model!) However, these types of particles are not a constituent of the matter around us in the universe today. If you remember everything we see is made of protons, neutrons (which are made of *u* and *d* quarks) and electrons. \n",
    "\n",
    "The way we are able to study these particles that we can't find in our universe is with particle colliders like the LHC. In these colliders *b* quarks and their antimatter counterparts, the anti-b quarks, are produced.\n",
    "\n",
    "One very important thing to know is that quarks are **not** observed on their own, instead they prefer to combine into composite particles forming what we call *hadrons*. Among the possibilities we have combinations of three quarks known as *baryons*. Note that we can also have combinations of three anti-quarks forming the antimatter baryons. Another possible combination is a pair of quark and an anti-quark, which are known as mesons. \n",
    "\n",
    "For examples of baryons we have protons and neutrons (most common baryons in the universe), with the corresponding anti-baryons anti-protons and anti-neutrons, and for mesons we have pions and kaons. \n",
    "\n",
    "Baryons and mesons are definitely the most popular combinations however we can also have combinations of four quarks (tetraquark) and five quarks (pentaquark)! \n",
    "\n",
    "All particles compsed of quarks and anti-quarks (baryons and mesons) are known as hadrons."
   ]
  },
  {
   "cell_type": "markdown",
   "metadata": {},
   "source": [
    "---"
   ]
  },
  {
   "attachments": {},
   "cell_type": "markdown",
   "metadata": {},
   "source": [
    "## B mesons <a name=\"1.\"></a>\n",
    "\n",
    "In this notebook we will be studying the decays of the $B^{+}$ and $B^{-}$ mesons. A $B^{+}$ is a mesons composed of an *u* (up) quark and an anti-*b* (beauty) quark and has electric charge of +1. A $B^{-}$ is the anti-particle of the $B^{+}$, thus it is composed of and anti-*u* quark and a *b* quark and has electric charge of -1.\n",
    "\n",
    "Both $B^{+}$ and $B^{-}$ mesons don't live long enough to actually see with the detector itself. Instead, we have to reconstruct them from their decay products. We don't particularly mind where the $B^{+}$/$B^{-}$s themselves come from. All you need to know here is that each time the LHC smashes two protons together, they produce lots and lots of particles, some of which are $B^{+}$/$B^{-}$s.\n",
    "\n",
    "From theory, there are several decay routes but in this project we will be interested in the decays of the $B^{+}$ and $B^{-}$ into three charged kaons ($K^{+}$ or $K^{-}$). The $K^{+}$ is a meson composed of a *u* quark and an anti-*s* quark, and has +1 unit of charge. The $K^{-}$ is its anti-particle.\n",
    "\n",
    "We will study the decays\n",
    "\n",
    "$B^{+} \\to K^{+} K^{+} K^{-}$\n",
    "\n",
    "and the anti-particle correspondent decays\n",
    "\n",
    "$B^{-} \\to K^{-} K^{-} K^{+}$"
   ]
  },
  {
   "cell_type": "markdown",
   "metadata": {},
   "source": [
    "---"
   ]
  },
  {
   "cell_type": "markdown",
   "metadata": {},
   "source": [
    "## $B^{+} \\to K^{+} K^{+} K^{-}$ Feyman diagram <a name=\"2.\"></a>\n",
    "\n",
    "As we've seen, particle physicists usually likes diagrams to represent the decay process. Here we have the Feynman diagram of the decay we are interested in\n",
    "\n",
    "<CENTER><img src=\"./images/BtoKKK.png\" style=\"width:50%\"></CENTER>\n",
    "\n",
    "In this image we have on the left side our $B^{+}$ particle, which will decay into the three kaons shown on the right side. Remember that time flows from left to right!\n",
    "\n",
    "The brackets indicate how the particles are combined into the mesons. On the left side we can see that the $B^{+}$ meson is composed of a $u$ and $\\bar{b}$ (anti-*b*) quarks and similarly we can see that the $K^{+}$ is composed of $u$ and $\\bar{s}$ and the $K^{-}$ is composed of $\\bar{u}$ and $s$. The lines connecting the quarks are called *quark lines*. Lastly, the $W^{+}$ boson is responsible for the interaction involved in this process. If you want to know more about the $W^{+}$ boson and the weak interaction click [here](https://en.wikipedia.org/wiki/Weak_interaction). For this project we won't need to go into details on the weak force, it's just nice to illustrate the detailed diagram.\n",
    "\n",
    "Note that this diagram corresponds to the $B^{+} \\to K^{+} K^{+} K^{-}$ decays, but you can draw the diagram for the anti-particle process by replacing every particle for its anti-particle (replace quark by its anti-quark, 'plus' sign with 'minus' sign and vice versa)\n"
   ]
  },
  {
   "cell_type": "markdown",
   "metadata": {},
   "source": [
    "----"
   ]
  },
  {
   "attachments": {},
   "cell_type": "markdown",
   "metadata": {},
   "source": [
    "## What is matter/anti-matter asymmetry? <a name=\"3.\"></a>\n",
    "\n",
    "So far we know what is matter and anti-matter and how they are produced, but what do we mean by *matter/anti-matter asymmetry*?\n",
    "\n",
    "To answer this question we have to go back to the Big Bang. In principle, the same amount of matter and anti-matter was produced in the Big Bang but you might have noticed, we are definitely not made of anti-matter. So, something must have happened along the way that created an unbalance between these two. This is the matter/anti-matter asymmetry problem.\n",
    "\n",
    "In order to measure this asymmetry, we can look for a difference in the rate of production of matter and anti-matter from B-meson decay, and that is exactly what we are going to do next!"
   ]
  },
  {
   "cell_type": "markdown",
   "metadata": {},
   "source": [
    "----"
   ]
  },
  {
   "cell_type": "markdown",
   "metadata": {},
   "source": [
    "## Stating with a simulation sample <a name=\"4.\"></a>\n",
    "\n",
    "### Enough talk and let's start coding!\n",
    "\n",
    "Since we have the measured momenta of the kaons (we collect this information in the detector) we can use that to reconstruct the momentum, energy and mass of the B meson. Once reconstructed we can look for differences in the rates at which the $B^{+}$ decay process and the $B^{-}$ decay process happen: this would be a difference in the behaviour of matter anti-matter!"
   ]
  },
  {
   "attachments": {},
   "cell_type": "markdown",
   "metadata": {},
   "source": [
    "Next we have to open the data that we want to analyze. As described earlier, the data is stored in a .root file. We can use the python library called uproot to access the data. Below is an example of how to open a .root file using uproot"
   ]
  },
  {
   "cell_type": "code",
   "execution_count": 2,
   "metadata": {},
   "outputs": [],
   "source": [
    "import uproot\n",
    "#f = uproot.open(\"https://opendata.cern.ch/record/4900/files/PhaseSpaceSimulation.root\")\n",
    "f = uproot.open(\"../LHCb_data/B2HHH/PhaseSpaceSimulation.root\")"
   ]
  },
  {
   "cell_type": "markdown",
   "metadata": {},
   "source": [
    "We can inspect the contents of a file by using the method keys()"
   ]
  },
  {
   "cell_type": "code",
   "execution_count": 3,
   "metadata": {},
   "outputs": [
    {
     "data": {
      "text/plain": [
       "['PhaseSpaceTree;1']"
      ]
     },
     "execution_count": 3,
     "metadata": {},
     "output_type": "execute_result"
    }
   ],
   "source": [
    "f.keys()"
   ]
  },
  {
   "cell_type": "markdown",
   "metadata": {},
   "source": [
    "We see that we have an object called 'PhaseSpaceTree'. We can obtain information about the object in the file and its type by using the method classnames()\n",
    "\n"
   ]
  },
  {
   "cell_type": "code",
   "execution_count": 4,
   "metadata": {},
   "outputs": [
    {
     "data": {
      "text/plain": [
       "{'PhaseSpaceTree;1': 'TTree'}"
      ]
     },
     "execution_count": 4,
     "metadata": {},
     "output_type": "execute_result"
    }
   ],
   "source": [
    "f.classnames()"
   ]
  },
  {
   "attachments": {},
   "cell_type": "markdown",
   "metadata": {},
   "source": [
    "We see that the object called *PhaseSpaceTree* is a TTree type. A TTree is simply columns of data stored in the .root format. Each column of data can represent a different physical quantity of a particle. For instance, its charge, energy, momentum etc.\n",
    "\n",
    "Now we know what data the file contains, in future we can quickly access that data. We want to access the mini data. This can be done by executing the command below"
   ]
  },
  {
   "cell_type": "code",
   "execution_count": 6,
   "metadata": {},
   "outputs": [],
   "source": [
    "#events = uproot.open(\"https://opendata.cern.ch/record/4900/files/PhaseSpaceSimulation.root:PhaseSpaceTree\")\n",
    "events = uproot.open(\"../LHCb_data/B2HHH/PhaseSpaceSimulation.root:PhaseSpaceTree\")"
   ]
  },
  {
   "cell_type": "markdown",
   "metadata": {},
   "source": [
    "Let's look at contents of the TTree. Essentially all the columns in the TTree called PhaseSpaceTree"
   ]
  },
  {
   "cell_type": "code",
   "execution_count": 7,
   "metadata": {},
   "outputs": [
    {
     "data": {
      "text/plain": [
       "['B_FlightDistance',\n",
       " 'B_VertexChi2',\n",
       " 'H1_PX',\n",
       " 'H1_PY',\n",
       " 'H1_PZ',\n",
       " 'H1_ProbK',\n",
       " 'H1_ProbPi',\n",
       " 'H1_Charge',\n",
       " 'H1_IPChi2',\n",
       " 'H1_isMuon',\n",
       " 'H2_PX',\n",
       " 'H2_PY',\n",
       " 'H2_PZ',\n",
       " 'H2_ProbK',\n",
       " 'H2_ProbPi',\n",
       " 'H2_Charge',\n",
       " 'H2_IPChi2',\n",
       " 'H2_isMuon',\n",
       " 'H3_PX',\n",
       " 'H3_PY',\n",
       " 'H3_PZ',\n",
       " 'H3_ProbK',\n",
       " 'H3_ProbPi',\n",
       " 'H3_Charge',\n",
       " 'H3_IPChi2',\n",
       " 'H3_isMuon']"
      ]
     },
     "execution_count": 7,
     "metadata": {},
     "output_type": "execute_result"
    }
   ],
   "source": [
    "events.keys()"
   ]
  },
  {
   "attachments": {},
   "cell_type": "markdown",
   "metadata": {},
   "source": [
    "We see columns such as the kaons momentum x-,y-, and z-components (H1_PX, H1_PY, H1_PZ). You will shortly see that these will be very important columns to look at. We can use the .array method to access events with just the columns we specify.\n",
    "\n",
    "The data contains information about 'events' that were observed in the detector. An event refers to the particles produced when an interaction took place when two proton are collided at the LHC. The data you have includes information about particles observed in the detector after each collision.\n",
    "\n",
    "We are interested in analysing the decays of particles called B+ or B- mesons decaying into three other mesons called kaons (K+ or K-). The events you have been given are those in which this process may have occurred. The detector has been used to reconstruct tracks that may have come from the kaons. You are given the measured momenta, charge, and likelihood of the tracks being kaons. You are given information for three tracks in each event, the ones that could be the three kaons that a B+ or B- meson has decayed into. "
   ]
  },
  {
   "attachments": {},
   "cell_type": "markdown",
   "metadata": {},
   "source": [
    "### Invariant mass reconstruction\n",
    "\n",
    "We want to run over all the data and reconstruct the $B^{+}$/$B^{-}$ mass. To do this we will access events using the arrays method again. Let's look at doing this.\n",
    "\n",
    "You can plot any features of the data in a histogram, for instance let's try to plot the first kaon candidate's momentum x-component (H1_PX). \n",
    "\n",
    "In the first stage we define a histogram. To do this we can import the python hist library. Once we have done that we can define a histogram. Its name is hist and the x axis is named `p_1x (GeV)`. The three initial arguments indicate that this histogram contains 100 bins which fill the gap from -150000 to 150000."
   ]
  },
  {
   "cell_type": "code",
   "execution_count": 8,
   "metadata": {},
   "outputs": [],
   "source": [
    "import hist\n",
    "from hist import Hist\n",
    "\n",
    "hist_p1x = Hist(hist.axis.Regular(100,-150e3,150e3, label = \"$p_{1x}$ (MeV)\"))"
   ]
  },
  {
   "cell_type": "markdown",
   "metadata": {},
   "source": [
    "Now to fill our histogram! The first step is to extract momentum x-component from our TTree using uproot. We'll want to extract it in the form of a numpy array like so:"
   ]
  },
  {
   "cell_type": "code",
   "execution_count": 9,
   "metadata": {},
   "outputs": [],
   "source": [
    "p1x = events[\"H1_PX\"].array(library=\"np\")"
   ]
  },
  {
   "cell_type": "markdown",
   "metadata": {},
   "source": [
    "Now we can fill our histogram using the .fill() function from hist:"
   ]
  },
  {
   "cell_type": "code",
   "execution_count": 10,
   "metadata": {},
   "outputs": [
    {
     "data": {
      "text/html": [
       "<html>\n",
       "<div style=\"display:flex; align-items:center;\">\n",
       "<div style=\"width:290px;\">\n",
       "<svg xmlns=\"http://www.w3.org/2000/svg\" viewBox=\"-10 -105 270 120\">\n",
       "<line x1=\"-5\" y1=\"0\" x2=\"255\" y2=\"0\" style=\"fill:none;stroke-width:2;stroke:currentColor\"/>\n",
       "<text text-anchor=\"middle\" x=\"0\" y=\"15\" style=\"fill:currentColor;\">\n",
       "-1.5e+05\n",
       "</text>\n",
       "<text text-anchor=\"middle\" x=\"250\" y=\"15\" style=\"fill:currentColor;\">\n",
       "1.5e+05\n",
       "</text>\n",
       "<text text-anchor=\"middle\" x=\"125.0\" y=\"15\" style=\"fill:currentColor;\">\n",
       "$p_{1x}$ (GeV)\n",
       "</text>\n",
       "<polyline points=\"  0,0   0,-0.0549 2.5,-0.0549 2.5,-0.033   5,-0.033   5,-0.011 7.5,-0.011 7.5,-0.033  10,-0.033  10,-0.0549 12.5,-0.0549 12.5,-0.022  15,-0.022  15,-0.0879 17.5,-0.0879 17.5,-0.0769  20,-0.0769  20,-0.033 22.5,-0.033 22.5,-0.0989  25,-0.0989  25,-0.0879 27.5,-0.0879 27.5,-0.11  30,-0.11  30,-0.143 32.5,-0.143 32.5,-0.176  35,-0.176  35,-0.143 37.5,-0.143 37.5,-0.231  40,-0.231  40,-0.165 42.5,-0.165 42.5,-0.231  45,-0.231  45,-0.198 47.5,-0.198 47.5,-0.286  50,-0.286  50,-0.395 52.5,-0.395 52.5,-0.45  55,-0.45  55,-0.538 57.5,-0.538 57.5,-0.461  60,-0.461  60,-0.626 62.5,-0.626 62.5,-0.637  65,-0.637  65,-0.714 67.5,-0.714 67.5,-0.813  70,-0.813  70,-1.15 72.5,-1.15 72.5,-1.11  75,-1.11  75,-1.43 77.5,-1.43 77.5,-1.36  80,-1.36  80,-1.83 82.5,-1.83 82.5,-2.14  85,-2.14  85,-2.07 87.5,-2.07 87.5,-2.25  90,-2.25  90,-2.76 92.5,-2.76 92.5,-3.55  95,-3.55  95,-3.68 97.5,-3.68 97.5,-4.58 100,-4.58 100,-5.05 102.5,-5.05 102.5,-6.11 105,-6.11 105,-6.83 107.5,-6.83 107.5,-9.07 110,-9.07 110,-11.1 112.5,-11.1 112.5,-13.8 115,-13.8 115,-19.5 117.5,-19.5 117.5,-26.7 120,-26.7 120,-42.8 122.5,-42.8 122.5,-100 125,-100 125,-99.2 127.5,-99.2 127.5,-41 130,-41 130,-26.8 132.5,-26.8 132.5,-18.4 135,-18.4 135,-14.5 137.5,-14.5 137.5,-11.2 140,-11.2 140,-8.77 142.5,-8.77 142.5,-7.52 145,-7.52 145,-5.68 147.5,-5.68 147.5,-5.6 150,-5.6 150,-4.26 152.5,-4.26 152.5,-3.73 155,-3.73 155,-3.25 157.5,-3.25 157.5,-2.89 160,-2.89 160,-2.48 162.5,-2.48 162.5,-2.24 165,-2.24 165,-1.87 167.5,-1.87 167.5,-1.61 170,-1.61 170,-1.57 172.5,-1.57 172.5,-1.27 175,-1.27 175,-1.16 177.5,-1.16 177.5,-1.1 180,-1.1 180,-0.912 182.5,-0.912 182.5,-0.714 185,-0.714 185,-0.593 187.5,-0.593 187.5,-0.538 190,-0.538 190,-0.417 192.5,-0.417 192.5,-0.384 195,-0.384 195,-0.406 197.5,-0.406 197.5,-0.417 200,-0.417 200,-0.264 202.5,-0.264 202.5,-0.297 205,-0.297 205,-0.264 207.5,-0.264 207.5,-0.187 210,-0.187 210,-0.132 212.5,-0.132 212.5,-0.143 215,-0.143 215,-0.154 217.5,-0.154 217.5,-0.176 220,-0.176 220,-0.121 222.5,-0.121 222.5,-0.0879 225,-0.0879 225,-0.0879 227.5,-0.0879 227.5,-0.0769 230,-0.0769 230,-0.0659 232.5,-0.0659 232.5,-0.0989 235,-0.0989 235,-0.0659 237.5,-0.0659 237.5,-0.0769 240,-0.0769 240,-0.0879 242.5,-0.0879 242.5,-0.0439 245,-0.0439 245,-0.0659 247.5,-0.0659 247.5,-0.011 250,-0.011 250,0\" style=\"fill:none; stroke:currentColor;\"/>\n",
       "</svg>\n",
       "</div>\n",
       "<div style=\"flex=grow:1;\">\n",
       "Regular(100, -150000, 150000, label='$p_{1x}$ (GeV)')<br/>\n",
       "<hr style=\"margin-top:.2em; margin-bottom:.2em;\"/>\n",
       "Double() Σ=49978.0 <em>(50000.0 with flow)</em>\n",
       "\n",
       "</div>\n",
       "</div>\n",
       "</html>"
      ],
      "text/plain": [
       "Hist(Regular(100, -150000, 150000, label='$p_{1x}$ (GeV)'), storage=Double()) # Sum: 49978.0 (50000.0 with flow)"
      ]
     },
     "execution_count": 10,
     "metadata": {},
     "output_type": "execute_result"
    }
   ],
   "source": [
    "hist_p1x.fill(p1x)"
   ]
  },
  {
   "cell_type": "markdown",
   "metadata": {},
   "source": [
    "Plotting using matplotlib:"
   ]
  },
  {
   "cell_type": "code",
   "execution_count": 11,
   "metadata": {},
   "outputs": [
    {
     "data": {
      "image/png": "[encoded data removed]",
      "text/plain": [
       "<Figure size 432x288 with 1 Axes>"
      ]
     },
     "metadata": {
      "needs_background": "light"
     },
     "output_type": "display_data"
    }
   ],
   "source": [
    "import matplotlib.pyplot as plt\n",
    "import numpy as np\n",
    "hist_p1x.plot()\n",
    "plt.show()"
   ]
  },
  {
   "cell_type": "markdown",
   "metadata": {},
   "source": [
    "Great! Momentum is a **vector** quantity, it has x,y and z components. Now let's try to calculate the magnitude of the momentum, $p^{2} = p_{x}^{2} + p_{y}^{2} + p_{z}^{2}$, of the first kaon candidate and plot it into a histogram: "
   ]
  },
  {
   "cell_type": "code",
   "execution_count": 12,
   "metadata": {},
   "outputs": [
    {
     "data": {
      "image/png": "[encoded data removed]",
      "text/plain": [
       "<Figure size 432x288 with 1 Axes>"
      ]
     },
     "metadata": {
      "needs_background": "light"
     },
     "output_type": "display_data"
    }
   ],
   "source": [
    "# Extracting y- and z-components\n",
    "p1y = events[\"H1_PY\"].array(library=\"np\")\n",
    "p1z = events[\"H1_PZ\"].array(library=\"np\")\n",
    "\n",
    "# Creating a histogram to plot the magnitude of the momentum\n",
    "hist_p1 = Hist(hist.axis.Regular(100,0,800e3, label = \"$p_1$ (MeV)\"))\n",
    "\n",
    "# Calculating the magnitude of the momentum and filling the histogram\n",
    "p1 = np.sqrt((p1x*p1x)+(p1y*p1y)+(p1z*p1z))\n",
    "hist_p1.fill(p1)\n",
    "\n",
    "# Plotting the histogram\n",
    "hist_p1.plot()\n",
    "plt.show()"
   ]
  },
  {
   "cell_type": "markdown",
   "metadata": {},
   "source": [
    "Note that now our histogram only has positive values (as expected!), we can't have negative momentum values.\n",
    "\n",
    "Now let's calculate the energy and mass!\n",
    "\n",
    "Einstein's theory of special relativity relates Energy, mass and momentum. We have measured the momentum of the kaon candidates in the detector, and have just plotted one of the components of the momentum of the kaon, and the magnitude of the momentum. The invariant mass of the kaon is well known and you can look this up. We wish to determine the energy of the kaons.\n",
    "\n",
    "To calculate the energy of the first kaon candidate we can use (using $c=1$):\n",
    "\n",
    "$ E^{2} = p^{2} + m^{2}$\n",
    "\n",
    "So let's try that.."
   ]
  },
  {
   "cell_type": "code",
   "execution_count": 17,
   "metadata": {},
   "outputs": [
    {
     "data": {
      "image/png": "[encoded data removed]",
      "text/plain": [
       "<Figure size 432x288 with 1 Axes>"
      ]
     },
     "metadata": {
      "needs_background": "light"
     },
     "output_type": "display_data"
    }
   ],
   "source": [
    "# Defining the mass of the kaon particle in MeV\n",
    "m_kaon = 493.677\n",
    "\n",
    "# Creating a histogram for the energy\n",
    "hist_e1 = Hist(hist.axis.Regular(100,-800e-3,800e3, label = \"Energy (MeV)\"))\n",
    "\n",
    "# Calculating the energy\n",
    "e1 = np.sqrt((p1*p1)+(m_kaon*m_kaon))\n",
    "\n",
    "# Filling and plotting the histogram\n",
    "hist_e1.fill(e1)\n",
    "hist_e1.plot()\n",
    "plt.show()"
   ]
  },
  {
   "cell_type": "code",
   "execution_count": 15,
   "metadata": {},
   "outputs": [
    {
     "data": {
      "image/png": "[encoded data removed]",
      "text/plain": [
       "<Figure size 432x288 with 1 Axes>"
      ]
     },
     "metadata": {
      "needs_background": "light"
     },
     "output_type": "display_data"
    }
   ],
   "source": [
    "# Defining the mass of the kaon particle\n",
    "m_kaon = 493.677\n",
    "\n",
    "# Creating a histogram for the energy\n",
    "hist_e1 = Hist(hist.axis.Regular(100,-800e-3,800e3, label = \"Energy (MeV)\"))\n",
    "\n",
    "# Calculating the energy\n",
    "e1 = np.sqrt((p1*p1)+(m_kaon*m_kaon))\n",
    "\n",
    "# Filling and plotting the histogram\n",
    "hist_e1.fill(e1)\n",
    "hist_e1.plot()\n",
    "plt.show()"
   ]
  },
  {
   "cell_type": "markdown",
   "metadata": {},
   "source": [
    "Your turn! Calculate the momenta and energies of the second and third kaon candidates"
   ]
  },
  {
   "cell_type": "code",
   "execution_count": 15,
   "metadata": {},
   "outputs": [
    {
     "data": {
      "image/png": "[encoded data removed]",
      "text/plain": [
       "<Figure size 720x360 with 2 Axes>"
      ]
     },
     "metadata": {
      "needs_background": "light"
     },
     "output_type": "display_data"
    }
   ],
   "source": [
    "# Momentum of the second kaon\n",
    "p2x = events[\"H2_PX\"].array(library=\"np\")\n",
    "p2y = events[\"H2_PY\"].array(library=\"np\")\n",
    "p2z = events[\"H2_PZ\"].array(library=\"np\")\n",
    "\n",
    "# Momentum of the third kaon\n",
    "p3x = events[\"H3_PX\"].array(library=\"np\")\n",
    "p3y = events[\"H3_PY\"].array(library=\"np\")\n",
    "p3z = events[\"H3_PZ\"].array(library=\"np\")\n",
    "\n",
    "# Creating histograms for p2 and p3 (momentum of the second and third particles)\n",
    "hist_p2 = Hist(hist.axis.Regular(100,0,800e3, label = \"$p_{2}$ (MeV)\"))\n",
    "hist_p3 = Hist(hist.axis.Regular(100,0,800e3, label = \"$p_{3}$ (MeV)\"))\n",
    "\n",
    "# Calculating the momentum and filling the histogram\n",
    "p2 = np.sqrt((p2x*p2x)+(p2y*p2y)+(p2z*p2z))\n",
    "hist_p2.fill(p2)\n",
    "\n",
    "p3 = np.sqrt((p3x*p3x)+(p3y*p3y)+(p3z*p3z))\n",
    "hist_p3.fill(p3)\n",
    "\n",
    "# Plotting the histograms\n",
    "fig, axes = plt.subplots(figsize=(10,5))\n",
    "plt.subplot(1,2,1)\n",
    "hist_p2.plot()\n",
    "plt.subplot(1,2,2)\n",
    "hist_p3.plot()\n",
    "plt.show()"
   ]
  },
  {
   "cell_type": "code",
   "execution_count": 13,
   "metadata": {},
   "outputs": [
    {
     "data": {
      "image/png": "[encoded data removed]",
      "text/plain": [
       "<Figure size 720x360 with 2 Axes>"
      ]
     },
     "metadata": {
      "needs_background": "light"
     },
     "output_type": "display_data"
    }
   ],
   "source": [
    "# Creating histograms for e2 and e3 (energy of the second and third particles)\n",
    "hist_e2 = Hist(hist.axis.Regular(100,-800e-3,800e3, label = \"Energy ($p_2$) (MeV)\"))\n",
    "hist_e3 = Hist(hist.axis.Regular(100,-800e-3,800e3, label = \"Energy ($p_3$) (MeV)\"))\n",
    "\n",
    "# Calculating the momentum and filling the histogram\n",
    "e2 = np.sqrt((p2*p2)+(m_kaon*m_kaon))\n",
    "hist_e2.fill(e2)\n",
    "e3 = np.sqrt((p3*p3)+(m_kaon*m_kaon))\n",
    "hist_e3.fill(e3)\n",
    "\n",
    "# Plotting the histograms\n",
    "fig, axes = plt.subplots(figsize=(10,5))\n",
    "plt.subplot(1,2,1)\n",
    "hist_e2.plot()\n",
    "plt.subplot(1,2,2)\n",
    "hist_e3.plot()\n",
    "plt.show()"
   ]
  },
  {
   "cell_type": "markdown",
   "metadata": {},
   "source": [
    "## Findind the B meson\n",
    "\n",
    "In this analysis we are looking for B+ or B- mesons (see B meson) that have decayed into the three charged kaons.\n",
    "\n",
    "Energy is a conserved quantities. This means that you can use the energy of the three 'daughter' kaons, which you have calculated above, to calculate the energy that the B meson that decayed into them must have.\n",
    "\n",
    "Momentum is also a conserved quantity. Hence you can also use the momenta of the 'daughter' kaons to calculate the momentum of the B meson. But be careful - momentum is a vector quantity.\n",
    "\n",
    "Using the Energy of the B meson and the magnitude of the momentum of the B meson you can use the energy-momentum relationship again. This time you are applying it to the B meson. This will allow you to calculate the invariant mass of the B meson."
   ]
  },
  {
   "cell_type": "code",
   "execution_count": 14,
   "metadata": {},
   "outputs": [
    {
     "data": {
      "image/png": "[encoded data removed]",
      "text/plain": [
       "<Figure size 432x288 with 1 Axes>"
      ]
     },
     "metadata": {
      "needs_background": "light"
     },
     "output_type": "display_data"
    }
   ],
   "source": [
    "import hist\n",
    "from hist import Hist\n",
    "\n",
    "# Defining the histogram\n",
    "histB = Hist(hist.axis.Regular(100,2000,8000, label = \"$m(K^+K^+ K^-)$ (MeV)\"))\n",
    "\n",
    "# B meson momentum conservation\n",
    "pxB = p1x+p2x+p3x\n",
    "pyB = p1y+p2y+p3y\n",
    "pzB = p1z+p2z+p3z\n",
    "\n",
    "# B meson energy conservation\n",
    "eB = e1+e2+e3\n",
    "\n",
    "# Calculating the momentum of the B meson\n",
    "pB = np.sqrt((pxB**2)+(pyB**2)+(pzB**2))\n",
    "\n",
    "# Calculating the mass of the B meson\n",
    "mB = np.sqrt((eB**2)-(pB**2))\n",
    "\n",
    "# Filling  and plotting the histogram    \n",
    "histB.fill(mB)\n",
    "histB.plot(histtype = \"fill\")\n",
    "plt.show()"
   ]
  },
  {
   "attachments": {},
   "cell_type": "markdown",
   "metadata": {},
   "source": [
    "Great job! You can see now that the histogram peaks at the mass of the B+ meson. The mass of the B+ and B- are the same. If you want to check that your peak is at the known mass of the B meson click [here](https://pdglive.lbl.gov/Particle.action?init=0&node=S041&home=MXXX045)."
   ]
  },
  {
   "attachments": {},
   "cell_type": "markdown",
   "metadata": {},
   "source": [
    "## Working with real data <a name=\"5.\"></a>\n",
    "\n",
    "So far, we've looked at what we call the simulation data to determine the invariant mass of the B meson. The events we see in our histogram are simulated $B^+ \\to K^+ K^+ K^-$ decays but in real life, determining the invariant mass of the B meson can be slightly more difficult. When we are analysing data collected by the LHCb, we can't control what particles are going to be produced, instead we collect everything, so our data samples not only have events that we are interested in (signal events) but also events that are not from the $B^+ \\to K^+ K^+ K^-$ decays (background events). And it's our job to apply some sort of requirements (cuts) to distinguish the interesting events from the others.\n",
    "\n",
    "The following steps are required now:\n",
    "\n",
    "* Firstly we need to filter out the data that is not from the $B^+ \\to K^+ K^+ K^-$ channel, or the antiparticle $B^- \\to K^- K^- K^+$\n",
    "* Then we can plot the histogram of the B meson mass for the real data and observe how different cuts affects the data\n",
    "\n",
    "The data samples we are going to look have been filtered to select only events that are likely to have come from B+ or B- mesons decaying into three final state charged particles. In our case, we are interested when these particles are charged kaons ($K^+$ or $K^-$)."
   ]
  },
  {
   "cell_type": "markdown",
   "metadata": {},
   "source": [
    "### Preselection\n",
    "\n",
    "To select the interesting events, we are going to apply some cuts and only the events satisfying this requirement are kept in our sample. Usually, in our analyses we apply these specific requirements/cuts in order to select just a portion of the sample, getting rid of events we are not interested in. In our case we want three final state tracks that:\n",
    "\n",
    "1. are **not** muons: `!H1_isMuon` where `!` means `not` (same goes for `H2` and `H3`)\n",
    "2. each candidate has a low probability of being a pion: `H1_ProbPi < 0.5`\n",
    "3. each candidate has a high probability of being a kaon: `H1_ProbK > 0.5`\n",
    "\n",
    "So let's open our LHCb data and select only events satisfying this criteria:"
   ]
  },
  {
   "cell_type": "code",
   "execution_count": 16,
   "metadata": {},
   "outputs": [],
   "source": [
    "from tqdm import tqdm\n",
    "import uproot\n",
    "\n",
    "# Define preselection\n",
    "preselection_Prob = \"H1_ProbPi < 0.5 & H2_ProbPi < 0.5 & H3_ProbPi < 0.5 & H1_ProbK > 0.5 & H2_ProbK > 0.5 & H3_ProbK > 0.5\"\n",
    "preselection_Muon = \"!H1_isMuon & !H2_isMuon & !H3_isMuon\"\n",
    "preselection_total = preselection_Prob+\"&\"+preselection_total\n",
    "\n",
    "# Load real LHCb data\n",
    "real_data = uproot.open(\"/Users/fernanda/Documents/GitHub/LHCb_data/B2HHH/B2HHH_MagnetUpDown.root:DecayTree\", where=preselection)"
   ]
  },
  {
   "attachments": {},
   "cell_type": "markdown",
   "metadata": {},
   "source": [
    "Here we've created one set of preselection requirements for the probability and one for the muon criteria. Note that the `&` means `and`, therefore we are saying that we want the `preselection_Prob and preselection_Muon`. In `preselection_total` we are writing exactly this in a more 'pythonic' way. When we load our data file, we want to load only the events satisfying this criteria, therefore we use the `where` option to indicate any requirements/cuts when loading the file."
   ]
  },
  {
   "cell_type": "code",
   "execution_count": 17,
   "metadata": {},
   "outputs": [
    {
     "data": {
      "text/plain": [
       "['B_FlightDistance',\n",
       " 'B_VertexChi2',\n",
       " 'H1_PX',\n",
       " 'H1_PY',\n",
       " 'H1_PZ',\n",
       " 'H1_ProbK',\n",
       " 'H1_ProbPi',\n",
       " 'H1_Charge',\n",
       " 'H1_IPChi2',\n",
       " 'H1_isMuon',\n",
       " 'H2_PX',\n",
       " 'H2_PY',\n",
       " 'H2_PZ',\n",
       " 'H2_ProbK',\n",
       " 'H2_ProbPi',\n",
       " 'H2_Charge',\n",
       " 'H2_IPChi2',\n",
       " 'H2_isMuon',\n",
       " 'H3_PX',\n",
       " 'H3_PY',\n",
       " 'H3_PZ',\n",
       " 'H3_ProbK',\n",
       " 'H3_ProbPi',\n",
       " 'H3_Charge',\n",
       " 'H3_IPChi2',\n",
       " 'H3_isMuon']"
      ]
     },
     "execution_count": 17,
     "metadata": {},
     "output_type": "execute_result"
    }
   ],
   "source": [
    "real_data.keys()"
   ]
  },
  {
   "cell_type": "markdown",
   "metadata": {},
   "source": [
    "Let's also plot the charge distribution!"
   ]
  },
  {
   "cell_type": "code",
   "execution_count": 18,
   "metadata": {},
   "outputs": [
    {
     "data": {
      "image/png": "[encoded data removed]",
      "text/plain": [
       "<Figure size 432x288 with 1 Axes>"
      ]
     },
     "metadata": {
      "needs_background": "light"
     },
     "output_type": "display_data"
    }
   ],
   "source": [
    "import hist\n",
    "from hist import Hist\n",
    "\n",
    "hist_c = Hist(hist.axis.Regular(100,-2,2, label = \"charge\"))\n",
    "c1 = events[\"H1_Charge\"].array(library=\"np\")\n",
    "c2 = events[\"H2_Charge\"].array(library=\"np\")\n",
    "c3 = events[\"H3_Charge\"].array(library=\"np\")\n",
    "\n",
    "hist_c.fill(c1)\n",
    "import matplotlib.pyplot as plt\n",
    "\n",
    "hist_c.plot(histtype = \"fill\")\n",
    "plt.show()"
   ]
  },
  {
   "cell_type": "markdown",
   "metadata": {},
   "source": [
    "### Your turn!\n",
    "\n",
    "Now let's let's calculate the invariant mass of the B meson for the real data and plot a histogram of this. "
   ]
  },
  {
   "cell_type": "code",
   "execution_count": 26,
   "metadata": {},
   "outputs": [
    {
     "data": {
      "image/png": "[encoded data removed]",
      "text/plain": [
       "<Figure size 720x360 with 3 Axes>"
      ]
     },
     "metadata": {
      "needs_background": "light"
     },
     "output_type": "display_data"
    }
   ],
   "source": [
    "# Momentum of the first kaon\n",
    "p1x_data = real_data[\"H1_PX\"].array(library=\"np\")\n",
    "p1y_data = real_data[\"H1_PY\"].array(library=\"np\")\n",
    "p1z_data = real_data[\"H1_PZ\"].array(library=\"np\")\n",
    "\n",
    "# Momentum of the second kaon\n",
    "p2x_data = real_data[\"H2_PX\"].array(library=\"np\")\n",
    "p2y_data = real_data[\"H2_PY\"].array(library=\"np\")\n",
    "p2z_data = real_data[\"H2_PZ\"].array(library=\"np\")\n",
    "\n",
    "# Momentum of the third kaon\n",
    "p3x_data = real_data[\"H3_PX\"].array(library=\"np\")\n",
    "p3y_data = real_data[\"H3_PY\"].array(library=\"np\")\n",
    "p3z_data = real_data[\"H3_PZ\"].array(library=\"np\")\n",
    "\n",
    "# Creating histograms for p2 and p3 (momentum of the second and third particles)\n",
    "hist_p1_data = Hist(hist.axis.Regular(100,0,800e3, label = \"$p_{1}$ (MeV)\"))\n",
    "hist_p2_data = Hist(hist.axis.Regular(100,0,800e3, label = \"$p_{2}$ (MeV)\"))\n",
    "hist_p3_data = Hist(hist.axis.Regular(100,0,800e3, label = \"$p_{3}$ (MeV)\"))\n",
    "\n",
    "# Calculating the momentum and filling the histogram\n",
    "p1_data = #COMPLETE HERE\n",
    "hist_p1_data.fill(p1_data)\n",
    "\n",
    "p2_data = #COMPLETE HERE\n",
    "hist_p2_data.fill(p2_data)\n",
    "\n",
    "p3_data = #COMPLETE HERE\n",
    "hist_p3_data.fill(p3_data)\n",
    "\n",
    "# Plotting the histograms\n",
    "fig, axes = plt.subplots(figsize=(10,5))\n",
    "plt.subplot(1,3,1)\n",
    "hist_p1_data.plot()\n",
    "plt.subplot(1,3,2)\n",
    "hist_p2_data.plot()\n",
    "plt.subplot(1,3,3)\n",
    "hist_p3_data.plot()\n",
    "\n",
    "plt.show()"
   ]
  },
  {
   "cell_type": "code",
   "execution_count": 27,
   "metadata": {},
   "outputs": [
    {
     "data": {
      "image/png": "[encoded data removed]",
      "text/plain": [
       "<Figure size 720x360 with 3 Axes>"
      ]
     },
     "metadata": {
      "needs_background": "light"
     },
     "output_type": "display_data"
    }
   ],
   "source": [
    "# Creating histograms for e2 and e3 (energy of the second and third particles)\n",
    "hist_e1_data = Hist(hist.axis.Regular(100,-800e-3,800e3, label = \"Energy ($p_1$) (MeV)\"))\n",
    "hist_e2_data = Hist(hist.axis.Regular(100,-800e-3,800e3, label = \"Energy ($p_2$) (MeV)\"))\n",
    "hist_e3_data = Hist(hist.axis.Regular(100,-800e-3,800e3, label = \"Energy ($p_3$) (MeV)\"))\n",
    "\n",
    "# Calculating the momentum and filling the histogram\n",
    "e1_data = #COMPLETE HERE\n",
    "hist_e1_data.fill(e1_data)\n",
    "e2_data = #COMPLETE HERE\n",
    "hist_e2_data.fill(e2_data)\n",
    "e3_data = #COMPLETE HERE\n",
    "hist_e3_data.fill(e3_data)\n",
    "\n",
    "# Plotting the histograms\n",
    "fig, axes = plt.subplots(figsize=(10,5))\n",
    "plt.subplot(1,3,1)\n",
    "hist_e1_data.plot()\n",
    "plt.subplot(1,3,2)\n",
    "hist_e2_data.plot()\n",
    "plt.subplot(1,3,3)\n",
    "hist_e3_data.plot()\n",
    "plt.show()"
   ]
  },
  {
   "cell_type": "code",
   "execution_count": 28,
   "metadata": {},
   "outputs": [
    {
     "data": {
      "image/png": "[encoded data removed]",
      "text/plain": [
       "<Figure size 432x288 with 1 Axes>"
      ]
     },
     "metadata": {
      "needs_background": "light"
     },
     "output_type": "display_data"
    }
   ],
   "source": [
    "import hist\n",
    "from hist import Hist\n",
    "\n",
    "# Defining the histogram\n",
    "histB_data = Hist(hist.axis.Regular(100,2000,8000, label = \"$m(K^+K^+ K^-)$ (MeV)\"))\n",
    "\n",
    "# B meson momentum conservation\n",
    "pxB_data = #COMPLETE HERE\n",
    "pyB_data = #COMPLETE HERE\n",
    "pzB_data = #COMPLETE HERE\n",
    "\n",
    "# B meson energy conservation\n",
    "eB_data = #COMPLETE HERE\n",
    "\n",
    "# Calculating the momentum of the B meson\n",
    "pB_data = #COMPLETE HERE\n",
    "\n",
    "# Calculating the mass of the B meson\n",
    "mB_data = #COMPLETE HERE\n",
    "\n",
    "# Filling  and plotting the histogram    \n",
    "histB_data.fill(mB_data)\n",
    "histB_data.plot(histtype = \"fill\")\n",
    "plt.show()"
   ]
  },
  {
   "cell_type": "markdown",
   "metadata": {},
   "source": [
    "Let's compare it with the one you drew for the simulation data. Can you explain the differences you observe?"
   ]
  },
  {
   "cell_type": "markdown",
   "metadata": {},
   "source": [
    "Experiment with the cuts and see the impact of harsher or more lenient cuts on the invariant mass plot. You should select a set of cuts which makes the signal most prominent with respect to the background. Once you have finalised the selection on particle identification also make cuts on the reconstructed particle mass to select the events in the B meson mass peak, removing the background events which lie at lower and higher invariant masses.\n",
    "\n"
   ]
  },
  {
   "attachments": {},
   "cell_type": "markdown",
   "metadata": {},
   "source": [
    "## Searching for global matter anti-matter differences <a name=\"6.\"></a>\n",
    "\n",
    "We are finally ready to study matter anti-matter differences. The term *global* here means that we are looking for differences across all ranges of energy and momentum (the kinematics) of the kaons into which the chaged B mesons have decayed. We also have *local* differences, this means we are looking at differences in different regions of the kinematics.\n",
    "\n",
    "The next steps are:\n",
    "\n",
    "* Calculate the global CP asymmetry\n",
    "* Work out the statistical uncertainty\n",
    "* Determine if there is evidence for CP violation in this decay channel\n",
    "\n",
    "To quantify the matter anti-matter aymmetry we wish to compare the B+ and B- particles. How can we distinguish between events that contain a B+ and B- using the kaons in the final state?\n",
    "\n",
    "The charge of the kaons are stored in the variables `H1_Charge`, `H2_Charge` and `H3_Charge`. We also know that charged is a **conserved quantity**! The charge of the B meson is equal to the sum of the charges of the particles into which it decays\n",
    "\n"
   ]
  },
  {
   "cell_type": "code",
   "execution_count": 30,
   "metadata": {},
   "outputs": [
    {
     "data": {
      "image/png": "[encoded data removed]",
      "text/plain": [
       "<Figure size 432x288 with 1 Axes>"
      ]
     },
     "metadata": {
      "needs_background": "light"
     },
     "output_type": "display_data"
    }
   ],
   "source": [
    "c1_data = real_data[\"H1_Charge\"].array(library=\"np\")\n",
    "c2_data = real_data[\"H2_Charge\"].array(library=\"np\")\n",
    "c3_data = real_data[\"H3_Charge\"].array(library=\"np\")\n",
    "\n",
    "B_charge_data = c1_data + c2_data + c3_data\n",
    "\n",
    "hist_Bc_data = Hist(hist.axis.Regular(100,-2,2, label = \"px (GeV)\"))\n",
    "hist_Bc_data.fill(B_charge)\n",
    "import matplotlib.pyplot as plt\n",
    "\n",
    "hist_Bc_data.plot(histtype = \"fill\")\n",
    "plt.show()"
   ]
  },
  {
   "cell_type": "code",
   "execution_count": 32,
   "metadata": {},
   "outputs": [
    {
     "data": {
      "text/plain": [
       "(4350595, 4205523)"
      ]
     },
     "execution_count": 32,
     "metadata": {},
     "output_type": "execute_result"
    }
   ],
   "source": [
    "B_charge_data = c1_data + c2_data + c3_data\n",
    "\n",
    "Nplus = np.sum(B_charge_data == 1)\n",
    "Nminus = np.sum(B_charge_data == -1)\n",
    "\n",
    "Nplus, Nminus"
   ]
  },
  {
   "cell_type": "markdown",
   "metadata": {},
   "source": [
    "After calculating the number of B+ type events and B- type events, we can calculate the asymmetry using the following formula\n",
    "\n",
    "$A = \\frac{N^- - N^+}{N^- + N^+}$"
   ]
  },
  {
   "cell_type": "code",
   "execution_count": 33,
   "metadata": {},
   "outputs": [
    {
     "data": {
      "text/plain": [
       "0.016955352883165006"
      ]
     },
     "execution_count": 33,
     "metadata": {},
     "output_type": "execute_result"
    }
   ],
   "source": [
    "dif = Nplus - Nminus\n",
    "sum = Nplus + Nminus\n",
    "\n",
    "A = dif/sum\n",
    "A"
   ]
  },
  {
   "attachments": {},
   "cell_type": "markdown",
   "metadata": {},
   "source": [
    "Congratulations! You have just calculated the asymmetry. A is our asymmetry and it's a number between -1 and 1. The closer A is to zero, we interpret as having no asymmetry, i.e. $N^+$ and $N^-$ are very close. And the closer A is to +1(-1) we interpret this result as having more events of the type $B^+(B^-)$."
   ]
  },
  {
   "attachments": {},
   "cell_type": "markdown",
   "metadata": {},
   "source": [
    "### Extra exercise: Estimating the significance of the deviation\n",
    "\n",
    "We will now calculate the statistical uncertainty of the asymmetry by using the formula\n",
    "\n",
    "$ \\sigma_A = \\sqrt{\\frac{1-A^2}{N^- + N^+}}$\n",
    "\n",
    "The significance of the result, $\\sigma$, is found by dividing the value for asymmetry by its uncertainty. A value exceeding three sigma is considered \"evidence\" by particle physicists while a value of five sigma or more can be called an \"observation\" or \"discovery\"."
   ]
  },
  {
   "cell_type": "code",
   "execution_count": 34,
   "metadata": {},
   "outputs": [
    {
     "data": {
      "text/plain": [
       "0.00034182134755696066"
      ]
     },
     "execution_count": 34,
     "metadata": {},
     "output_type": "execute_result"
    }
   ],
   "source": [
    "numerator = 1 - A**2\n",
    "denominator = Nplus + Nminus\n",
    "\n",
    "sigma = np.sqrt(numerator/denominator)\n",
    "sigma"
   ]
  },
  {
   "attachments": {},
   "cell_type": "markdown",
   "metadata": {},
   "source": [
    "Another very important figure to calculate is the significance. It will tell us how significant is our measurement, the higher this value is, more significant it is."
   ]
  },
  {
   "cell_type": "code",
   "execution_count": null,
   "metadata": {},
   "outputs": [],
   "source": [
    "A/sigma"
   ]
  },
  {
   "cell_type": "markdown",
   "metadata": {},
   "source": [
    "Congratulations! You have performed your first search for matter anti-matter asymmetry difference!"
   ]
  }
 ],
 "metadata": {
  "kernelspec": {
   "display_name": "Python 3 (ipykernel)",
   "language": "python",
   "name": "python3"
  },
  "language_info": {
   "codemirror_mode": {
    "name": "ipython",
    "version": 3
   },
   "file_extension": ".py",
   "mimetype": "text/x-python",
   "name": "python",
   "nbconvert_exporter": "python",
   "pygments_lexer": "ipython3",
   "version": "3.9.7"
  }
 },
 "nbformat": 4,
 "nbformat_minor": 4
}
