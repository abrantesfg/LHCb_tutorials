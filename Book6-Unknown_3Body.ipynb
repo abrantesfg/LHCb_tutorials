{
 "cells": [
  {
   "cell_type": "markdown",
   "metadata": {},
   "source": [
    "<CENTER><img src=\"images/logos.png\" style=\"width:50%\"></CENTER>"
   ]
  },
  {
   "attachments": {},
   "cell_type": "markdown",
   "metadata": {},
   "source": [
    "# Unknown three body decay <a name=\"c\"></a>\n",
    "\n",
    "**The following analysis aims to find the decay process. We will know which are the final state particles and we want to search the decay.**\n",
    "\n",
    "In this tutorial we will start from pions and kaons as final state particles, and we aim to find the combination for which the invariant mass distribution looks like a gaussian centered at the value corresponding to the mass of the decaying particle. If we find the correct combination, we discover the decaying particle due to its mass, and the decay process.\n",
    "\n",
    "The pion, $\\pi$, is composed of a $u$ quark and an $\\bar{d}$ antiquark and the kaon is composed of a $u$ quark and an $\\bar{s}$ antiquark (as we've seen in the Introduction to Particle Physics notebook). In this notebook we want to reconstruct the trajectories of our final state particles, our pions and kaons, in order to find the mass of the decaying meson. We don't know what is the combination yet, the only thing we know is that our final state is constructed of pions and kaons!\n",
    "\n",
    "We will be dealing with a three-body decay, the total electric charge must be conserved! \n",
    "\n",
    "We've learned in the previous notebook about 4-vectors and we know how to manipulate them. You will see now why was so important to learn about 4-vectors and what we can do with them in real life! We will look at our misterious final state particles but firstly, we need to think about how we talk about decays in particle physcis."
   ]
  },
  {
   "cell_type": "markdown",
   "metadata": {},
   "source": [
    "**Contents:**\n",
    "- [Decays](#1.)\n",
    "- [The invariant mass calculation](#2.)\n",
    "- [Cuts](#3.)\n",
    "- [Find the mistery decaying particle!](#4.)"
   ]
  },
  {
   "cell_type": "markdown",
   "metadata": {},
   "source": [
    "---"
   ]
  },
  {
   "attachments": {},
   "cell_type": "markdown",
   "metadata": {},
   "source": [
    "## Decays <a name=\"1.\"></a>\n",
    "\n",
    "Let's start with understanding the idea of a decay process!\n",
    "\n",
    "We want to find the decaying meson, but they don't live long enough to actually see with the detector itself. Instead, we have to **reconstruct** them from their decay products. We don't particularly mind where the the decaying mesons themselves come from. All you need to know here is that each time the LHC smashes two protons together, they produce lots and lots of particles.\n",
    "\n",
    "\n",
    "\n",
    "In this process, our decaying meson emerges from the collision aftermath in the LHC (we don't care how) can decay directly to pions and kaons. The decay happens at the vertex below, where the two black arrows meet. Here our final state particles labeled as $h$ can be either pions or kaons, and $X$ is our decaying particle to be identified.\n",
    "\n",
    "<figure>\n",
    "    <center> <img src=\"images/3body-decay.png\" alt=\"TEST\" style=\"width:40%\" />\n",
    "   <figcaption>Image 1: The misterious X decay directly from the proton-proton collision. </figcaption> </center>\n",
    "</figure>\n",
    "\n",
    "The LHCb detector can measure the momentum and energy of the final state particles coming out of decays, and you can access that information quite simply. We mentioned earlier that each smash makes lots of particles. That's true - in fact, it makes so many that we can't actually store all the records of what happened, even on some of the biggest data storage facilities in the world. \n",
    "\n"
   ]
  },
  {
   "cell_type": "markdown",
   "metadata": {},
   "source": [
    "Next we have to open the data that we want to analyze. As described earlier, the data is stored in a *.root file. We can use a python library called uproot to access the data. Below is an example of how to open a *.root file using uproot"
   ]
  },
  {
   "cell_type": "code",
   "execution_count": null,
   "metadata": {},
   "outputs": [],
   "source": [
    "## data file\n",
    "import uproot\n",
    "f = uproot.open(\"../LHCb_data/3Body/Unknown3body.root\")"
   ]
  },
  {
   "cell_type": "markdown",
   "metadata": {},
   "source": [
    "We can inspect the contents of a file by using the method keys()"
   ]
  },
  {
   "cell_type": "code",
   "execution_count": null,
   "metadata": {},
   "outputs": [],
   "source": [
    "f.keys()"
   ]
  },
  {
   "cell_type": "markdown",
   "metadata": {},
   "source": [
    "We see that we have an object called 'DecayTree'. We can obtain information about the object in the file and its type by using the method classnames()"
   ]
  },
  {
   "cell_type": "code",
   "execution_count": null,
   "metadata": {},
   "outputs": [],
   "source": [
    "f.classnames()"
   ]
  },
  {
   "attachments": {},
   "cell_type": "markdown",
   "metadata": {},
   "source": [
    "We see that the object called DecayTree is a TTree type. A TTree is simply columns of data stored in the .root format. Each column of data can represent a different physical quantity of a particle. For instance, its charge, energy, momentum etc.\n",
    "\n",
    "Now we know what data the file contains, in future we can quickly access that data. We want to access the mini data. This can be done by executing the command below\n"
   ]
  },
  {
   "cell_type": "code",
   "execution_count": null,
   "metadata": {},
   "outputs": [],
   "source": [
    "events = uproot.open(\"../LHCb_data/3Body/Unknown3body.root:DecayTree\")"
   ]
  },
  {
   "attachments": {},
   "cell_type": "markdown",
   "metadata": {},
   "source": [
    "Let's look at contents of the TTree. Essentially all the columns in the TTree called DecayTree"
   ]
  },
  {
   "cell_type": "code",
   "execution_count": null,
   "metadata": {},
   "outputs": [],
   "source": [
    "events.keys()"
   ]
  },
  {
   "attachments": {},
   "cell_type": "markdown",
   "metadata": {},
   "source": [
    "We basically have the three momentum components for our three particles. We can use the .arrays method to access events with just the columns we specify."
   ]
  },
  {
   "attachments": {},
   "cell_type": "markdown",
   "metadata": {},
   "source": [
    "We want to run over all the data and reconstruct the X meson mass. To do this we will access events using the arrays method. Let's look at doing this.\n",
    "\n",
    "First we define a histogram. To do this we can import the python hist library. Once we have done that we can define a histogram. Its name is hist and the x axis is named m (MeV). For instance, here is an example of how you define a histogram. The three initial arguments indicate that this histogram contains 100 bins which fill the gap from 0,150000.\n"
   ]
  },
  {
   "cell_type": "code",
   "execution_count": null,
   "metadata": {},
   "outputs": [],
   "source": [
    "import hist\n",
    "from hist import Hist\n",
    "\n",
    "hist_mass = Hist(hist.axis.Regular(100,0,150000, label = \"m (MeV)\"))"
   ]
  },
  {
   "attachments": {},
   "cell_type": "markdown",
   "metadata": {},
   "source": [
    "It is now time to fill our above defined histogram with the masses. To do that, we need to reconstruct our X meson invariant mass. \n"
   ]
  },
  {
   "cell_type": "markdown",
   "metadata": {},
   "source": [
    "[Return to contents](#c)"
   ]
  },
  {
   "cell_type": "markdown",
   "metadata": {},
   "source": [
    "---"
   ]
  },
  {
   "attachments": {},
   "cell_type": "markdown",
   "metadata": {},
   "source": [
    "## The invariant mass calculation <a name=\"2.\"></a>\n",
    "\n",
    "One very important quantity we need to define is the invariant mass! It is defined as an invariant quantity which is the same for all observers in all reference frames (that's why we call it *invariant*). To calculate it we use the energy, *E*, and momentum, *p*, both measured in the detector. To derive a proper expression for the invariat mass we ask that in the process both energy and momentum are conserved! \n",
    "\n",
    "* Energy conservation\n",
    "\n",
    "$ E = E_{h1} + E_{h2} + E_{h3} $\n",
    "\n",
    "* Momentum conservation\n",
    "\n",
    "$ \\vec{p} = \\vec{p}_{h1} + \\vec{p}_{h2} + \\vec{p}_{h3} $\n",
    "\n",
    "From special relativity we've learned the relation between mass, energy and momentum to be:\n",
    "\n",
    "$ (pc)^2 + (mc^2)^2 = E^2 $\n",
    "\n",
    "$ E^2 = p^2 + m^2$\n",
    "\n",
    "Rearranging it to $m$:\n",
    "\n",
    "$ m^2 = E^2 - p2 = (E_{h1} + E_{h2} + E_{h3})^2 - || p_{h1} + p_{h2} + p_{h3} ||$\n",
    "\n",
    "$ m^2 = (E_{h1}+ E_{h2} + E_{h3})^2 - (\\vec{p}_{h1} + \\vec{p}_{h2} + \\vec{p}_{h3})\\cdot (\\vec{p}_{h1} + \\vec{p}_{h2} + \\vec{p}_{h3})$\n",
    "\n",
    "Since the dot product of two orthogonal vectors is zero, we can write more explicitly\n",
    "\n",
    "$ m^2 = (E_{h1} + E_{h2} + E_{h3})^2 - (p_{h1_x} + p_{h2_x} + p_{h3_x} )^2 - (p_{h1_y} + p_{h2_y} + p_{h3_y})^2 - (p_{h1_z} + p_{h2_z} + p_{h3_z})^2$\n",
    "\n",
    "<div class=\"alert alert-info\"> Our goal is to calculte the invariant mass of the three chosen particles and we save it to a histogram.</div> "
   ]
  },
  {
   "cell_type": "markdown",
   "metadata": {},
   "source": [
    "## Extracting momentum components and calculating the energy distributions\n"
   ]
  },
  {
   "cell_type": "code",
   "execution_count": null,
   "metadata": {},
   "outputs": [],
   "source": [
    "# Extracting the momentum components and energy of the first muon\n",
    "p1x = events[\"p1_PX\"].array(library=\"np\")\n",
    "p1y = events[\"p1_PY\"].array(library=\"np\")\n",
    "p1z = events[\"p1_PZ\"].array(library=\"np\")"
   ]
  },
  {
   "attachments": {},
   "cell_type": "markdown",
   "metadata": {},
   "source": [
    "Let's visualise one of these momentum components, for instance let's check the x-component of the one of our final particles! To do that we first define a histogram, and we fill it with the values we extracted in `p1x`."
   ]
  },
  {
   "cell_type": "code",
   "execution_count": null,
   "metadata": {},
   "outputs": [],
   "source": [
    "import hist\n",
    "from hist import Hist\n",
    "import matplotlib.pyplot as plt\n",
    "import numpy as np\n",
    "\n",
    "# Defining histogram\n",
    "hist_p1x = Hist(hist.axis.Regular(100,-50e3,50e3, label = \"$p_{1x}$ (MeV)\"))\n",
    "\n",
    "# Fiblling histogram with values of p1x\n",
    "hist_p1x.fill(p1x)\n",
    "\n",
    "# Plotting the histogram\n",
    "hist_p1x.plot()\n",
    "plt.show()"
   ]
  },
  {
   "cell_type": "markdown",
   "metadata": {},
   "source": [
    "Great! Momentum is a **vector** quantity, it has x,y and z components. Now let's try to calculate the magnitude of the momentum, $p^{2} = p_{x}^{2} + p_{y}^{2} + p_{z}^{2}$, of the first candidate and plot it into a histogram: "
   ]
  },
  {
   "cell_type": "code",
   "execution_count": null,
   "metadata": {},
   "outputs": [],
   "source": [
    "# Calulating the magnitude of the momentum:\n",
    "p1 = np.sqrt( p1x**2 + p1y**2 + p1z**2)\n",
    "\n",
    "# Defining histogram\n",
    "hist_p1 = Hist(hist.axis.Regular(100,0e3,50e3, label = \"$p_{1}$ (MeV)\")) # *** axis label: meson not muon\n",
    "\n",
    "# Fiblling histogram with values of p1\n",
    "hist_p1.fill(p1)\n",
    "\n",
    "# Plotting the histogram\n",
    "hist_p1.plot()\n",
    "plt.show()"
   ]
  },
  {
   "attachments": {},
   "cell_type": "markdown",
   "metadata": {},
   "source": [
    "### Your turn!\n",
    "\n",
    "We've calculated the magnitude of the momentum for the first final state particle. Repeat that now for the other two!\n",
    "\n",
    "The first step is to extract the momentum components. Then plot one of the components as an example, for instace the x-component ($p_{2x}$ and $p_{3x}$). Finally, calculate and plot the magnitude of the momentum for the second and third final state particles."
   ]
  },
  {
   "cell_type": "code",
   "execution_count": null,
   "metadata": {},
   "outputs": [],
   "source": [
    "# Extracting the momentum components and energy of the second and third final state particles\n",
    "p2x = #COMPLETE\n",
    "p2y = #COMPLETE\n",
    "p2z = #COMPLETE\n",
    "\n",
    "p3x = #COMPLETE\n",
    "p3y = #COMPLETE\n",
    "p3z = #COMPLETE\n",
    "\n",
    "# Defining histogram\n",
    "hist_p2x = Hist(hist.axis.Regular(100,-50e3,50e3, label = \"$p_{2x}$ (MeV)\"))\n",
    "hist_p3x = Hist(hist.axis.Regular(100,-50e3,50e3, label = \"$p_{3x}$ (MeV)\"))\n",
    "\n",
    "# Filling histogram with values of p2x and p3x\n",
    "hist_p2x.fill#COMPLETE\n",
    "hist_p3x.fill#COMPLETE\n",
    "\n",
    "# Plotting the histograms\n",
    "fig, axes = plt.subplots(figsize=(10,5))\n",
    "plt.subplot(1,2,1)\n",
    "hist_p2x.plot()\n",
    "plt.subplot(1,2,2)\n",
    "hist_p3x.plot()\n",
    "plt.show()\n",
    "\n",
    "plt.show()"
   ]
  },
  {
   "cell_type": "code",
   "execution_count": null,
   "metadata": {},
   "outputs": [],
   "source": [
    "# Calulating the magnitude of the momentum:\n",
    "p2 = #COMPLETE\n",
    "p3 = #COMPLETE\n",
    "\n",
    "# Defining histogram\n",
    "hist_p2 = Hist(hist.axis.Regular(100,0e3,50e3, label = \"$p_{2}$ (MeV)\"))\n",
    "hist_p3 = Hist(hist.axis.Regular(100,0e3,50e3, label = \"$p_{3}$ (MeV)\"))\n",
    "\n",
    "\n",
    "# Fiblling histogram with values of p2 and p3\n",
    "hist_p2.fill#COMPLETE\n",
    "hist_p3.fill#COMPLETE\n",
    "\n",
    "# Plotting the histograms\n",
    "fig, axes = plt.subplots(figsize=(10,5))\n",
    "plt.subplot(1,2,1)\n",
    "hist_p2.plot()\n",
    "plt.subplot(1,2,2)\n",
    "hist_p3.plot()\n",
    "plt.show()\n"
   ]
  },
  {
   "attachments": {},
   "cell_type": "markdown",
   "metadata": {},
   "source": [
    "## Find the decaying meson! <a name=\"4.\"></a>\n",
    "\n",
    "So far we've learned how to obtain the momentum magnitude but to calculate the energy, we need to know what particles are present in our final state. To find out the exact decays are looking at, we will need to go thought all the possible combinations for a three-body decay involving only pions and kaons, calculate the energy and then we will be ready to reconstruct the invariant mass! \n",
    "\n",
    "Since we have only kaons and pions in our three body decay, the possible combinations in the final state we have are:\n",
    "\n",
    "* $KKK$\n",
    "* $\\pi\\pi\\pi$\n",
    "* $\\pi KK$\n",
    "* $\\pi K\\pi$\n",
    "* $K\\pi\\pi$\n",
    "* $K \\pi K$\n",
    "* $\\pi \\pi K$\n",
    "* $KK\\pi$\n",
    "\n",
    "From the PDG, we know that the mass of the kaon and the pion are:\n",
    "\n",
    "* $m_{\\pi} = 139.57$ MeV/c<sup>2</sup>\n",
    "* $m_{K} = 493.667$ MeV/c<sup>2</sup>\n",
    "\n",
    "To identify our decay, we want to reconstruct the invariant mass distribution and we expect that this distribution to look like a gaussian function. If we place the wrong final state particle in a given position, for instance, if we say particle 1 is a pion and it was actually supposed to be a kaon, we will see deviations form our ideal gaussian shape. So this will tell us if the combination we are proposing is right or not.\n"
   ]
  },
  {
   "attachments": {},
   "cell_type": "markdown",
   "metadata": {},
   "source": [
    "Then let's define the mass of the pion and kaon:"
   ]
  },
  {
   "cell_type": "code",
   "execution_count": null,
   "metadata": {},
   "outputs": [],
   "source": [
    "# Declaring kaon and pion mass in MeV/c^2\n",
    "mk = 493.667\n",
    "mpi = 139.57"
   ]
  },
  {
   "attachments": {},
   "cell_type": "markdown",
   "metadata": {},
   "source": [
    "## Calculating the invariant mass distributions\n",
    "\n",
    "To test all of our 8 combinations, we will loop through all the events we have in our file and calculate all the eight hypothesis. We will evaluate the energy of the three final state particles, reconstruct the invariant mass and save it into our histogram so we can plot everything together at the end.\n",
    "\n",
    "### 1. KKK hypothesis"
   ]
  },
  {
   "cell_type": "code",
   "execution_count": null,
   "metadata": {},
   "outputs": [],
   "source": [
    "import uproot\n",
    "import numpy as np\n",
    "import matplotlib.pyplot as plt\n",
    "\n",
    "# Define the histogram properties\n",
    "hist_bins = 60\n",
    "hist_range = (1800, 2000)  # Set the appropriate range for your data\n",
    "masses = []\n",
    "\n",
    "# Loop through the entries in the DecayTree\n",
    "for entry in events.iterate(library=\"np\"):\n",
    "    # Access the variables using their branch names\n",
    "    p1x = entry[\"p1_PX\"]\n",
    "    p2x = entry[\"p2_PX\"]\n",
    "    p3x = entry[\"p3_PX\"]\n",
    "\n",
    "    p1y = entry[\"p1_PY\"]\n",
    "    p2y = entry[\"p2_PY\"]\n",
    "    p3y = entry[\"p3_PY\"]\n",
    "\n",
    "    p1z = entry[\"p1_PZ\"]\n",
    "    p2z = entry[\"p2_PZ\"]\n",
    "    p3z = entry[\"p3_PZ\"]\n",
    "\n",
    "    # Calculating energy of particles 1, 2, and 3\n",
    "    e1 = np.sqrt(mk**2 + p1x**2 + p1y**2 + p1z**2)\n",
    "    e2 = np.sqrt(mk**2 + p2x**2 + p2y**2 + p2z**2)\n",
    "    e3 = np.sqrt(mk**2 + p3x**2 + p3y**2 + p3z**2)\n",
    "\n",
    "    # Calculating invariant mass\n",
    "    mass = np.sqrt((e1 + e2 + e3)**2 - (p1x + p2x + p3x)**2 - (p1y + p2y + p3y)**2 - (p1z + p2z + p3z)**2)\n",
    "    masses.extend(mass)\n",
    "\n",
    "# Create the histogram using numpy.histogram\n",
    "hkkk, edges = np.histogram(masses, bins=hist_bins, range=hist_range)\n",
    "\n",
    "# Plot the histogram\n",
    "plt.figure(figsize=(10, 6))\n",
    "plt.hist(edges[:-1], bins=edges, weights=hkkk, color='blue', alpha=0.7, label='X -> KKK')\n",
    "plt.xlabel('$m(KKK)$ [MeV/c$^2$]')\n",
    "plt.ylabel('Entries')\n",
    "plt.legend()\n",
    "plt.show()\n"
   ]
  },
  {
   "cell_type": "markdown",
   "metadata": {},
   "source": [
    "### 2. $\\pi\\pi\\pi$ hypothesis"
   ]
  },
  {
   "cell_type": "code",
   "execution_count": null,
   "metadata": {},
   "outputs": [],
   "source": [
    "import uproot\n",
    "import numpy as np\n",
    "import matplotlib.pyplot as plt\n",
    "\n",
    "# Define the histogram properties\n",
    "hist_bins = 60\n",
    "hist_range = (1500, 2500)  # Set the appropriate range for your data\n",
    "masses = []\n",
    "\n",
    "# Loop through the entries in the DecayTree\n",
    "for entry in events.iterate(library=\"np\"):\n",
    "    # Access the variables using their branch names\n",
    "    p1x = entry[\"p1_PX\"]\n",
    "    p2x = entry[\"p2_PX\"]\n",
    "    p3x = entry[\"p3_PX\"]\n",
    "\n",
    "    p1y = entry[\"p1_PY\"]\n",
    "    p2y = entry[\"p2_PY\"]\n",
    "    p3y = entry[\"p3_PY\"]\n",
    "\n",
    "    p1z = entry[\"p1_PZ\"]\n",
    "    p2z = entry[\"p2_PZ\"]\n",
    "    p3z = entry[\"p3_PZ\"]\n",
    "\n",
    "    # Calculating energy of particles 1, 2, and 3\n",
    "    e1 = np.sqrt(mpi**2 + p1x**2 + p1y**2 + p1z**2)\n",
    "    e2 = np.sqrt(mpi**2 + p2x**2 + p2y**2 + p2z**2)\n",
    "    e3 = np.sqrt(mpi**2 + p3x**2 + p3y**2 + p3z**2)\n",
    "\n",
    "    # Calculating invariant mass\n",
    "    mass = np.sqrt((e1 + e2 + e3)**2 - (p1x + p2x + p3x)**2 - (p1y + p2y + p3y)**2 - (p1z + p2z + p3z)**2)\n",
    "    masses.extend(mass)\n",
    "\n",
    "# Create the histogram using numpy.histogram\n",
    "hpipipi, edges = np.histogram(masses, bins=hist_bins, range=hist_range)\n",
    "\n",
    "# Plot the histogram\n",
    "plt.figure(figsize=(10, 6))\n",
    "plt.hist(edges[:-1], bins=edges, weights=hpipipi, color='blue', alpha=0.7, label='$X \\\\to \\pi \\pi \\pi$')\n",
    "plt.xlabel('$m(\\pi \\pi \\pi)$ [MeV/c$^2$]')\n",
    "plt.ylabel('Entries')\n",
    "plt.legend()\n",
    "plt.show()\n"
   ]
  },
  {
   "cell_type": "markdown",
   "metadata": {},
   "source": [
    "# Over to you!\n",
    "\n",
    "Repeat the same exercise but for the other possible combinations and see if you find any particular one that gives you a peaked structure."
   ]
  },
  {
   "cell_type": "markdown",
   "metadata": {},
   "source": [
    "### 3. $\\pi KK$ hypothesis"
   ]
  },
  {
   "cell_type": "code",
   "execution_count": null,
   "metadata": {},
   "outputs": [],
   "source": [
    "#COMPLETE"
   ]
  },
  {
   "cell_type": "markdown",
   "metadata": {},
   "source": [
    "### 4. $\\pi K\\pi$ hypothesis"
   ]
  },
  {
   "cell_type": "code",
   "execution_count": null,
   "metadata": {},
   "outputs": [],
   "source": [
    "#COMPLETE"
   ]
  },
  {
   "cell_type": "markdown",
   "metadata": {},
   "source": [
    "### 5. $K\\pi\\pi$ hypothesis"
   ]
  },
  {
   "cell_type": "code",
   "execution_count": null,
   "metadata": {},
   "outputs": [],
   "source": [
    "#COMPLETE"
   ]
  },
  {
   "cell_type": "markdown",
   "metadata": {},
   "source": [
    "### 6. $K \\pi K$ hypothesis"
   ]
  },
  {
   "cell_type": "code",
   "execution_count": null,
   "metadata": {},
   "outputs": [],
   "source": [
    "#COMPLETE"
   ]
  },
  {
   "cell_type": "markdown",
   "metadata": {},
   "source": [
    "### 7. $\\pi \\pi K$ hypothesis\n"
   ]
  },
  {
   "cell_type": "code",
   "execution_count": null,
   "metadata": {},
   "outputs": [],
   "source": [
    "#COMPLETE"
   ]
  },
  {
   "cell_type": "markdown",
   "metadata": {},
   "source": [
    "### 8. $KK\\pi$ hypothesis"
   ]
  },
  {
   "cell_type": "code",
   "execution_count": null,
   "metadata": {},
   "outputs": [],
   "source": [
    "#COMPLETE"
   ]
  },
  {
   "cell_type": "markdown",
   "metadata": {},
   "source": [
    "<div class=\"alert alert-success\">\n",
    "Great Job! By now you have all eight invariant mass plots and our final job is to identify our decay!\n",
    "</div>\n",
    "\n",
    "Can you find any of our combinations for which the invariant mass distribution looks like a gaussian function? If yes, which one is that? Did you find one peak? More than one peak?\n",
    "\n",
    "\n",
    "<details>\n",
    "    <summary>Answer: </summary>\n",
    "        KKπ is our decay! We can see two peaks in the distribution, one cetered at around 1870MeV and the other at 1970MeV. These are the D+ and Ds+ mesons! So the processes we are seeing are: D+ -> KKπ and Ds+ -> KK π\n",
    "</details>\n"
   ]
  },
  {
   "cell_type": "markdown",
   "metadata": {},
   "source": [
    "## Extra: Fitting our mass distribution\n",
    "\n",
    "Now, our last step is to fit this distribution. Now that we have reconstructed the invariant mass, the next step is to fit the histogram. To fit the histogram is to try to find the best function, (or combination of funtions) that reproduce the shape we see in our data. Let's start with a simple example. \n",
    "\n",
    "Imagine we have a set of data points and we want to find a line that passes nearby our points.\n"
   ]
  },
  {
   "cell_type": "code",
   "execution_count": null,
   "metadata": {},
   "outputs": [],
   "source": [
    "import numpy as np\n",
    "import matplotlib.pyplot as plt\n",
    "\n",
    "#define data\n",
    "x = np.array([1, 2, 3, 4, 5, 6, 7, 8])\n",
    "y = np.array([2, 5, 6, 7, 9, 12, 16, 19])\n",
    "\n",
    "#find line of best fit\n",
    "a, b = np.polyfit(x, y, 1)\n",
    "\n",
    "#add points to plot\n",
    "plt.scatter(x, y)\n",
    "plt.xlabel(\"x\")\n",
    "plt.ylabel(\"y\")\n",
    "\n",
    "#add line of best fit to plot\n",
    "plt.plot(x, a*x+b, c=\"red\")       "
   ]
  },
  {
   "cell_type": "markdown",
   "metadata": {},
   "source": [
    "In our plot, the blue dots represent our data and the red line is the best line we can draw that reproduces the behavior of our data. Our LHCb data is not as simple as this example, but the idea is the same! We want to find the best curve that reproduces the shape of the mass distribution we found. It won't be a straight line as our data does not have this kind of pattern, but there are other types of functions that we can use.\n",
    "\n",
    "### Gaussian function\n",
    "\n",
    "One very commonly used is the Gaussian function (also known as the normal distribution). We can represent it by the function:\n",
    "\n",
    "$f(x) = \\frac{1}{\\sigma \\sqrt{2\\pi}} e^{-\\frac{1}{2} \\big(\\frac{x-\\mu}{\\sigma}\\big)^2}$\n",
    "\n",
    "And if we want to draw this function, we can run the following line:"
   ]
  },
  {
   "cell_type": "code",
   "execution_count": null,
   "metadata": {},
   "outputs": [],
   "source": [
    "import numpy as np\n",
    "import scipy as sp\n",
    "from scipy import stats\n",
    "import matplotlib.pyplot as plt\n",
    "\n",
    "## generate the data and plot it for a gaussian curve\n",
    "\n",
    "## x-axis for the plot\n",
    "x_data = np.arange(-5, 5, 0.001)\n",
    "\n",
    "## y-axis as the gaussian\n",
    "y_data = stats.norm.pdf(x_data, 0, 1)\n",
    "\n",
    "## plot data\n",
    "plt.plot(x_data, y_data)\n"
   ]
  },
  {
   "cell_type": "markdown",
   "metadata": {},
   "source": [
    "Interesting... it looks like this gaussian function has some similarities with the mass peak we found! So perhaps we can use this Gaussian function in our fit to the mass peak. When dealing with gaussian functions, two very important features are the mean value of the function, $\\mu$, and the width, $\\sigma$. The $\\mu$ is the value which our curve is cetered at, in this case, the gaussian peak is centered at zero. The $\\sigma$ is the width of the distrbution, in this case we can see that the distribution is basically over before -2 and after 2. So the total width here is 1.\n",
    "\n",
    "<div class=\"alert alert-warning\"> Don't worry if the function has a complicated mathematical expression, the idea here is that since it looks a lot like our peak, we can use this function to learn features of our data!\n",
    "</div>\n"
   ]
  },
  {
   "cell_type": "code",
   "execution_count": null,
   "metadata": {},
   "outputs": [],
   "source": [
    "import numpy as np\n",
    "import matplotlib.pyplot as plt\n",
    "from scipy.optimize import curve_fit\n",
    "\n",
    "def gaussian(x, A, mu, sigma):\n",
    "    return A * np.exp(-1.0 * (x - mu)**2 / (2 * sigma**2))\n",
    "\n",
    "def fit_function(x, a1, mu1, sigma1, a2, mu2, sigma2):\n",
    "    return gaussian(x, a1, mu1, sigma1) + gaussian(x, a2, mu2, sigma2)\n",
    "\n",
    "# Fit the function to the histogram data\n",
    "bin_centers = 0.5 * (edges[1:] + edges[:-1])  # Calculate bin centers\n",
    "\n",
    "# Initial guess for the fit parameters\n",
    "p0 = [max(histogram), 1865, 10, max(histogram), 1905, 10]\n",
    "\n",
    "fit_params, fit_covariance = curve_fit(fit_function, bin_centers, histogram, p0=p0)\n",
    "error = np.sqrt(np.diag(fit_covariance))\n",
    "\n",
    "# Create a smooth curve using the fitted parameters\n",
    "x_smooth = np.linspace(hist_range[0], hist_range[1], 1000)\n",
    "y_fit = fit_function(x_smooth, *fit_params)\n",
    "\n",
    "# Plot the histogram and the fitted curve\n",
    "plt.figure(figsize=(10, 6))\n",
    "plt.hist(edges[:-1], bins=edges, weights=histogram, color='blue', alpha=0.7, label='X -> KKpi')\n",
    "plt.plot(x_smooth, y_fit, 'r-', label='Signal component')\n",
    "plt.xlabel('$m(KK\\pi)$ [MeV/c$^2$]')\n",
    "plt.ylabel('Entries')\n",
    "plt.legend()\n",
    "plt.show()\n"
   ]
  },
  {
   "cell_type": "markdown",
   "metadata": {},
   "source": [
    "<div class=\"alert alert-success\">\n",
    "Great Job! We have now fitted our distribution and identified the peaks! We can verify the mass of the decaying particle by looking at where this peak is centered, which means we have one peak at around 1870MeV (D+) and the other at around 1970MeV (Ds+).\n",
    "</div>\n",
    "\n",
    "From the fit, we can confirm the decaying particle by printing the mean values of our Gaussian functions.\n"
   ]
  },
  {
   "cell_type": "code",
   "execution_count": null,
   "metadata": {},
   "outputs": [],
   "source": [
    "#Printing fitted parameters\n",
    "# Peak 1\n",
    "\n",
    "print(\"The mean values and the uncertainties from the optimization for the first peak:\")\n",
    "print(\"\")\n",
    "\n",
    "mean_value_1 = \"mu = {} +- {}\".format(fit_params[1], error[1])\n",
    "sigma_value_1 = \"sigma = {} +- {}\".format(fit_params[2], error[2])\n",
    "print(mean_value_1)\n",
    "print(sigma_value_1)\n",
    "\n",
    "\n"
   ]
  },
  {
   "cell_type": "code",
   "execution_count": null,
   "metadata": {},
   "outputs": [],
   "source": [
    "# Peak 2\n",
    "\n",
    "print(\"The mean values and the uncertainties from the optimization for the second peak:\")\n",
    "print(\"\")\n",
    "\n",
    "mean_value_2 = \"mu = {} +- {}\".format(fit_params[4], error[4])\n",
    "sigma_value_2 = \"sigma = {} +- {}\".format(fit_params[5], error[5])\n",
    "print(mean_value_2)\n",
    "print(sigma_value_2)"
   ]
  },
  {
   "cell_type": "markdown",
   "metadata": {},
   "source": [
    "[Return to contents](#c)\n",
    "\n",
    "---"
   ]
  },
  {
   "cell_type": "code",
   "execution_count": null,
   "metadata": {},
   "outputs": [],
   "source": []
  }
 ],
 "metadata": {
  "kernelspec": {
   "display_name": "Python 3 (ipykernel)",
   "language": "python",
   "name": "python3"
  },
  "language_info": {
   "codemirror_mode": {
    "name": "ipython",
    "version": 3
   },
   "file_extension": ".py",
   "mimetype": "text/x-python",
   "name": "python",
   "nbconvert_exporter": "python",
   "pygments_lexer": "ipython3",
   "version": "3.10.8"
  }
 },
 "nbformat": 4,
 "nbformat_minor": 4
}
