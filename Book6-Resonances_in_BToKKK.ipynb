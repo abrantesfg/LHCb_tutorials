{
 "cells": [
  {
   "cell_type": "markdown",
   "metadata": {},
   "source": [
    "<CENTER><img src=\"images/logos.png\" style=\"width:50%\"></CENTER>"
   ]
  },
  {
   "cell_type": "markdown",
   "metadata": {},
   "source": [
    "# Dalitz plot and two body resonances in  B meson decays to three hadrons <a name=\"c\"></a>\n",
    "\n",
    "\n",
    "This project will take you through the process of analysing data from the LHCb experiment studying the dynamics of the decay process $B^+ \\to K^+ K^+ K^-$. \n",
    "\n",
    "In this notebook we aim to:\n",
    "\n",
    "* Produce a Dalitz plot of the simulation and real data sample\n",
    "* Create ordered and binned Dalitz plots\n",
    "* Identify two body resonances in the Dalitz plots\n",
    "\n",
    "But before we start, it might be helpful to discuss the important concepts involved in this analysis. \n",
    "\n",
    "One last thing, just like CERN scientists you will be coding your own analysis and we will use the computer programming language Python as we've gone through the tutorials in the first two notebooks. For more python tutorials click [here](https://www.tutorialspoint.com/python/)"
   ]
  },
  {
   "cell_type": "markdown",
   "metadata": {},
   "source": [
    "**Contents:**\n",
    "- [What is a Dalitz plot?](#1.)\n",
    "- [B mesons](#2.)\n",
    "- [$B^{+} \\to K^+ K^+ K^-$ Feyman diagram](#3.)\n",
    "- [What is matter/antimatter asymmetry?](#1.)\n",
    "- [What is matter/antimatter asymmetry?](#1.)\n",
    "- [Real experiments](#4.)\n",
    "- [Extension exercises](#5.)"
   ]
  },
  {
   "cell_type": "markdown",
   "metadata": {},
   "source": [
    "## What is a Dalitz plot?\n",
    "\n",
    "A Dalitz plot is a two-dimensional representation of the phase-space of the decay process. It was invented by Richard Dalitz (1925-2006). You might be wondering now what is a phase-space...\n",
    "\n",
    "To answer this question, let's look at the decay process we are going to study, $B^+ \\to K^+ K^+ K^-$. This decay can either proceed directly into the three-body final state as shown in the left-hand side figure, or it can happen via an intermediate particle, *R* (we usually call this state a **resonance**). In our case, $B^+ \\to K^+ K^+ K^-$ can proceed through the decay $B^+ \\to K^+ R$, then this resonance *R* can decay to $R \\to K^+ K^-$. What usually happens is that we could have several possible resonant states being produced in the decay process.\n",
    "\n",
    "Here you can see an example of a Dalitz plot:\n",
    "\n",
    "\n",
    "Now let's imagine that the LHC is recording lots of data, and for each event we could end up with one of the possible resonant states. Each event is a dot in our Dalitz plot. Therefore, over a huge amount of data (large statistics), we will have lots of dots creating regions more populated and regions less populated in our Dalitz plot. These bands help us understand a low of the decay process. For instance, we could find a resonance mass and spin by just looking at the band corresponding to it! So, Dalitz plots can be used to identify these resonances which are visible bands on the Dalitz plot.\n",
    "\n",
    "### What do we need to produce a Dalitz plot?\n",
    "\n",
    "The kinematics of a three-body decay can be fully described using only two variables. The energies and momenta of the three kaons are not independent of each other as they all come from the decay of a B meson and energy and momentum are conserved. The axes of the plots conventionally are the squared invariant masses of two pairs of the decay products. It is a 2D plot, the x and y axes are both squared masses and the density of points in the plot shows the structure.\n",
    "\n",
    "Consider our decay $B^+ \\to K^+_1 K^+_2 K^−_3$, where we have numbered the kaons 1,2,3 to distinguish them. We can calculate the invariant mass of three possible combinations that could correspond to intermediate resonances $R_1 \\to K^+_1 K^+_2$, $R_2 \\to K^+_1 K^-_3$, and $R_3 \\to K^+_3 K^-_3$."
   ]
  },
  {
   "cell_type": "markdown",
   "metadata": {},
   "source": [
    "---"
   ]
  },
  {
   "cell_type": "markdown",
   "metadata": {},
   "source": [
    "## B mesons\n",
    "\n",
    "In this notebook we will be studying the decays of the $B^{+}$ and $B^{-}$ mesons. A $B^{+}$ is a mesons composed of an *u* (up) quark and an anti-*b* (beauty) quark and has electric charg of +1. A $B^{-}$ is the anti-particle of the $B^{+}$, thus it is composed of and anti-*u* quark and a *b* quark and has electric charge of -1.\n",
    "\n",
    "Bpth $B^{+}$ and $B^{-}$ mesons don't live long enough to actually see with the detector itself. Instead, we have to reconstruct them from their decay products. We don't particularly mind where the $B^{+}$/$B^{-}$s themselves come from. All you need to know here is that each time the LHC smashes two protons together, they produce lots and lots of particles, some of which are $B^{+}$/$B^{-}$s.\n",
    "\n",
    "From theory, there are several decay routes but in this project we will be interested in the decays of the $B^{+}$ and $B^{-}$ into three charged kaons ($K^{+}$ or $K^{-}$). The $K^{+}$ is a meson composed of a *u* quark and an anti-*s* quark, and has +1 unit of charge. The $K^{-}$ is its anti-particle.\n",
    "\n",
    "We will study the decays\n",
    "\n",
    "$B^{+} \\to K^{+} K^{+} K^{-}$\n",
    "\n",
    "and the anti-particle correspondent decays\n",
    "\n",
    "$B^{-} \\to K^{-} K^{-} K^{+}$"
   ]
  },
  {
   "cell_type": "markdown",
   "metadata": {},
   "source": [
    "---"
   ]
  },
  {
   "cell_type": "markdown",
   "metadata": {},
   "source": [
    "## $B^{+} \\to K^{+} K^{+} K^{-}$ Feyman diagram\n",
    "\n",
    "As we've seen, particle physicists usually likes diagrams to represent the decay process. Here we have the Feynman diagram of the decay we are interested in\n",
    "\n",
    "<CENTER><img src=\"./images/BtoKKK.png\" style=\"width:50%\"></CENTER>\n",
    "\n",
    "In this image we have on the left side our $B^{+}$ particle, which will decay into the three kaons shown on the right side. Remember that time flows from left to right!\n",
    "\n",
    "The brackets indicate how the particles are combined into the mesons. On the left side we can see that the $B^{+}$ meson is composed of a $u$ and $\\bar{b}$ (anti-*b*) quarks and similarly we can see that the $K^{+}$ is composed of $u$ and $\\bar{s}$ and the $K^{-}$ is composed of $\\bar{u}$ and $s$. The lines connecting the quarks are called *quark lines*. Lastly, the $W^{+}$ boson is responsible for the interaction involved in this process. If you want to know more about the $W^{+}$ boson and the weak interaction click [here](https://en.wikipedia.org/wiki/Weak_interaction). For this project we won't need to go into details on the weak force, it's just nice to illustrate the detailed diagram.\n",
    "\n",
    "Note that this diagram corresponds to the $B^{+} \\to K^{+} K^{+} K^{-}$ decays, but you can draw the diagram for the anti-particle process by replacing every particle for its anti-particle (replace quark by its anti-quark, 'plus' sign with 'minus' sign and vice versa)\n"
   ]
  },
  {
   "cell_type": "markdown",
   "metadata": {},
   "source": [
    "----"
   ]
  },
  {
   "cell_type": "markdown",
   "metadata": {},
   "source": [
    "## Stating with a simulation sample\n",
    "\n",
    "### Enough talk and let's start coding!\n",
    "\n",
    "Since we have the measured momenta of the kaons (we collect this information in the detector) we can use that to reconstruct the momentum, energy and invariant mass of the two kaon combinations. Once reconstructed we can look at out Dalitz plot. Let's start by using a simulation sample. In the simulation there are no intermediate resonances and your plot should be of uniform density inside the range physically allowed by energy and momentum conservation!"
   ]
  },
  {
   "cell_type": "markdown",
   "metadata": {},
   "source": [
    "To start we have to open the data that we want to analyze. As described earlier, the data is stored in a .root file. We can use a python library called uproot to access the data. Below is an example of how to open a .root file using uproot"
   ]
  },
  {
   "cell_type": "code",
   "execution_count": 3,
   "metadata": {},
   "outputs": [],
   "source": [
    "import uproot\n",
    "f = uproot.open(\"https://opendata.cern.ch/record/4900/files/PhaseSpaceSimulation.root\")"
   ]
  },
  {
   "cell_type": "markdown",
   "metadata": {},
   "source": [
    "We can inspect the contents of a file by using the method keys()"
   ]
  },
  {
   "cell_type": "code",
   "execution_count": 4,
   "metadata": {},
   "outputs": [
    {
     "data": {
      "text/plain": [
       "['PhaseSpaceTree;1']"
      ]
     },
     "execution_count": 4,
     "metadata": {},
     "output_type": "execute_result"
    }
   ],
   "source": [
    "f.keys()"
   ]
  },
  {
   "cell_type": "markdown",
   "metadata": {},
   "source": [
    "We see that we have an object called 'PhaseSpaceTree'. We can obtain information about the object in the file and its type by using the method classnames()\n",
    "\n"
   ]
  },
  {
   "cell_type": "code",
   "execution_count": 5,
   "metadata": {},
   "outputs": [
    {
     "data": {
      "text/plain": [
       "{'PhaseSpaceTree;1': 'TTree'}"
      ]
     },
     "execution_count": 5,
     "metadata": {},
     "output_type": "execute_result"
    }
   ],
   "source": [
    "f.classnames()"
   ]
  },
  {
   "cell_type": "markdown",
   "metadata": {},
   "source": [
    "We see that the object called mini is a TTree type. A TTree is simply columns of data stored in the .root format. Each column of data can represent a different physical quantity of a particle. For instance, its charge, energy, momentum etc.\n",
    "\n",
    "Now we know what data the file contains, in future we can quickly access that data. We want to access the mini data. This can be done by executing the command below"
   ]
  },
  {
   "cell_type": "code",
   "execution_count": 8,
   "metadata": {},
   "outputs": [],
   "source": [
    "events = uproot.open(\"https://opendata.cern.ch/record/4900/files/PhaseSpaceSimulation.root:PhaseSpaceTree\")"
   ]
  },
  {
   "cell_type": "markdown",
   "metadata": {},
   "source": [
    "Let's look at contents of the TTree. Essentially all the columns in the TTree called PhaseSpaceTree"
   ]
  },
  {
   "cell_type": "code",
   "execution_count": 9,
   "metadata": {},
   "outputs": [
    {
     "data": {
      "text/plain": [
       "['B_FlightDistance',\n",
       " 'B_VertexChi2',\n",
       " 'H1_PX',\n",
       " 'H1_PY',\n",
       " 'H1_PZ',\n",
       " 'H1_ProbK',\n",
       " 'H1_ProbPi',\n",
       " 'H1_Charge',\n",
       " 'H1_IPChi2',\n",
       " 'H1_isMuon',\n",
       " 'H2_PX',\n",
       " 'H2_PY',\n",
       " 'H2_PZ',\n",
       " 'H2_ProbK',\n",
       " 'H2_ProbPi',\n",
       " 'H2_Charge',\n",
       " 'H2_IPChi2',\n",
       " 'H2_isMuon',\n",
       " 'H3_PX',\n",
       " 'H3_PY',\n",
       " 'H3_PZ',\n",
       " 'H3_ProbK',\n",
       " 'H3_ProbPi',\n",
       " 'H3_Charge',\n",
       " 'H3_IPChi2',\n",
       " 'H3_isMuon']"
      ]
     },
     "execution_count": 9,
     "metadata": {},
     "output_type": "execute_result"
    }
   ],
   "source": [
    "events.keys()"
   ]
  },
  {
   "cell_type": "markdown",
   "metadata": {},
   "source": [
    "We see columns such as the kaons momentum x-,y-, and z-components (H1_PX, H1_PY, H1_PZ). This is the transverse momentum and energy respectively of leptons. We can use the .arrays method to access events with just the columns we specify.\n",
    "\n",
    "The data contains information about 'events' that were observed in the detector. An event refers to the particles produced when an interaction took place when two proton are collided at the LHC. The data you have includes information about particles observed in the detector after each collision.\n",
    "\n",
    "We are interested in analysing the decays of particles called B+ or B- mesons decaying into three other mesons called kaons (K+ or K-). The events you have been given are those in which this process may have occurred. The detector has been used to reconstruct tracks that may have come from the kaons. You are given the measured momenta, charge, and likelihood of the tracks being kaons. You are given information for three tracks in each event, the ones that could be the three kaons that a B+ or B- meson has decayed into. "
   ]
  },
  {
   "cell_type": "markdown",
   "metadata": {},
   "source": [
    "### Creating Dalitz variables\n",
    "\n",
    "Since the Dalitz variables are the square of the masses from the combination of two kaons, we need to reconstruct these invariant masses. \n",
    "We want to run over all the data and reconstruct the $K^+_1 K^-_3$ and $K^+_2 K^-_3$ masses. To do this we will access events using the arrays method again. Let's look at doing this.\n",
    "\n",
    "You can plot any features of the data in a histogram, for instance let's try to plot the first kaon candidate's momentum x-component (H1_PX). \n",
    "\n",
    "In the first stage we define a histogram. To do this we can import the python hist library. Once we have done that we can define a histogram. Its name is hist and the x axis is named mass [GeV]. The three initial arguments indicate that this histogram contains 30 bins which fill the gap from 40 to 140."
   ]
  },
  {
   "cell_type": "code",
   "execution_count": 10,
   "metadata": {},
   "outputs": [],
   "source": [
    "import hist\n",
    "from hist import Hist\n",
    "\n",
    "hist1 = Hist(hist.axis.Regular(100,-150e3,150e3, label = \"px (GeV)\"))"
   ]
  },
  {
   "cell_type": "markdown",
   "metadata": {},
   "source": [
    "Now to fill our histogram! The first step is to extract momentum x-component from our TTree using uproot. We'll want to extract it in the form of a numpy array like so:"
   ]
  },
  {
   "cell_type": "code",
   "execution_count": 11,
   "metadata": {},
   "outputs": [],
   "source": [
    "p1x = events[\"H1_PX\"].array(library=\"np\")"
   ]
  },
  {
   "cell_type": "markdown",
   "metadata": {},
   "source": [
    "Now we can fill our histogram using the .fill() function from hist:"
   ]
  },
  {
   "cell_type": "code",
   "execution_count": 12,
   "metadata": {},
   "outputs": [
    {
     "data": {
      "text/html": [
       "<html>\n",
       "<div style=\"display:flex; align-items:center;\">\n",
       "<div style=\"width:290px;\">\n",
       "<svg xmlns=\"http://www.w3.org/2000/svg\" viewBox=\"-10 -105 270 120\">\n",
       "<line x1=\"-5\" y1=\"0\" x2=\"255\" y2=\"0\" style=\"fill:none;stroke-width:2;stroke:currentColor\"/>\n",
       "<text text-anchor=\"middle\" x=\"0\" y=\"15\" style=\"fill:currentColor;\">\n",
       "-1.5e+05\n",
       "</text>\n",
       "<text text-anchor=\"middle\" x=\"250\" y=\"15\" style=\"fill:currentColor;\">\n",
       "1.5e+05\n",
       "</text>\n",
       "<text text-anchor=\"middle\" x=\"125.0\" y=\"15\" style=\"fill:currentColor;\">\n",
       "px (GeV)\n",
       "</text>\n",
       "<polyline points=\"  0,0   0,-0.0549 2.5,-0.0549 2.5,-0.033   5,-0.033   5,-0.011 7.5,-0.011 7.5,-0.033  10,-0.033  10,-0.0549 12.5,-0.0549 12.5,-0.022  15,-0.022  15,-0.0879 17.5,-0.0879 17.5,-0.0769  20,-0.0769  20,-0.033 22.5,-0.033 22.5,-0.0989  25,-0.0989  25,-0.0879 27.5,-0.0879 27.5,-0.11  30,-0.11  30,-0.143 32.5,-0.143 32.5,-0.176  35,-0.176  35,-0.143 37.5,-0.143 37.5,-0.231  40,-0.231  40,-0.165 42.5,-0.165 42.5,-0.231  45,-0.231  45,-0.198 47.5,-0.198 47.5,-0.286  50,-0.286  50,-0.395 52.5,-0.395 52.5,-0.45  55,-0.45  55,-0.538 57.5,-0.538 57.5,-0.461  60,-0.461  60,-0.626 62.5,-0.626 62.5,-0.637  65,-0.637  65,-0.714 67.5,-0.714 67.5,-0.813  70,-0.813  70,-1.15 72.5,-1.15 72.5,-1.11  75,-1.11  75,-1.43 77.5,-1.43 77.5,-1.36  80,-1.36  80,-1.83 82.5,-1.83 82.5,-2.14  85,-2.14  85,-2.07 87.5,-2.07 87.5,-2.25  90,-2.25  90,-2.76 92.5,-2.76 92.5,-3.55  95,-3.55  95,-3.68 97.5,-3.68 97.5,-4.58 100,-4.58 100,-5.05 102.5,-5.05 102.5,-6.11 105,-6.11 105,-6.83 107.5,-6.83 107.5,-9.07 110,-9.07 110,-11.1 112.5,-11.1 112.5,-13.8 115,-13.8 115,-19.5 117.5,-19.5 117.5,-26.7 120,-26.7 120,-42.8 122.5,-42.8 122.5,-100 125,-100 125,-99.2 127.5,-99.2 127.5,-41 130,-41 130,-26.8 132.5,-26.8 132.5,-18.4 135,-18.4 135,-14.5 137.5,-14.5 137.5,-11.2 140,-11.2 140,-8.77 142.5,-8.77 142.5,-7.52 145,-7.52 145,-5.68 147.5,-5.68 147.5,-5.6 150,-5.6 150,-4.26 152.5,-4.26 152.5,-3.73 155,-3.73 155,-3.25 157.5,-3.25 157.5,-2.89 160,-2.89 160,-2.48 162.5,-2.48 162.5,-2.24 165,-2.24 165,-1.87 167.5,-1.87 167.5,-1.61 170,-1.61 170,-1.57 172.5,-1.57 172.5,-1.27 175,-1.27 175,-1.16 177.5,-1.16 177.5,-1.1 180,-1.1 180,-0.912 182.5,-0.912 182.5,-0.714 185,-0.714 185,-0.593 187.5,-0.593 187.5,-0.538 190,-0.538 190,-0.417 192.5,-0.417 192.5,-0.384 195,-0.384 195,-0.406 197.5,-0.406 197.5,-0.417 200,-0.417 200,-0.264 202.5,-0.264 202.5,-0.297 205,-0.297 205,-0.264 207.5,-0.264 207.5,-0.187 210,-0.187 210,-0.132 212.5,-0.132 212.5,-0.143 215,-0.143 215,-0.154 217.5,-0.154 217.5,-0.176 220,-0.176 220,-0.121 222.5,-0.121 222.5,-0.0879 225,-0.0879 225,-0.0879 227.5,-0.0879 227.5,-0.0769 230,-0.0769 230,-0.0659 232.5,-0.0659 232.5,-0.0989 235,-0.0989 235,-0.0659 237.5,-0.0659 237.5,-0.0769 240,-0.0769 240,-0.0879 242.5,-0.0879 242.5,-0.0439 245,-0.0439 245,-0.0659 247.5,-0.0659 247.5,-0.011 250,-0.011 250,0\" style=\"fill:none; stroke:currentColor;\"/>\n",
       "</svg>\n",
       "</div>\n",
       "<div style=\"flex=grow:1;\">\n",
       "Regular(100, -150000, 150000, label='px (GeV)')<br/>\n",
       "<hr style=\"margin-top:.2em; margin-bottom:.2em;\"/>\n",
       "Double() Σ=49978.0 <em>(50000.0 with flow)</em>\n",
       "\n",
       "</div>\n",
       "</div>\n",
       "</html>"
      ],
      "text/plain": [
       "Hist(Regular(100, -150000, 150000, label='px (GeV)'), storage=Double()) # Sum: 49978.0 (50000.0 with flow)"
      ]
     },
     "execution_count": 12,
     "metadata": {},
     "output_type": "execute_result"
    }
   ],
   "source": [
    "hist1.fill(p1x)"
   ]
  },
  {
   "cell_type": "markdown",
   "metadata": {},
   "source": [
    "Plotting using matplotlib:"
   ]
  },
  {
   "cell_type": "code",
   "execution_count": 13,
   "metadata": {},
   "outputs": [
    {
     "data": {
      "image/png": "[encoded data removed]",
      "text/plain": [
       "<Figure size 432x288 with 1 Axes>"
      ]
     },
     "metadata": {
      "needs_background": "light"
     },
     "output_type": "display_data"
    }
   ],
   "source": [
    "import matplotlib.pyplot as plt\n",
    "import numpy as np\n",
    "hist1.plot()\n",
    "plt.show()"
   ]
  },
  {
   "cell_type": "markdown",
   "metadata": {},
   "source": [
    "Great! Momentum is a **vector** quantity, it has x,y and z components. Now let's try to calculate the magnitude of the momentum, $p^{2} = p_{x}^{2} + p_{y}^{2} + p_{z}^{2}$, of the first kaon candidate and plot it into a histogram: "
   ]
  },
  {
   "cell_type": "code",
   "execution_count": 14,
   "metadata": {},
   "outputs": [
    {
     "data": {
      "image/png": "[encoded data removed]",
      "text/plain": [
       "<Figure size 432x288 with 1 Axes>"
      ]
     },
     "metadata": {
      "needs_background": "light"
     },
     "output_type": "display_data"
    }
   ],
   "source": [
    "# Storing the momentum components in numpy arrays\n",
    "p1y = events[\"H1_PY\"].array(library=\"np\")\n",
    "p1z = events[\"H1_PZ\"].array(library=\"np\")\n",
    "\n",
    "# Declaring the histogram\n",
    "hist2 = Hist(hist.axis.Regular(100,0,800e3, label = \"p (GeV)\"))\n",
    "\n",
    "# Calculating the momentum\n",
    "p1 = np.sqrt((p1x*p1x)+(p1y*p1y)+(p1z*p1z))\n",
    "\n",
    "# Filling the histogram\n",
    "hist2.fill(p1)\n",
    "\n",
    "# Plotting the momentum distribution\n",
    "hist2.plot()\n",
    "plt.show()"
   ]
  },
  {
   "cell_type": "markdown",
   "metadata": {},
   "source": [
    "Note that now our histogram only has positive values (as expected!), we can't have negative momentum values.\n",
    "\n",
    "Now let's calculate the energy and mass!\n",
    "\n",
    "Einstein's theory of special relativity relates Energy, mass and momentum. We have measured the momentum of the kaon candidates in the detector, and have just plotted one of the components of the momentum of the kaon, and the magnitude of the momentum. The invariant mass of the kaon is well known and you can look this up. We wish to determine the energy of the kaons.\n",
    "\n",
    "To calculate the energy of the first kaon candidate we can use:\n",
    "\n",
    "$ E^{2} = p^{2} + m^{2}$\n",
    "\n",
    "So let's try that.."
   ]
  },
  {
   "cell_type": "code",
   "execution_count": 15,
   "metadata": {},
   "outputs": [
    {
     "data": {
      "image/png": "[encoded data removed]",
      "text/plain": [
       "<Figure size 432x288 with 1 Axes>"
      ]
     },
     "metadata": {
      "needs_background": "light"
     },
     "output_type": "display_data"
    }
   ],
   "source": [
    "m_kaon = 0.493677\n",
    "\n",
    "# Declaring the histogram\n",
    "hist3 = Hist(hist.axis.Regular(100,-800e-3,800e3, label = \"Energy (GeV)\"))\n",
    "\n",
    "# Calculating the momenergyentum\n",
    "e1 = np.sqrt((p1*p1)+(m_kaon*m_kaon))\n",
    "\n",
    "# Filling the histogram\n",
    "hist3.fill(e1)\n",
    "\n",
    "# Plotting the momentum distribution\n",
    "hist3.plot()\n",
    "plt.show()"
   ]
  },
  {
   "cell_type": "markdown",
   "metadata": {},
   "source": [
    "Your turn! Calculate the momenta and energies of the second and third kaon candidates"
   ]
  },
  {
   "cell_type": "code",
   "execution_count": 43,
   "metadata": {},
   "outputs": [
    {
     "data": {
      "image/png": "[encoded data removed]",
      "text/plain": [
       "<Figure size 720x720 with 4 Axes>"
      ]
     },
     "metadata": {
      "needs_background": "light"
     },
     "output_type": "display_data"
    }
   ],
   "source": [
    "# Storing the momentum components in numpy arrays\n",
    "p2x = events[\"H2_PX\"].array(library=\"np\")\n",
    "p2y = events[\"H2_PY\"].array(library=\"np\")\n",
    "p2z = events[\"H2_PZ\"].array(library=\"np\")\n",
    "\n",
    "p3x = events[\"H3_PX\"].array(library=\"np\")\n",
    "p3y = events[\"H3_PY\"].array(library=\"np\")\n",
    "p3z = events[\"H3_PZ\"].array(library=\"np\")\n",
    "\n",
    "# Declaring histograms\n",
    "hist4 = Hist(hist.axis.Regular(100,0,800e3, label = \"p (GeV)\"))\n",
    "hist5 = Hist(hist.axis.Regular(100,-800e-3,800e3, label = \"Energy (GeV)\"))\n",
    "hist6 = Hist(hist.axis.Regular(100,0,800e3, label = \"p (GeV)\"))\n",
    "hist7 = Hist(hist.axis.Regular(100,-800e-3,800e3, label = \"Energy (GeV)\"))\n",
    "\n",
    "# Calculating energy and momentum of the second particle\n",
    "p2 = np.sqrt((p2x*p2x)+(p2y*p2y)+(p2z*p2z))\n",
    "e2 = np.sqrt((p2*p2)+(m_kaon*m_kaon))\n",
    "\n",
    "# Filling the histograms\n",
    "hist4.fill(p2)\n",
    "hist5.fill(e2)\n",
    "\n",
    "# Calculating energy and momentum of the second particle\n",
    "p3 = np.sqrt((p3x*p3x)+(p3y*p3y)+(p3z*p3z))\n",
    "e3 = np.sqrt((p3*p3)+(m_kaon*m_kaon))\n",
    "\n",
    "# Filling the histograms\n",
    "hist6.fill(p3)\n",
    "hist7.fill(e3)\n",
    "\n",
    "# Plotting energy and momentum distributions\n",
    "plt.figure(figsize=(10,10))\n",
    "plt.subplot(3,2,1)\n",
    "hist4.plot()\n",
    "plt.subplot(3,2,2)\n",
    "hist5.plot()\n",
    "plt.subplot(3,2,3)\n",
    "hist6.plot()\n",
    "plt.subplot(3,2,4)\n",
    "hist7.plot()\n",
    "plt.show()"
   ]
  },
  {
   "cell_type": "markdown",
   "metadata": {},
   "source": [
    "## Including features of the B meson\n",
    "\n",
    "In this analysis we are looking for B+ or B- mesons (see B meson) that have decayed into the three charged kaons.\n",
    "\n",
    "Energy is a conserved quantities. This means that you can use the energy of the three 'daughter' kaons, which you have calculated above, to calculate the energy that the B meson that decayed into them must have.\n",
    "\n",
    "Momentum is also a conserved quantity. Hence you can also use the momenta of the 'daughter' kaons to calculate the momentum of the B meson. But be careful - momentum is a vector quantity.\n",
    "\n",
    "Using the Energy of the B meson and the magnitude of the momentum of the B meson you can use the energy-momentum relationship again. This time you are applying it to the B meson. This will allow you to calculate the invariant mass of the B meson."
   ]
  },
  {
   "cell_type": "code",
   "execution_count": 20,
   "metadata": {},
   "outputs": [
    {
     "data": {
      "image/png": "[encoded data removed]",
      "text/plain": [
       "<Figure size 1080x360 with 2 Axes>"
      ]
     },
     "metadata": {
      "needs_background": "light"
     },
     "output_type": "display_data"
    }
   ],
   "source": [
    "from TLorentzVector import TLorentzVector\n",
    "import hist\n",
    "from hist import Hist\n",
    "\n",
    "histR13 = Hist(hist.axis.Regular(100,0,5000, label = \"$m(K^+_1 K^-_3)^2$ (GeV)\"))\n",
    "histpxR13 = Hist(hist.axis.Regular(100,-800e-3,800e3, label = \"Energy (GeV)\"))\n",
    "\n",
    "histR23 = Hist(hist.axis.Regular(100,0,5000, label = \"$m(K^+_2 K^-_3)^2$ (GeV)\"))\n",
    "histpxR23 = Hist(hist.axis.Regular(100,-800e-3,800e3, label = \"Energy (GeV)\"))\n",
    "\n",
    "# K1K3 momentum conservation\n",
    "pxR13 = p1x+p3x\n",
    "pyR13 = p1y+p3y\n",
    "pzR13 = p1z+p3z\n",
    "\n",
    "# K1K3 meson energy conservation\n",
    "eR13 = e1+e3\n",
    "\n",
    "pR13 = np.sqrt((pxR13**2)+(pyR13**2)+(pzR13**2))\n",
    "    \n",
    "mR13 = np.sqrt((eR13**2)-(pR13**2))\n",
    "    \n",
    "histR13.fill(mR13)\n",
    "histpxR13.fill(pR13)\n",
    "\n",
    "# K2K3 momentum conservation\n",
    "pxR23 = p2x+p3x\n",
    "pyR23 = p2y+p3y\n",
    "pzR23 = p2z+p3z\n",
    "\n",
    "# K2K3 meson energy conservation\n",
    "eR23 = e2+e3\n",
    "\n",
    "pR23 = np.sqrt((pxR23**2)+(pyR23**2)+(pzR23**2))\n",
    "    \n",
    "mR23 = np.sqrt((eR23**2)-(pR23**2))\n",
    "    \n",
    "histR23.fill(mR23)\n",
    "histpxR23.fill(pR23)\n",
    "\n",
    "import matplotlib.pyplot as plt\n",
    "\n",
    "plt.figure(figsize=(15,5))\n",
    "plt.subplot(1,2,1)\n",
    "plt.hist(mR13)\n",
    "#histR13.plot(histtype = \"fill\")\n",
    "plt.subplot(1,2,2)\n",
    "plt.hist(mR23)\n",
    "#histR23.plot(histtype = \"fill\")\n",
    "plt.show()"
   ]
  },
  {
   "cell_type": "code",
   "execution_count": 24,
   "metadata": {},
   "outputs": [
    {
     "data": {
      "image/png": "[encoded data removed]",
      "text/plain": [
       "<Figure size 432x288 with 1 Axes>"
      ]
     },
     "metadata": {
      "needs_background": "light"
     },
     "output_type": "display_data"
    }
   ],
   "source": [
    "# Plotting the Dalitz plot\n",
    "plt.hist2d(mR13, mR23, bins=[100,100], )\n",
    "#plt.scatter(mR13, mR23)\n",
    "plt.show()"
   ]
  },
  {
   "cell_type": "markdown",
   "metadata": {},
   "source": [
    "Great job! You can see nnow the Dalitz plot of our simulation sample. Note that there are no higher density bands here. The Dalitz plot is uniformly distributed because there are no resonances in our simulation sample. The next step is to move to real LHCb data. Now it's up to you!"
   ]
  },
  {
   "cell_type": "markdown",
   "metadata": {},
   "source": [
    "## Working with real data\n",
    "\n",
    "So far, we've looked at what we call a simulation data to obtain the Dalitz plot of the $B^+ \\to K^- K^- K^+$ decay. The events we see in our Dalitz plot are simulated $B^+ \\to K^- K^- K^+$ decays but in real life, determining the Dalitz plot can be way more interesting, with the bands we've been discussing. Before looking at the data Dalitz plot, we need one additional step. \n",
    "\n",
    "When we are analysing data collected by the LHCb, we can't control what particles are going to be produced, instead we collect everything, so our data samples not only have events that we are interested in (signal events) but also events that are not from the $B^+ \\to K^- K^- K^+$ decays (background events). And it's our job to apply some sort of requirements (cuts) to distinguish the interesting events from the others.\n",
    "\n",
    "The following steps are required now:\n",
    "\n",
    "* Firstly we need to filter out the data that is not from the $B^+ \\to K^- K^- K^+$ channel, or the antiparticle $B^- \\to K^+ K^+ K^-$\n",
    "* Then we can plot the histogram of the B meson mass for the real data and observe how different cuts affects the data\n",
    "\n",
    "The data samples we are going to look have been filteres to select only events that are likely to have come from B+ or B- mesons decaying into three final state charged particles. In our case, we are interested when these particles are charged kaons ($K^+$ or $K^-$)."
   ]
  },
  {
   "cell_type": "markdown",
   "metadata": {},
   "source": [
    "### Preselection\n",
    "\n",
    "To select the interesting events, we are going to apply some cuts and only the events satisfying this requirement are kept in our sample. In our case we want three final state tracks that:\n",
    "\n",
    "1. are **not** muons: `!H1_isMuon` where `!` means `not` (same goes for `H2` and `H3`)\n",
    "2. each candidate has a low probability of being a pion: `H1_ProbPi < 0.5`\n",
    "3. each candidate has a high probability of being a kaon: `H1_ProbK > 0.5`\n",
    "\n",
    "So let's open our LHCb data and select only events satisfying this criteria:"
   ]
  },
  {
   "cell_type": "code",
   "execution_count": 26,
   "metadata": {},
   "outputs": [],
   "source": [
    "# Define preselection\n",
    "preselection = \"H1_ProbPi < 0.5 & H2_ProbPi < 0.5 & H3_ProbPi < 0.5 & H1_ProbK > 0.5 & H2_ProbK > 0.5 & H3_ProbK > 0.5 & !H1_isMuon & !H2_isMuon & !H3_isMuon\"\n",
    "# Load real LHCb data\n",
    "real_data = uproot.open(\"https://opendata.cern.ch/record/4900/files/B2HHH_MagnetDown.root:DecayTree\", where=preselection)"
   ]
  },
  {
   "cell_type": "code",
   "execution_count": 29,
   "metadata": {},
   "outputs": [],
   "source": [
    "#real_data.num_entries(\"H1_ProbPi < 0.5 & H2_ProbPi < 0.5 & H3_ProbPi < 0.5 & H1_ProbK > 0.5 & H2_ProbK > 0.5 & H3_ProbK > 0.5 & !H1_isMuon & !H2_isMuon & !H3_isMuon\")"
   ]
  },
  {
   "cell_type": "code",
   "execution_count": 30,
   "metadata": {},
   "outputs": [
    {
     "data": {
      "text/plain": [
       "['B_FlightDistance',\n",
       " 'B_VertexChi2',\n",
       " 'H1_PX',\n",
       " 'H1_PY',\n",
       " 'H1_PZ',\n",
       " 'H1_ProbK',\n",
       " 'H1_ProbPi',\n",
       " 'H1_Charge',\n",
       " 'H1_IPChi2',\n",
       " 'H1_isMuon',\n",
       " 'H2_PX',\n",
       " 'H2_PY',\n",
       " 'H2_PZ',\n",
       " 'H2_ProbK',\n",
       " 'H2_ProbPi',\n",
       " 'H2_Charge',\n",
       " 'H2_IPChi2',\n",
       " 'H2_isMuon',\n",
       " 'H3_PX',\n",
       " 'H3_PY',\n",
       " 'H3_PZ',\n",
       " 'H3_ProbK',\n",
       " 'H3_ProbPi',\n",
       " 'H3_Charge',\n",
       " 'H3_IPChi2',\n",
       " 'H3_isMuon']"
      ]
     },
     "execution_count": 30,
     "metadata": {},
     "output_type": "execute_result"
    }
   ],
   "source": [
    "real_data.keys()"
   ]
  },
  {
   "cell_type": "code",
   "execution_count": 31,
   "metadata": {},
   "outputs": [
    {
     "data": {
      "image/png": "[encoded data removed]",
      "text/plain": [
       "<Figure size 432x288 with 1 Axes>"
      ]
     },
     "metadata": {
      "needs_background": "light"
     },
     "output_type": "display_data"
    }
   ],
   "source": [
    "import hist\n",
    "from hist import Hist\n",
    "\n",
    "hist_c = Hist(hist.axis.Regular(100,-2,2, label = \"px (GeV)\"))\n",
    "c1 = events[\"H1_Charge\"].array(library=\"np\")\n",
    "c2 = events[\"H2_Charge\"].array(library=\"np\")\n",
    "c3 = events[\"H3_Charge\"].array(library=\"np\")\n",
    "\n",
    "hist_c.fill(c1)\n",
    "import matplotlib.pyplot as plt\n",
    "\n",
    "hist_c.plot(histtype = \"fill\")\n",
    "plt.show()"
   ]
  },
  {
   "cell_type": "markdown",
   "metadata": {},
   "source": [
    "Now let's let's calculate the invariant masses of the two kaon combinations as we did before for the real data and plot a histogram of each combination. "
   ]
  },
  {
   "cell_type": "code",
   "execution_count": 35,
   "metadata": {},
   "outputs": [],
   "source": [
    "m_kaon = 0.493677\n",
    "\n",
    "# Storing the momentum components in numpy arrays\n",
    "p1x_data = events[\"H1_PX\"].array(library=\"np\")\n",
    "p1y_data = events[\"H1_PY\"].array(library=\"np\")\n",
    "p1z_data = events[\"H1_PZ\"].array(library=\"np\")\n",
    "\n",
    "p2x_data = events[\"H2_PX\"].array(library=\"np\")\n",
    "p2y_data = events[\"H2_PY\"].array(library=\"np\")\n",
    "p2z_data = events[\"H2_PZ\"].array(library=\"np\")\n",
    "\n",
    "p3x_data = events[\"H3_PX\"].array(library=\"np\")\n",
    "p3y_data = events[\"H3_PY\"].array(library=\"np\")\n",
    "p3z_data = events[\"H3_PZ\"].array(library=\"np\")\n",
    "\n",
    "\n",
    "# Calculating energy and momentum of the second particle\n",
    "p1_data = np.sqrt((p1x_data*p1x_data)+(p1y_data*p1y_data)+(p1z_data*p1z_data))\n",
    "p2_data = np.sqrt((p2x_data*p2x_data)+(p2y_data*p2y_data)+(p2z_data*p2z_data))\n",
    "p3_data = np.sqrt((p3x_data*p3x_data)+(p3y_data*p3y_data)+(p3z_data*p3z_data))\n",
    "\n",
    "e1_data = np.sqrt((p1_data*p1_data)+(m_kaon*m_kaon))\n",
    "e2_data = np.sqrt((p2_data*p2_data)+(m_kaon*m_kaon))\n",
    "e3_data = np.sqrt((p3_data*p3_data)+(m_kaon*m_kaon))"
   ]
  },
  {
   "cell_type": "markdown",
   "metadata": {},
   "source": [
    "Finally, let's check the Dalitz plot for our data sample!"
   ]
  },
  {
   "cell_type": "code",
   "execution_count": 36,
   "metadata": {},
   "outputs": [
    {
     "data": {
      "image/png": "[encoded data removed]",
      "text/plain": [
       "<Figure size 1080x360 with 2 Axes>"
      ]
     },
     "metadata": {
      "needs_background": "light"
     },
     "output_type": "display_data"
    }
   ],
   "source": [
    "import hist\n",
    "from hist import Hist\n",
    "\n",
    "histR13_data = Hist(hist.axis.Regular(100,0,5000, label = \"$m(K^+_1 K^-_3)^2$ (GeV)\"))\n",
    "histpxR13_data = Hist(hist.axis.Regular(100,-800e-3,800e3, label = \"Energy (GeV)\"))\n",
    "\n",
    "histR23_data = Hist(hist.axis.Regular(100,0,5000, label = \"$m(K^+_2 K^-_3)^2$ (GeV)\"))\n",
    "histpxR23_data = Hist(hist.axis.Regular(100,-800e-3,800e3, label = \"Energy (GeV)\"))\n",
    "\n",
    "# K1K3 momentum conservation\n",
    "pxR13_data = p1x_data+p3x_data\n",
    "pyR13_data = p1y_data+p3y_data\n",
    "pzR13_data = p1z_data+p3z_data\n",
    "\n",
    "# K1K3 meson energy conservation\n",
    "eR13_data = e1_data+e3_data\n",
    "\n",
    "pR13_data = np.sqrt((pxR13_data**2)+(pyR13_data**2)+(pzR13_data**2))\n",
    "    \n",
    "mR13_data = np.sqrt((eR13_data**2)-(pR13_data**2))\n",
    "    \n",
    "histR13.fill(mR13_data)\n",
    "histpxR13.fill(pR13_data)\n",
    "\n",
    "# K2K3 momentum conservation\n",
    "pxR23_data = p2x_data+p3x_data\n",
    "pyR23_data = p2y_data+p3y_data\n",
    "pzR23_data = p2z_data+p3z_data\n",
    "\n",
    "# K2K3 meson energy conservation\n",
    "eR23_data = e2_data+e3_data\n",
    "\n",
    "pR23_data = np.sqrt((pxR23_data**2)+(pyR23_data**2)+(pzR23_data**2))\n",
    "    \n",
    "mR23_data = np.sqrt((eR23_data**2)-(pR23_data**2))\n",
    "    \n",
    "histR23.fill(mR23_data)\n",
    "histpxR23.fill(pR23_data)\n",
    "\n",
    "import matplotlib.pyplot as plt\n",
    "\n",
    "plt.figure(figsize=(15,5))\n",
    "plt.subplot(1,2,1)\n",
    "plt.hist(mR13)\n",
    "#histR13.plot(histtype = \"fill\")\n",
    "plt.subplot(1,2,2)\n",
    "plt.hist(mR23)\n",
    "#histR23.plot(histtype = \"fill\")\n",
    "plt.show()"
   ]
  },
  {
   "cell_type": "code",
   "execution_count": 38,
   "metadata": {},
   "outputs": [
    {
     "data": {
      "image/png": "[encoded data removed]",
      "text/plain": [
       "<Figure size 432x288 with 1 Axes>"
      ]
     },
     "metadata": {
      "needs_background": "light"
     },
     "output_type": "display_data"
    }
   ],
   "source": [
    "# Plotting the Dalitz plot\n",
    "plt.hist2d(mR13_data, mR23_data, bins=[100,100])\n",
    "#plt.scatter(mR13, mR23)\n",
    "plt.show()"
   ]
  },
  {
   "cell_type": "markdown",
   "metadata": {},
   "source": [
    "Compare the Dalitz plots of the real data with the one for the simulation. What are the most striking differences?"
   ]
  },
  {
   "cell_type": "markdown",
   "metadata": {},
   "source": [
    "### Ordering Dalitz variables\n",
    "\n",
    "You can make a further improvement to allow you to observe the resonances easier. Your resonances R13 and R23 are both composed of the same particle types, $K^+ K-$, and hence have the same distributions. It is useful to impose an ordering which distinguishes the resonances. We can call the resonances $R_{Low}$ and $R_{High}$. In each event $R_{Low}$ is the resonance with the lower mass and the other corresponds to the higher mass combination of kaons. You can now use the mass of these ordered resonances as your Dalitz plot variables, thus effectively \"folding\" your Dalitz plot so that one axis always has a higher value than the other.\n",
    "\n",
    "Hint: Ordered Dalitz plot - You can find the maximum of the mass of $R_{Low}$ vs $R_{High}$ elementwise on one axis, and the minimum of on the other. You can use `numpy.min(a,b)` and `numpy.max(a,b)` to perform elementwise comparisons between two arrays a and b and return one array filled by either the individual min/max element from the elementwise comparisons."
   ]
  },
  {
   "cell_type": "markdown",
   "metadata": {},
   "source": [
    "## Binned Dalitz plot\n",
    "\n",
    "You can improve the representation of your Dalitz plot by binning the data. The hist2d function can be used to make a 2D histogram. The number of bins specification in the hist2d function is the number of bins in one axis.\n",
    "\n"
   ]
  },
  {
   "cell_type": "code",
   "execution_count": 42,
   "metadata": {},
   "outputs": [
    {
     "ename": "TypeError",
     "evalue": "only integer scalar arrays can be converted to a scalar index",
     "output_type": "error",
     "traceback": [
      "\u001b[0;31m---------------------------------------------------------------------------\u001b[0m",
      "\u001b[0;31mTypeError\u001b[0m                                 Traceback (most recent call last)",
      "\u001b[0;32m/var/folders/cf/qxs2w9ts3jx44d8n8cn8qmnw0000gn/T/ipykernel_818/650017417.py\u001b[0m in \u001b[0;36m<module>\u001b[0;34m\u001b[0m\n\u001b[1;32m      1\u001b[0m \u001b[0;32mimport\u001b[0m \u001b[0mnumpy\u001b[0m\u001b[0;34m\u001b[0m\u001b[0;34m\u001b[0m\u001b[0m\n\u001b[1;32m      2\u001b[0m \u001b[0;31m# plot a binned Dalitz Plot\u001b[0m\u001b[0;34m\u001b[0m\u001b[0;34m\u001b[0m\u001b[0m\n\u001b[0;32m----> 3\u001b[0;31m \u001b[0mplt\u001b[0m\u001b[0;34m.\u001b[0m\u001b[0mhist2d\u001b[0m\u001b[0;34m(\u001b[0m\u001b[0mnumpy\u001b[0m\u001b[0;34m.\u001b[0m\u001b[0mmin\u001b[0m\u001b[0;34m(\u001b[0m\u001b[0mmR13_data\u001b[0m\u001b[0;34m,\u001b[0m\u001b[0mmR23_data\u001b[0m\u001b[0;34m)\u001b[0m\u001b[0;34m,\u001b[0m \u001b[0mnumpy\u001b[0m\u001b[0;34m.\u001b[0m\u001b[0mmax\u001b[0m\u001b[0;34m(\u001b[0m\u001b[0mmR13_data\u001b[0m\u001b[0;34m,\u001b[0m\u001b[0mmR23_data\u001b[0m\u001b[0;34m)\u001b[0m\u001b[0;34m,\u001b[0m \u001b[0mbins\u001b[0m\u001b[0;34m=\u001b[0m\u001b[0;34m[\u001b[0m\u001b[0;36m100\u001b[0m\u001b[0;34m,\u001b[0m\u001b[0;36m100\u001b[0m\u001b[0;34m]\u001b[0m\u001b[0;34m)\u001b[0m\u001b[0;34m\u001b[0m\u001b[0;34m\u001b[0m\u001b[0m\n\u001b[0m\u001b[1;32m      4\u001b[0m \u001b[0;31m# use colorbar() to make a legend for your plot at the side\u001b[0m\u001b[0;34m\u001b[0m\u001b[0;34m\u001b[0m\u001b[0m\n",
      "\u001b[0;32m~/.local/lib/python3.9/site-packages/numpy/core/overrides.py\u001b[0m in \u001b[0;36mamin\u001b[0;34m(*args, **kwargs)\u001b[0m\n",
      "\u001b[0;32m~/.local/lib/python3.9/site-packages/numpy/core/fromnumeric.py\u001b[0m in \u001b[0;36mamin\u001b[0;34m(a, axis, out, keepdims, initial, where)\u001b[0m\n\u001b[1;32m   2914\u001b[0m     \u001b[0;36m6\u001b[0m\u001b[0;34m\u001b[0m\u001b[0;34m\u001b[0m\u001b[0m\n\u001b[1;32m   2915\u001b[0m     \"\"\"\n\u001b[0;32m-> 2916\u001b[0;31m     return _wrapreduction(a, np.minimum, 'min', axis, None, out,\n\u001b[0m\u001b[1;32m   2917\u001b[0m                           keepdims=keepdims, initial=initial, where=where)\n\u001b[1;32m   2918\u001b[0m \u001b[0;34m\u001b[0m\u001b[0m\n",
      "\u001b[0;32m~/.local/lib/python3.9/site-packages/numpy/core/fromnumeric.py\u001b[0m in \u001b[0;36m_wrapreduction\u001b[0;34m(obj, ufunc, method, axis, dtype, out, **kwargs)\u001b[0m\n\u001b[1;32m     84\u001b[0m                 \u001b[0;32mreturn\u001b[0m \u001b[0mreduction\u001b[0m\u001b[0;34m(\u001b[0m\u001b[0maxis\u001b[0m\u001b[0;34m=\u001b[0m\u001b[0maxis\u001b[0m\u001b[0;34m,\u001b[0m \u001b[0mout\u001b[0m\u001b[0;34m=\u001b[0m\u001b[0mout\u001b[0m\u001b[0;34m,\u001b[0m \u001b[0;34m**\u001b[0m\u001b[0mpasskwargs\u001b[0m\u001b[0;34m)\u001b[0m\u001b[0;34m\u001b[0m\u001b[0;34m\u001b[0m\u001b[0m\n\u001b[1;32m     85\u001b[0m \u001b[0;34m\u001b[0m\u001b[0m\n\u001b[0;32m---> 86\u001b[0;31m     \u001b[0;32mreturn\u001b[0m \u001b[0mufunc\u001b[0m\u001b[0;34m.\u001b[0m\u001b[0mreduce\u001b[0m\u001b[0;34m(\u001b[0m\u001b[0mobj\u001b[0m\u001b[0;34m,\u001b[0m \u001b[0maxis\u001b[0m\u001b[0;34m,\u001b[0m \u001b[0mdtype\u001b[0m\u001b[0;34m,\u001b[0m \u001b[0mout\u001b[0m\u001b[0;34m,\u001b[0m \u001b[0;34m**\u001b[0m\u001b[0mpasskwargs\u001b[0m\u001b[0;34m)\u001b[0m\u001b[0;34m\u001b[0m\u001b[0;34m\u001b[0m\u001b[0m\n\u001b[0m\u001b[1;32m     87\u001b[0m \u001b[0;34m\u001b[0m\u001b[0m\n\u001b[1;32m     88\u001b[0m \u001b[0;34m\u001b[0m\u001b[0m\n",
      "\u001b[0;31mTypeError\u001b[0m: only integer scalar arrays can be converted to a scalar index"
     ]
    }
   ],
   "source": [
    "import numpy \n",
    "# plot a binned Dalitz Plot\n",
    "plt.hist2d(numpy.min(mR13_data,mR23_data), numpy.max(mR13_data,mR23_data), bins=[100,100])\n",
    "# use colorbar() to make a legend for your plot at the side"
   ]
  },
  {
   "cell_type": "markdown",
   "metadata": {},
   "source": [
    "## Two body resonances\n",
    "\n",
    "You can now use your Dalitz plot to identify the intermediate resonances that you see in your plots. The resonances will have shown up as bands of higher density of points on the plots. You can use the particle data group tables of mesons to identify which particles these correspond to. The tables give the masses and widths of the particles and their decay modes. You are looking for mesons with the masses corresponding to where you see the bands and that decay into $K^+ K^-$.\n",
    "\n",
    "Congratulations! You have succesfully made a Dalitz plot and used it to observe the presence of intermediate particles in the decay of your charged B meson into three charged kaons."
   ]
  },
  {
   "cell_type": "code",
   "execution_count": null,
   "metadata": {},
   "outputs": [],
   "source": []
  }
 ],
 "metadata": {
  "kernelspec": {
   "display_name": "Python 3 (ipykernel)",
   "language": "python",
   "name": "python3"
  },
  "language_info": {
   "codemirror_mode": {
    "name": "ipython",
    "version": 3
   },
   "file_extension": ".py",
   "mimetype": "text/x-python",
   "name": "python",
   "nbconvert_exporter": "python",
   "pygments_lexer": "ipython3",
   "version": "3.9.7"
  }
 },
 "nbformat": 4,
 "nbformat_minor": 4
}
